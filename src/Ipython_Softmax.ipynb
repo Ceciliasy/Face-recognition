{
 "cells": [
  {
   "cell_type": "code",
   "execution_count": 1,
   "metadata": {},
   "outputs": [],
   "source": [
    "from __future__ import print_function\n",
    "import argparse\n",
    "import torch\n",
    "import torch.nn as nn\n",
    "import torch.optim as optim\n",
    "import torchvision.transforms as transforms\n",
    "from torchvision.datasets import ImageFolder\n",
    "\n",
    "from torch.autograd import Variable\n",
    "from torch.autograd import Function\n",
    "import torch.backends.cudnn as cudnn\n",
    "import os\n",
    "import numpy as np\n",
    "from tqdm import tqdm\n",
    "from model import FaceModel,FaceModelCenter,FaceModelSoftmax\n",
    "from eval_metrics import evaluate\n",
    "#from logger import Logger\n",
    "from LFWDataset import LFWDataset\n",
    "from PIL import Image\n",
    "from utils import PairwiseDistance,display_triplet_distance,display_triplet_distance_test\n",
    "import collections"
   ]
  },
  {
   "cell_type": "code",
   "execution_count": 2,
   "metadata": {},
   "outputs": [
    {
     "name": "stderr",
     "output_type": "stream",
     "text": [
      "100%|██████████| 6000/6000 [00:02<00:00, 2380.56it/s]\n"
     ]
    }
   ],
   "source": [
    "# Training settings\n",
    "parser = argparse.ArgumentParser(description='PyTorch Face Recognition')\n",
    "# Model options\n",
    "parser.add_argument('--dataroot', type=str, default='/home/jw4937/datasets/casia/train',#default='/media/lior/LinuxHDD/datasets/vgg_face_dataset/aligned'\n",
    "                    help='path to dataset')\n",
    "parser.add_argument('--testdataroot', type=str, default='/home/jw4937/datasets/casia/test',#default='/media/lior/LinuxHDD/datasets/vgg_face_dataset/aligned'\n",
    "                    help='path to dataset')\n",
    "parser.add_argument('--lfw-dir', type=str, default='/scratch/jw4937/deeplearningdataset/lfw',\n",
    "                    help='path to dataset')\n",
    "parser.add_argument('--lfw-pairs-path', type=str, default='lfw_pairs.txt',\n",
    "                    help='path to pairs file')\n",
    "\n",
    "parser.add_argument('--log-dir', default='/scratch/jw4937/logdir_softmax',\n",
    "                    help='folder to output model checkpoints')\n",
    "\n",
    "parser.add_argument('--resume',\n",
    "                    default='/home/jw4937/logdir/run-optim_adam-lr0.001-wd0.0-embeddings512-center0.5-MSCeleb/checkpoint_99.pth',\n",
    "                    type=str, metavar='PATH',\n",
    "                    help='path to latest checkpoint (default: none)')\n",
    "parser.add_argument('--start-epoch', default=99, type=int, metavar='N',\n",
    "                    help='manual epoch number (useful on restarts)')\n",
    "parser.add_argument('--epochs', type=int, default=100, metavar='E',\n",
    "                    help='number of epochs to train (default: 10)')\n",
    "# Training options\n",
    "# parser.add_argument('--embedding-size', type=int, default=256, metavar='ES',\n",
    "#                     help='Dimensionality of the embedding')\n",
    "\n",
    "parser.add_argument('--center_loss_weight', type=float, default=0.5, help='weight for center loss')\n",
    "parser.add_argument('--alpha', type=float, default=0.5, help='learning rate of the centers')\n",
    "parser.add_argument('--embedding-size', type=int, default=512, metavar='ES',\n",
    "                    help='Dimensionality of the embedding')\n",
    "\n",
    "parser.add_argument('--batch-size', type=int, default=64, metavar='BS',\n",
    "                    help='input batch size for training (default: 128)')\n",
    "parser.add_argument('--test-batch-size', type=int, default=64, metavar='BST',\n",
    "                    help='input batch size for testing (default: 1000)')\n",
    "\n",
    "parser.add_argument('--lr', type=float, default=0.001, metavar='LR',\n",
    "                    help='learning rate (default: 0.001)')\n",
    "parser.add_argument('--beta1', type=float, default=0.5, help='beta1 for adam. default=0.5')\n",
    "\n",
    "parser.add_argument('--lr-decay', default=1e-4, type=float, metavar='LRD',\n",
    "                    help='learning rate decay ratio (default: 1e-4')\n",
    "parser.add_argument('--wd', default=0.0, type=float,\n",
    "                    metavar='W', help='weight decay (default: 0.0)')\n",
    "parser.add_argument('--optimizer', default='adam', type=str,\n",
    "                    metavar='OPT', help='The optimizer to use (default: Adagrad)')\n",
    "# Device options\n",
    "parser.add_argument('--no-cuda', action='store_true', default=False,\n",
    "                    help='enables CUDA training')\n",
    "parser.add_argument('--gpu-id', default='0', type=str,\n",
    "                    help='id(s) for CUDA_VISIBLE_DEVICES')\n",
    "parser.add_argument('--seed', type=int, default=0, metavar='S',\n",
    "                    help='random seed (default: 0)')\n",
    "parser.add_argument('--log-interval', type=int, default=10, metavar='LI',\n",
    "                    help='how many batches to wait before logging training status')\n",
    "\n",
    "args = parser.parse_args(args = [])\n",
    "\n",
    "# set the device to use by setting CUDA_VISIBLE_DEVICES env variable in\n",
    "# order to prevent any memory allocation on unused GPUs\n",
    "os.environ['CUDA_VISIBLE_DEVICES'] = args.gpu_id\n",
    "\n",
    "args.cuda = not args.no_cuda and torch.cuda.is_available()\n",
    "np.random.seed(args.seed)\n",
    "\n",
    "if not os.path.exists(args.log_dir):\n",
    "    os.makedirs(args.log_dir)\n",
    "\n",
    "if args.cuda:\n",
    "    cudnn.benchmark = True\n",
    "\n",
    "LOG_DIR = args.log_dir + '/run-optim_{}-lr{}-wd{}-embeddings{}-center{}-MSCeleb'.format(args.optimizer, args.lr, args.wd,args.embedding_size,args.center_loss_weight)\n",
    "\n",
    "\n",
    "# create logger\n",
    "#logger = Logger(LOG_DIR)\n",
    "\n",
    "kwargs = {'num_workers': 2, 'pin_memory': True} if args.cuda else {}\n",
    "l2_dist = PairwiseDistance(2)\n",
    "\n",
    "transform = transforms.Compose([\n",
    "                         transforms.Resize(96),\n",
    "                         transforms.RandomHorizontalFlip(),\n",
    "                         transforms.ToTensor(),\n",
    "                         transforms.Normalize(mean = [ 0.5, 0.5, 0.5 ],\n",
    "                                               std = [ 0.5, 0.5, 0.5 ])\n",
    "                     ])\n",
    "\n",
    "train_dir = ImageFolder(args.dataroot,transform=transform)\n",
    "testacc_dir = ImageFolder(args.testdataroot,transform=transform)\n",
    "train_loader = torch.utils.data.DataLoader(train_dir,\n",
    "    batch_size=args.batch_size, shuffle=True, **kwargs)\n",
    "\n",
    "testaccuracy_loader = torch.utils.data.DataLoader(testacc_dir,\n",
    "    batch_size=args.batch_size, shuffle=True, **kwargs)\n",
    "\n",
    "test_loader = torch.utils.data.DataLoader(\n",
    "    LFWDataset(dir=args.lfw_dir,pairs_path=args.lfw_pairs_path,\n",
    "                     transform=transform),\n",
    "    batch_size=args.batch_size, shuffle=False, **kwargs)\n",
    "\n",
    "def accuracy(output, target, topk=(1,)):\n",
    "    \"\"\"Computes the precision@k for the specified values of k\"\"\"\n",
    "    maxk = max(topk)\n",
    "    batch_size = target.size(0)\n",
    "\n",
    "    _, pred = output.topk(maxk, 1, True, True)\n",
    "    pred = pred.t()\n",
    "    correct = pred.eq(target.view(1, -1).expand_as(pred))\n",
    "\n",
    "    res = []\n",
    "    for k in topk:\n",
    "        correct_k = correct[:k].view(-1).float().sum(0)\n",
    "        res.append(correct_k.mul_(100.0 / batch_size))\n",
    "    return res\n",
    "\n",
    "\n",
    "class AverageMeter(object):\n",
    "    \"\"\"Computes and stores the average and current value\"\"\"\n",
    "    def __init__(self):\n",
    "        self.reset()\n",
    "\n",
    "    def reset(self):\n",
    "        self.val = 0\n",
    "        self.avg = 0\n",
    "        self.sum = 0\n",
    "        self.count = 0\n",
    "\n",
    "    def update(self, val, n=1):\n",
    "        self.val = val\n",
    "        self.sum += val * n\n",
    "        self.count += n\n",
    "        self.avg = self.sum / self.count\n",
    "\n",
    "def train(train_loader, model, optimizer, epoch):\n",
    "    # switch to train mode\n",
    "    model.train()\n",
    "\n",
    "    pbar = tqdm(enumerate(train_loader))\n",
    "\n",
    "    top1 = AverageMeter()\n",
    "\n",
    "    for batch_idx, (data, label) in pbar:\n",
    "        print()\n",
    "        data_v = Variable(data.cuda())\n",
    "        target_var = Variable(label)\n",
    "\n",
    "        # compute output\n",
    "        prediction = model.forward_classifier(data_v)\n",
    "\n",
    "        # center_loss, model.centers = model.get_center_loss(target_var, args.alpha)\n",
    "\n",
    "        criterion = nn.CrossEntropyLoss()\n",
    "\n",
    "        cross_entropy_loss = criterion(prediction.cuda(),target_var.cuda())\n",
    "\n",
    "        #loss = args.center_loss_weight*center_loss + cross_entropy_loss\n",
    "        loss = cross_entropy_loss\n",
    "\n",
    "        # compute gradient and update weights\n",
    "        optimizer.zero_grad()\n",
    "        loss.backward()\n",
    "        optimizer.step()\n",
    "\n",
    "        # update the optimizer learning rate\n",
    "        adjust_learning_rate(optimizer)\n",
    "\n",
    "        # log loss value\n",
    "        #logger.log_value('cross_entropy_loss', cross_entropy_loss.data[0]).step()\n",
    "        # logger.log_value('total_loss', loss.data[0]).step()\n",
    "\n",
    "        prec = accuracy(prediction.data, label.cuda(), topk=(1,))\n",
    "        top1.update(prec[0], data_v.size(0))\n",
    "\n",
    "        if batch_idx % args.log_interval == 0:\n",
    "            pbar.set_description(\n",
    "                'Train Epoch: {} [{}/{} ({:.0f}%)]\\tLoss: {:.6f}\\t'\n",
    "                'Train Prec@1 {:.2f} ({:.2f})'.format(\n",
    "                    epoch, batch_idx * len(data_v), len(train_loader.dataset),\n",
    "                    100. * batch_idx / len(train_loader),\n",
    "                    loss.data[0],float(top1.val[0]), float(top1.avg[0])))\n",
    "\n",
    "            file = open('./log_softmax_loss/Train_Accuracy.txt','a') \n",
    "            file.write('Train Epoch: {} [{}/{} ({:.0f}%)]\\tLoss: {:.6f}\\t'\n",
    "                'Train Prec@1 {:.2f} ({:.2f})\\n'.format(\n",
    "                    epoch, batch_idx * len(data_v), len(train_loader.dataset),\n",
    "                    100. * batch_idx / len(train_loader),\n",
    "                    loss.data[0],float(top1.val[0]), float(top1.avg[0])))\n",
    "            file.close()\n",
    "\n",
    "    #logger.log_value('Train Prec@1 ',float(top1.avg[0]))\n",
    "\n",
    "    # do checkpointing\n",
    "    if not os.path.exists(LOG_DIR):\n",
    "        os.mkdir(LOG_DIR)\n",
    "    torch.save({'epoch': epoch + 1,\n",
    "                'state_dict': model.state_dict()}\n",
    "                #,'centers': model.centers},\n",
    "                ,'{}/checkpoint_{}.pth'.format(LOG_DIR, epoch))\n",
    "\n",
    "\n",
    "def test(test_loader, model, epoch):\n",
    "    # switch to evaluate mode\n",
    "    model.eval()\n",
    "\n",
    "    labels, distances = [], []\n",
    "\n",
    "    pbar = tqdm(enumerate(test_loader))\n",
    "    for batch_idx, (data_a, data_p, label) in pbar:\n",
    "        if args.cuda:\n",
    "            data_a, data_p = data_a.cuda(), data_p.cuda()\n",
    "        data_a, data_p, label = Variable(data_a, volatile=True), \\\n",
    "                                Variable(data_p, volatile=True), Variable(label)\n",
    "\n",
    "        # compute output\n",
    "        out_a, out_p = model(data_a), model(data_p)\n",
    "        dists = l2_dist.forward(out_a,out_p)#torch.sqrt(torch.sum((out_a - out_p) ** 2, 1))  # euclidean distance\n",
    "        distances.append(dists.data.cpu().numpy())\n",
    "        labels.append(label.data.cpu().numpy())\n",
    "\n",
    "        if batch_idx % args.log_interval == 0:\n",
    "            pbar.set_description('Test Epoch: {} [{}/{} ({:.0f}%)]'.format(\n",
    "                epoch, batch_idx * len(data_a), len(test_loader.dataset),\n",
    "                100. * batch_idx / len(test_loader)))\n",
    "            \n",
    "            file = open('./log_softmax_loss/Verification_Accuracy.txt','a') \n",
    "            file.write('Test Epoch: {} [{}/{} ({:.0f}%)]\\n'.format(\n",
    "                epoch, batch_idx * len(data_a), len(test_loader.dataset),\n",
    "                100. * batch_idx / len(test_loader)))\n",
    "            file.close()\n",
    "    #print(distances)\n",
    "    labels = np.array([sublabel for label in labels for sublabel in label])\n",
    "    distances = np.array([subdist for dist in distances for subdist in dist])\n",
    "\n",
    "    tpr, fpr, accuracy, val, val_std, far = evaluate(distances,labels)\n",
    "    print('\\33[91mTest set: Accuracy: {:.8f}\\n\\33[0m'.format(np.mean(accuracy)))\n",
    "    #logger.log_value('Test Accuracy', np.mean(accuracy))\n",
    "\n",
    "    plot_roc(fpr,tpr,figure_name=\"roc_test_epoch_{}.png\".format(epoch))\n",
    "\n",
    "def testaccuracy(test_loader,model,epoch):\n",
    "    # switch to evaluate mode\n",
    "    model.eval()\n",
    "    pbar = tqdm(enumerate(test_loader))\n",
    "    top1 = AverageMeter()\n",
    "    for batch_idx, (data, label) in pbar:\n",
    "        data_v = Variable(data.cuda())\n",
    "        target_value = Variable(label)\n",
    "\n",
    "        # compute output\n",
    "        prediction = model.forward_classifier(data_v)\n",
    "        prec = accuracy(prediction.data, label.cuda(), topk=(1,))\n",
    "        top1.update(prec[0], data_v.size(0))\n",
    "        #correct += accuracy(prediction.data, label.cuda(), topk=(1,))[0]*data_v.size(0)\n",
    "        \n",
    "        if batch_idx % args.log_interval == 0:\n",
    "            pbar.set_description(\n",
    "                'Test Epoch: {} [{}/{} ({:.0f}%)]\\t'\n",
    "                'Test Prec@1 {:.2f} ({:.2f})'.format(\n",
    "                    epoch, batch_idx * len(data_v), len(test_loader.dataset),\n",
    "                    100. * batch_idx / len(test_loader),\n",
    "                    float(top1.val[0]),float(top1.avg[0]))) \n",
    "            file = open('./log_softmax_loss/Recognition_Accuracy.txt','a') \n",
    "            file.write('Test Epoch: {} [{}/{} ({:.0f}%)]\\t'\n",
    "                'Test Recognition Prec@1 {:.2f} ({:.2f})\\n'.format(\n",
    "                    epoch, batch_idx * len(data_v), len(test_loader.dataset),\n",
    "                    100. * batch_idx / len(test_loader),\n",
    "                    float(top1.val[0]),float(top1.avg[0])))\n",
    "            file.close()\n",
    "    \n",
    "def plot_roc(fpr,tpr,figure_name=\"roc.png\"):\n",
    "    import matplotlib.pyplot as plt\n",
    "    from sklearn.metrics import roc_curve, auc\n",
    "    roc_auc = auc(fpr, tpr)\n",
    "    fig = plt.figure()\n",
    "    lw = 2\n",
    "    plt.plot(fpr, tpr, color='darkorange',lw=lw, label='ROC curve (area = %0.2f)' % roc_auc)\n",
    "    plt.plot([0, 1], [0, 1], color='navy', lw=lw, linestyle='--')\n",
    "    plt.xlim([0.0, 1.0])\n",
    "    plt.ylim([0.0, 1.05])\n",
    "    plt.xlabel('False Positive Rate')\n",
    "    plt.ylabel('True Positive Rate')\n",
    "    plt.title('Receiver operating characteristic')\n",
    "    plt.legend(loc=\"lower right\")\n",
    "    fig.savefig(os.path.join(LOG_DIR,figure_name), dpi=fig.dpi)\n",
    "\n",
    "\n",
    "def adjust_learning_rate(optimizer):\n",
    "    \"\"\"Updates the learning rate given the learning rate decay.\n",
    "    The routine has been implemented according to the original Lua SGD optimizer\n",
    "    \"\"\"\n",
    "    for group in optimizer.param_groups:\n",
    "        if 'step' not in group:\n",
    "            group['step'] = 0\n",
    "        group['step'] += 1\n",
    "\n",
    "        group['lr'] = args.lr / (1 + group['step'] * args.lr_decay)\n",
    "\n",
    "\n",
    "def create_optimizer(model, new_lr):\n",
    "    # setup optimizer\n",
    "    if args.optimizer == 'sgd':\n",
    "        optimizer = optim.SGD(model.parameters(), lr=new_lr,\n",
    "                              momentum=0.9, dampening=0.9,\n",
    "                              weight_decay=args.wd)\n",
    "    elif args.optimizer == 'adam':\n",
    "        optimizer = optim.Adam(model.parameters(), lr=new_lr,\n",
    "                               weight_decay=args.wd, betas=(args.beta1, 0.999))\n",
    "    elif args.optimizer == 'adagrad':\n",
    "        optimizer = optim.Adagrad(model.parameters(),\n",
    "                                  lr=new_lr,\n",
    "                                  lr_decay=args.lr_decay,\n",
    "                                  weight_decay=args.wd)\n",
    "    return optimizer"
   ]
  },
  {
   "cell_type": "code",
   "execution_count": null,
   "metadata": {},
   "outputs": [
    {
     "name": "stdout",
     "output_type": "stream",
     "text": [
      "\n",
      "parsed options:\n",
      "{'dataroot': '/home/jw4937/datasets/casia/train', 'testdataroot': '/home/jw4937/datasets/casia/test', 'lfw_dir': '/scratch/jw4937/deeplearningdataset/lfw', 'lfw_pairs_path': 'lfw_pairs.txt', 'log_dir': '/scratch/jw4937/logdir_softmax', 'resume': '/home/jw4937/logdir/run-optim_adam-lr0.001-wd0.0-embeddings512-center0.5-MSCeleb/checkpoint_99.pth', 'start_epoch': 99, 'epochs': 100, 'center_loss_weight': 0.5, 'alpha': 0.5, 'embedding_size': 512, 'batch_size': 64, 'test_batch_size': 64, 'lr': 0.001, 'beta1': 0.5, 'lr_decay': 0.0001, 'wd': 0.0, 'optimizer': 'adam', 'no_cuda': False, 'gpu_id': '0', 'seed': 0, 'log_interval': 10, 'cuda': True}\n",
      "\n",
      "\n",
      "Number of Classes:\n",
      "4990\n",
      "\n",
      "=> no checkpoint found at /home/jw4937/logdir/run-optim_adam-lr0.001-wd0.0-embeddings512-center0.5-MSCeleb/checkpoint_99.pth\n",
      "you are using gpu\n"
     ]
    },
    {
     "name": "stderr",
     "output_type": "stream",
     "text": [
      "\r",
      "0it [00:00, ?it/s]"
     ]
    },
    {
     "name": "stdout",
     "output_type": "stream",
     "text": [
      "\n"
     ]
    },
    {
     "name": "stderr",
     "output_type": "stream",
     "text": [
      "/home/jw4937/py3.6.3/lib/python3.6/site-packages/ipykernel_launcher.py:182: UserWarning: invalid index of a 0-dim tensor. This will be an error in PyTorch 0.5. Use tensor.item() to convert a 0-dim tensor to a Python number\n",
      "Train Epoch: 99 [0/48625 (0%)]\tLoss: 8.525147\tTrain Prec@1 0.00 (0.00): : 0it [00:01, ?it/s]/home/jw4937/py3.6.3/lib/python3.6/site-packages/ipykernel_launcher.py:189: UserWarning: invalid index of a 0-dim tensor. This will be an error in PyTorch 0.5. Use tensor.item() to convert a 0-dim tensor to a Python number\n",
      "Train Epoch: 99 [0/48625 (0%)]\tLoss: 8.525147\tTrain Prec@1 0.00 (0.00): : 2it [00:01,  1.06it/s]"
     ]
    },
    {
     "name": "stdout",
     "output_type": "stream",
     "text": [
      "\n",
      "\n"
     ]
    },
    {
     "name": "stderr",
     "output_type": "stream",
     "text": [
      "Train Epoch: 99 [0/48625 (0%)]\tLoss: 8.525147\tTrain Prec@1 0.00 (0.00): : 4it [00:02,  1.86it/s]"
     ]
    },
    {
     "name": "stdout",
     "output_type": "stream",
     "text": [
      "\n",
      "\n"
     ]
    },
    {
     "name": "stderr",
     "output_type": "stream",
     "text": [
      "Train Epoch: 99 [0/48625 (0%)]\tLoss: 8.525147\tTrain Prec@1 0.00 (0.00): : 6it [00:02,  2.50it/s]"
     ]
    },
    {
     "name": "stdout",
     "output_type": "stream",
     "text": [
      "\n",
      "\n"
     ]
    },
    {
     "name": "stderr",
     "output_type": "stream",
     "text": [
      "Train Epoch: 99 [0/48625 (0%)]\tLoss: 8.525147\tTrain Prec@1 0.00 (0.00): : 8it [00:02,  2.84it/s]"
     ]
    },
    {
     "name": "stdout",
     "output_type": "stream",
     "text": [
      "\n",
      "\n"
     ]
    },
    {
     "name": "stderr",
     "output_type": "stream",
     "text": [
      "Train Epoch: 99 [0/48625 (0%)]\tLoss: 8.525147\tTrain Prec@1 0.00 (0.00): : 10it [00:03,  3.03it/s]"
     ]
    },
    {
     "name": "stdout",
     "output_type": "stream",
     "text": [
      "\n",
      "\n"
     ]
    },
    {
     "name": "stderr",
     "output_type": "stream",
     "text": [
      "Train Epoch: 99 [640/48625 (1%)]\tLoss: 8.724502\tTrain Prec@1 0.00 (0.00): : 12it [00:03,  3.18it/s]"
     ]
    },
    {
     "name": "stdout",
     "output_type": "stream",
     "text": [
      "\n",
      "\n"
     ]
    },
    {
     "name": "stderr",
     "output_type": "stream",
     "text": [
      "Train Epoch: 99 [640/48625 (1%)]\tLoss: 8.724502\tTrain Prec@1 0.00 (0.00): : 14it [00:04,  3.32it/s]"
     ]
    },
    {
     "name": "stdout",
     "output_type": "stream",
     "text": [
      "\n",
      "\n"
     ]
    },
    {
     "name": "stderr",
     "output_type": "stream",
     "text": [
      "Train Epoch: 99 [640/48625 (1%)]\tLoss: 8.724502\tTrain Prec@1 0.00 (0.00): : 16it [00:04,  3.43it/s]"
     ]
    },
    {
     "name": "stdout",
     "output_type": "stream",
     "text": [
      "\n",
      "\n"
     ]
    },
    {
     "name": "stderr",
     "output_type": "stream",
     "text": [
      "Train Epoch: 99 [640/48625 (1%)]\tLoss: 8.724502\tTrain Prec@1 0.00 (0.00): : 18it [00:05,  3.51it/s]"
     ]
    },
    {
     "name": "stdout",
     "output_type": "stream",
     "text": [
      "\n",
      "\n"
     ]
    },
    {
     "name": "stderr",
     "output_type": "stream",
     "text": [
      "Train Epoch: 99 [640/48625 (1%)]\tLoss: 8.724502\tTrain Prec@1 0.00 (0.00): : 20it [00:05,  3.58it/s]"
     ]
    },
    {
     "name": "stdout",
     "output_type": "stream",
     "text": [
      "\n",
      "\n"
     ]
    },
    {
     "name": "stderr",
     "output_type": "stream",
     "text": [
      "Train Epoch: 99 [1280/48625 (3%)]\tLoss: 8.687103\tTrain Prec@1 0.00 (0.00): : 22it [00:06,  3.63it/s]"
     ]
    },
    {
     "name": "stdout",
     "output_type": "stream",
     "text": [
      "\n",
      "\n"
     ]
    },
    {
     "name": "stderr",
     "output_type": "stream",
     "text": [
      "Train Epoch: 99 [1280/48625 (3%)]\tLoss: 8.687103\tTrain Prec@1 0.00 (0.00): : 24it [00:06,  3.69it/s]"
     ]
    },
    {
     "name": "stdout",
     "output_type": "stream",
     "text": [
      "\n",
      "\n"
     ]
    },
    {
     "name": "stderr",
     "output_type": "stream",
     "text": [
      "Train Epoch: 99 [1280/48625 (3%)]\tLoss: 8.687103\tTrain Prec@1 0.00 (0.00): : 26it [00:06,  3.73it/s]"
     ]
    },
    {
     "name": "stdout",
     "output_type": "stream",
     "text": [
      "\n",
      "\n"
     ]
    },
    {
     "name": "stderr",
     "output_type": "stream",
     "text": [
      "Train Epoch: 99 [1280/48625 (3%)]\tLoss: 8.687103\tTrain Prec@1 0.00 (0.00): : 28it [00:07,  3.77it/s]"
     ]
    },
    {
     "name": "stdout",
     "output_type": "stream",
     "text": [
      "\n",
      "\n"
     ]
    },
    {
     "name": "stderr",
     "output_type": "stream",
     "text": [
      "Train Epoch: 99 [1280/48625 (3%)]\tLoss: 8.687103\tTrain Prec@1 0.00 (0.00): : 30it [00:07,  3.80it/s]"
     ]
    },
    {
     "name": "stdout",
     "output_type": "stream",
     "text": [
      "\n",
      "\n"
     ]
    },
    {
     "name": "stderr",
     "output_type": "stream",
     "text": [
      "Train Epoch: 99 [1920/48625 (4%)]\tLoss: 8.637109\tTrain Prec@1 0.00 (0.00): : 32it [00:08,  3.83it/s]"
     ]
    },
    {
     "name": "stdout",
     "output_type": "stream",
     "text": [
      "\n",
      "\n"
     ]
    },
    {
     "name": "stderr",
     "output_type": "stream",
     "text": [
      "Train Epoch: 99 [1920/48625 (4%)]\tLoss: 8.637109\tTrain Prec@1 0.00 (0.00): : 34it [00:08,  3.86it/s]"
     ]
    },
    {
     "name": "stdout",
     "output_type": "stream",
     "text": [
      "\n",
      "\n"
     ]
    },
    {
     "name": "stderr",
     "output_type": "stream",
     "text": [
      "Train Epoch: 99 [1920/48625 (4%)]\tLoss: 8.637109\tTrain Prec@1 0.00 (0.00): : 36it [00:09,  3.88it/s]"
     ]
    },
    {
     "name": "stdout",
     "output_type": "stream",
     "text": [
      "\n",
      "\n"
     ]
    },
    {
     "name": "stderr",
     "output_type": "stream",
     "text": [
      "Train Epoch: 99 [1920/48625 (4%)]\tLoss: 8.637109\tTrain Prec@1 0.00 (0.00): : 38it [00:09,  3.90it/s]"
     ]
    },
    {
     "name": "stdout",
     "output_type": "stream",
     "text": [
      "\n",
      "\n"
     ]
    },
    {
     "name": "stderr",
     "output_type": "stream",
     "text": [
      "Train Epoch: 99 [1920/48625 (4%)]\tLoss: 8.637109\tTrain Prec@1 0.00 (0.00): : 40it [00:10,  3.91it/s]"
     ]
    },
    {
     "name": "stdout",
     "output_type": "stream",
     "text": [
      "\n",
      "\n"
     ]
    },
    {
     "name": "stderr",
     "output_type": "stream",
     "text": [
      "Train Epoch: 99 [2560/48625 (5%)]\tLoss: 8.591469\tTrain Prec@1 0.00 (0.00): : 42it [00:10,  3.93it/s]"
     ]
    },
    {
     "name": "stdout",
     "output_type": "stream",
     "text": [
      "\n",
      "\n"
     ]
    },
    {
     "name": "stderr",
     "output_type": "stream",
     "text": [
      "Train Epoch: 99 [2560/48625 (5%)]\tLoss: 8.591469\tTrain Prec@1 0.00 (0.00): : 44it [00:11,  3.94it/s]"
     ]
    },
    {
     "name": "stdout",
     "output_type": "stream",
     "text": [
      "\n",
      "\n"
     ]
    },
    {
     "name": "stderr",
     "output_type": "stream",
     "text": [
      "Train Epoch: 99 [2560/48625 (5%)]\tLoss: 8.591469\tTrain Prec@1 0.00 (0.00): : 46it [00:11,  3.96it/s]"
     ]
    },
    {
     "name": "stdout",
     "output_type": "stream",
     "text": [
      "\n",
      "\n"
     ]
    },
    {
     "name": "stderr",
     "output_type": "stream",
     "text": [
      "Train Epoch: 99 [2560/48625 (5%)]\tLoss: 8.591469\tTrain Prec@1 0.00 (0.00): : 48it [00:12,  3.98it/s]"
     ]
    },
    {
     "name": "stdout",
     "output_type": "stream",
     "text": [
      "\n",
      "\n"
     ]
    },
    {
     "name": "stderr",
     "output_type": "stream",
     "text": [
      "Train Epoch: 99 [2560/48625 (5%)]\tLoss: 8.591469\tTrain Prec@1 0.00 (0.00): : 50it [00:12,  4.00it/s]"
     ]
    },
    {
     "name": "stdout",
     "output_type": "stream",
     "text": [
      "\n",
      "\n"
     ]
    },
    {
     "name": "stderr",
     "output_type": "stream",
     "text": [
      "Train Epoch: 99 [3200/48625 (7%)]\tLoss: 8.574509\tTrain Prec@1 0.00 (0.00): : 52it [00:12,  4.01it/s]"
     ]
    },
    {
     "name": "stdout",
     "output_type": "stream",
     "text": [
      "\n",
      "\n"
     ]
    },
    {
     "name": "stderr",
     "output_type": "stream",
     "text": [
      "Train Epoch: 99 [3200/48625 (7%)]\tLoss: 8.574509\tTrain Prec@1 0.00 (0.00): : 54it [00:13,  4.02it/s]"
     ]
    },
    {
     "name": "stdout",
     "output_type": "stream",
     "text": [
      "\n",
      "\n"
     ]
    },
    {
     "name": "stderr",
     "output_type": "stream",
     "text": [
      "Train Epoch: 99 [3200/48625 (7%)]\tLoss: 8.574509\tTrain Prec@1 0.00 (0.00): : 56it [00:13,  4.03it/s]"
     ]
    },
    {
     "name": "stdout",
     "output_type": "stream",
     "text": [
      "\n",
      "\n"
     ]
    },
    {
     "name": "stderr",
     "output_type": "stream",
     "text": [
      "Train Epoch: 99 [3200/48625 (7%)]\tLoss: 8.574509\tTrain Prec@1 0.00 (0.00): : 58it [00:14,  4.04it/s]"
     ]
    },
    {
     "name": "stdout",
     "output_type": "stream",
     "text": [
      "\n",
      "\n"
     ]
    },
    {
     "name": "stderr",
     "output_type": "stream",
     "text": [
      "Train Epoch: 99 [3200/48625 (7%)]\tLoss: 8.574509\tTrain Prec@1 0.00 (0.00): : 60it [00:14,  4.05it/s]"
     ]
    },
    {
     "name": "stdout",
     "output_type": "stream",
     "text": [
      "\n",
      "\n"
     ]
    },
    {
     "name": "stderr",
     "output_type": "stream",
     "text": [
      "Train Epoch: 99 [3840/48625 (8%)]\tLoss: 8.662848\tTrain Prec@1 0.00 (0.00): : 62it [00:15,  4.06it/s]"
     ]
    },
    {
     "name": "stdout",
     "output_type": "stream",
     "text": [
      "\n",
      "\n"
     ]
    },
    {
     "name": "stderr",
     "output_type": "stream",
     "text": [
      "Train Epoch: 99 [3840/48625 (8%)]\tLoss: 8.662848\tTrain Prec@1 0.00 (0.00): : 64it [00:15,  4.07it/s]"
     ]
    },
    {
     "name": "stdout",
     "output_type": "stream",
     "text": [
      "\n",
      "\n"
     ]
    },
    {
     "name": "stderr",
     "output_type": "stream",
     "text": [
      "Train Epoch: 99 [3840/48625 (8%)]\tLoss: 8.662848\tTrain Prec@1 0.00 (0.00): : 66it [00:16,  4.08it/s]"
     ]
    },
    {
     "name": "stdout",
     "output_type": "stream",
     "text": [
      "\n",
      "\n"
     ]
    },
    {
     "name": "stderr",
     "output_type": "stream",
     "text": [
      "Train Epoch: 99 [3840/48625 (8%)]\tLoss: 8.662848\tTrain Prec@1 0.00 (0.00): : 68it [00:16,  4.09it/s]"
     ]
    },
    {
     "name": "stdout",
     "output_type": "stream",
     "text": [
      "\n",
      "\n"
     ]
    },
    {
     "name": "stderr",
     "output_type": "stream",
     "text": [
      "Train Epoch: 99 [3840/48625 (8%)]\tLoss: 8.662848\tTrain Prec@1 0.00 (0.00): : 70it [00:17,  4.09it/s]"
     ]
    },
    {
     "name": "stdout",
     "output_type": "stream",
     "text": [
      "\n",
      "\n"
     ]
    },
    {
     "name": "stderr",
     "output_type": "stream",
     "text": [
      "Train Epoch: 99 [4480/48625 (9%)]\tLoss: 8.653865\tTrain Prec@1 0.00 (0.00): : 72it [00:17,  4.10it/s]"
     ]
    },
    {
     "name": "stdout",
     "output_type": "stream",
     "text": [
      "\n",
      "\n"
     ]
    },
    {
     "name": "stderr",
     "output_type": "stream",
     "text": [
      "Train Epoch: 99 [4480/48625 (9%)]\tLoss: 8.653865\tTrain Prec@1 0.00 (0.00): : 74it [00:18,  4.11it/s]"
     ]
    },
    {
     "name": "stdout",
     "output_type": "stream",
     "text": [
      "\n",
      "\n"
     ]
    },
    {
     "name": "stderr",
     "output_type": "stream",
     "text": [
      "Train Epoch: 99 [4480/48625 (9%)]\tLoss: 8.653865\tTrain Prec@1 0.00 (0.00): : 76it [00:18,  4.12it/s]"
     ]
    },
    {
     "name": "stdout",
     "output_type": "stream",
     "text": [
      "\n",
      "\n"
     ]
    },
    {
     "name": "stderr",
     "output_type": "stream",
     "text": [
      "Train Epoch: 99 [4480/48625 (9%)]\tLoss: 8.653865\tTrain Prec@1 0.00 (0.00): : 78it [00:18,  4.12it/s]"
     ]
    },
    {
     "name": "stdout",
     "output_type": "stream",
     "text": [
      "\n",
      "\n"
     ]
    },
    {
     "name": "stderr",
     "output_type": "stream",
     "text": [
      "Train Epoch: 99 [4480/48625 (9%)]\tLoss: 8.653865\tTrain Prec@1 0.00 (0.00): : 80it [00:19,  4.12it/s]"
     ]
    },
    {
     "name": "stdout",
     "output_type": "stream",
     "text": [
      "\n",
      "\n"
     ]
    },
    {
     "name": "stderr",
     "output_type": "stream",
     "text": [
      "Train Epoch: 99 [5120/48625 (11%)]\tLoss: 8.577883\tTrain Prec@1 0.00 (0.00): : 82it [00:19,  4.13it/s]"
     ]
    },
    {
     "name": "stdout",
     "output_type": "stream",
     "text": [
      "\n",
      "\n"
     ]
    },
    {
     "name": "stderr",
     "output_type": "stream",
     "text": [
      "Train Epoch: 99 [5120/48625 (11%)]\tLoss: 8.577883\tTrain Prec@1 0.00 (0.00): : 84it [00:20,  4.14it/s]"
     ]
    },
    {
     "name": "stdout",
     "output_type": "stream",
     "text": [
      "\n",
      "\n"
     ]
    },
    {
     "name": "stderr",
     "output_type": "stream",
     "text": [
      "Train Epoch: 99 [5120/48625 (11%)]\tLoss: 8.577883\tTrain Prec@1 0.00 (0.00): : 86it [00:20,  4.14it/s]"
     ]
    },
    {
     "name": "stdout",
     "output_type": "stream",
     "text": [
      "\n",
      "\n"
     ]
    },
    {
     "name": "stderr",
     "output_type": "stream",
     "text": [
      "Train Epoch: 99 [5120/48625 (11%)]\tLoss: 8.577883\tTrain Prec@1 0.00 (0.00): : 88it [00:21,  4.14it/s]"
     ]
    },
    {
     "name": "stdout",
     "output_type": "stream",
     "text": [
      "\n",
      "\n"
     ]
    },
    {
     "name": "stderr",
     "output_type": "stream",
     "text": [
      "Train Epoch: 99 [5120/48625 (11%)]\tLoss: 8.577883\tTrain Prec@1 0.00 (0.00): : 90it [00:21,  4.15it/s]"
     ]
    },
    {
     "name": "stdout",
     "output_type": "stream",
     "text": [
      "\n",
      "\n"
     ]
    },
    {
     "name": "stderr",
     "output_type": "stream",
     "text": [
      "Train Epoch: 99 [5760/48625 (12%)]\tLoss: 8.791435\tTrain Prec@1 0.00 (0.00): : 92it [00:22,  4.16it/s]"
     ]
    },
    {
     "name": "stdout",
     "output_type": "stream",
     "text": [
      "\n",
      "\n"
     ]
    },
    {
     "name": "stderr",
     "output_type": "stream",
     "text": [
      "Train Epoch: 99 [5760/48625 (12%)]\tLoss: 8.791435\tTrain Prec@1 0.00 (0.00): : 94it [00:22,  4.16it/s]"
     ]
    },
    {
     "name": "stdout",
     "output_type": "stream",
     "text": [
      "\n",
      "\n"
     ]
    },
    {
     "name": "stderr",
     "output_type": "stream",
     "text": [
      "Train Epoch: 99 [5760/48625 (12%)]\tLoss: 8.791435\tTrain Prec@1 0.00 (0.00): : 96it [00:23,  4.17it/s]"
     ]
    },
    {
     "name": "stdout",
     "output_type": "stream",
     "text": [
      "\n",
      "\n"
     ]
    },
    {
     "name": "stderr",
     "output_type": "stream",
     "text": [
      "Train Epoch: 99 [5760/48625 (12%)]\tLoss: 8.791435\tTrain Prec@1 0.00 (0.00): : 98it [00:23,  4.17it/s]"
     ]
    },
    {
     "name": "stdout",
     "output_type": "stream",
     "text": [
      "\n",
      "\n"
     ]
    },
    {
     "name": "stderr",
     "output_type": "stream",
     "text": [
      "Train Epoch: 99 [5760/48625 (12%)]\tLoss: 8.791435\tTrain Prec@1 0.00 (0.00): : 100it [00:23,  4.18it/s]"
     ]
    },
    {
     "name": "stdout",
     "output_type": "stream",
     "text": [
      "\n",
      "\n"
     ]
    },
    {
     "name": "stderr",
     "output_type": "stream",
     "text": [
      "Train Epoch: 99 [6400/48625 (13%)]\tLoss: 8.583515\tTrain Prec@1 0.00 (0.00): : 102it [00:24,  4.18it/s]"
     ]
    },
    {
     "name": "stdout",
     "output_type": "stream",
     "text": [
      "\n",
      "\n"
     ]
    },
    {
     "name": "stderr",
     "output_type": "stream",
     "text": [
      "Train Epoch: 99 [6400/48625 (13%)]\tLoss: 8.583515\tTrain Prec@1 0.00 (0.00): : 104it [00:24,  4.18it/s]"
     ]
    },
    {
     "name": "stdout",
     "output_type": "stream",
     "text": [
      "\n",
      "\n"
     ]
    },
    {
     "name": "stderr",
     "output_type": "stream",
     "text": [
      "Train Epoch: 99 [6400/48625 (13%)]\tLoss: 8.583515\tTrain Prec@1 0.00 (0.00): : 106it [00:25,  4.19it/s]"
     ]
    },
    {
     "name": "stdout",
     "output_type": "stream",
     "text": [
      "\n",
      "\n"
     ]
    },
    {
     "name": "stderr",
     "output_type": "stream",
     "text": [
      "Train Epoch: 99 [6400/48625 (13%)]\tLoss: 8.583515\tTrain Prec@1 0.00 (0.00): : 108it [00:25,  4.19it/s]"
     ]
    },
    {
     "name": "stdout",
     "output_type": "stream",
     "text": [
      "\n",
      "\n"
     ]
    },
    {
     "name": "stderr",
     "output_type": "stream",
     "text": [
      "Train Epoch: 99 [6400/48625 (13%)]\tLoss: 8.583515\tTrain Prec@1 0.00 (0.00): : 110it [00:26,  4.20it/s]"
     ]
    },
    {
     "name": "stdout",
     "output_type": "stream",
     "text": [
      "\n",
      "\n"
     ]
    },
    {
     "name": "stderr",
     "output_type": "stream",
     "text": [
      "Train Epoch: 99 [7040/48625 (14%)]\tLoss: 8.637596\tTrain Prec@1 0.00 (0.00): : 112it [00:26,  4.20it/s]"
     ]
    },
    {
     "name": "stdout",
     "output_type": "stream",
     "text": [
      "\n",
      "\n"
     ]
    },
    {
     "name": "stderr",
     "output_type": "stream",
     "text": [
      "Train Epoch: 99 [7040/48625 (14%)]\tLoss: 8.637596\tTrain Prec@1 0.00 (0.00): : 114it [00:27,  4.20it/s]"
     ]
    },
    {
     "name": "stdout",
     "output_type": "stream",
     "text": [
      "\n",
      "\n"
     ]
    },
    {
     "name": "stderr",
     "output_type": "stream",
     "text": [
      "Train Epoch: 99 [7040/48625 (14%)]\tLoss: 8.637596\tTrain Prec@1 0.00 (0.00): : 116it [00:27,  4.21it/s]"
     ]
    },
    {
     "name": "stdout",
     "output_type": "stream",
     "text": [
      "\n",
      "\n"
     ]
    },
    {
     "name": "stderr",
     "output_type": "stream",
     "text": [
      "Train Epoch: 99 [7040/48625 (14%)]\tLoss: 8.637596\tTrain Prec@1 0.00 (0.00): : 118it [00:28,  4.21it/s]"
     ]
    },
    {
     "name": "stdout",
     "output_type": "stream",
     "text": [
      "\n",
      "\n"
     ]
    },
    {
     "name": "stderr",
     "output_type": "stream",
     "text": [
      "Train Epoch: 99 [7040/48625 (14%)]\tLoss: 8.637596\tTrain Prec@1 0.00 (0.00): : 120it [00:28,  4.21it/s]"
     ]
    },
    {
     "name": "stdout",
     "output_type": "stream",
     "text": [
      "\n",
      "\n"
     ]
    },
    {
     "name": "stderr",
     "output_type": "stream",
     "text": [
      "Train Epoch: 99 [7680/48625 (16%)]\tLoss: 8.643922\tTrain Prec@1 0.00 (0.01): : 122it [00:28,  4.21it/s]"
     ]
    },
    {
     "name": "stdout",
     "output_type": "stream",
     "text": [
      "\n",
      "\n"
     ]
    },
    {
     "name": "stderr",
     "output_type": "stream",
     "text": [
      "Train Epoch: 99 [7680/48625 (16%)]\tLoss: 8.643922\tTrain Prec@1 0.00 (0.01): : 124it [00:29,  4.22it/s]"
     ]
    },
    {
     "name": "stdout",
     "output_type": "stream",
     "text": [
      "\n",
      "\n"
     ]
    },
    {
     "name": "stderr",
     "output_type": "stream",
     "text": [
      "Train Epoch: 99 [7680/48625 (16%)]\tLoss: 8.643922\tTrain Prec@1 0.00 (0.01): : 126it [00:29,  4.22it/s]"
     ]
    },
    {
     "name": "stdout",
     "output_type": "stream",
     "text": [
      "\n",
      "\n"
     ]
    },
    {
     "name": "stderr",
     "output_type": "stream",
     "text": [
      "Train Epoch: 99 [7680/48625 (16%)]\tLoss: 8.643922\tTrain Prec@1 0.00 (0.01): : 128it [00:30,  4.22it/s]"
     ]
    },
    {
     "name": "stdout",
     "output_type": "stream",
     "text": [
      "\n",
      "\n"
     ]
    },
    {
     "name": "stderr",
     "output_type": "stream",
     "text": [
      "Train Epoch: 99 [7680/48625 (16%)]\tLoss: 8.643922\tTrain Prec@1 0.00 (0.01): : 130it [00:30,  4.23it/s]"
     ]
    },
    {
     "name": "stdout",
     "output_type": "stream",
     "text": [
      "\n",
      "\n"
     ]
    },
    {
     "name": "stderr",
     "output_type": "stream",
     "text": [
      "Train Epoch: 99 [8320/48625 (17%)]\tLoss: 8.647923\tTrain Prec@1 0.00 (0.01): : 132it [00:31,  4.23it/s]"
     ]
    },
    {
     "name": "stdout",
     "output_type": "stream",
     "text": [
      "\n",
      "\n"
     ]
    },
    {
     "name": "stderr",
     "output_type": "stream",
     "text": [
      "Train Epoch: 99 [8320/48625 (17%)]\tLoss: 8.647923\tTrain Prec@1 0.00 (0.01): : 134it [00:31,  4.23it/s]"
     ]
    },
    {
     "name": "stdout",
     "output_type": "stream",
     "text": [
      "\n",
      "\n"
     ]
    },
    {
     "name": "stderr",
     "output_type": "stream",
     "text": [
      "Train Epoch: 99 [8320/48625 (17%)]\tLoss: 8.647923\tTrain Prec@1 0.00 (0.01): : 136it [00:32,  4.23it/s]"
     ]
    },
    {
     "name": "stdout",
     "output_type": "stream",
     "text": [
      "\n",
      "\n"
     ]
    },
    {
     "name": "stderr",
     "output_type": "stream",
     "text": [
      "Train Epoch: 99 [8320/48625 (17%)]\tLoss: 8.647923\tTrain Prec@1 0.00 (0.01): : 138it [00:32,  4.23it/s]"
     ]
    },
    {
     "name": "stdout",
     "output_type": "stream",
     "text": [
      "\n",
      "\n"
     ]
    },
    {
     "name": "stderr",
     "output_type": "stream",
     "text": [
      "Train Epoch: 99 [8320/48625 (17%)]\tLoss: 8.647923\tTrain Prec@1 0.00 (0.01): : 140it [00:33,  4.24it/s]"
     ]
    },
    {
     "name": "stdout",
     "output_type": "stream",
     "text": [
      "\n",
      "\n"
     ]
    },
    {
     "name": "stderr",
     "output_type": "stream",
     "text": [
      "Train Epoch: 99 [8960/48625 (18%)]\tLoss: 8.646128\tTrain Prec@1 0.00 (0.01): : 142it [00:33,  4.24it/s]"
     ]
    },
    {
     "name": "stdout",
     "output_type": "stream",
     "text": [
      "\n",
      "\n"
     ]
    },
    {
     "name": "stderr",
     "output_type": "stream",
     "text": [
      "Train Epoch: 99 [8960/48625 (18%)]\tLoss: 8.646128\tTrain Prec@1 0.00 (0.01): : 144it [00:33,  4.24it/s]"
     ]
    },
    {
     "name": "stdout",
     "output_type": "stream",
     "text": [
      "\n",
      "\n"
     ]
    },
    {
     "name": "stderr",
     "output_type": "stream",
     "text": [
      "Train Epoch: 99 [8960/48625 (18%)]\tLoss: 8.646128\tTrain Prec@1 0.00 (0.01): : 146it [00:34,  4.24it/s]"
     ]
    },
    {
     "name": "stdout",
     "output_type": "stream",
     "text": [
      "\n",
      "\n"
     ]
    },
    {
     "name": "stderr",
     "output_type": "stream",
     "text": [
      "Train Epoch: 99 [8960/48625 (18%)]\tLoss: 8.646128\tTrain Prec@1 0.00 (0.01): : 148it [00:34,  4.25it/s]"
     ]
    },
    {
     "name": "stdout",
     "output_type": "stream",
     "text": [
      "\n",
      "\n"
     ]
    },
    {
     "name": "stderr",
     "output_type": "stream",
     "text": [
      "Train Epoch: 99 [8960/48625 (18%)]\tLoss: 8.646128\tTrain Prec@1 0.00 (0.01): : 150it [00:35,  4.25it/s]"
     ]
    },
    {
     "name": "stdout",
     "output_type": "stream",
     "text": [
      "\n",
      "\n"
     ]
    },
    {
     "name": "stderr",
     "output_type": "stream",
     "text": [
      "Train Epoch: 99 [9600/48625 (20%)]\tLoss: 8.672454\tTrain Prec@1 0.00 (0.01): : 152it [00:35,  4.25it/s]"
     ]
    },
    {
     "name": "stdout",
     "output_type": "stream",
     "text": [
      "\n",
      "\n"
     ]
    },
    {
     "name": "stderr",
     "output_type": "stream",
     "text": [
      "Train Epoch: 99 [9600/48625 (20%)]\tLoss: 8.672454\tTrain Prec@1 0.00 (0.01): : 154it [00:36,  4.25it/s]"
     ]
    },
    {
     "name": "stdout",
     "output_type": "stream",
     "text": [
      "\n",
      "\n"
     ]
    },
    {
     "name": "stderr",
     "output_type": "stream",
     "text": [
      "Train Epoch: 99 [9600/48625 (20%)]\tLoss: 8.672454\tTrain Prec@1 0.00 (0.01): : 156it [00:36,  4.25it/s]"
     ]
    },
    {
     "name": "stdout",
     "output_type": "stream",
     "text": [
      "\n",
      "\n"
     ]
    },
    {
     "name": "stderr",
     "output_type": "stream",
     "text": [
      "Train Epoch: 99 [9600/48625 (20%)]\tLoss: 8.672454\tTrain Prec@1 0.00 (0.01): : 158it [00:37,  4.26it/s]"
     ]
    },
    {
     "name": "stdout",
     "output_type": "stream",
     "text": [
      "\n",
      "\n"
     ]
    },
    {
     "name": "stderr",
     "output_type": "stream",
     "text": [
      "Train Epoch: 99 [9600/48625 (20%)]\tLoss: 8.672454\tTrain Prec@1 0.00 (0.01): : 160it [00:37,  4.26it/s]"
     ]
    },
    {
     "name": "stdout",
     "output_type": "stream",
     "text": [
      "\n",
      "\n"
     ]
    },
    {
     "name": "stderr",
     "output_type": "stream",
     "text": [
      "Train Epoch: 99 [10240/48625 (21%)]\tLoss: 8.715535\tTrain Prec@1 0.00 (0.01): : 162it [00:38,  4.26it/s]"
     ]
    },
    {
     "name": "stdout",
     "output_type": "stream",
     "text": [
      "\n",
      "\n"
     ]
    },
    {
     "name": "stderr",
     "output_type": "stream",
     "text": [
      "Train Epoch: 99 [10240/48625 (21%)]\tLoss: 8.715535\tTrain Prec@1 0.00 (0.01): : 164it [00:38,  4.26it/s]"
     ]
    },
    {
     "name": "stdout",
     "output_type": "stream",
     "text": [
      "\n",
      "\n"
     ]
    },
    {
     "name": "stderr",
     "output_type": "stream",
     "text": [
      "Train Epoch: 99 [10240/48625 (21%)]\tLoss: 8.715535\tTrain Prec@1 0.00 (0.01): : 166it [00:38,  4.26it/s]"
     ]
    },
    {
     "name": "stdout",
     "output_type": "stream",
     "text": [
      "\n",
      "\n"
     ]
    },
    {
     "name": "stderr",
     "output_type": "stream",
     "text": [
      "Train Epoch: 99 [10240/48625 (21%)]\tLoss: 8.715535\tTrain Prec@1 0.00 (0.01): : 168it [00:39,  4.26it/s]"
     ]
    },
    {
     "name": "stdout",
     "output_type": "stream",
     "text": [
      "\n",
      "\n"
     ]
    },
    {
     "name": "stderr",
     "output_type": "stream",
     "text": [
      "Train Epoch: 99 [10240/48625 (21%)]\tLoss: 8.715535\tTrain Prec@1 0.00 (0.01): : 170it [00:39,  4.27it/s]"
     ]
    },
    {
     "name": "stdout",
     "output_type": "stream",
     "text": [
      "\n",
      "\n"
     ]
    },
    {
     "name": "stderr",
     "output_type": "stream",
     "text": [
      "Train Epoch: 99 [10880/48625 (22%)]\tLoss: 8.803014\tTrain Prec@1 0.00 (0.01): : 172it [00:40,  4.27it/s]"
     ]
    },
    {
     "name": "stdout",
     "output_type": "stream",
     "text": [
      "\n",
      "\n"
     ]
    },
    {
     "name": "stderr",
     "output_type": "stream",
     "text": [
      "Train Epoch: 99 [10880/48625 (22%)]\tLoss: 8.803014\tTrain Prec@1 0.00 (0.01): : 174it [00:40,  4.27it/s]"
     ]
    },
    {
     "name": "stdout",
     "output_type": "stream",
     "text": [
      "\n",
      "\n"
     ]
    },
    {
     "name": "stderr",
     "output_type": "stream",
     "text": [
      "Train Epoch: 99 [10880/48625 (22%)]\tLoss: 8.803014\tTrain Prec@1 0.00 (0.01): : 176it [00:41,  4.27it/s]"
     ]
    },
    {
     "name": "stdout",
     "output_type": "stream",
     "text": [
      "\n",
      "\n"
     ]
    },
    {
     "name": "stderr",
     "output_type": "stream",
     "text": [
      "Train Epoch: 99 [10880/48625 (22%)]\tLoss: 8.803014\tTrain Prec@1 0.00 (0.01): : 178it [00:41,  4.28it/s]"
     ]
    },
    {
     "name": "stdout",
     "output_type": "stream",
     "text": [
      "\n",
      "\n"
     ]
    },
    {
     "name": "stderr",
     "output_type": "stream",
     "text": [
      "Train Epoch: 99 [10880/48625 (22%)]\tLoss: 8.803014\tTrain Prec@1 0.00 (0.01): : 180it [00:42,  4.28it/s]"
     ]
    },
    {
     "name": "stdout",
     "output_type": "stream",
     "text": [
      "\n",
      "\n"
     ]
    },
    {
     "name": "stderr",
     "output_type": "stream",
     "text": [
      "Train Epoch: 99 [11520/48625 (24%)]\tLoss: 8.632801\tTrain Prec@1 0.00 (0.02): : 182it [00:42,  4.28it/s]"
     ]
    },
    {
     "name": "stdout",
     "output_type": "stream",
     "text": [
      "\n",
      "\n"
     ]
    },
    {
     "name": "stderr",
     "output_type": "stream",
     "text": [
      "Train Epoch: 99 [11520/48625 (24%)]\tLoss: 8.632801\tTrain Prec@1 0.00 (0.02): : 184it [00:43,  4.28it/s]"
     ]
    },
    {
     "name": "stdout",
     "output_type": "stream",
     "text": [
      "\n",
      "\n"
     ]
    },
    {
     "name": "stderr",
     "output_type": "stream",
     "text": [
      "Train Epoch: 99 [11520/48625 (24%)]\tLoss: 8.632801\tTrain Prec@1 0.00 (0.02): : 186it [00:43,  4.28it/s]"
     ]
    },
    {
     "name": "stdout",
     "output_type": "stream",
     "text": [
      "\n",
      "\n"
     ]
    },
    {
     "name": "stderr",
     "output_type": "stream",
     "text": [
      "Train Epoch: 99 [11520/48625 (24%)]\tLoss: 8.632801\tTrain Prec@1 0.00 (0.02): : 188it [00:43,  4.28it/s]"
     ]
    },
    {
     "name": "stdout",
     "output_type": "stream",
     "text": [
      "\n",
      "\n"
     ]
    },
    {
     "name": "stderr",
     "output_type": "stream",
     "text": [
      "Train Epoch: 99 [11520/48625 (24%)]\tLoss: 8.632801\tTrain Prec@1 0.00 (0.02): : 190it [00:44,  4.28it/s]"
     ]
    },
    {
     "name": "stdout",
     "output_type": "stream",
     "text": [
      "\n",
      "\n"
     ]
    },
    {
     "name": "stderr",
     "output_type": "stream",
     "text": [
      "Train Epoch: 99 [12160/48625 (25%)]\tLoss: 8.728242\tTrain Prec@1 0.00 (0.02): : 192it [00:44,  4.28it/s]"
     ]
    },
    {
     "name": "stdout",
     "output_type": "stream",
     "text": [
      "\n",
      "\n"
     ]
    },
    {
     "name": "stderr",
     "output_type": "stream",
     "text": [
      "Train Epoch: 99 [12160/48625 (25%)]\tLoss: 8.728242\tTrain Prec@1 0.00 (0.02): : 194it [00:45,  4.29it/s]"
     ]
    },
    {
     "name": "stdout",
     "output_type": "stream",
     "text": [
      "\n",
      "\n"
     ]
    },
    {
     "name": "stderr",
     "output_type": "stream",
     "text": [
      "Train Epoch: 99 [12160/48625 (25%)]\tLoss: 8.728242\tTrain Prec@1 0.00 (0.02): : 196it [00:45,  4.29it/s]"
     ]
    },
    {
     "name": "stdout",
     "output_type": "stream",
     "text": [
      "\n",
      "\n"
     ]
    },
    {
     "name": "stderr",
     "output_type": "stream",
     "text": [
      "Train Epoch: 99 [12160/48625 (25%)]\tLoss: 8.728242\tTrain Prec@1 0.00 (0.02): : 198it [00:46,  4.29it/s]"
     ]
    },
    {
     "name": "stdout",
     "output_type": "stream",
     "text": [
      "\n",
      "\n"
     ]
    },
    {
     "name": "stderr",
     "output_type": "stream",
     "text": [
      "Train Epoch: 99 [12160/48625 (25%)]\tLoss: 8.728242\tTrain Prec@1 0.00 (0.02): : 200it [00:46,  4.29it/s]"
     ]
    },
    {
     "name": "stdout",
     "output_type": "stream",
     "text": [
      "\n",
      "\n"
     ]
    },
    {
     "name": "stderr",
     "output_type": "stream",
     "text": [
      "Train Epoch: 99 [12800/48625 (26%)]\tLoss: 8.673354\tTrain Prec@1 0.00 (0.02): : 202it [00:47,  4.29it/s]"
     ]
    },
    {
     "name": "stdout",
     "output_type": "stream",
     "text": [
      "\n",
      "\n"
     ]
    },
    {
     "name": "stderr",
     "output_type": "stream",
     "text": [
      "Train Epoch: 99 [12800/48625 (26%)]\tLoss: 8.673354\tTrain Prec@1 0.00 (0.02): : 204it [00:47,  4.29it/s]"
     ]
    },
    {
     "name": "stdout",
     "output_type": "stream",
     "text": [
      "\n",
      "\n"
     ]
    },
    {
     "name": "stderr",
     "output_type": "stream",
     "text": [
      "Train Epoch: 99 [12800/48625 (26%)]\tLoss: 8.673354\tTrain Prec@1 0.00 (0.02): : 206it [00:47,  4.29it/s]"
     ]
    },
    {
     "name": "stdout",
     "output_type": "stream",
     "text": [
      "\n",
      "\n"
     ]
    },
    {
     "name": "stderr",
     "output_type": "stream",
     "text": [
      "Train Epoch: 99 [12800/48625 (26%)]\tLoss: 8.673354\tTrain Prec@1 0.00 (0.02): : 208it [00:48,  4.29it/s]"
     ]
    },
    {
     "name": "stdout",
     "output_type": "stream",
     "text": [
      "\n",
      "\n"
     ]
    },
    {
     "name": "stderr",
     "output_type": "stream",
     "text": [
      "Train Epoch: 99 [12800/48625 (26%)]\tLoss: 8.673354\tTrain Prec@1 0.00 (0.02): : 210it [00:48,  4.29it/s]"
     ]
    },
    {
     "name": "stdout",
     "output_type": "stream",
     "text": [
      "\n",
      "\n"
     ]
    },
    {
     "name": "stderr",
     "output_type": "stream",
     "text": [
      "Train Epoch: 99 [13440/48625 (28%)]\tLoss: 8.647312\tTrain Prec@1 0.00 (0.01): : 212it [00:49,  4.29it/s]"
     ]
    },
    {
     "name": "stdout",
     "output_type": "stream",
     "text": [
      "\n",
      "\n"
     ]
    },
    {
     "name": "stderr",
     "output_type": "stream",
     "text": [
      "Train Epoch: 99 [13440/48625 (28%)]\tLoss: 8.647312\tTrain Prec@1 0.00 (0.01): : 214it [00:49,  4.30it/s]"
     ]
    },
    {
     "name": "stdout",
     "output_type": "stream",
     "text": [
      "\n",
      "\n"
     ]
    },
    {
     "name": "stderr",
     "output_type": "stream",
     "text": [
      "Train Epoch: 99 [13440/48625 (28%)]\tLoss: 8.647312\tTrain Prec@1 0.00 (0.01): : 216it [00:50,  4.29it/s]"
     ]
    },
    {
     "name": "stdout",
     "output_type": "stream",
     "text": [
      "\n",
      "\n"
     ]
    },
    {
     "name": "stderr",
     "output_type": "stream",
     "text": [
      "Train Epoch: 99 [13440/48625 (28%)]\tLoss: 8.647312\tTrain Prec@1 0.00 (0.01): : 218it [00:50,  4.30it/s]"
     ]
    },
    {
     "name": "stdout",
     "output_type": "stream",
     "text": [
      "\n",
      "\n"
     ]
    },
    {
     "name": "stderr",
     "output_type": "stream",
     "text": [
      "Train Epoch: 99 [13440/48625 (28%)]\tLoss: 8.647312\tTrain Prec@1 0.00 (0.01): : 220it [00:51,  4.30it/s]"
     ]
    },
    {
     "name": "stdout",
     "output_type": "stream",
     "text": [
      "\n",
      "\n"
     ]
    },
    {
     "name": "stderr",
     "output_type": "stream",
     "text": [
      "Train Epoch: 99 [14080/48625 (29%)]\tLoss: 8.743841\tTrain Prec@1 0.00 (0.01): : 222it [00:51,  4.30it/s]"
     ]
    },
    {
     "name": "stdout",
     "output_type": "stream",
     "text": [
      "\n",
      "\n"
     ]
    },
    {
     "name": "stderr",
     "output_type": "stream",
     "text": [
      "Train Epoch: 99 [14080/48625 (29%)]\tLoss: 8.743841\tTrain Prec@1 0.00 (0.01): : 224it [00:52,  4.30it/s]"
     ]
    },
    {
     "name": "stdout",
     "output_type": "stream",
     "text": [
      "\n",
      "\n"
     ]
    },
    {
     "name": "stderr",
     "output_type": "stream",
     "text": [
      "Train Epoch: 99 [14080/48625 (29%)]\tLoss: 8.743841\tTrain Prec@1 0.00 (0.01): : 226it [00:52,  4.30it/s]"
     ]
    },
    {
     "name": "stdout",
     "output_type": "stream",
     "text": [
      "\n",
      "\n"
     ]
    },
    {
     "name": "stderr",
     "output_type": "stream",
     "text": [
      "Train Epoch: 99 [14080/48625 (29%)]\tLoss: 8.743841\tTrain Prec@1 0.00 (0.01): : 228it [00:53,  4.30it/s]"
     ]
    },
    {
     "name": "stdout",
     "output_type": "stream",
     "text": [
      "\n",
      "\n"
     ]
    },
    {
     "name": "stderr",
     "output_type": "stream",
     "text": [
      "Train Epoch: 99 [14080/48625 (29%)]\tLoss: 8.743841\tTrain Prec@1 0.00 (0.01): : 230it [00:53,  4.30it/s]"
     ]
    },
    {
     "name": "stdout",
     "output_type": "stream",
     "text": [
      "\n",
      "\n"
     ]
    },
    {
     "name": "stderr",
     "output_type": "stream",
     "text": [
      "Train Epoch: 99 [14720/48625 (30%)]\tLoss: 8.748074\tTrain Prec@1 0.00 (0.01): : 232it [00:53,  4.30it/s]"
     ]
    },
    {
     "name": "stdout",
     "output_type": "stream",
     "text": [
      "\n",
      "\n"
     ]
    },
    {
     "name": "stderr",
     "output_type": "stream",
     "text": [
      "Train Epoch: 99 [14720/48625 (30%)]\tLoss: 8.748074\tTrain Prec@1 0.00 (0.01): : 234it [00:54,  4.30it/s]"
     ]
    },
    {
     "name": "stdout",
     "output_type": "stream",
     "text": [
      "\n",
      "\n"
     ]
    },
    {
     "name": "stderr",
     "output_type": "stream",
     "text": [
      "Train Epoch: 99 [14720/48625 (30%)]\tLoss: 8.748074\tTrain Prec@1 0.00 (0.01): : 236it [00:54,  4.30it/s]"
     ]
    },
    {
     "name": "stdout",
     "output_type": "stream",
     "text": [
      "\n",
      "\n"
     ]
    },
    {
     "name": "stderr",
     "output_type": "stream",
     "text": [
      "Train Epoch: 99 [14720/48625 (30%)]\tLoss: 8.748074\tTrain Prec@1 0.00 (0.01): : 238it [00:55,  4.30it/s]"
     ]
    },
    {
     "name": "stdout",
     "output_type": "stream",
     "text": [
      "\n",
      "\n"
     ]
    },
    {
     "name": "stderr",
     "output_type": "stream",
     "text": [
      "Train Epoch: 99 [14720/48625 (30%)]\tLoss: 8.748074\tTrain Prec@1 0.00 (0.01): : 240it [00:55,  4.30it/s]"
     ]
    },
    {
     "name": "stdout",
     "output_type": "stream",
     "text": [
      "\n",
      "\n"
     ]
    },
    {
     "name": "stderr",
     "output_type": "stream",
     "text": [
      "Train Epoch: 99 [15360/48625 (32%)]\tLoss: 8.822464\tTrain Prec@1 0.00 (0.01): : 242it [00:56,  4.30it/s]"
     ]
    },
    {
     "name": "stdout",
     "output_type": "stream",
     "text": [
      "\n",
      "\n"
     ]
    },
    {
     "name": "stderr",
     "output_type": "stream",
     "text": [
      "Train Epoch: 99 [15360/48625 (32%)]\tLoss: 8.822464\tTrain Prec@1 0.00 (0.01): : 244it [00:56,  4.30it/s]"
     ]
    },
    {
     "name": "stdout",
     "output_type": "stream",
     "text": [
      "\n",
      "\n"
     ]
    },
    {
     "name": "stderr",
     "output_type": "stream",
     "text": [
      "Train Epoch: 99 [15360/48625 (32%)]\tLoss: 8.822464\tTrain Prec@1 0.00 (0.01): : 246it [00:57,  4.30it/s]"
     ]
    },
    {
     "name": "stdout",
     "output_type": "stream",
     "text": [
      "\n",
      "\n"
     ]
    },
    {
     "name": "stderr",
     "output_type": "stream",
     "text": [
      "Train Epoch: 99 [15360/48625 (32%)]\tLoss: 8.822464\tTrain Prec@1 0.00 (0.01): : 248it [00:57,  4.30it/s]"
     ]
    },
    {
     "name": "stdout",
     "output_type": "stream",
     "text": [
      "\n",
      "\n"
     ]
    },
    {
     "name": "stderr",
     "output_type": "stream",
     "text": [
      "Train Epoch: 99 [15360/48625 (32%)]\tLoss: 8.822464\tTrain Prec@1 0.00 (0.01): : 250it [00:58,  4.30it/s]"
     ]
    },
    {
     "name": "stdout",
     "output_type": "stream",
     "text": [
      "\n",
      "\n"
     ]
    },
    {
     "name": "stderr",
     "output_type": "stream",
     "text": [
      "Train Epoch: 99 [16000/48625 (33%)]\tLoss: 8.643731\tTrain Prec@1 0.00 (0.01): : 252it [00:58,  4.30it/s]"
     ]
    },
    {
     "name": "stdout",
     "output_type": "stream",
     "text": [
      "\n",
      "\n"
     ]
    },
    {
     "name": "stderr",
     "output_type": "stream",
     "text": [
      "Train Epoch: 99 [16000/48625 (33%)]\tLoss: 8.643731\tTrain Prec@1 0.00 (0.01): : 254it [00:59,  4.30it/s]"
     ]
    },
    {
     "name": "stdout",
     "output_type": "stream",
     "text": [
      "\n",
      "\n"
     ]
    },
    {
     "name": "stderr",
     "output_type": "stream",
     "text": [
      "Train Epoch: 99 [16000/48625 (33%)]\tLoss: 8.643731\tTrain Prec@1 0.00 (0.01): : 256it [00:59,  4.30it/s]"
     ]
    },
    {
     "name": "stdout",
     "output_type": "stream",
     "text": [
      "\n",
      "\n"
     ]
    },
    {
     "name": "stderr",
     "output_type": "stream",
     "text": [
      "Train Epoch: 99 [16000/48625 (33%)]\tLoss: 8.643731\tTrain Prec@1 0.00 (0.01): : 258it [00:59,  4.31it/s]"
     ]
    },
    {
     "name": "stdout",
     "output_type": "stream",
     "text": [
      "\n",
      "\n"
     ]
    },
    {
     "name": "stderr",
     "output_type": "stream",
     "text": [
      "Train Epoch: 99 [16000/48625 (33%)]\tLoss: 8.643731\tTrain Prec@1 0.00 (0.01): : 260it [01:00,  4.31it/s]"
     ]
    },
    {
     "name": "stdout",
     "output_type": "stream",
     "text": [
      "\n",
      "\n"
     ]
    },
    {
     "name": "stderr",
     "output_type": "stream",
     "text": [
      "Train Epoch: 99 [16640/48625 (34%)]\tLoss: 8.690834\tTrain Prec@1 0.00 (0.01): : 262it [01:00,  4.31it/s]"
     ]
    },
    {
     "name": "stdout",
     "output_type": "stream",
     "text": [
      "\n",
      "\n"
     ]
    },
    {
     "name": "stderr",
     "output_type": "stream",
     "text": [
      "Train Epoch: 99 [16640/48625 (34%)]\tLoss: 8.690834\tTrain Prec@1 0.00 (0.01): : 264it [01:01,  4.31it/s]"
     ]
    },
    {
     "name": "stdout",
     "output_type": "stream",
     "text": [
      "\n",
      "\n"
     ]
    },
    {
     "name": "stderr",
     "output_type": "stream",
     "text": [
      "Train Epoch: 99 [16640/48625 (34%)]\tLoss: 8.690834\tTrain Prec@1 0.00 (0.01): : 266it [01:01,  4.31it/s]"
     ]
    },
    {
     "name": "stdout",
     "output_type": "stream",
     "text": [
      "\n",
      "\n"
     ]
    },
    {
     "name": "stderr",
     "output_type": "stream",
     "text": [
      "Train Epoch: 99 [16640/48625 (34%)]\tLoss: 8.690834\tTrain Prec@1 0.00 (0.01): : 268it [01:02,  4.31it/s]"
     ]
    },
    {
     "name": "stdout",
     "output_type": "stream",
     "text": [
      "\n",
      "\n"
     ]
    },
    {
     "name": "stderr",
     "output_type": "stream",
     "text": [
      "Train Epoch: 99 [16640/48625 (34%)]\tLoss: 8.690834\tTrain Prec@1 0.00 (0.01): : 270it [01:02,  4.31it/s]"
     ]
    },
    {
     "name": "stdout",
     "output_type": "stream",
     "text": [
      "\n",
      "\n"
     ]
    },
    {
     "name": "stderr",
     "output_type": "stream",
     "text": [
      "Train Epoch: 99 [17280/48625 (36%)]\tLoss: 8.678596\tTrain Prec@1 0.00 (0.01): : 272it [01:03,  4.31it/s]"
     ]
    },
    {
     "name": "stdout",
     "output_type": "stream",
     "text": [
      "\n",
      "\n"
     ]
    },
    {
     "name": "stderr",
     "output_type": "stream",
     "text": [
      "Train Epoch: 99 [17280/48625 (36%)]\tLoss: 8.678596\tTrain Prec@1 0.00 (0.01): : 274it [01:03,  4.31it/s]"
     ]
    },
    {
     "name": "stdout",
     "output_type": "stream",
     "text": [
      "\n",
      "\n"
     ]
    },
    {
     "name": "stderr",
     "output_type": "stream",
     "text": [
      "Train Epoch: 99 [17280/48625 (36%)]\tLoss: 8.678596\tTrain Prec@1 0.00 (0.01): : 276it [01:04,  4.31it/s]"
     ]
    },
    {
     "name": "stdout",
     "output_type": "stream",
     "text": [
      "\n",
      "\n"
     ]
    },
    {
     "name": "stderr",
     "output_type": "stream",
     "text": [
      "Train Epoch: 99 [17280/48625 (36%)]\tLoss: 8.678596\tTrain Prec@1 0.00 (0.01): : 278it [01:04,  4.31it/s]"
     ]
    },
    {
     "name": "stdout",
     "output_type": "stream",
     "text": [
      "\n",
      "\n"
     ]
    },
    {
     "name": "stderr",
     "output_type": "stream",
     "text": [
      "Train Epoch: 99 [17280/48625 (36%)]\tLoss: 8.678596\tTrain Prec@1 0.00 (0.01): : 280it [01:04,  4.31it/s]"
     ]
    },
    {
     "name": "stdout",
     "output_type": "stream",
     "text": [
      "\n",
      "\n"
     ]
    },
    {
     "name": "stderr",
     "output_type": "stream",
     "text": [
      "Train Epoch: 99 [17920/48625 (37%)]\tLoss: 8.682158\tTrain Prec@1 0.00 (0.01): : 282it [01:05,  4.31it/s]"
     ]
    },
    {
     "name": "stdout",
     "output_type": "stream",
     "text": [
      "\n",
      "\n"
     ]
    },
    {
     "name": "stderr",
     "output_type": "stream",
     "text": [
      "Train Epoch: 99 [17920/48625 (37%)]\tLoss: 8.682158\tTrain Prec@1 0.00 (0.01): : 284it [01:05,  4.31it/s]"
     ]
    },
    {
     "name": "stdout",
     "output_type": "stream",
     "text": [
      "\n",
      "\n"
     ]
    },
    {
     "name": "stderr",
     "output_type": "stream",
     "text": [
      "Train Epoch: 99 [17920/48625 (37%)]\tLoss: 8.682158\tTrain Prec@1 0.00 (0.01): : 286it [01:06,  4.31it/s]"
     ]
    },
    {
     "name": "stdout",
     "output_type": "stream",
     "text": [
      "\n",
      "\n"
     ]
    },
    {
     "name": "stderr",
     "output_type": "stream",
     "text": [
      "Train Epoch: 99 [17920/48625 (37%)]\tLoss: 8.682158\tTrain Prec@1 0.00 (0.01): : 288it [01:06,  4.32it/s]"
     ]
    },
    {
     "name": "stdout",
     "output_type": "stream",
     "text": [
      "\n",
      "\n"
     ]
    },
    {
     "name": "stderr",
     "output_type": "stream",
     "text": [
      "Train Epoch: 99 [17920/48625 (37%)]\tLoss: 8.682158\tTrain Prec@1 0.00 (0.01): : 290it [01:07,  4.31it/s]"
     ]
    },
    {
     "name": "stdout",
     "output_type": "stream",
     "text": [
      "\n",
      "\n"
     ]
    },
    {
     "name": "stderr",
     "output_type": "stream",
     "text": [
      "Train Epoch: 99 [18560/48625 (38%)]\tLoss: 8.771246\tTrain Prec@1 0.00 (0.01): : 292it [01:07,  4.32it/s]"
     ]
    },
    {
     "name": "stdout",
     "output_type": "stream",
     "text": [
      "\n",
      "\n"
     ]
    },
    {
     "name": "stderr",
     "output_type": "stream",
     "text": [
      "Train Epoch: 99 [18560/48625 (38%)]\tLoss: 8.771246\tTrain Prec@1 0.00 (0.01): : 294it [01:08,  4.32it/s]"
     ]
    },
    {
     "name": "stdout",
     "output_type": "stream",
     "text": [
      "\n",
      "\n"
     ]
    },
    {
     "name": "stderr",
     "output_type": "stream",
     "text": [
      "Train Epoch: 99 [18560/48625 (38%)]\tLoss: 8.771246\tTrain Prec@1 0.00 (0.01): : 296it [01:08,  4.32it/s]"
     ]
    },
    {
     "name": "stdout",
     "output_type": "stream",
     "text": [
      "\n",
      "\n"
     ]
    },
    {
     "name": "stderr",
     "output_type": "stream",
     "text": [
      "Train Epoch: 99 [18560/48625 (38%)]\tLoss: 8.771246\tTrain Prec@1 0.00 (0.01): : 298it [01:09,  4.32it/s]"
     ]
    },
    {
     "name": "stdout",
     "output_type": "stream",
     "text": [
      "\n",
      "\n"
     ]
    },
    {
     "name": "stderr",
     "output_type": "stream",
     "text": [
      "Train Epoch: 99 [18560/48625 (38%)]\tLoss: 8.771246\tTrain Prec@1 0.00 (0.01): : 300it [01:09,  4.32it/s]"
     ]
    },
    {
     "name": "stdout",
     "output_type": "stream",
     "text": [
      "\n",
      "\n"
     ]
    },
    {
     "name": "stderr",
     "output_type": "stream",
     "text": [
      "Train Epoch: 99 [19200/48625 (39%)]\tLoss: 8.664270\tTrain Prec@1 0.00 (0.01): : 302it [01:09,  4.32it/s]"
     ]
    },
    {
     "name": "stdout",
     "output_type": "stream",
     "text": [
      "\n",
      "\n"
     ]
    },
    {
     "name": "stderr",
     "output_type": "stream",
     "text": [
      "Train Epoch: 99 [19200/48625 (39%)]\tLoss: 8.664270\tTrain Prec@1 0.00 (0.01): : 304it [01:10,  4.32it/s]"
     ]
    },
    {
     "name": "stdout",
     "output_type": "stream",
     "text": [
      "\n",
      "\n"
     ]
    },
    {
     "name": "stderr",
     "output_type": "stream",
     "text": [
      "Train Epoch: 99 [19200/48625 (39%)]\tLoss: 8.664270\tTrain Prec@1 0.00 (0.01): : 306it [01:10,  4.32it/s]"
     ]
    },
    {
     "name": "stdout",
     "output_type": "stream",
     "text": [
      "\n",
      "\n"
     ]
    },
    {
     "name": "stderr",
     "output_type": "stream",
     "text": [
      "Train Epoch: 99 [19200/48625 (39%)]\tLoss: 8.664270\tTrain Prec@1 0.00 (0.01): : 308it [01:11,  4.32it/s]"
     ]
    },
    {
     "name": "stdout",
     "output_type": "stream",
     "text": [
      "\n",
      "\n"
     ]
    },
    {
     "name": "stderr",
     "output_type": "stream",
     "text": [
      "Train Epoch: 99 [19200/48625 (39%)]\tLoss: 8.664270\tTrain Prec@1 0.00 (0.01): : 310it [01:11,  4.32it/s]"
     ]
    },
    {
     "name": "stdout",
     "output_type": "stream",
     "text": [
      "\n",
      "\n"
     ]
    },
    {
     "name": "stderr",
     "output_type": "stream",
     "text": [
      "Train Epoch: 99 [19840/48625 (41%)]\tLoss: 8.687204\tTrain Prec@1 0.00 (0.01): : 312it [01:12,  4.32it/s]"
     ]
    },
    {
     "name": "stdout",
     "output_type": "stream",
     "text": [
      "\n",
      "\n"
     ]
    },
    {
     "name": "stderr",
     "output_type": "stream",
     "text": [
      "Train Epoch: 99 [19840/48625 (41%)]\tLoss: 8.687204\tTrain Prec@1 0.00 (0.01): : 314it [01:12,  4.32it/s]"
     ]
    },
    {
     "name": "stdout",
     "output_type": "stream",
     "text": [
      "\n",
      "\n"
     ]
    },
    {
     "name": "stderr",
     "output_type": "stream",
     "text": [
      "Train Epoch: 99 [19840/48625 (41%)]\tLoss: 8.687204\tTrain Prec@1 0.00 (0.01): : 316it [01:13,  4.32it/s]"
     ]
    },
    {
     "name": "stdout",
     "output_type": "stream",
     "text": [
      "\n",
      "\n"
     ]
    },
    {
     "name": "stderr",
     "output_type": "stream",
     "text": [
      "Train Epoch: 99 [19840/48625 (41%)]\tLoss: 8.687204\tTrain Prec@1 0.00 (0.01): : 318it [01:13,  4.32it/s]"
     ]
    },
    {
     "name": "stdout",
     "output_type": "stream",
     "text": [
      "\n",
      "\n"
     ]
    },
    {
     "name": "stderr",
     "output_type": "stream",
     "text": [
      "Train Epoch: 99 [19840/48625 (41%)]\tLoss: 8.687204\tTrain Prec@1 0.00 (0.01): : 320it [01:14,  4.32it/s]"
     ]
    },
    {
     "name": "stdout",
     "output_type": "stream",
     "text": [
      "\n",
      "\n"
     ]
    },
    {
     "name": "stderr",
     "output_type": "stream",
     "text": [
      "Train Epoch: 99 [20480/48625 (42%)]\tLoss: 8.658838\tTrain Prec@1 0.00 (0.01): : 322it [01:14,  4.32it/s]"
     ]
    },
    {
     "name": "stdout",
     "output_type": "stream",
     "text": [
      "\n",
      "\n"
     ]
    },
    {
     "name": "stderr",
     "output_type": "stream",
     "text": [
      "Train Epoch: 99 [20480/48625 (42%)]\tLoss: 8.658838\tTrain Prec@1 0.00 (0.01): : 324it [01:15,  4.32it/s]"
     ]
    },
    {
     "name": "stdout",
     "output_type": "stream",
     "text": [
      "\n",
      "\n"
     ]
    },
    {
     "name": "stderr",
     "output_type": "stream",
     "text": [
      "Train Epoch: 99 [20480/48625 (42%)]\tLoss: 8.658838\tTrain Prec@1 0.00 (0.01): : 326it [01:15,  4.32it/s]"
     ]
    },
    {
     "name": "stdout",
     "output_type": "stream",
     "text": [
      "\n",
      "\n"
     ]
    },
    {
     "name": "stderr",
     "output_type": "stream",
     "text": [
      "Train Epoch: 99 [20480/48625 (42%)]\tLoss: 8.658838\tTrain Prec@1 0.00 (0.01): : 328it [01:15,  4.32it/s]"
     ]
    },
    {
     "name": "stdout",
     "output_type": "stream",
     "text": [
      "\n",
      "\n"
     ]
    },
    {
     "name": "stderr",
     "output_type": "stream",
     "text": [
      "Train Epoch: 99 [20480/48625 (42%)]\tLoss: 8.658838\tTrain Prec@1 0.00 (0.01): : 330it [01:16,  4.32it/s]"
     ]
    },
    {
     "name": "stdout",
     "output_type": "stream",
     "text": [
      "\n",
      "\n"
     ]
    },
    {
     "name": "stderr",
     "output_type": "stream",
     "text": [
      "Train Epoch: 99 [21120/48625 (43%)]\tLoss: 8.768329\tTrain Prec@1 0.00 (0.01): : 332it [01:16,  4.32it/s]"
     ]
    },
    {
     "name": "stdout",
     "output_type": "stream",
     "text": [
      "\n",
      "\n"
     ]
    },
    {
     "name": "stderr",
     "output_type": "stream",
     "text": [
      "Train Epoch: 99 [21120/48625 (43%)]\tLoss: 8.768329\tTrain Prec@1 0.00 (0.01): : 334it [01:17,  4.32it/s]"
     ]
    },
    {
     "name": "stdout",
     "output_type": "stream",
     "text": [
      "\n",
      "\n"
     ]
    },
    {
     "name": "stderr",
     "output_type": "stream",
     "text": [
      "Train Epoch: 99 [21120/48625 (43%)]\tLoss: 8.768329\tTrain Prec@1 0.00 (0.01): : 336it [01:17,  4.32it/s]"
     ]
    },
    {
     "name": "stdout",
     "output_type": "stream",
     "text": [
      "\n",
      "\n"
     ]
    },
    {
     "name": "stderr",
     "output_type": "stream",
     "text": [
      "Train Epoch: 99 [21120/48625 (43%)]\tLoss: 8.768329\tTrain Prec@1 0.00 (0.01): : 338it [01:18,  4.32it/s]"
     ]
    },
    {
     "name": "stdout",
     "output_type": "stream",
     "text": [
      "\n",
      "\n"
     ]
    },
    {
     "name": "stderr",
     "output_type": "stream",
     "text": [
      "Train Epoch: 99 [21120/48625 (43%)]\tLoss: 8.768329\tTrain Prec@1 0.00 (0.01): : 340it [01:18,  4.32it/s]"
     ]
    },
    {
     "name": "stdout",
     "output_type": "stream",
     "text": [
      "\n",
      "\n"
     ]
    },
    {
     "name": "stderr",
     "output_type": "stream",
     "text": [
      "Train Epoch: 99 [21760/48625 (45%)]\tLoss: 8.563004\tTrain Prec@1 0.00 (0.01): : 342it [01:19,  4.32it/s]"
     ]
    },
    {
     "name": "stdout",
     "output_type": "stream",
     "text": [
      "\n",
      "\n"
     ]
    },
    {
     "name": "stderr",
     "output_type": "stream",
     "text": [
      "Train Epoch: 99 [21760/48625 (45%)]\tLoss: 8.563004\tTrain Prec@1 0.00 (0.01): : 344it [01:19,  4.33it/s]"
     ]
    },
    {
     "name": "stdout",
     "output_type": "stream",
     "text": [
      "\n",
      "\n"
     ]
    },
    {
     "name": "stderr",
     "output_type": "stream",
     "text": [
      "Train Epoch: 99 [21760/48625 (45%)]\tLoss: 8.563004\tTrain Prec@1 0.00 (0.01): : 346it [01:19,  4.33it/s]"
     ]
    },
    {
     "name": "stdout",
     "output_type": "stream",
     "text": [
      "\n",
      "\n"
     ]
    },
    {
     "name": "stderr",
     "output_type": "stream",
     "text": [
      "Train Epoch: 99 [21760/48625 (45%)]\tLoss: 8.563004\tTrain Prec@1 0.00 (0.01): : 348it [01:20,  4.33it/s]"
     ]
    },
    {
     "name": "stdout",
     "output_type": "stream",
     "text": [
      "\n",
      "\n"
     ]
    },
    {
     "name": "stderr",
     "output_type": "stream",
     "text": [
      "Train Epoch: 99 [21760/48625 (45%)]\tLoss: 8.563004\tTrain Prec@1 0.00 (0.01): : 350it [01:20,  4.33it/s]"
     ]
    },
    {
     "name": "stdout",
     "output_type": "stream",
     "text": [
      "\n",
      "\n"
     ]
    },
    {
     "name": "stderr",
     "output_type": "stream",
     "text": [
      "Train Epoch: 99 [22400/48625 (46%)]\tLoss: 8.676938\tTrain Prec@1 0.00 (0.01): : 352it [01:21,  4.33it/s]"
     ]
    },
    {
     "name": "stdout",
     "output_type": "stream",
     "text": [
      "\n",
      "\n"
     ]
    },
    {
     "name": "stderr",
     "output_type": "stream",
     "text": [
      "Train Epoch: 99 [22400/48625 (46%)]\tLoss: 8.676938\tTrain Prec@1 0.00 (0.01): : 354it [01:21,  4.33it/s]"
     ]
    },
    {
     "name": "stdout",
     "output_type": "stream",
     "text": [
      "\n",
      "\n"
     ]
    },
    {
     "name": "stderr",
     "output_type": "stream",
     "text": [
      "Train Epoch: 99 [22400/48625 (46%)]\tLoss: 8.676938\tTrain Prec@1 0.00 (0.01): : 356it [01:22,  4.33it/s]"
     ]
    },
    {
     "name": "stdout",
     "output_type": "stream",
     "text": [
      "\n",
      "\n"
     ]
    },
    {
     "name": "stderr",
     "output_type": "stream",
     "text": [
      "Train Epoch: 99 [22400/48625 (46%)]\tLoss: 8.676938\tTrain Prec@1 0.00 (0.01): : 358it [01:22,  4.33it/s]"
     ]
    },
    {
     "name": "stdout",
     "output_type": "stream",
     "text": [
      "\n",
      "\n"
     ]
    },
    {
     "name": "stderr",
     "output_type": "stream",
     "text": [
      "Train Epoch: 99 [22400/48625 (46%)]\tLoss: 8.676938\tTrain Prec@1 0.00 (0.01): : 360it [01:23,  4.33it/s]"
     ]
    },
    {
     "name": "stdout",
     "output_type": "stream",
     "text": [
      "\n",
      "\n"
     ]
    },
    {
     "name": "stderr",
     "output_type": "stream",
     "text": [
      "Train Epoch: 99 [23040/48625 (47%)]\tLoss: 8.599462\tTrain Prec@1 0.00 (0.01): : 362it [01:23,  4.33it/s]"
     ]
    },
    {
     "name": "stdout",
     "output_type": "stream",
     "text": [
      "\n",
      "\n"
     ]
    },
    {
     "name": "stderr",
     "output_type": "stream",
     "text": [
      "Train Epoch: 99 [23040/48625 (47%)]\tLoss: 8.599462\tTrain Prec@1 0.00 (0.01): : 364it [01:24,  4.33it/s]"
     ]
    },
    {
     "name": "stdout",
     "output_type": "stream",
     "text": [
      "\n",
      "\n"
     ]
    },
    {
     "name": "stderr",
     "output_type": "stream",
     "text": [
      "Train Epoch: 99 [23040/48625 (47%)]\tLoss: 8.599462\tTrain Prec@1 0.00 (0.01): : 366it [01:24,  4.33it/s]"
     ]
    },
    {
     "name": "stdout",
     "output_type": "stream",
     "text": [
      "\n",
      "\n"
     ]
    },
    {
     "name": "stderr",
     "output_type": "stream",
     "text": [
      "Train Epoch: 99 [23040/48625 (47%)]\tLoss: 8.599462\tTrain Prec@1 0.00 (0.01): : 368it [01:25,  4.33it/s]"
     ]
    },
    {
     "name": "stdout",
     "output_type": "stream",
     "text": [
      "\n",
      "\n"
     ]
    },
    {
     "name": "stderr",
     "output_type": "stream",
     "text": [
      "Train Epoch: 99 [23040/48625 (47%)]\tLoss: 8.599462\tTrain Prec@1 0.00 (0.01): : 370it [01:25,  4.33it/s]"
     ]
    },
    {
     "name": "stdout",
     "output_type": "stream",
     "text": [
      "\n",
      "\n"
     ]
    },
    {
     "name": "stderr",
     "output_type": "stream",
     "text": [
      "Train Epoch: 99 [23680/48625 (49%)]\tLoss: 8.656846\tTrain Prec@1 0.00 (0.01): : 372it [01:25,  4.33it/s]"
     ]
    },
    {
     "name": "stdout",
     "output_type": "stream",
     "text": [
      "\n",
      "\n"
     ]
    },
    {
     "name": "stderr",
     "output_type": "stream",
     "text": [
      "Train Epoch: 99 [23680/48625 (49%)]\tLoss: 8.656846\tTrain Prec@1 0.00 (0.01): : 374it [01:26,  4.33it/s]"
     ]
    },
    {
     "name": "stdout",
     "output_type": "stream",
     "text": [
      "\n",
      "\n"
     ]
    },
    {
     "name": "stderr",
     "output_type": "stream",
     "text": [
      "Train Epoch: 99 [23680/48625 (49%)]\tLoss: 8.656846\tTrain Prec@1 0.00 (0.01): : 376it [01:26,  4.33it/s]"
     ]
    },
    {
     "name": "stdout",
     "output_type": "stream",
     "text": [
      "\n",
      "\n"
     ]
    },
    {
     "name": "stderr",
     "output_type": "stream",
     "text": [
      "Train Epoch: 99 [23680/48625 (49%)]\tLoss: 8.656846\tTrain Prec@1 0.00 (0.01): : 378it [01:27,  4.33it/s]"
     ]
    },
    {
     "name": "stdout",
     "output_type": "stream",
     "text": [
      "\n",
      "\n"
     ]
    },
    {
     "name": "stderr",
     "output_type": "stream",
     "text": [
      "Train Epoch: 99 [23680/48625 (49%)]\tLoss: 8.656846\tTrain Prec@1 0.00 (0.01): : 380it [01:27,  4.33it/s]"
     ]
    },
    {
     "name": "stdout",
     "output_type": "stream",
     "text": [
      "\n",
      "\n"
     ]
    },
    {
     "name": "stderr",
     "output_type": "stream",
     "text": [
      "Train Epoch: 99 [24320/48625 (50%)]\tLoss: 8.592315\tTrain Prec@1 0.00 (0.01): : 382it [01:28,  4.33it/s]"
     ]
    },
    {
     "name": "stdout",
     "output_type": "stream",
     "text": [
      "\n",
      "\n"
     ]
    },
    {
     "name": "stderr",
     "output_type": "stream",
     "text": [
      "Train Epoch: 99 [24320/48625 (50%)]\tLoss: 8.592315\tTrain Prec@1 0.00 (0.01): : 384it [01:28,  4.33it/s]"
     ]
    },
    {
     "name": "stdout",
     "output_type": "stream",
     "text": [
      "\n",
      "\n"
     ]
    },
    {
     "name": "stderr",
     "output_type": "stream",
     "text": [
      "Train Epoch: 99 [24320/48625 (50%)]\tLoss: 8.592315\tTrain Prec@1 0.00 (0.01): : 386it [01:29,  4.33it/s]"
     ]
    },
    {
     "name": "stdout",
     "output_type": "stream",
     "text": [
      "\n",
      "\n"
     ]
    },
    {
     "name": "stderr",
     "output_type": "stream",
     "text": [
      "Train Epoch: 99 [24320/48625 (50%)]\tLoss: 8.592315\tTrain Prec@1 0.00 (0.01): : 388it [01:29,  4.33it/s]"
     ]
    },
    {
     "name": "stdout",
     "output_type": "stream",
     "text": [
      "\n",
      "\n"
     ]
    },
    {
     "name": "stderr",
     "output_type": "stream",
     "text": [
      "Train Epoch: 99 [24320/48625 (50%)]\tLoss: 8.592315\tTrain Prec@1 0.00 (0.01): : 390it [01:30,  4.32it/s]"
     ]
    },
    {
     "name": "stdout",
     "output_type": "stream",
     "text": [
      "\n",
      "\n"
     ]
    },
    {
     "name": "stderr",
     "output_type": "stream",
     "text": [
      "Train Epoch: 99 [24960/48625 (51%)]\tLoss: 8.690635\tTrain Prec@1 0.00 (0.02): : 392it [01:30,  4.32it/s]"
     ]
    },
    {
     "name": "stdout",
     "output_type": "stream",
     "text": [
      "\n",
      "\n"
     ]
    },
    {
     "name": "stderr",
     "output_type": "stream",
     "text": [
      "Train Epoch: 99 [24960/48625 (51%)]\tLoss: 8.690635\tTrain Prec@1 0.00 (0.02): : 394it [01:31,  4.32it/s]"
     ]
    },
    {
     "name": "stdout",
     "output_type": "stream",
     "text": [
      "\n",
      "\n"
     ]
    },
    {
     "name": "stderr",
     "output_type": "stream",
     "text": [
      "Train Epoch: 99 [24960/48625 (51%)]\tLoss: 8.690635\tTrain Prec@1 0.00 (0.02): : 396it [01:31,  4.32it/s]"
     ]
    },
    {
     "name": "stdout",
     "output_type": "stream",
     "text": [
      "\n",
      "\n"
     ]
    },
    {
     "name": "stderr",
     "output_type": "stream",
     "text": [
      "Train Epoch: 99 [24960/48625 (51%)]\tLoss: 8.690635\tTrain Prec@1 0.00 (0.02): : 398it [01:32,  4.32it/s]"
     ]
    },
    {
     "name": "stdout",
     "output_type": "stream",
     "text": [
      "\n",
      "\n"
     ]
    },
    {
     "name": "stderr",
     "output_type": "stream",
     "text": [
      "Train Epoch: 99 [24960/48625 (51%)]\tLoss: 8.690635\tTrain Prec@1 0.00 (0.02): : 400it [01:32,  4.32it/s]"
     ]
    },
    {
     "name": "stdout",
     "output_type": "stream",
     "text": [
      "\n",
      "\n"
     ]
    },
    {
     "name": "stderr",
     "output_type": "stream",
     "text": [
      "Train Epoch: 99 [25600/48625 (53%)]\tLoss: 8.593686\tTrain Prec@1 0.00 (0.02): : 402it [01:33,  4.32it/s]"
     ]
    },
    {
     "name": "stdout",
     "output_type": "stream",
     "text": [
      "\n",
      "\n"
     ]
    },
    {
     "name": "stderr",
     "output_type": "stream",
     "text": [
      "Train Epoch: 99 [25600/48625 (53%)]\tLoss: 8.593686\tTrain Prec@1 0.00 (0.02): : 404it [01:33,  4.32it/s]"
     ]
    },
    {
     "name": "stdout",
     "output_type": "stream",
     "text": [
      "\n",
      "\n"
     ]
    },
    {
     "name": "stderr",
     "output_type": "stream",
     "text": [
      "Train Epoch: 99 [25600/48625 (53%)]\tLoss: 8.593686\tTrain Prec@1 0.00 (0.02): : 406it [01:33,  4.32it/s]"
     ]
    },
    {
     "name": "stdout",
     "output_type": "stream",
     "text": [
      "\n",
      "\n"
     ]
    },
    {
     "name": "stderr",
     "output_type": "stream",
     "text": [
      "Train Epoch: 99 [25600/48625 (53%)]\tLoss: 8.593686\tTrain Prec@1 0.00 (0.02): : 408it [01:34,  4.32it/s]"
     ]
    },
    {
     "name": "stdout",
     "output_type": "stream",
     "text": [
      "\n",
      "\n"
     ]
    },
    {
     "name": "stderr",
     "output_type": "stream",
     "text": [
      "Train Epoch: 99 [25600/48625 (53%)]\tLoss: 8.593686\tTrain Prec@1 0.00 (0.02): : 410it [01:34,  4.32it/s]"
     ]
    },
    {
     "name": "stdout",
     "output_type": "stream",
     "text": [
      "\n",
      "\n"
     ]
    },
    {
     "name": "stderr",
     "output_type": "stream",
     "text": [
      "Train Epoch: 99 [26240/48625 (54%)]\tLoss: 8.489782\tTrain Prec@1 0.00 (0.02): : 412it [01:35,  4.32it/s]"
     ]
    },
    {
     "name": "stdout",
     "output_type": "stream",
     "text": [
      "\n",
      "\n"
     ]
    },
    {
     "name": "stderr",
     "output_type": "stream",
     "text": [
      "Train Epoch: 99 [26240/48625 (54%)]\tLoss: 8.489782\tTrain Prec@1 0.00 (0.02): : 414it [01:35,  4.32it/s]"
     ]
    },
    {
     "name": "stdout",
     "output_type": "stream",
     "text": [
      "\n",
      "\n"
     ]
    },
    {
     "name": "stderr",
     "output_type": "stream",
     "text": [
      "Train Epoch: 99 [26240/48625 (54%)]\tLoss: 8.489782\tTrain Prec@1 0.00 (0.02): : 416it [01:36,  4.32it/s]"
     ]
    },
    {
     "name": "stdout",
     "output_type": "stream",
     "text": [
      "\n",
      "\n"
     ]
    },
    {
     "name": "stderr",
     "output_type": "stream",
     "text": [
      "Train Epoch: 99 [26240/48625 (54%)]\tLoss: 8.489782\tTrain Prec@1 0.00 (0.02): : 418it [01:36,  4.32it/s]"
     ]
    },
    {
     "name": "stdout",
     "output_type": "stream",
     "text": [
      "\n",
      "\n"
     ]
    },
    {
     "name": "stderr",
     "output_type": "stream",
     "text": [
      "Train Epoch: 99 [26240/48625 (54%)]\tLoss: 8.489782\tTrain Prec@1 0.00 (0.02): : 420it [01:37,  4.32it/s]"
     ]
    },
    {
     "name": "stdout",
     "output_type": "stream",
     "text": [
      "\n",
      "\n"
     ]
    },
    {
     "name": "stderr",
     "output_type": "stream",
     "text": [
      "Train Epoch: 99 [26880/48625 (55%)]\tLoss: 8.720713\tTrain Prec@1 0.00 (0.02): : 422it [01:37,  4.32it/s]"
     ]
    },
    {
     "name": "stdout",
     "output_type": "stream",
     "text": [
      "\n",
      "\n"
     ]
    },
    {
     "name": "stderr",
     "output_type": "stream",
     "text": [
      "Train Epoch: 99 [26880/48625 (55%)]\tLoss: 8.720713\tTrain Prec@1 0.00 (0.02): : 424it [01:38,  4.32it/s]"
     ]
    },
    {
     "name": "stdout",
     "output_type": "stream",
     "text": [
      "\n",
      "\n"
     ]
    },
    {
     "name": "stderr",
     "output_type": "stream",
     "text": [
      "Train Epoch: 99 [26880/48625 (55%)]\tLoss: 8.720713\tTrain Prec@1 0.00 (0.02): : 426it [01:38,  4.32it/s]"
     ]
    },
    {
     "name": "stdout",
     "output_type": "stream",
     "text": [
      "\n",
      "\n"
     ]
    },
    {
     "name": "stderr",
     "output_type": "stream",
     "text": [
      "Train Epoch: 99 [26880/48625 (55%)]\tLoss: 8.720713\tTrain Prec@1 0.00 (0.02): : 428it [01:38,  4.33it/s]"
     ]
    },
    {
     "name": "stdout",
     "output_type": "stream",
     "text": [
      "\n",
      "\n"
     ]
    },
    {
     "name": "stderr",
     "output_type": "stream",
     "text": [
      "Train Epoch: 99 [26880/48625 (55%)]\tLoss: 8.720713\tTrain Prec@1 0.00 (0.02): : 430it [01:39,  4.33it/s]"
     ]
    },
    {
     "name": "stdout",
     "output_type": "stream",
     "text": [
      "\n",
      "\n"
     ]
    },
    {
     "name": "stderr",
     "output_type": "stream",
     "text": [
      "Train Epoch: 99 [27520/48625 (57%)]\tLoss: 8.697679\tTrain Prec@1 0.00 (0.02): : 432it [01:39,  4.33it/s]"
     ]
    },
    {
     "name": "stdout",
     "output_type": "stream",
     "text": [
      "\n",
      "\n"
     ]
    },
    {
     "name": "stderr",
     "output_type": "stream",
     "text": [
      "Train Epoch: 99 [27520/48625 (57%)]\tLoss: 8.697679\tTrain Prec@1 0.00 (0.02): : 434it [01:40,  4.33it/s]"
     ]
    },
    {
     "name": "stdout",
     "output_type": "stream",
     "text": [
      "\n",
      "\n"
     ]
    },
    {
     "name": "stderr",
     "output_type": "stream",
     "text": [
      "Train Epoch: 99 [27520/48625 (57%)]\tLoss: 8.697679\tTrain Prec@1 0.00 (0.02): : 436it [01:40,  4.33it/s]"
     ]
    },
    {
     "name": "stdout",
     "output_type": "stream",
     "text": [
      "\n",
      "\n"
     ]
    },
    {
     "name": "stderr",
     "output_type": "stream",
     "text": [
      "Train Epoch: 99 [27520/48625 (57%)]\tLoss: 8.697679\tTrain Prec@1 0.00 (0.02): : 438it [01:41,  4.33it/s]"
     ]
    },
    {
     "name": "stdout",
     "output_type": "stream",
     "text": [
      "\n",
      "\n"
     ]
    },
    {
     "name": "stderr",
     "output_type": "stream",
     "text": [
      "Train Epoch: 99 [27520/48625 (57%)]\tLoss: 8.697679\tTrain Prec@1 0.00 (0.02): : 440it [01:41,  4.33it/s]"
     ]
    },
    {
     "name": "stdout",
     "output_type": "stream",
     "text": [
      "\n",
      "\n"
     ]
    },
    {
     "name": "stderr",
     "output_type": "stream",
     "text": [
      "Train Epoch: 99 [28160/48625 (58%)]\tLoss: 8.587224\tTrain Prec@1 0.00 (0.02): : 442it [01:42,  4.33it/s]"
     ]
    },
    {
     "name": "stdout",
     "output_type": "stream",
     "text": [
      "\n",
      "\n"
     ]
    },
    {
     "name": "stderr",
     "output_type": "stream",
     "text": [
      "Train Epoch: 99 [28160/48625 (58%)]\tLoss: 8.587224\tTrain Prec@1 0.00 (0.02): : 444it [01:42,  4.33it/s]"
     ]
    },
    {
     "name": "stdout",
     "output_type": "stream",
     "text": [
      "\n",
      "\n"
     ]
    },
    {
     "name": "stderr",
     "output_type": "stream",
     "text": [
      "Train Epoch: 99 [28160/48625 (58%)]\tLoss: 8.587224\tTrain Prec@1 0.00 (0.02): : 446it [01:43,  4.33it/s]"
     ]
    },
    {
     "name": "stdout",
     "output_type": "stream",
     "text": [
      "\n",
      "\n"
     ]
    },
    {
     "name": "stderr",
     "output_type": "stream",
     "text": [
      "Train Epoch: 99 [28160/48625 (58%)]\tLoss: 8.587224\tTrain Prec@1 0.00 (0.02): : 448it [01:43,  4.33it/s]"
     ]
    },
    {
     "name": "stdout",
     "output_type": "stream",
     "text": [
      "\n",
      "\n"
     ]
    },
    {
     "name": "stderr",
     "output_type": "stream",
     "text": [
      "Train Epoch: 99 [28160/48625 (58%)]\tLoss: 8.587224\tTrain Prec@1 0.00 (0.02): : 450it [01:43,  4.33it/s]"
     ]
    },
    {
     "name": "stdout",
     "output_type": "stream",
     "text": [
      "\n",
      "\n"
     ]
    },
    {
     "name": "stderr",
     "output_type": "stream",
     "text": [
      "Train Epoch: 99 [28800/48625 (59%)]\tLoss: 8.550878\tTrain Prec@1 0.00 (0.02): : 452it [01:44,  4.33it/s]"
     ]
    },
    {
     "name": "stdout",
     "output_type": "stream",
     "text": [
      "\n",
      "\n"
     ]
    },
    {
     "name": "stderr",
     "output_type": "stream",
     "text": [
      "Train Epoch: 99 [28800/48625 (59%)]\tLoss: 8.550878\tTrain Prec@1 0.00 (0.02): : 454it [01:44,  4.33it/s]"
     ]
    },
    {
     "name": "stdout",
     "output_type": "stream",
     "text": [
      "\n",
      "\n"
     ]
    },
    {
     "name": "stderr",
     "output_type": "stream",
     "text": [
      "Train Epoch: 99 [28800/48625 (59%)]\tLoss: 8.550878\tTrain Prec@1 0.00 (0.02): : 456it [01:45,  4.33it/s]"
     ]
    },
    {
     "name": "stdout",
     "output_type": "stream",
     "text": [
      "\n",
      "\n"
     ]
    },
    {
     "name": "stderr",
     "output_type": "stream",
     "text": [
      "Train Epoch: 99 [28800/48625 (59%)]\tLoss: 8.550878\tTrain Prec@1 0.00 (0.02): : 458it [01:45,  4.33it/s]"
     ]
    },
    {
     "name": "stdout",
     "output_type": "stream",
     "text": [
      "\n",
      "\n"
     ]
    },
    {
     "name": "stderr",
     "output_type": "stream",
     "text": [
      "Train Epoch: 99 [28800/48625 (59%)]\tLoss: 8.550878\tTrain Prec@1 0.00 (0.02): : 460it [01:46,  4.33it/s]"
     ]
    },
    {
     "name": "stdout",
     "output_type": "stream",
     "text": [
      "\n",
      "\n"
     ]
    },
    {
     "name": "stderr",
     "output_type": "stream",
     "text": [
      "Train Epoch: 99 [29440/48625 (61%)]\tLoss: 8.492089\tTrain Prec@1 0.00 (0.02): : 462it [01:46,  4.33it/s]"
     ]
    },
    {
     "name": "stdout",
     "output_type": "stream",
     "text": [
      "\n",
      "\n"
     ]
    },
    {
     "name": "stderr",
     "output_type": "stream",
     "text": [
      "Train Epoch: 99 [29440/48625 (61%)]\tLoss: 8.492089\tTrain Prec@1 0.00 (0.02): : 464it [01:47,  4.33it/s]"
     ]
    },
    {
     "name": "stdout",
     "output_type": "stream",
     "text": [
      "\n",
      "\n"
     ]
    },
    {
     "name": "stderr",
     "output_type": "stream",
     "text": [
      "Train Epoch: 99 [29440/48625 (61%)]\tLoss: 8.492089\tTrain Prec@1 0.00 (0.02): : 466it [01:47,  4.33it/s]"
     ]
    },
    {
     "name": "stdout",
     "output_type": "stream",
     "text": [
      "\n",
      "\n"
     ]
    },
    {
     "name": "stderr",
     "output_type": "stream",
     "text": [
      "Train Epoch: 99 [29440/48625 (61%)]\tLoss: 8.492089\tTrain Prec@1 0.00 (0.02): : 468it [01:48,  4.33it/s]"
     ]
    },
    {
     "name": "stdout",
     "output_type": "stream",
     "text": [
      "\n",
      "\n"
     ]
    },
    {
     "name": "stderr",
     "output_type": "stream",
     "text": [
      "Train Epoch: 99 [29440/48625 (61%)]\tLoss: 8.492089\tTrain Prec@1 0.00 (0.02): : 470it [01:48,  4.33it/s]"
     ]
    },
    {
     "name": "stdout",
     "output_type": "stream",
     "text": [
      "\n",
      "\n"
     ]
    },
    {
     "name": "stderr",
     "output_type": "stream",
     "text": [
      "Train Epoch: 99 [30080/48625 (62%)]\tLoss: 8.536726\tTrain Prec@1 0.00 (0.02): : 472it [01:48,  4.33it/s]"
     ]
    },
    {
     "name": "stdout",
     "output_type": "stream",
     "text": [
      "\n",
      "\n"
     ]
    },
    {
     "name": "stderr",
     "output_type": "stream",
     "text": [
      "Train Epoch: 99 [30080/48625 (62%)]\tLoss: 8.536726\tTrain Prec@1 0.00 (0.02): : 474it [01:49,  4.34it/s]"
     ]
    },
    {
     "name": "stdout",
     "output_type": "stream",
     "text": [
      "\n",
      "\n"
     ]
    },
    {
     "name": "stderr",
     "output_type": "stream",
     "text": [
      "Train Epoch: 99 [30080/48625 (62%)]\tLoss: 8.536726\tTrain Prec@1 0.00 (0.02): : 476it [01:49,  4.34it/s]"
     ]
    },
    {
     "name": "stdout",
     "output_type": "stream",
     "text": [
      "\n",
      "\n"
     ]
    },
    {
     "name": "stderr",
     "output_type": "stream",
     "text": [
      "Train Epoch: 99 [30080/48625 (62%)]\tLoss: 8.536726\tTrain Prec@1 0.00 (0.02): : 478it [01:50,  4.34it/s]"
     ]
    },
    {
     "name": "stdout",
     "output_type": "stream",
     "text": [
      "\n",
      "\n"
     ]
    },
    {
     "name": "stderr",
     "output_type": "stream",
     "text": [
      "Train Epoch: 99 [30080/48625 (62%)]\tLoss: 8.536726\tTrain Prec@1 0.00 (0.02): : 480it [01:50,  4.34it/s]"
     ]
    },
    {
     "name": "stdout",
     "output_type": "stream",
     "text": [
      "\n",
      "\n"
     ]
    },
    {
     "name": "stderr",
     "output_type": "stream",
     "text": [
      "Train Epoch: 99 [30720/48625 (63%)]\tLoss: 8.414640\tTrain Prec@1 0.00 (0.03): : 482it [01:51,  4.34it/s]"
     ]
    },
    {
     "name": "stdout",
     "output_type": "stream",
     "text": [
      "\n",
      "\n"
     ]
    },
    {
     "name": "stderr",
     "output_type": "stream",
     "text": [
      "Train Epoch: 99 [30720/48625 (63%)]\tLoss: 8.414640\tTrain Prec@1 0.00 (0.03): : 484it [01:51,  4.34it/s]"
     ]
    },
    {
     "name": "stdout",
     "output_type": "stream",
     "text": [
      "\n",
      "\n"
     ]
    },
    {
     "name": "stderr",
     "output_type": "stream",
     "text": [
      "Train Epoch: 99 [30720/48625 (63%)]\tLoss: 8.414640\tTrain Prec@1 0.00 (0.03): : 486it [01:52,  4.34it/s]"
     ]
    },
    {
     "name": "stdout",
     "output_type": "stream",
     "text": [
      "\n",
      "\n"
     ]
    },
    {
     "name": "stderr",
     "output_type": "stream",
     "text": [
      "Train Epoch: 99 [30720/48625 (63%)]\tLoss: 8.414640\tTrain Prec@1 0.00 (0.03): : 488it [01:52,  4.34it/s]"
     ]
    },
    {
     "name": "stdout",
     "output_type": "stream",
     "text": [
      "\n",
      "\n"
     ]
    },
    {
     "name": "stderr",
     "output_type": "stream",
     "text": [
      "Train Epoch: 99 [30720/48625 (63%)]\tLoss: 8.414640\tTrain Prec@1 0.00 (0.03): : 490it [01:52,  4.34it/s]"
     ]
    },
    {
     "name": "stdout",
     "output_type": "stream",
     "text": [
      "\n",
      "\n"
     ]
    },
    {
     "name": "stderr",
     "output_type": "stream",
     "text": [
      "Train Epoch: 99 [31360/48625 (64%)]\tLoss: 8.469184\tTrain Prec@1 0.00 (0.03): : 492it [01:53,  4.34it/s]"
     ]
    },
    {
     "name": "stdout",
     "output_type": "stream",
     "text": [
      "\n",
      "\n"
     ]
    },
    {
     "name": "stderr",
     "output_type": "stream",
     "text": [
      "Train Epoch: 99 [31360/48625 (64%)]\tLoss: 8.469184\tTrain Prec@1 0.00 (0.03): : 494it [01:53,  4.34it/s]"
     ]
    },
    {
     "name": "stdout",
     "output_type": "stream",
     "text": [
      "\n",
      "\n"
     ]
    },
    {
     "name": "stderr",
     "output_type": "stream",
     "text": [
      "Train Epoch: 99 [31360/48625 (64%)]\tLoss: 8.469184\tTrain Prec@1 0.00 (0.03): : 496it [01:54,  4.34it/s]"
     ]
    },
    {
     "name": "stdout",
     "output_type": "stream",
     "text": [
      "\n",
      "\n"
     ]
    },
    {
     "name": "stderr",
     "output_type": "stream",
     "text": [
      "Train Epoch: 99 [31360/48625 (64%)]\tLoss: 8.469184\tTrain Prec@1 0.00 (0.03): : 498it [01:54,  4.34it/s]"
     ]
    },
    {
     "name": "stdout",
     "output_type": "stream",
     "text": [
      "\n",
      "\n"
     ]
    },
    {
     "name": "stderr",
     "output_type": "stream",
     "text": [
      "Train Epoch: 99 [31360/48625 (64%)]\tLoss: 8.469184\tTrain Prec@1 0.00 (0.03): : 500it [01:55,  4.34it/s]"
     ]
    },
    {
     "name": "stdout",
     "output_type": "stream",
     "text": [
      "\n",
      "\n"
     ]
    },
    {
     "name": "stderr",
     "output_type": "stream",
     "text": [
      "Train Epoch: 99 [32000/48625 (66%)]\tLoss: 8.455829\tTrain Prec@1 0.00 (0.02): : 502it [01:55,  4.34it/s]"
     ]
    },
    {
     "name": "stdout",
     "output_type": "stream",
     "text": [
      "\n",
      "\n"
     ]
    },
    {
     "name": "stderr",
     "output_type": "stream",
     "text": [
      "Train Epoch: 99 [32000/48625 (66%)]\tLoss: 8.455829\tTrain Prec@1 0.00 (0.02): : 504it [01:56,  4.34it/s]"
     ]
    },
    {
     "name": "stdout",
     "output_type": "stream",
     "text": [
      "\n",
      "\n"
     ]
    },
    {
     "name": "stderr",
     "output_type": "stream",
     "text": [
      "Train Epoch: 99 [32000/48625 (66%)]\tLoss: 8.455829\tTrain Prec@1 0.00 (0.02): : 506it [01:56,  4.34it/s]"
     ]
    },
    {
     "name": "stdout",
     "output_type": "stream",
     "text": [
      "\n",
      "\n"
     ]
    },
    {
     "name": "stderr",
     "output_type": "stream",
     "text": [
      "Train Epoch: 99 [32000/48625 (66%)]\tLoss: 8.455829\tTrain Prec@1 0.00 (0.02): : 508it [01:57,  4.34it/s]"
     ]
    },
    {
     "name": "stdout",
     "output_type": "stream",
     "text": [
      "\n",
      "\n"
     ]
    },
    {
     "name": "stderr",
     "output_type": "stream",
     "text": [
      "Train Epoch: 99 [32000/48625 (66%)]\tLoss: 8.455829\tTrain Prec@1 0.00 (0.02): : 510it [01:57,  4.34it/s]"
     ]
    },
    {
     "name": "stdout",
     "output_type": "stream",
     "text": [
      "\n",
      "\n"
     ]
    },
    {
     "name": "stderr",
     "output_type": "stream",
     "text": [
      "Train Epoch: 99 [32640/48625 (67%)]\tLoss: 8.402878\tTrain Prec@1 0.00 (0.02): : 512it [01:57,  4.34it/s]"
     ]
    },
    {
     "name": "stdout",
     "output_type": "stream",
     "text": [
      "\n",
      "\n"
     ]
    },
    {
     "name": "stderr",
     "output_type": "stream",
     "text": [
      "Train Epoch: 99 [32640/48625 (67%)]\tLoss: 8.402878\tTrain Prec@1 0.00 (0.02): : 514it [01:58,  4.34it/s]"
     ]
    },
    {
     "name": "stdout",
     "output_type": "stream",
     "text": [
      "\n",
      "\n"
     ]
    },
    {
     "name": "stderr",
     "output_type": "stream",
     "text": [
      "Train Epoch: 99 [32640/48625 (67%)]\tLoss: 8.402878\tTrain Prec@1 0.00 (0.02): : 516it [01:58,  4.34it/s]"
     ]
    },
    {
     "name": "stdout",
     "output_type": "stream",
     "text": [
      "\n",
      "\n"
     ]
    },
    {
     "name": "stderr",
     "output_type": "stream",
     "text": [
      "Train Epoch: 99 [32640/48625 (67%)]\tLoss: 8.402878\tTrain Prec@1 0.00 (0.02): : 518it [01:59,  4.34it/s]"
     ]
    },
    {
     "name": "stdout",
     "output_type": "stream",
     "text": [
      "\n",
      "\n"
     ]
    },
    {
     "name": "stderr",
     "output_type": "stream",
     "text": [
      "Train Epoch: 99 [32640/48625 (67%)]\tLoss: 8.402878\tTrain Prec@1 0.00 (0.02): : 520it [01:59,  4.34it/s]"
     ]
    },
    {
     "name": "stdout",
     "output_type": "stream",
     "text": [
      "\n",
      "\n"
     ]
    },
    {
     "name": "stderr",
     "output_type": "stream",
     "text": [
      "Train Epoch: 99 [33280/48625 (68%)]\tLoss: 8.567656\tTrain Prec@1 0.00 (0.02): : 522it [02:00,  4.34it/s]"
     ]
    },
    {
     "name": "stdout",
     "output_type": "stream",
     "text": [
      "\n",
      "\n"
     ]
    },
    {
     "name": "stderr",
     "output_type": "stream",
     "text": [
      "Train Epoch: 99 [33280/48625 (68%)]\tLoss: 8.567656\tTrain Prec@1 0.00 (0.02): : 524it [02:00,  4.34it/s]"
     ]
    },
    {
     "name": "stdout",
     "output_type": "stream",
     "text": [
      "\n",
      "\n"
     ]
    },
    {
     "name": "stderr",
     "output_type": "stream",
     "text": [
      "Train Epoch: 99 [33280/48625 (68%)]\tLoss: 8.567656\tTrain Prec@1 0.00 (0.02): : 526it [02:01,  4.34it/s]"
     ]
    },
    {
     "name": "stdout",
     "output_type": "stream",
     "text": [
      "\n",
      "\n"
     ]
    },
    {
     "name": "stderr",
     "output_type": "stream",
     "text": [
      "Train Epoch: 99 [33280/48625 (68%)]\tLoss: 8.567656\tTrain Prec@1 0.00 (0.02): : 528it [02:01,  4.34it/s]"
     ]
    },
    {
     "name": "stdout",
     "output_type": "stream",
     "text": [
      "\n",
      "\n"
     ]
    },
    {
     "name": "stderr",
     "output_type": "stream",
     "text": [
      "Train Epoch: 99 [33280/48625 (68%)]\tLoss: 8.567656\tTrain Prec@1 0.00 (0.02): : 530it [02:02,  4.34it/s]"
     ]
    },
    {
     "name": "stdout",
     "output_type": "stream",
     "text": [
      "\n",
      "\n"
     ]
    },
    {
     "name": "stderr",
     "output_type": "stream",
     "text": [
      "Train Epoch: 99 [33920/48625 (70%)]\tLoss: 8.519252\tTrain Prec@1 0.00 (0.02): : 532it [02:02,  4.34it/s]"
     ]
    },
    {
     "name": "stdout",
     "output_type": "stream",
     "text": [
      "\n",
      "\n"
     ]
    },
    {
     "name": "stderr",
     "output_type": "stream",
     "text": [
      "Train Epoch: 99 [33920/48625 (70%)]\tLoss: 8.519252\tTrain Prec@1 0.00 (0.02): : 534it [02:02,  4.34it/s]"
     ]
    },
    {
     "name": "stdout",
     "output_type": "stream",
     "text": [
      "\n",
      "\n"
     ]
    },
    {
     "name": "stderr",
     "output_type": "stream",
     "text": [
      "Train Epoch: 99 [33920/48625 (70%)]\tLoss: 8.519252\tTrain Prec@1 0.00 (0.02): : 536it [02:03,  4.34it/s]"
     ]
    },
    {
     "name": "stdout",
     "output_type": "stream",
     "text": [
      "\n",
      "\n"
     ]
    },
    {
     "name": "stderr",
     "output_type": "stream",
     "text": [
      "Train Epoch: 99 [33920/48625 (70%)]\tLoss: 8.519252\tTrain Prec@1 0.00 (0.02): : 538it [02:03,  4.34it/s]"
     ]
    },
    {
     "name": "stdout",
     "output_type": "stream",
     "text": [
      "\n",
      "\n"
     ]
    },
    {
     "name": "stderr",
     "output_type": "stream",
     "text": [
      "Train Epoch: 99 [33920/48625 (70%)]\tLoss: 8.519252\tTrain Prec@1 0.00 (0.02): : 540it [02:04,  4.34it/s]"
     ]
    },
    {
     "name": "stdout",
     "output_type": "stream",
     "text": [
      "\n",
      "\n"
     ]
    },
    {
     "name": "stderr",
     "output_type": "stream",
     "text": [
      "Train Epoch: 99 [34560/48625 (71%)]\tLoss: 8.584763\tTrain Prec@1 0.00 (0.02): : 542it [02:04,  4.34it/s]"
     ]
    },
    {
     "name": "stdout",
     "output_type": "stream",
     "text": [
      "\n",
      "\n"
     ]
    },
    {
     "name": "stderr",
     "output_type": "stream",
     "text": [
      "Train Epoch: 99 [34560/48625 (71%)]\tLoss: 8.584763\tTrain Prec@1 0.00 (0.02): : 544it [02:05,  4.34it/s]"
     ]
    },
    {
     "name": "stdout",
     "output_type": "stream",
     "text": [
      "\n",
      "\n"
     ]
    },
    {
     "name": "stderr",
     "output_type": "stream",
     "text": [
      "Train Epoch: 99 [34560/48625 (71%)]\tLoss: 8.584763\tTrain Prec@1 0.00 (0.02): : 546it [02:05,  4.34it/s]"
     ]
    },
    {
     "name": "stdout",
     "output_type": "stream",
     "text": [
      "\n",
      "\n"
     ]
    },
    {
     "name": "stderr",
     "output_type": "stream",
     "text": [
      "Train Epoch: 99 [34560/48625 (71%)]\tLoss: 8.584763\tTrain Prec@1 0.00 (0.02): : 548it [02:06,  4.34it/s]"
     ]
    },
    {
     "name": "stdout",
     "output_type": "stream",
     "text": [
      "\n",
      "\n"
     ]
    },
    {
     "name": "stderr",
     "output_type": "stream",
     "text": [
      "Train Epoch: 99 [34560/48625 (71%)]\tLoss: 8.584763\tTrain Prec@1 0.00 (0.02): : 550it [02:06,  4.34it/s]"
     ]
    },
    {
     "name": "stdout",
     "output_type": "stream",
     "text": [
      "\n",
      "\n"
     ]
    },
    {
     "name": "stderr",
     "output_type": "stream",
     "text": [
      "Train Epoch: 99 [35200/48625 (72%)]\tLoss: 8.512672\tTrain Prec@1 1.56 (0.03): : 552it [02:07,  4.34it/s]"
     ]
    },
    {
     "name": "stdout",
     "output_type": "stream",
     "text": [
      "\n",
      "\n"
     ]
    },
    {
     "name": "stderr",
     "output_type": "stream",
     "text": [
      "Train Epoch: 99 [35200/48625 (72%)]\tLoss: 8.512672\tTrain Prec@1 1.56 (0.03): : 554it [02:07,  4.34it/s]"
     ]
    },
    {
     "name": "stdout",
     "output_type": "stream",
     "text": [
      "\n",
      "\n"
     ]
    },
    {
     "name": "stderr",
     "output_type": "stream",
     "text": [
      "Train Epoch: 99 [35200/48625 (72%)]\tLoss: 8.512672\tTrain Prec@1 1.56 (0.03): : 556it [02:08,  4.34it/s]"
     ]
    },
    {
     "name": "stdout",
     "output_type": "stream",
     "text": [
      "\n",
      "\n"
     ]
    },
    {
     "name": "stderr",
     "output_type": "stream",
     "text": [
      "Train Epoch: 99 [35200/48625 (72%)]\tLoss: 8.512672\tTrain Prec@1 1.56 (0.03): : 558it [02:08,  4.34it/s]"
     ]
    },
    {
     "name": "stdout",
     "output_type": "stream",
     "text": [
      "\n",
      "\n"
     ]
    },
    {
     "name": "stderr",
     "output_type": "stream",
     "text": [
      "Train Epoch: 99 [35200/48625 (72%)]\tLoss: 8.512672\tTrain Prec@1 1.56 (0.03): : 560it [02:08,  4.34it/s]"
     ]
    },
    {
     "name": "stdout",
     "output_type": "stream",
     "text": [
      "\n",
      "\n"
     ]
    },
    {
     "name": "stderr",
     "output_type": "stream",
     "text": [
      "Train Epoch: 99 [35840/48625 (74%)]\tLoss: 8.472451\tTrain Prec@1 0.00 (0.03): : 562it [02:09,  4.34it/s]"
     ]
    },
    {
     "name": "stdout",
     "output_type": "stream",
     "text": [
      "\n",
      "\n"
     ]
    },
    {
     "name": "stderr",
     "output_type": "stream",
     "text": [
      "Train Epoch: 99 [35840/48625 (74%)]\tLoss: 8.472451\tTrain Prec@1 0.00 (0.03): : 564it [02:09,  4.34it/s]"
     ]
    },
    {
     "name": "stdout",
     "output_type": "stream",
     "text": [
      "\n",
      "\n"
     ]
    },
    {
     "name": "stderr",
     "output_type": "stream",
     "text": [
      "Train Epoch: 99 [35840/48625 (74%)]\tLoss: 8.472451\tTrain Prec@1 0.00 (0.03): : 566it [02:10,  4.34it/s]"
     ]
    },
    {
     "name": "stdout",
     "output_type": "stream",
     "text": [
      "\n",
      "\n"
     ]
    },
    {
     "name": "stderr",
     "output_type": "stream",
     "text": [
      "Train Epoch: 99 [35840/48625 (74%)]\tLoss: 8.472451\tTrain Prec@1 0.00 (0.03): : 568it [02:10,  4.34it/s]"
     ]
    },
    {
     "name": "stdout",
     "output_type": "stream",
     "text": [
      "\n",
      "\n"
     ]
    },
    {
     "name": "stderr",
     "output_type": "stream",
     "text": [
      "Train Epoch: 99 [35840/48625 (74%)]\tLoss: 8.472451\tTrain Prec@1 0.00 (0.03): : 570it [02:11,  4.34it/s]"
     ]
    },
    {
     "name": "stdout",
     "output_type": "stream",
     "text": [
      "\n",
      "\n"
     ]
    },
    {
     "name": "stderr",
     "output_type": "stream",
     "text": [
      "Train Epoch: 99 [36480/48625 (75%)]\tLoss: 8.610916\tTrain Prec@1 0.00 (0.02): : 572it [02:11,  4.34it/s]"
     ]
    },
    {
     "name": "stdout",
     "output_type": "stream",
     "text": [
      "\n",
      "\n"
     ]
    },
    {
     "name": "stderr",
     "output_type": "stream",
     "text": [
      "Train Epoch: 99 [36480/48625 (75%)]\tLoss: 8.610916\tTrain Prec@1 0.00 (0.02): : 574it [02:12,  4.34it/s]"
     ]
    },
    {
     "name": "stdout",
     "output_type": "stream",
     "text": [
      "\n",
      "\n"
     ]
    },
    {
     "name": "stderr",
     "output_type": "stream",
     "text": [
      "Train Epoch: 99 [36480/48625 (75%)]\tLoss: 8.610916\tTrain Prec@1 0.00 (0.02): : 576it [02:12,  4.34it/s]"
     ]
    },
    {
     "name": "stdout",
     "output_type": "stream",
     "text": [
      "\n",
      "\n"
     ]
    },
    {
     "name": "stderr",
     "output_type": "stream",
     "text": [
      "Train Epoch: 99 [36480/48625 (75%)]\tLoss: 8.610916\tTrain Prec@1 0.00 (0.02): : 578it [02:13,  4.34it/s]"
     ]
    },
    {
     "name": "stdout",
     "output_type": "stream",
     "text": [
      "\n",
      "\n"
     ]
    },
    {
     "name": "stderr",
     "output_type": "stream",
     "text": [
      "Train Epoch: 99 [36480/48625 (75%)]\tLoss: 8.610916\tTrain Prec@1 0.00 (0.02): : 580it [02:13,  4.34it/s]"
     ]
    },
    {
     "name": "stdout",
     "output_type": "stream",
     "text": [
      "\n",
      "\n"
     ]
    },
    {
     "name": "stderr",
     "output_type": "stream",
     "text": [
      "Train Epoch: 99 [37120/48625 (76%)]\tLoss: 8.494742\tTrain Prec@1 0.00 (0.03): : 582it [02:14,  4.34it/s]"
     ]
    },
    {
     "name": "stdout",
     "output_type": "stream",
     "text": [
      "\n",
      "\n"
     ]
    },
    {
     "name": "stderr",
     "output_type": "stream",
     "text": [
      "Train Epoch: 99 [37120/48625 (76%)]\tLoss: 8.494742\tTrain Prec@1 0.00 (0.03): : 584it [02:14,  4.34it/s]"
     ]
    },
    {
     "name": "stdout",
     "output_type": "stream",
     "text": [
      "\n",
      "\n"
     ]
    },
    {
     "name": "stderr",
     "output_type": "stream",
     "text": [
      "Train Epoch: 99 [37120/48625 (76%)]\tLoss: 8.494742\tTrain Prec@1 0.00 (0.03): : 586it [02:15,  4.34it/s]"
     ]
    },
    {
     "name": "stdout",
     "output_type": "stream",
     "text": [
      "\n",
      "\n"
     ]
    },
    {
     "name": "stderr",
     "output_type": "stream",
     "text": [
      "Train Epoch: 99 [37120/48625 (76%)]\tLoss: 8.494742\tTrain Prec@1 0.00 (0.03): : 588it [02:15,  4.34it/s]"
     ]
    },
    {
     "name": "stdout",
     "output_type": "stream",
     "text": [
      "\n",
      "\n"
     ]
    },
    {
     "name": "stderr",
     "output_type": "stream",
     "text": [
      "Train Epoch: 99 [37120/48625 (76%)]\tLoss: 8.494742\tTrain Prec@1 0.00 (0.03): : 590it [02:15,  4.34it/s]"
     ]
    },
    {
     "name": "stdout",
     "output_type": "stream",
     "text": [
      "\n",
      "\n"
     ]
    },
    {
     "name": "stderr",
     "output_type": "stream",
     "text": [
      "Train Epoch: 99 [37760/48625 (78%)]\tLoss: 8.444979\tTrain Prec@1 0.00 (0.03): : 592it [02:16,  4.34it/s]"
     ]
    },
    {
     "name": "stdout",
     "output_type": "stream",
     "text": [
      "\n",
      "\n"
     ]
    },
    {
     "name": "stderr",
     "output_type": "stream",
     "text": [
      "Train Epoch: 99 [37760/48625 (78%)]\tLoss: 8.444979\tTrain Prec@1 0.00 (0.03): : 594it [02:16,  4.34it/s]"
     ]
    },
    {
     "name": "stdout",
     "output_type": "stream",
     "text": [
      "\n",
      "\n"
     ]
    },
    {
     "name": "stderr",
     "output_type": "stream",
     "text": [
      "Train Epoch: 99 [37760/48625 (78%)]\tLoss: 8.444979\tTrain Prec@1 0.00 (0.03): : 596it [02:17,  4.34it/s]"
     ]
    },
    {
     "name": "stdout",
     "output_type": "stream",
     "text": [
      "\n",
      "\n"
     ]
    },
    {
     "name": "stderr",
     "output_type": "stream",
     "text": [
      "Train Epoch: 99 [37760/48625 (78%)]\tLoss: 8.444979\tTrain Prec@1 0.00 (0.03): : 598it [02:17,  4.34it/s]"
     ]
    },
    {
     "name": "stdout",
     "output_type": "stream",
     "text": [
      "\n",
      "\n"
     ]
    },
    {
     "name": "stderr",
     "output_type": "stream",
     "text": [
      "Train Epoch: 99 [37760/48625 (78%)]\tLoss: 8.444979\tTrain Prec@1 0.00 (0.03): : 600it [02:18,  4.34it/s]"
     ]
    },
    {
     "name": "stdout",
     "output_type": "stream",
     "text": [
      "\n",
      "\n"
     ]
    },
    {
     "name": "stderr",
     "output_type": "stream",
     "text": [
      "Train Epoch: 99 [38400/48625 (79%)]\tLoss: 8.391048\tTrain Prec@1 1.56 (0.04): : 602it [02:18,  4.34it/s]"
     ]
    },
    {
     "name": "stdout",
     "output_type": "stream",
     "text": [
      "\n",
      "\n"
     ]
    },
    {
     "name": "stderr",
     "output_type": "stream",
     "text": [
      "Train Epoch: 99 [38400/48625 (79%)]\tLoss: 8.391048\tTrain Prec@1 1.56 (0.04): : 604it [02:19,  4.34it/s]"
     ]
    },
    {
     "name": "stdout",
     "output_type": "stream",
     "text": [
      "\n",
      "\n"
     ]
    },
    {
     "name": "stderr",
     "output_type": "stream",
     "text": [
      "Train Epoch: 99 [38400/48625 (79%)]\tLoss: 8.391048\tTrain Prec@1 1.56 (0.04): : 606it [02:19,  4.34it/s]"
     ]
    },
    {
     "name": "stdout",
     "output_type": "stream",
     "text": [
      "\n",
      "\n"
     ]
    },
    {
     "name": "stderr",
     "output_type": "stream",
     "text": [
      "Train Epoch: 99 [38400/48625 (79%)]\tLoss: 8.391048\tTrain Prec@1 1.56 (0.04): : 608it [02:20,  4.34it/s]"
     ]
    },
    {
     "name": "stdout",
     "output_type": "stream",
     "text": [
      "\n",
      "\n"
     ]
    },
    {
     "name": "stderr",
     "output_type": "stream",
     "text": [
      "Train Epoch: 99 [38400/48625 (79%)]\tLoss: 8.391048\tTrain Prec@1 1.56 (0.04): : 610it [02:20,  4.34it/s]"
     ]
    },
    {
     "name": "stdout",
     "output_type": "stream",
     "text": [
      "\n",
      "\n"
     ]
    },
    {
     "name": "stderr",
     "output_type": "stream",
     "text": [
      "Train Epoch: 99 [39040/48625 (80%)]\tLoss: 8.363871\tTrain Prec@1 0.00 (0.04): : 612it [02:20,  4.34it/s]"
     ]
    },
    {
     "name": "stdout",
     "output_type": "stream",
     "text": [
      "\n",
      "\n"
     ]
    },
    {
     "name": "stderr",
     "output_type": "stream",
     "text": [
      "Train Epoch: 99 [39040/48625 (80%)]\tLoss: 8.363871\tTrain Prec@1 0.00 (0.04): : 614it [02:21,  4.34it/s]"
     ]
    },
    {
     "name": "stdout",
     "output_type": "stream",
     "text": [
      "\n",
      "\n"
     ]
    },
    {
     "name": "stderr",
     "output_type": "stream",
     "text": [
      "Train Epoch: 99 [39040/48625 (80%)]\tLoss: 8.363871\tTrain Prec@1 0.00 (0.04): : 616it [02:21,  4.34it/s]"
     ]
    },
    {
     "name": "stdout",
     "output_type": "stream",
     "text": [
      "\n",
      "\n"
     ]
    },
    {
     "name": "stderr",
     "output_type": "stream",
     "text": [
      "Train Epoch: 99 [39040/48625 (80%)]\tLoss: 8.363871\tTrain Prec@1 0.00 (0.04): : 618it [02:22,  4.34it/s]"
     ]
    },
    {
     "name": "stdout",
     "output_type": "stream",
     "text": [
      "\n",
      "\n"
     ]
    },
    {
     "name": "stderr",
     "output_type": "stream",
     "text": [
      "Train Epoch: 99 [39040/48625 (80%)]\tLoss: 8.363871\tTrain Prec@1 0.00 (0.04): : 620it [02:22,  4.34it/s]"
     ]
    },
    {
     "name": "stdout",
     "output_type": "stream",
     "text": [
      "\n",
      "\n"
     ]
    },
    {
     "name": "stderr",
     "output_type": "stream",
     "text": [
      "Train Epoch: 99 [39680/48625 (82%)]\tLoss: 8.565212\tTrain Prec@1 0.00 (0.04): : 622it [02:23,  4.34it/s]"
     ]
    },
    {
     "name": "stdout",
     "output_type": "stream",
     "text": [
      "\n",
      "\n"
     ]
    },
    {
     "name": "stderr",
     "output_type": "stream",
     "text": [
      "Train Epoch: 99 [39680/48625 (82%)]\tLoss: 8.565212\tTrain Prec@1 0.00 (0.04): : 624it [02:23,  4.34it/s]"
     ]
    },
    {
     "name": "stdout",
     "output_type": "stream",
     "text": [
      "\n",
      "\n"
     ]
    },
    {
     "name": "stderr",
     "output_type": "stream",
     "text": [
      "Train Epoch: 99 [39680/48625 (82%)]\tLoss: 8.565212\tTrain Prec@1 0.00 (0.04): : 626it [02:24,  4.34it/s]"
     ]
    },
    {
     "name": "stdout",
     "output_type": "stream",
     "text": [
      "\n",
      "\n"
     ]
    },
    {
     "name": "stderr",
     "output_type": "stream",
     "text": [
      "Train Epoch: 99 [39680/48625 (82%)]\tLoss: 8.565212\tTrain Prec@1 0.00 (0.04): : 628it [02:24,  4.34it/s]"
     ]
    },
    {
     "name": "stdout",
     "output_type": "stream",
     "text": [
      "\n",
      "\n"
     ]
    },
    {
     "name": "stderr",
     "output_type": "stream",
     "text": [
      "Train Epoch: 99 [39680/48625 (82%)]\tLoss: 8.565212\tTrain Prec@1 0.00 (0.04): : 630it [02:25,  4.34it/s]"
     ]
    },
    {
     "name": "stdout",
     "output_type": "stream",
     "text": [
      "\n",
      "\n"
     ]
    },
    {
     "name": "stderr",
     "output_type": "stream",
     "text": [
      "Train Epoch: 99 [40320/48625 (83%)]\tLoss: 8.672665\tTrain Prec@1 0.00 (0.04): : 632it [02:25,  4.34it/s]"
     ]
    },
    {
     "name": "stdout",
     "output_type": "stream",
     "text": [
      "\n",
      "\n"
     ]
    },
    {
     "name": "stderr",
     "output_type": "stream",
     "text": [
      "Train Epoch: 99 [40320/48625 (83%)]\tLoss: 8.672665\tTrain Prec@1 0.00 (0.04): : 634it [02:25,  4.34it/s]"
     ]
    },
    {
     "name": "stdout",
     "output_type": "stream",
     "text": [
      "\n",
      "\n"
     ]
    },
    {
     "name": "stderr",
     "output_type": "stream",
     "text": [
      "Train Epoch: 99 [40320/48625 (83%)]\tLoss: 8.672665\tTrain Prec@1 0.00 (0.04): : 636it [02:26,  4.34it/s]"
     ]
    },
    {
     "name": "stdout",
     "output_type": "stream",
     "text": [
      "\n",
      "\n"
     ]
    },
    {
     "name": "stderr",
     "output_type": "stream",
     "text": [
      "Train Epoch: 99 [40320/48625 (83%)]\tLoss: 8.672665\tTrain Prec@1 0.00 (0.04): : 638it [02:26,  4.34it/s]"
     ]
    },
    {
     "name": "stdout",
     "output_type": "stream",
     "text": [
      "\n",
      "\n"
     ]
    },
    {
     "name": "stderr",
     "output_type": "stream",
     "text": [
      "Train Epoch: 99 [40320/48625 (83%)]\tLoss: 8.672665\tTrain Prec@1 0.00 (0.04): : 640it [02:27,  4.34it/s]"
     ]
    },
    {
     "name": "stdout",
     "output_type": "stream",
     "text": [
      "\n",
      "\n"
     ]
    },
    {
     "name": "stderr",
     "output_type": "stream",
     "text": [
      "Train Epoch: 99 [40960/48625 (84%)]\tLoss: 8.498888\tTrain Prec@1 0.00 (0.04): : 642it [02:27,  4.34it/s]"
     ]
    },
    {
     "name": "stdout",
     "output_type": "stream",
     "text": [
      "\n",
      "\n"
     ]
    },
    {
     "name": "stderr",
     "output_type": "stream",
     "text": [
      "Train Epoch: 99 [40960/48625 (84%)]\tLoss: 8.498888\tTrain Prec@1 0.00 (0.04): : 644it [02:28,  4.34it/s]"
     ]
    },
    {
     "name": "stdout",
     "output_type": "stream",
     "text": [
      "\n",
      "\n"
     ]
    },
    {
     "name": "stderr",
     "output_type": "stream",
     "text": [
      "Train Epoch: 99 [40960/48625 (84%)]\tLoss: 8.498888\tTrain Prec@1 0.00 (0.04): : 646it [02:28,  4.34it/s]"
     ]
    },
    {
     "name": "stdout",
     "output_type": "stream",
     "text": [
      "\n",
      "\n"
     ]
    },
    {
     "name": "stderr",
     "output_type": "stream",
     "text": [
      "Train Epoch: 99 [40960/48625 (84%)]\tLoss: 8.498888\tTrain Prec@1 0.00 (0.04): : 648it [02:29,  4.34it/s]"
     ]
    },
    {
     "name": "stdout",
     "output_type": "stream",
     "text": [
      "\n",
      "\n"
     ]
    },
    {
     "name": "stderr",
     "output_type": "stream",
     "text": [
      "Train Epoch: 99 [40960/48625 (84%)]\tLoss: 8.498888\tTrain Prec@1 0.00 (0.04): : 650it [02:29,  4.34it/s]"
     ]
    },
    {
     "name": "stdout",
     "output_type": "stream",
     "text": [
      "\n",
      "\n"
     ]
    },
    {
     "name": "stderr",
     "output_type": "stream",
     "text": [
      "Train Epoch: 99 [41600/48625 (86%)]\tLoss: 8.448722\tTrain Prec@1 0.00 (0.04): : 652it [02:30,  4.34it/s]"
     ]
    },
    {
     "name": "stdout",
     "output_type": "stream",
     "text": [
      "\n",
      "\n"
     ]
    },
    {
     "name": "stderr",
     "output_type": "stream",
     "text": [
      "Train Epoch: 99 [41600/48625 (86%)]\tLoss: 8.448722\tTrain Prec@1 0.00 (0.04): : 654it [02:30,  4.34it/s]"
     ]
    },
    {
     "name": "stdout",
     "output_type": "stream",
     "text": [
      "\n",
      "\n"
     ]
    },
    {
     "name": "stderr",
     "output_type": "stream",
     "text": [
      "Train Epoch: 99 [41600/48625 (86%)]\tLoss: 8.448722\tTrain Prec@1 0.00 (0.04): : 656it [02:31,  4.34it/s]"
     ]
    },
    {
     "name": "stdout",
     "output_type": "stream",
     "text": [
      "\n",
      "\n"
     ]
    },
    {
     "name": "stderr",
     "output_type": "stream",
     "text": [
      "Train Epoch: 99 [41600/48625 (86%)]\tLoss: 8.448722\tTrain Prec@1 0.00 (0.04): : 658it [02:31,  4.34it/s]"
     ]
    },
    {
     "name": "stdout",
     "output_type": "stream",
     "text": [
      "\n",
      "\n"
     ]
    },
    {
     "name": "stderr",
     "output_type": "stream",
     "text": [
      "Train Epoch: 99 [41600/48625 (86%)]\tLoss: 8.448722\tTrain Prec@1 0.00 (0.04): : 660it [02:32,  4.34it/s]"
     ]
    },
    {
     "name": "stdout",
     "output_type": "stream",
     "text": [
      "\n",
      "\n"
     ]
    },
    {
     "name": "stderr",
     "output_type": "stream",
     "text": [
      "Train Epoch: 99 [42240/48625 (87%)]\tLoss: 8.510854\tTrain Prec@1 0.00 (0.04): : 662it [02:32,  4.34it/s]"
     ]
    },
    {
     "name": "stdout",
     "output_type": "stream",
     "text": [
      "\n",
      "\n"
     ]
    },
    {
     "name": "stderr",
     "output_type": "stream",
     "text": [
      "Train Epoch: 99 [42240/48625 (87%)]\tLoss: 8.510854\tTrain Prec@1 0.00 (0.04): : 664it [02:32,  4.34it/s]"
     ]
    },
    {
     "name": "stdout",
     "output_type": "stream",
     "text": [
      "\n",
      "\n"
     ]
    },
    {
     "name": "stderr",
     "output_type": "stream",
     "text": [
      "Train Epoch: 99 [42240/48625 (87%)]\tLoss: 8.510854\tTrain Prec@1 0.00 (0.04): : 666it [02:33,  4.34it/s]"
     ]
    },
    {
     "name": "stdout",
     "output_type": "stream",
     "text": [
      "\n",
      "\n"
     ]
    },
    {
     "name": "stderr",
     "output_type": "stream",
     "text": [
      "Train Epoch: 99 [42240/48625 (87%)]\tLoss: 8.510854\tTrain Prec@1 0.00 (0.04): : 668it [02:33,  4.34it/s]"
     ]
    },
    {
     "name": "stdout",
     "output_type": "stream",
     "text": [
      "\n",
      "\n"
     ]
    },
    {
     "name": "stderr",
     "output_type": "stream",
     "text": [
      "Train Epoch: 99 [42240/48625 (87%)]\tLoss: 8.510854\tTrain Prec@1 0.00 (0.04): : 670it [02:34,  4.34it/s]"
     ]
    },
    {
     "name": "stdout",
     "output_type": "stream",
     "text": [
      "\n",
      "\n"
     ]
    },
    {
     "name": "stderr",
     "output_type": "stream",
     "text": [
      "Train Epoch: 99 [42880/48625 (88%)]\tLoss: 8.542244\tTrain Prec@1 1.56 (0.04): : 672it [02:34,  4.34it/s]"
     ]
    },
    {
     "name": "stdout",
     "output_type": "stream",
     "text": [
      "\n",
      "\n"
     ]
    },
    {
     "name": "stderr",
     "output_type": "stream",
     "text": [
      "Train Epoch: 99 [42880/48625 (88%)]\tLoss: 8.542244\tTrain Prec@1 1.56 (0.04): : 674it [02:35,  4.34it/s]"
     ]
    },
    {
     "name": "stdout",
     "output_type": "stream",
     "text": [
      "\n",
      "\n"
     ]
    },
    {
     "name": "stderr",
     "output_type": "stream",
     "text": [
      "Train Epoch: 99 [42880/48625 (88%)]\tLoss: 8.542244\tTrain Prec@1 1.56 (0.04): : 676it [02:35,  4.34it/s]"
     ]
    },
    {
     "name": "stdout",
     "output_type": "stream",
     "text": [
      "\n",
      "\n"
     ]
    },
    {
     "name": "stderr",
     "output_type": "stream",
     "text": [
      "Train Epoch: 99 [42880/48625 (88%)]\tLoss: 8.542244\tTrain Prec@1 1.56 (0.04): : 678it [02:36,  4.34it/s]"
     ]
    },
    {
     "name": "stdout",
     "output_type": "stream",
     "text": [
      "\n",
      "\n"
     ]
    },
    {
     "name": "stderr",
     "output_type": "stream",
     "text": [
      "Train Epoch: 99 [42880/48625 (88%)]\tLoss: 8.542244\tTrain Prec@1 1.56 (0.04): : 680it [02:36,  4.34it/s]"
     ]
    },
    {
     "name": "stdout",
     "output_type": "stream",
     "text": [
      "\n",
      "\n"
     ]
    },
    {
     "name": "stderr",
     "output_type": "stream",
     "text": [
      "Train Epoch: 99 [43520/48625 (89%)]\tLoss: 8.343672\tTrain Prec@1 0.00 (0.04): : 682it [02:37,  4.34it/s]"
     ]
    },
    {
     "name": "stdout",
     "output_type": "stream",
     "text": [
      "\n",
      "\n"
     ]
    },
    {
     "name": "stderr",
     "output_type": "stream",
     "text": [
      "Train Epoch: 99 [43520/48625 (89%)]\tLoss: 8.343672\tTrain Prec@1 0.00 (0.04): : 684it [02:37,  4.34it/s]"
     ]
    },
    {
     "name": "stdout",
     "output_type": "stream",
     "text": [
      "\n",
      "\n"
     ]
    },
    {
     "name": "stderr",
     "output_type": "stream",
     "text": [
      "Train Epoch: 99 [43520/48625 (89%)]\tLoss: 8.343672\tTrain Prec@1 0.00 (0.04): : 686it [02:38,  4.34it/s]"
     ]
    },
    {
     "name": "stdout",
     "output_type": "stream",
     "text": [
      "\n",
      "\n"
     ]
    },
    {
     "name": "stderr",
     "output_type": "stream",
     "text": [
      "Train Epoch: 99 [43520/48625 (89%)]\tLoss: 8.343672\tTrain Prec@1 0.00 (0.04): : 688it [02:38,  4.34it/s]"
     ]
    },
    {
     "name": "stdout",
     "output_type": "stream",
     "text": [
      "\n",
      "\n"
     ]
    },
    {
     "name": "stderr",
     "output_type": "stream",
     "text": [
      "Train Epoch: 99 [43520/48625 (89%)]\tLoss: 8.343672\tTrain Prec@1 0.00 (0.04): : 690it [02:39,  4.34it/s]"
     ]
    },
    {
     "name": "stdout",
     "output_type": "stream",
     "text": [
      "\n",
      "\n"
     ]
    },
    {
     "name": "stderr",
     "output_type": "stream",
     "text": [
      "Train Epoch: 99 [44160/48625 (91%)]\tLoss: 8.173881\tTrain Prec@1 0.00 (0.05): : 692it [02:39,  4.34it/s]"
     ]
    },
    {
     "name": "stdout",
     "output_type": "stream",
     "text": [
      "\n",
      "\n"
     ]
    },
    {
     "name": "stderr",
     "output_type": "stream",
     "text": [
      "Train Epoch: 99 [44160/48625 (91%)]\tLoss: 8.173881\tTrain Prec@1 0.00 (0.05): : 694it [02:39,  4.34it/s]"
     ]
    },
    {
     "name": "stdout",
     "output_type": "stream",
     "text": [
      "\n",
      "\n"
     ]
    },
    {
     "name": "stderr",
     "output_type": "stream",
     "text": [
      "Train Epoch: 99 [44160/48625 (91%)]\tLoss: 8.173881\tTrain Prec@1 0.00 (0.05): : 696it [02:40,  4.34it/s]"
     ]
    },
    {
     "name": "stdout",
     "output_type": "stream",
     "text": [
      "\n",
      "\n"
     ]
    },
    {
     "name": "stderr",
     "output_type": "stream",
     "text": [
      "Train Epoch: 99 [44160/48625 (91%)]\tLoss: 8.173881\tTrain Prec@1 0.00 (0.05): : 698it [02:40,  4.34it/s]"
     ]
    },
    {
     "name": "stdout",
     "output_type": "stream",
     "text": [
      "\n",
      "\n"
     ]
    },
    {
     "name": "stderr",
     "output_type": "stream",
     "text": [
      "Train Epoch: 99 [44160/48625 (91%)]\tLoss: 8.173881\tTrain Prec@1 0.00 (0.05): : 700it [02:41,  4.34it/s]"
     ]
    },
    {
     "name": "stdout",
     "output_type": "stream",
     "text": [
      "\n",
      "\n"
     ]
    },
    {
     "name": "stderr",
     "output_type": "stream",
     "text": [
      "Train Epoch: 99 [44800/48625 (92%)]\tLoss: 8.359624\tTrain Prec@1 0.00 (0.04): : 702it [02:41,  4.34it/s]"
     ]
    },
    {
     "name": "stdout",
     "output_type": "stream",
     "text": [
      "\n",
      "\n"
     ]
    },
    {
     "name": "stderr",
     "output_type": "stream",
     "text": [
      "Train Epoch: 99 [44800/48625 (92%)]\tLoss: 8.359624\tTrain Prec@1 0.00 (0.04): : 704it [02:42,  4.34it/s]"
     ]
    },
    {
     "name": "stdout",
     "output_type": "stream",
     "text": [
      "\n",
      "\n"
     ]
    },
    {
     "name": "stderr",
     "output_type": "stream",
     "text": [
      "Train Epoch: 99 [44800/48625 (92%)]\tLoss: 8.359624\tTrain Prec@1 0.00 (0.04): : 706it [02:42,  4.34it/s]"
     ]
    },
    {
     "name": "stdout",
     "output_type": "stream",
     "text": [
      "\n",
      "\n"
     ]
    },
    {
     "name": "stderr",
     "output_type": "stream",
     "text": [
      "Train Epoch: 99 [44800/48625 (92%)]\tLoss: 8.359624\tTrain Prec@1 0.00 (0.04): : 708it [02:43,  4.34it/s]"
     ]
    },
    {
     "name": "stdout",
     "output_type": "stream",
     "text": [
      "\n",
      "\n"
     ]
    },
    {
     "name": "stderr",
     "output_type": "stream",
     "text": [
      "Train Epoch: 99 [44800/48625 (92%)]\tLoss: 8.359624\tTrain Prec@1 0.00 (0.04): : 710it [02:43,  4.34it/s]"
     ]
    },
    {
     "name": "stdout",
     "output_type": "stream",
     "text": [
      "\n",
      "\n"
     ]
    },
    {
     "name": "stderr",
     "output_type": "stream",
     "text": [
      "Train Epoch: 99 [45440/48625 (93%)]\tLoss: 8.563418\tTrain Prec@1 0.00 (0.05): : 712it [02:43,  4.34it/s]"
     ]
    },
    {
     "name": "stdout",
     "output_type": "stream",
     "text": [
      "\n",
      "\n"
     ]
    },
    {
     "name": "stderr",
     "output_type": "stream",
     "text": [
      "Train Epoch: 99 [45440/48625 (93%)]\tLoss: 8.563418\tTrain Prec@1 0.00 (0.05): : 714it [02:44,  4.34it/s]"
     ]
    },
    {
     "name": "stdout",
     "output_type": "stream",
     "text": [
      "\n",
      "\n"
     ]
    },
    {
     "name": "stderr",
     "output_type": "stream",
     "text": [
      "Train Epoch: 99 [45440/48625 (93%)]\tLoss: 8.563418\tTrain Prec@1 0.00 (0.05): : 716it [02:44,  4.34it/s]"
     ]
    },
    {
     "name": "stdout",
     "output_type": "stream",
     "text": [
      "\n",
      "\n"
     ]
    },
    {
     "name": "stderr",
     "output_type": "stream",
     "text": [
      "Train Epoch: 99 [45440/48625 (93%)]\tLoss: 8.563418\tTrain Prec@1 0.00 (0.05): : 718it [02:45,  4.34it/s]"
     ]
    },
    {
     "name": "stdout",
     "output_type": "stream",
     "text": [
      "\n",
      "\n"
     ]
    },
    {
     "name": "stderr",
     "output_type": "stream",
     "text": [
      "Train Epoch: 99 [45440/48625 (93%)]\tLoss: 8.563418\tTrain Prec@1 0.00 (0.05): : 720it [02:45,  4.34it/s]"
     ]
    },
    {
     "name": "stdout",
     "output_type": "stream",
     "text": [
      "\n",
      "\n"
     ]
    },
    {
     "name": "stderr",
     "output_type": "stream",
     "text": [
      "Train Epoch: 99 [46080/48625 (95%)]\tLoss: 8.477566\tTrain Prec@1 0.00 (0.05): : 722it [02:46,  4.34it/s]"
     ]
    },
    {
     "name": "stdout",
     "output_type": "stream",
     "text": [
      "\n",
      "\n"
     ]
    },
    {
     "name": "stderr",
     "output_type": "stream",
     "text": [
      "Train Epoch: 99 [46080/48625 (95%)]\tLoss: 8.477566\tTrain Prec@1 0.00 (0.05): : 724it [02:46,  4.34it/s]"
     ]
    },
    {
     "name": "stdout",
     "output_type": "stream",
     "text": [
      "\n",
      "\n"
     ]
    },
    {
     "name": "stderr",
     "output_type": "stream",
     "text": [
      "Train Epoch: 99 [46080/48625 (95%)]\tLoss: 8.477566\tTrain Prec@1 0.00 (0.05): : 726it [02:47,  4.34it/s]"
     ]
    },
    {
     "name": "stdout",
     "output_type": "stream",
     "text": [
      "\n",
      "\n"
     ]
    },
    {
     "name": "stderr",
     "output_type": "stream",
     "text": [
      "Train Epoch: 99 [46080/48625 (95%)]\tLoss: 8.477566\tTrain Prec@1 0.00 (0.05): : 728it [02:47,  4.34it/s]"
     ]
    },
    {
     "name": "stdout",
     "output_type": "stream",
     "text": [
      "\n",
      "\n"
     ]
    },
    {
     "name": "stderr",
     "output_type": "stream",
     "text": [
      "Train Epoch: 99 [46080/48625 (95%)]\tLoss: 8.477566\tTrain Prec@1 0.00 (0.05): : 730it [02:48,  4.34it/s]"
     ]
    },
    {
     "name": "stdout",
     "output_type": "stream",
     "text": [
      "\n",
      "\n"
     ]
    },
    {
     "name": "stderr",
     "output_type": "stream",
     "text": [
      "Train Epoch: 99 [46720/48625 (96%)]\tLoss: 8.351445\tTrain Prec@1 0.00 (0.05): : 732it [02:48,  4.34it/s]"
     ]
    },
    {
     "name": "stdout",
     "output_type": "stream",
     "text": [
      "\n",
      "\n"
     ]
    },
    {
     "name": "stderr",
     "output_type": "stream",
     "text": [
      "Train Epoch: 99 [46720/48625 (96%)]\tLoss: 8.351445\tTrain Prec@1 0.00 (0.05): : 734it [02:49,  4.34it/s]"
     ]
    },
    {
     "name": "stdout",
     "output_type": "stream",
     "text": [
      "\n",
      "\n"
     ]
    },
    {
     "name": "stderr",
     "output_type": "stream",
     "text": [
      "Train Epoch: 99 [46720/48625 (96%)]\tLoss: 8.351445\tTrain Prec@1 0.00 (0.05): : 736it [02:49,  4.34it/s]"
     ]
    },
    {
     "name": "stdout",
     "output_type": "stream",
     "text": [
      "\n",
      "\n"
     ]
    },
    {
     "name": "stderr",
     "output_type": "stream",
     "text": [
      "Train Epoch: 99 [46720/48625 (96%)]\tLoss: 8.351445\tTrain Prec@1 0.00 (0.05): : 738it [02:49,  4.34it/s]"
     ]
    },
    {
     "name": "stdout",
     "output_type": "stream",
     "text": [
      "\n",
      "\n"
     ]
    },
    {
     "name": "stderr",
     "output_type": "stream",
     "text": [
      "Train Epoch: 99 [46720/48625 (96%)]\tLoss: 8.351445\tTrain Prec@1 0.00 (0.05): : 740it [02:50,  4.34it/s]"
     ]
    },
    {
     "name": "stdout",
     "output_type": "stream",
     "text": [
      "\n",
      "\n"
     ]
    },
    {
     "name": "stderr",
     "output_type": "stream",
     "text": [
      "Train Epoch: 99 [47360/48625 (97%)]\tLoss: 8.530389\tTrain Prec@1 0.00 (0.05): : 742it [02:50,  4.34it/s]"
     ]
    },
    {
     "name": "stdout",
     "output_type": "stream",
     "text": [
      "\n",
      "\n"
     ]
    },
    {
     "name": "stderr",
     "output_type": "stream",
     "text": [
      "Train Epoch: 99 [47360/48625 (97%)]\tLoss: 8.530389\tTrain Prec@1 0.00 (0.05): : 744it [02:51,  4.34it/s]"
     ]
    },
    {
     "name": "stdout",
     "output_type": "stream",
     "text": [
      "\n",
      "\n"
     ]
    },
    {
     "name": "stderr",
     "output_type": "stream",
     "text": [
      "Train Epoch: 99 [47360/48625 (97%)]\tLoss: 8.530389\tTrain Prec@1 0.00 (0.05): : 746it [02:51,  4.34it/s]"
     ]
    },
    {
     "name": "stdout",
     "output_type": "stream",
     "text": [
      "\n",
      "\n"
     ]
    },
    {
     "name": "stderr",
     "output_type": "stream",
     "text": [
      "Train Epoch: 99 [47360/48625 (97%)]\tLoss: 8.530389\tTrain Prec@1 0.00 (0.05): : 748it [02:52,  4.34it/s]"
     ]
    },
    {
     "name": "stdout",
     "output_type": "stream",
     "text": [
      "\n",
      "\n"
     ]
    },
    {
     "name": "stderr",
     "output_type": "stream",
     "text": [
      "Train Epoch: 99 [47360/48625 (97%)]\tLoss: 8.530389\tTrain Prec@1 0.00 (0.05): : 750it [02:52,  4.34it/s]"
     ]
    },
    {
     "name": "stdout",
     "output_type": "stream",
     "text": [
      "\n",
      "\n"
     ]
    },
    {
     "name": "stderr",
     "output_type": "stream",
     "text": [
      "Train Epoch: 99 [48000/48625 (99%)]\tLoss: 8.275752\tTrain Prec@1 0.00 (0.05): : 752it [02:53,  4.34it/s]"
     ]
    },
    {
     "name": "stdout",
     "output_type": "stream",
     "text": [
      "\n",
      "\n"
     ]
    },
    {
     "name": "stderr",
     "output_type": "stream",
     "text": [
      "Train Epoch: 99 [48000/48625 (99%)]\tLoss: 8.275752\tTrain Prec@1 0.00 (0.05): : 754it [02:53,  4.34it/s]"
     ]
    },
    {
     "name": "stdout",
     "output_type": "stream",
     "text": [
      "\n",
      "\n"
     ]
    },
    {
     "name": "stderr",
     "output_type": "stream",
     "text": [
      "Train Epoch: 99 [48000/48625 (99%)]\tLoss: 8.275752\tTrain Prec@1 0.00 (0.05): : 756it [02:54,  4.34it/s]"
     ]
    },
    {
     "name": "stdout",
     "output_type": "stream",
     "text": [
      "\n",
      "\n"
     ]
    },
    {
     "name": "stderr",
     "output_type": "stream",
     "text": [
      "Train Epoch: 99 [48000/48625 (99%)]\tLoss: 8.275752\tTrain Prec@1 0.00 (0.05): : 758it [02:54,  4.35it/s]"
     ]
    },
    {
     "name": "stdout",
     "output_type": "stream",
     "text": [
      "\n",
      "\n"
     ]
    },
    {
     "name": "stderr",
     "output_type": "stream",
     "text": [
      "\r",
      "Train Epoch: 99 [48000/48625 (99%)]\tLoss: 8.275752\tTrain Prec@1 0.00 (0.05): : 759it [02:54,  4.35it/s]"
     ]
    },
    {
     "name": "stdout",
     "output_type": "stream",
     "text": [
      "\n"
     ]
    },
    {
     "name": "stderr",
     "output_type": "stream",
     "text": [
      "Train Epoch: 99 [48000/48625 (99%)]\tLoss: 8.275752\tTrain Prec@1 0.00 (0.05): : 760it [02:55,  4.33it/s]\n",
      "0it [00:00, ?it/s]/home/jw4937/py3.6.3/lib/python3.6/site-packages/ipykernel_launcher.py:213: UserWarning: volatile was removed and now has no effect. Use `with torch.no_grad():` instead.\n",
      "Test Epoch: 99 [5760/6000 (96%)]: : 94it [01:55,  1.23s/it]\n"
     ]
    },
    {
     "name": "stdout",
     "output_type": "stream",
     "text": [
      "\u001b[91mTest set: Accuracy: 0.58366667\n",
      "\u001b[0m\n"
     ]
    },
    {
     "name": "stderr",
     "output_type": "stream",
     "text": [
      "0it [00:00, ?it/s]/home/jw4937/py3.6.3/lib/python3.6/site-packages/ipykernel_launcher.py:262: UserWarning: invalid index of a 0-dim tensor. This will be an error in PyTorch 0.5. Use tensor.item() to convert a 0-dim tensor to a Python number\n",
      "Test Epoch: 99 [0/9808 (0%)]\tTest Prec@1 0.00 (0.00): : 0it [00:00, ?it/s]/home/jw4937/py3.6.3/lib/python3.6/site-packages/ipykernel_launcher.py:268: UserWarning: invalid index of a 0-dim tensor. This will be an error in PyTorch 0.5. Use tensor.item() to convert a 0-dim tensor to a Python number\n",
      "Test Epoch: 99 [9600/9808 (97%)]\tTest Prec@1 0.00 (0.05): : 154it [00:30,  5.11it/s]\n",
      "Train Epoch: 100 [0/48625 (0%)]\tLoss: 8.250601\tTrain Prec@1 0.00 (0.00): : 1it [00:00,  1.96it/s]"
     ]
    },
    {
     "name": "stdout",
     "output_type": "stream",
     "text": [
      "\n",
      "\n"
     ]
    },
    {
     "name": "stderr",
     "output_type": "stream",
     "text": [
      "Train Epoch: 100 [0/48625 (0%)]\tLoss: 8.250601\tTrain Prec@1 0.00 (0.00): : 3it [00:00,  3.22it/s]"
     ]
    },
    {
     "name": "stdout",
     "output_type": "stream",
     "text": [
      "\n",
      "\n"
     ]
    },
    {
     "name": "stderr",
     "output_type": "stream",
     "text": [
      "Train Epoch: 100 [0/48625 (0%)]\tLoss: 8.250601\tTrain Prec@1 0.00 (0.00): : 5it [00:01,  3.56it/s]"
     ]
    },
    {
     "name": "stdout",
     "output_type": "stream",
     "text": [
      "\n",
      "\n"
     ]
    },
    {
     "name": "stderr",
     "output_type": "stream",
     "text": [
      "Train Epoch: 100 [0/48625 (0%)]\tLoss: 8.250601\tTrain Prec@1 0.00 (0.00): : 7it [00:01,  3.75it/s]"
     ]
    },
    {
     "name": "stdout",
     "output_type": "stream",
     "text": [
      "\n",
      "\n"
     ]
    },
    {
     "name": "stderr",
     "output_type": "stream",
     "text": [
      "Train Epoch: 100 [0/48625 (0%)]\tLoss: 8.250601\tTrain Prec@1 0.00 (0.00): : 9it [00:02,  3.86it/s]"
     ]
    },
    {
     "name": "stdout",
     "output_type": "stream",
     "text": [
      "\n",
      "\n"
     ]
    },
    {
     "name": "stderr",
     "output_type": "stream",
     "text": [
      "Train Epoch: 100 [640/48625 (1%)]\tLoss: 8.150960\tTrain Prec@1 0.00 (0.00): : 11it [00:02,  3.93it/s]"
     ]
    },
    {
     "name": "stdout",
     "output_type": "stream",
     "text": [
      "\n",
      "\n"
     ]
    },
    {
     "name": "stderr",
     "output_type": "stream",
     "text": [
      "Train Epoch: 100 [640/48625 (1%)]\tLoss: 8.150960\tTrain Prec@1 0.00 (0.00): : 13it [00:03,  3.99it/s]"
     ]
    },
    {
     "name": "stdout",
     "output_type": "stream",
     "text": [
      "\n",
      "\n"
     ]
    },
    {
     "name": "stderr",
     "output_type": "stream",
     "text": [
      "Train Epoch: 100 [640/48625 (1%)]\tLoss: 8.150960\tTrain Prec@1 0.00 (0.00): : 15it [00:03,  4.03it/s]"
     ]
    },
    {
     "name": "stdout",
     "output_type": "stream",
     "text": [
      "\n",
      "\n"
     ]
    },
    {
     "name": "stderr",
     "output_type": "stream",
     "text": [
      "Train Epoch: 100 [640/48625 (1%)]\tLoss: 8.150960\tTrain Prec@1 0.00 (0.00): : 17it [00:04,  4.09it/s]"
     ]
    },
    {
     "name": "stdout",
     "output_type": "stream",
     "text": [
      "\n",
      "\n"
     ]
    },
    {
     "name": "stderr",
     "output_type": "stream",
     "text": [
      "Train Epoch: 100 [640/48625 (1%)]\tLoss: 8.150960\tTrain Prec@1 0.00 (0.00): : 19it [00:04,  4.08it/s]"
     ]
    },
    {
     "name": "stdout",
     "output_type": "stream",
     "text": [
      "\n",
      "\n"
     ]
    },
    {
     "name": "stderr",
     "output_type": "stream",
     "text": [
      "Train Epoch: 100 [1280/48625 (3%)]\tLoss: 8.305264\tTrain Prec@1 0.00 (0.07): : 21it [00:05,  4.10it/s]"
     ]
    },
    {
     "name": "stdout",
     "output_type": "stream",
     "text": [
      "\n",
      "\n"
     ]
    },
    {
     "name": "stderr",
     "output_type": "stream",
     "text": [
      "Train Epoch: 100 [1280/48625 (3%)]\tLoss: 8.305264\tTrain Prec@1 0.00 (0.07): : 23it [00:05,  4.13it/s]"
     ]
    },
    {
     "name": "stdout",
     "output_type": "stream",
     "text": [
      "\n",
      "\n"
     ]
    },
    {
     "name": "stderr",
     "output_type": "stream",
     "text": [
      "Train Epoch: 100 [1280/48625 (3%)]\tLoss: 8.305264\tTrain Prec@1 0.00 (0.07): : 25it [00:06,  4.15it/s]"
     ]
    },
    {
     "name": "stdout",
     "output_type": "stream",
     "text": [
      "\n",
      "\n"
     ]
    },
    {
     "name": "stderr",
     "output_type": "stream",
     "text": [
      "Train Epoch: 100 [1280/48625 (3%)]\tLoss: 8.305264\tTrain Prec@1 0.00 (0.07): : 27it [00:06,  4.16it/s]"
     ]
    },
    {
     "name": "stdout",
     "output_type": "stream",
     "text": [
      "\n",
      "\n"
     ]
    },
    {
     "name": "stderr",
     "output_type": "stream",
     "text": [
      "Train Epoch: 100 [1280/48625 (3%)]\tLoss: 8.305264\tTrain Prec@1 0.00 (0.07): : 29it [00:06,  4.17it/s]"
     ]
    },
    {
     "name": "stdout",
     "output_type": "stream",
     "text": [
      "\n",
      "\n"
     ]
    },
    {
     "name": "stderr",
     "output_type": "stream",
     "text": [
      "Train Epoch: 100 [1920/48625 (4%)]\tLoss: 8.299132\tTrain Prec@1 0.00 (0.05): : 31it [00:07,  4.17it/s]"
     ]
    },
    {
     "name": "stdout",
     "output_type": "stream",
     "text": [
      "\n",
      "\n"
     ]
    },
    {
     "name": "stderr",
     "output_type": "stream",
     "text": [
      "Train Epoch: 100 [1920/48625 (4%)]\tLoss: 8.299132\tTrain Prec@1 0.00 (0.05): : 33it [00:07,  4.19it/s]"
     ]
    },
    {
     "name": "stdout",
     "output_type": "stream",
     "text": [
      "\n",
      "\n"
     ]
    },
    {
     "name": "stderr",
     "output_type": "stream",
     "text": [
      "Train Epoch: 100 [1920/48625 (4%)]\tLoss: 8.299132\tTrain Prec@1 0.00 (0.05): : 35it [00:08,  4.20it/s]"
     ]
    },
    {
     "name": "stdout",
     "output_type": "stream",
     "text": [
      "\n",
      "\n"
     ]
    },
    {
     "name": "stderr",
     "output_type": "stream",
     "text": [
      "Train Epoch: 100 [1920/48625 (4%)]\tLoss: 8.299132\tTrain Prec@1 0.00 (0.05): : 37it [00:08,  4.19it/s]"
     ]
    },
    {
     "name": "stdout",
     "output_type": "stream",
     "text": [
      "\n",
      "\n"
     ]
    },
    {
     "name": "stderr",
     "output_type": "stream",
     "text": [
      "Train Epoch: 100 [1920/48625 (4%)]\tLoss: 8.299132\tTrain Prec@1 0.00 (0.05): : 39it [00:09,  4.20it/s]"
     ]
    },
    {
     "name": "stdout",
     "output_type": "stream",
     "text": [
      "\n",
      "\n"
     ]
    },
    {
     "name": "stderr",
     "output_type": "stream",
     "text": [
      "Train Epoch: 100 [2560/48625 (5%)]\tLoss: 8.247536\tTrain Prec@1 0.00 (0.04): : 41it [00:09,  4.20it/s]"
     ]
    },
    {
     "name": "stdout",
     "output_type": "stream",
     "text": [
      "\n",
      "\n"
     ]
    },
    {
     "name": "stderr",
     "output_type": "stream",
     "text": [
      "Train Epoch: 100 [2560/48625 (5%)]\tLoss: 8.247536\tTrain Prec@1 0.00 (0.04): : 43it [00:10,  4.21it/s]"
     ]
    },
    {
     "name": "stdout",
     "output_type": "stream",
     "text": [
      "\n",
      "\n"
     ]
    },
    {
     "name": "stderr",
     "output_type": "stream",
     "text": [
      "Train Epoch: 100 [2560/48625 (5%)]\tLoss: 8.247536\tTrain Prec@1 0.00 (0.04): : 45it [00:10,  4.22it/s]"
     ]
    },
    {
     "name": "stdout",
     "output_type": "stream",
     "text": [
      "\n",
      "\n"
     ]
    },
    {
     "name": "stderr",
     "output_type": "stream",
     "text": [
      "Train Epoch: 100 [2560/48625 (5%)]\tLoss: 8.247536\tTrain Prec@1 0.00 (0.04): : 47it [00:11,  4.22it/s]"
     ]
    },
    {
     "name": "stdout",
     "output_type": "stream",
     "text": [
      "\n",
      "\n"
     ]
    },
    {
     "name": "stderr",
     "output_type": "stream",
     "text": [
      "Train Epoch: 100 [2560/48625 (5%)]\tLoss: 8.247536\tTrain Prec@1 0.00 (0.04): : 49it [00:11,  4.22it/s]"
     ]
    },
    {
     "name": "stdout",
     "output_type": "stream",
     "text": [
      "\n",
      "\n"
     ]
    },
    {
     "name": "stderr",
     "output_type": "stream",
     "text": [
      "Train Epoch: 100 [3200/48625 (7%)]\tLoss: 8.188960\tTrain Prec@1 0.00 (0.03): : 51it [00:12,  4.23it/s]"
     ]
    },
    {
     "name": "stdout",
     "output_type": "stream",
     "text": [
      "\n",
      "\n"
     ]
    },
    {
     "name": "stderr",
     "output_type": "stream",
     "text": [
      "Train Epoch: 100 [3200/48625 (7%)]\tLoss: 8.188960\tTrain Prec@1 0.00 (0.03): : 53it [00:12,  4.23it/s]"
     ]
    },
    {
     "name": "stdout",
     "output_type": "stream",
     "text": [
      "\n",
      "\n"
     ]
    },
    {
     "name": "stderr",
     "output_type": "stream",
     "text": [
      "Train Epoch: 100 [3200/48625 (7%)]\tLoss: 8.188960\tTrain Prec@1 0.00 (0.03): : 55it [00:13,  4.23it/s]"
     ]
    },
    {
     "name": "stdout",
     "output_type": "stream",
     "text": [
      "\n",
      "\n"
     ]
    },
    {
     "name": "stderr",
     "output_type": "stream",
     "text": [
      "Train Epoch: 100 [3200/48625 (7%)]\tLoss: 8.188960\tTrain Prec@1 0.00 (0.03): : 57it [00:13,  4.24it/s]"
     ]
    },
    {
     "name": "stdout",
     "output_type": "stream",
     "text": [
      "\n",
      "\n"
     ]
    },
    {
     "name": "stderr",
     "output_type": "stream",
     "text": [
      "Train Epoch: 100 [3200/48625 (7%)]\tLoss: 8.188960\tTrain Prec@1 0.00 (0.03): : 59it [00:13,  4.24it/s]"
     ]
    },
    {
     "name": "stdout",
     "output_type": "stream",
     "text": [
      "\n",
      "\n"
     ]
    },
    {
     "name": "stderr",
     "output_type": "stream",
     "text": [
      "Train Epoch: 100 [3840/48625 (8%)]\tLoss: 8.377658\tTrain Prec@1 0.00 (0.03): : 61it [00:14,  4.24it/s]"
     ]
    },
    {
     "name": "stdout",
     "output_type": "stream",
     "text": [
      "\n",
      "\n"
     ]
    },
    {
     "name": "stderr",
     "output_type": "stream",
     "text": [
      "Train Epoch: 100 [3840/48625 (8%)]\tLoss: 8.377658\tTrain Prec@1 0.00 (0.03): : 63it [00:14,  4.25it/s]"
     ]
    },
    {
     "name": "stdout",
     "output_type": "stream",
     "text": [
      "\n",
      "\n"
     ]
    },
    {
     "name": "stderr",
     "output_type": "stream",
     "text": [
      "Train Epoch: 100 [3840/48625 (8%)]\tLoss: 8.377658\tTrain Prec@1 0.00 (0.03): : 65it [00:15,  4.25it/s]"
     ]
    },
    {
     "name": "stdout",
     "output_type": "stream",
     "text": [
      "\n",
      "\n"
     ]
    },
    {
     "name": "stderr",
     "output_type": "stream",
     "text": [
      "Train Epoch: 100 [3840/48625 (8%)]\tLoss: 8.377658\tTrain Prec@1 0.00 (0.03): : 67it [00:15,  4.26it/s]"
     ]
    },
    {
     "name": "stdout",
     "output_type": "stream",
     "text": [
      "\n",
      "\n"
     ]
    },
    {
     "name": "stderr",
     "output_type": "stream",
     "text": [
      "Train Epoch: 100 [3840/48625 (8%)]\tLoss: 8.377658\tTrain Prec@1 0.00 (0.03): : 69it [00:16,  4.26it/s]"
     ]
    },
    {
     "name": "stdout",
     "output_type": "stream",
     "text": [
      "\n",
      "\n"
     ]
    },
    {
     "name": "stderr",
     "output_type": "stream",
     "text": [
      "Train Epoch: 100 [4480/48625 (9%)]\tLoss: 8.145624\tTrain Prec@1 0.00 (0.04): : 71it [00:16,  4.26it/s]"
     ]
    },
    {
     "name": "stdout",
     "output_type": "stream",
     "text": [
      "\n",
      "\n"
     ]
    },
    {
     "name": "stderr",
     "output_type": "stream",
     "text": [
      "Train Epoch: 100 [4480/48625 (9%)]\tLoss: 8.145624\tTrain Prec@1 0.00 (0.04): : 73it [00:17,  4.27it/s]"
     ]
    },
    {
     "name": "stdout",
     "output_type": "stream",
     "text": [
      "\n",
      "\n"
     ]
    },
    {
     "name": "stderr",
     "output_type": "stream",
     "text": [
      "Train Epoch: 100 [4480/48625 (9%)]\tLoss: 8.145624\tTrain Prec@1 0.00 (0.04): : 75it [00:17,  4.26it/s]"
     ]
    },
    {
     "name": "stdout",
     "output_type": "stream",
     "text": [
      "\n",
      "\n"
     ]
    },
    {
     "name": "stderr",
     "output_type": "stream",
     "text": [
      "Train Epoch: 100 [4480/48625 (9%)]\tLoss: 8.145624\tTrain Prec@1 0.00 (0.04): : 77it [00:18,  4.26it/s]"
     ]
    },
    {
     "name": "stdout",
     "output_type": "stream",
     "text": [
      "\n",
      "\n"
     ]
    },
    {
     "name": "stderr",
     "output_type": "stream",
     "text": [
      "Train Epoch: 100 [4480/48625 (9%)]\tLoss: 8.145624\tTrain Prec@1 0.00 (0.04): : 79it [00:18,  4.27it/s]"
     ]
    },
    {
     "name": "stdout",
     "output_type": "stream",
     "text": [
      "\n",
      "\n"
     ]
    },
    {
     "name": "stderr",
     "output_type": "stream",
     "text": [
      "Train Epoch: 100 [5120/48625 (11%)]\tLoss: 8.151909\tTrain Prec@1 0.00 (0.04): : 81it [00:18,  4.27it/s]"
     ]
    },
    {
     "name": "stdout",
     "output_type": "stream",
     "text": [
      "\n",
      "\n"
     ]
    },
    {
     "name": "stderr",
     "output_type": "stream",
     "text": [
      "Train Epoch: 100 [5120/48625 (11%)]\tLoss: 8.151909\tTrain Prec@1 0.00 (0.04): : 83it [00:19,  4.28it/s]"
     ]
    },
    {
     "name": "stdout",
     "output_type": "stream",
     "text": [
      "\n",
      "\n"
     ]
    },
    {
     "name": "stderr",
     "output_type": "stream",
     "text": [
      "Train Epoch: 100 [5120/48625 (11%)]\tLoss: 8.151909\tTrain Prec@1 0.00 (0.04): : 85it [00:19,  4.28it/s]"
     ]
    },
    {
     "name": "stdout",
     "output_type": "stream",
     "text": [
      "\n",
      "\n"
     ]
    },
    {
     "name": "stderr",
     "output_type": "stream",
     "text": [
      "Train Epoch: 100 [5120/48625 (11%)]\tLoss: 8.151909\tTrain Prec@1 0.00 (0.04): : 87it [00:20,  4.28it/s]"
     ]
    },
    {
     "name": "stdout",
     "output_type": "stream",
     "text": [
      "\n",
      "\n"
     ]
    },
    {
     "name": "stderr",
     "output_type": "stream",
     "text": [
      "Train Epoch: 100 [5120/48625 (11%)]\tLoss: 8.151909\tTrain Prec@1 0.00 (0.04): : 89it [00:20,  4.28it/s]"
     ]
    },
    {
     "name": "stdout",
     "output_type": "stream",
     "text": [
      "\n",
      "\n"
     ]
    },
    {
     "name": "stderr",
     "output_type": "stream",
     "text": [
      "Train Epoch: 100 [5760/48625 (12%)]\tLoss: 8.271529\tTrain Prec@1 0.00 (0.05): : 91it [00:21,  4.28it/s]"
     ]
    },
    {
     "name": "stdout",
     "output_type": "stream",
     "text": [
      "\n",
      "\n"
     ]
    },
    {
     "name": "stderr",
     "output_type": "stream",
     "text": [
      "Train Epoch: 100 [5760/48625 (12%)]\tLoss: 8.271529\tTrain Prec@1 0.00 (0.05): : 93it [00:21,  4.29it/s]"
     ]
    },
    {
     "name": "stdout",
     "output_type": "stream",
     "text": [
      "\n",
      "\n"
     ]
    },
    {
     "name": "stderr",
     "output_type": "stream",
     "text": [
      "Train Epoch: 100 [5760/48625 (12%)]\tLoss: 8.271529\tTrain Prec@1 0.00 (0.05): : 95it [00:22,  4.29it/s]"
     ]
    },
    {
     "name": "stdout",
     "output_type": "stream",
     "text": [
      "\n",
      "\n"
     ]
    },
    {
     "name": "stderr",
     "output_type": "stream",
     "text": [
      "Train Epoch: 100 [5760/48625 (12%)]\tLoss: 8.271529\tTrain Prec@1 0.00 (0.05): : 97it [00:22,  4.29it/s]"
     ]
    },
    {
     "name": "stdout",
     "output_type": "stream",
     "text": [
      "\n",
      "\n"
     ]
    },
    {
     "name": "stderr",
     "output_type": "stream",
     "text": [
      "Train Epoch: 100 [5760/48625 (12%)]\tLoss: 8.271529\tTrain Prec@1 0.00 (0.05): : 99it [00:23,  4.29it/s]"
     ]
    },
    {
     "name": "stdout",
     "output_type": "stream",
     "text": [
      "\n",
      "\n"
     ]
    },
    {
     "name": "stderr",
     "output_type": "stream",
     "text": [
      "Train Epoch: 100 [6400/48625 (13%)]\tLoss: 8.175068\tTrain Prec@1 0.00 (0.05): : 101it [00:23,  4.29it/s]"
     ]
    },
    {
     "name": "stdout",
     "output_type": "stream",
     "text": [
      "\n",
      "\n"
     ]
    },
    {
     "name": "stderr",
     "output_type": "stream",
     "text": [
      "Train Epoch: 100 [6400/48625 (13%)]\tLoss: 8.175068\tTrain Prec@1 0.00 (0.05): : 103it [00:24,  4.29it/s]"
     ]
    },
    {
     "name": "stdout",
     "output_type": "stream",
     "text": [
      "\n",
      "\n"
     ]
    },
    {
     "name": "stderr",
     "output_type": "stream",
     "text": [
      "Train Epoch: 100 [6400/48625 (13%)]\tLoss: 8.175068\tTrain Prec@1 0.00 (0.05): : 105it [00:24,  4.29it/s]"
     ]
    },
    {
     "name": "stdout",
     "output_type": "stream",
     "text": [
      "\n",
      "\n"
     ]
    },
    {
     "name": "stderr",
     "output_type": "stream",
     "text": [
      "Train Epoch: 100 [6400/48625 (13%)]\tLoss: 8.175068\tTrain Prec@1 0.00 (0.05): : 107it [00:24,  4.29it/s]"
     ]
    },
    {
     "name": "stdout",
     "output_type": "stream",
     "text": [
      "\n",
      "\n"
     ]
    },
    {
     "name": "stderr",
     "output_type": "stream",
     "text": [
      "Train Epoch: 100 [6400/48625 (13%)]\tLoss: 8.175068\tTrain Prec@1 0.00 (0.05): : 109it [00:25,  4.29it/s]"
     ]
    },
    {
     "name": "stdout",
     "output_type": "stream",
     "text": [
      "\n",
      "\n"
     ]
    },
    {
     "name": "stderr",
     "output_type": "stream",
     "text": [
      "Train Epoch: 100 [7040/48625 (14%)]\tLoss: 8.312270\tTrain Prec@1 0.00 (0.04): : 111it [00:25,  4.29it/s]"
     ]
    },
    {
     "name": "stdout",
     "output_type": "stream",
     "text": [
      "\n",
      "\n"
     ]
    },
    {
     "name": "stderr",
     "output_type": "stream",
     "text": [
      "Train Epoch: 100 [7040/48625 (14%)]\tLoss: 8.312270\tTrain Prec@1 0.00 (0.04): : 113it [00:26,  4.29it/s]"
     ]
    },
    {
     "name": "stdout",
     "output_type": "stream",
     "text": [
      "\n",
      "\n"
     ]
    },
    {
     "name": "stderr",
     "output_type": "stream",
     "text": [
      "Train Epoch: 100 [7040/48625 (14%)]\tLoss: 8.312270\tTrain Prec@1 0.00 (0.04): : 115it [00:26,  4.29it/s]"
     ]
    },
    {
     "name": "stdout",
     "output_type": "stream",
     "text": [
      "\n",
      "\n"
     ]
    },
    {
     "name": "stderr",
     "output_type": "stream",
     "text": [
      "Train Epoch: 100 [7040/48625 (14%)]\tLoss: 8.312270\tTrain Prec@1 0.00 (0.04): : 117it [00:27,  4.30it/s]"
     ]
    },
    {
     "name": "stdout",
     "output_type": "stream",
     "text": [
      "\n",
      "\n"
     ]
    },
    {
     "name": "stderr",
     "output_type": "stream",
     "text": [
      "Train Epoch: 100 [7040/48625 (14%)]\tLoss: 8.312270\tTrain Prec@1 0.00 (0.04): : 119it [00:27,  4.30it/s]"
     ]
    },
    {
     "name": "stdout",
     "output_type": "stream",
     "text": [
      "\n",
      "\n"
     ]
    },
    {
     "name": "stderr",
     "output_type": "stream",
     "text": [
      "Train Epoch: 100 [7680/48625 (16%)]\tLoss: 8.129110\tTrain Prec@1 0.00 (0.04): : 121it [00:28,  4.30it/s]"
     ]
    },
    {
     "name": "stdout",
     "output_type": "stream",
     "text": [
      "\n",
      "\n"
     ]
    },
    {
     "name": "stderr",
     "output_type": "stream",
     "text": [
      "Train Epoch: 100 [7680/48625 (16%)]\tLoss: 8.129110\tTrain Prec@1 0.00 (0.04): : 123it [00:28,  4.30it/s]"
     ]
    },
    {
     "name": "stdout",
     "output_type": "stream",
     "text": [
      "\n",
      "\n"
     ]
    },
    {
     "name": "stderr",
     "output_type": "stream",
     "text": [
      "Train Epoch: 100 [7680/48625 (16%)]\tLoss: 8.129110\tTrain Prec@1 0.00 (0.04): : 125it [00:29,  4.30it/s]"
     ]
    },
    {
     "name": "stdout",
     "output_type": "stream",
     "text": [
      "\n",
      "\n"
     ]
    },
    {
     "name": "stderr",
     "output_type": "stream",
     "text": [
      "Train Epoch: 100 [7680/48625 (16%)]\tLoss: 8.129110\tTrain Prec@1 0.00 (0.04): : 127it [00:29,  4.30it/s]"
     ]
    },
    {
     "name": "stdout",
     "output_type": "stream",
     "text": [
      "\n",
      "\n"
     ]
    },
    {
     "name": "stderr",
     "output_type": "stream",
     "text": [
      "Train Epoch: 100 [7680/48625 (16%)]\tLoss: 8.129110\tTrain Prec@1 0.00 (0.04): : 129it [00:29,  4.31it/s]"
     ]
    },
    {
     "name": "stdout",
     "output_type": "stream",
     "text": [
      "\n",
      "\n"
     ]
    },
    {
     "name": "stderr",
     "output_type": "stream",
     "text": [
      "Train Epoch: 100 [8320/48625 (17%)]\tLoss: 8.314706\tTrain Prec@1 0.00 (0.05): : 131it [00:30,  4.31it/s]"
     ]
    },
    {
     "name": "stdout",
     "output_type": "stream",
     "text": [
      "\n",
      "\n"
     ]
    },
    {
     "name": "stderr",
     "output_type": "stream",
     "text": [
      "Train Epoch: 100 [8320/48625 (17%)]\tLoss: 8.314706\tTrain Prec@1 0.00 (0.05): : 133it [00:30,  4.30it/s]"
     ]
    },
    {
     "name": "stdout",
     "output_type": "stream",
     "text": [
      "\n",
      "\n"
     ]
    },
    {
     "name": "stderr",
     "output_type": "stream",
     "text": [
      "Train Epoch: 100 [8320/48625 (17%)]\tLoss: 8.314706\tTrain Prec@1 0.00 (0.05): : 135it [00:31,  4.31it/s]"
     ]
    },
    {
     "name": "stdout",
     "output_type": "stream",
     "text": [
      "\n",
      "\n"
     ]
    },
    {
     "name": "stderr",
     "output_type": "stream",
     "text": [
      "Train Epoch: 100 [8320/48625 (17%)]\tLoss: 8.314706\tTrain Prec@1 0.00 (0.05): : 137it [00:31,  4.31it/s]"
     ]
    },
    {
     "name": "stdout",
     "output_type": "stream",
     "text": [
      "\n",
      "\n"
     ]
    },
    {
     "name": "stderr",
     "output_type": "stream",
     "text": [
      "Train Epoch: 100 [8320/48625 (17%)]\tLoss: 8.314706\tTrain Prec@1 0.00 (0.05): : 139it [00:32,  4.31it/s]"
     ]
    },
    {
     "name": "stdout",
     "output_type": "stream",
     "text": [
      "\n",
      "\n"
     ]
    },
    {
     "name": "stderr",
     "output_type": "stream",
     "text": [
      "Train Epoch: 100 [8960/48625 (18%)]\tLoss: 8.303590\tTrain Prec@1 0.00 (0.04): : 141it [00:32,  4.31it/s]"
     ]
    },
    {
     "name": "stdout",
     "output_type": "stream",
     "text": [
      "\n",
      "\n"
     ]
    },
    {
     "name": "stderr",
     "output_type": "stream",
     "text": [
      "Train Epoch: 100 [8960/48625 (18%)]\tLoss: 8.303590\tTrain Prec@1 0.00 (0.04): : 143it [00:33,  4.31it/s]"
     ]
    },
    {
     "name": "stdout",
     "output_type": "stream",
     "text": [
      "\n",
      "\n"
     ]
    },
    {
     "name": "stderr",
     "output_type": "stream",
     "text": [
      "Train Epoch: 100 [8960/48625 (18%)]\tLoss: 8.303590\tTrain Prec@1 0.00 (0.04): : 145it [00:33,  4.32it/s]"
     ]
    },
    {
     "name": "stdout",
     "output_type": "stream",
     "text": [
      "\n",
      "\n"
     ]
    },
    {
     "name": "stderr",
     "output_type": "stream",
     "text": [
      "Train Epoch: 100 [8960/48625 (18%)]\tLoss: 8.303590\tTrain Prec@1 0.00 (0.04): : 147it [00:34,  4.32it/s]"
     ]
    },
    {
     "name": "stdout",
     "output_type": "stream",
     "text": [
      "\n",
      "\n"
     ]
    },
    {
     "name": "stderr",
     "output_type": "stream",
     "text": [
      "Train Epoch: 100 [8960/48625 (18%)]\tLoss: 8.303590\tTrain Prec@1 0.00 (0.04): : 149it [00:34,  4.32it/s]"
     ]
    },
    {
     "name": "stdout",
     "output_type": "stream",
     "text": [
      "\n",
      "\n"
     ]
    },
    {
     "name": "stderr",
     "output_type": "stream",
     "text": [
      "Train Epoch: 100 [9600/48625 (20%)]\tLoss: 8.175765\tTrain Prec@1 0.00 (0.04): : 151it [00:34,  4.31it/s]"
     ]
    },
    {
     "name": "stdout",
     "output_type": "stream",
     "text": [
      "\n",
      "\n"
     ]
    },
    {
     "name": "stderr",
     "output_type": "stream",
     "text": [
      "Train Epoch: 100 [9600/48625 (20%)]\tLoss: 8.175765\tTrain Prec@1 0.00 (0.04): : 153it [00:35,  4.32it/s]"
     ]
    },
    {
     "name": "stdout",
     "output_type": "stream",
     "text": [
      "\n",
      "\n"
     ]
    },
    {
     "name": "stderr",
     "output_type": "stream",
     "text": [
      "Train Epoch: 100 [9600/48625 (20%)]\tLoss: 8.175765\tTrain Prec@1 0.00 (0.04): : 155it [00:35,  4.32it/s]"
     ]
    },
    {
     "name": "stdout",
     "output_type": "stream",
     "text": [
      "\n",
      "\n"
     ]
    },
    {
     "name": "stderr",
     "output_type": "stream",
     "text": [
      "Train Epoch: 100 [9600/48625 (20%)]\tLoss: 8.175765\tTrain Prec@1 0.00 (0.04): : 157it [00:36,  4.32it/s]"
     ]
    },
    {
     "name": "stdout",
     "output_type": "stream",
     "text": [
      "\n",
      "\n"
     ]
    },
    {
     "name": "stderr",
     "output_type": "stream",
     "text": [
      "Train Epoch: 100 [9600/48625 (20%)]\tLoss: 8.175765\tTrain Prec@1 0.00 (0.04): : 159it [00:36,  4.32it/s]"
     ]
    },
    {
     "name": "stdout",
     "output_type": "stream",
     "text": [
      "\n",
      "\n"
     ]
    },
    {
     "name": "stderr",
     "output_type": "stream",
     "text": [
      "Train Epoch: 100 [10240/48625 (21%)]\tLoss: 8.279041\tTrain Prec@1 0.00 (0.04): : 161it [00:37,  4.32it/s]"
     ]
    },
    {
     "name": "stdout",
     "output_type": "stream",
     "text": [
      "\n",
      "\n"
     ]
    },
    {
     "name": "stderr",
     "output_type": "stream",
     "text": [
      "Train Epoch: 100 [10240/48625 (21%)]\tLoss: 8.279041\tTrain Prec@1 0.00 (0.04): : 163it [00:37,  4.32it/s]"
     ]
    },
    {
     "name": "stdout",
     "output_type": "stream",
     "text": [
      "\n",
      "\n"
     ]
    },
    {
     "name": "stderr",
     "output_type": "stream",
     "text": [
      "Train Epoch: 100 [10240/48625 (21%)]\tLoss: 8.279041\tTrain Prec@1 0.00 (0.04): : 165it [00:38,  4.32it/s]"
     ]
    },
    {
     "name": "stdout",
     "output_type": "stream",
     "text": [
      "\n",
      "\n"
     ]
    },
    {
     "name": "stderr",
     "output_type": "stream",
     "text": [
      "Train Epoch: 100 [10240/48625 (21%)]\tLoss: 8.279041\tTrain Prec@1 0.00 (0.04): : 167it [00:38,  4.32it/s]"
     ]
    },
    {
     "name": "stdout",
     "output_type": "stream",
     "text": [
      "\n",
      "\n"
     ]
    },
    {
     "name": "stderr",
     "output_type": "stream",
     "text": [
      "Train Epoch: 100 [10240/48625 (21%)]\tLoss: 8.279041\tTrain Prec@1 0.00 (0.04): : 169it [00:39,  4.32it/s]"
     ]
    },
    {
     "name": "stdout",
     "output_type": "stream",
     "text": [
      "\n",
      "\n"
     ]
    },
    {
     "name": "stderr",
     "output_type": "stream",
     "text": [
      "Train Epoch: 100 [10880/48625 (22%)]\tLoss: 8.177214\tTrain Prec@1 0.00 (0.04): : 171it [00:39,  4.32it/s]"
     ]
    },
    {
     "name": "stdout",
     "output_type": "stream",
     "text": [
      "\n",
      "\n"
     ]
    },
    {
     "name": "stderr",
     "output_type": "stream",
     "text": [
      "Train Epoch: 100 [10880/48625 (22%)]\tLoss: 8.177214\tTrain Prec@1 0.00 (0.04): : 173it [00:40,  4.32it/s]"
     ]
    },
    {
     "name": "stdout",
     "output_type": "stream",
     "text": [
      "\n",
      "\n"
     ]
    },
    {
     "name": "stderr",
     "output_type": "stream",
     "text": [
      "Train Epoch: 100 [10880/48625 (22%)]\tLoss: 8.177214\tTrain Prec@1 0.00 (0.04): : 175it [00:40,  4.32it/s]"
     ]
    },
    {
     "name": "stdout",
     "output_type": "stream",
     "text": [
      "\n",
      "\n"
     ]
    },
    {
     "name": "stderr",
     "output_type": "stream",
     "text": [
      "Train Epoch: 100 [10880/48625 (22%)]\tLoss: 8.177214\tTrain Prec@1 0.00 (0.04): : 177it [00:40,  4.33it/s]"
     ]
    },
    {
     "name": "stdout",
     "output_type": "stream",
     "text": [
      "\n",
      "\n"
     ]
    },
    {
     "name": "stderr",
     "output_type": "stream",
     "text": [
      "Train Epoch: 100 [10880/48625 (22%)]\tLoss: 8.177214\tTrain Prec@1 0.00 (0.04): : 179it [00:41,  4.33it/s]"
     ]
    },
    {
     "name": "stdout",
     "output_type": "stream",
     "text": [
      "\n",
      "\n"
     ]
    },
    {
     "name": "stderr",
     "output_type": "stream",
     "text": [
      "Train Epoch: 100 [11520/48625 (24%)]\tLoss: 8.291632\tTrain Prec@1 0.00 (0.04): : 181it [00:41,  4.32it/s]"
     ]
    },
    {
     "name": "stdout",
     "output_type": "stream",
     "text": [
      "\n",
      "\n"
     ]
    },
    {
     "name": "stderr",
     "output_type": "stream",
     "text": [
      "Train Epoch: 100 [11520/48625 (24%)]\tLoss: 8.291632\tTrain Prec@1 0.00 (0.04): : 183it [00:42,  4.33it/s]"
     ]
    },
    {
     "name": "stdout",
     "output_type": "stream",
     "text": [
      "\n",
      "\n"
     ]
    },
    {
     "name": "stderr",
     "output_type": "stream",
     "text": [
      "Train Epoch: 100 [11520/48625 (24%)]\tLoss: 8.291632\tTrain Prec@1 0.00 (0.04): : 185it [00:42,  4.33it/s]"
     ]
    },
    {
     "name": "stdout",
     "output_type": "stream",
     "text": [
      "\n",
      "\n"
     ]
    },
    {
     "name": "stderr",
     "output_type": "stream",
     "text": [
      "Train Epoch: 100 [11520/48625 (24%)]\tLoss: 8.291632\tTrain Prec@1 0.00 (0.04): : 187it [00:43,  4.33it/s]"
     ]
    },
    {
     "name": "stdout",
     "output_type": "stream",
     "text": [
      "\n",
      "\n"
     ]
    },
    {
     "name": "stderr",
     "output_type": "stream",
     "text": [
      "Train Epoch: 100 [11520/48625 (24%)]\tLoss: 8.291632\tTrain Prec@1 0.00 (0.04): : 189it [00:43,  4.33it/s]"
     ]
    },
    {
     "name": "stdout",
     "output_type": "stream",
     "text": [
      "\n",
      "\n"
     ]
    },
    {
     "name": "stderr",
     "output_type": "stream",
     "text": [
      "Train Epoch: 100 [12160/48625 (25%)]\tLoss: 8.196680\tTrain Prec@1 0.00 (0.05): : 191it [00:44,  4.33it/s]"
     ]
    },
    {
     "name": "stdout",
     "output_type": "stream",
     "text": [
      "\n",
      "\n"
     ]
    },
    {
     "name": "stderr",
     "output_type": "stream",
     "text": [
      "Train Epoch: 100 [12160/48625 (25%)]\tLoss: 8.196680\tTrain Prec@1 0.00 (0.05): : 193it [00:44,  4.33it/s]"
     ]
    },
    {
     "name": "stdout",
     "output_type": "stream",
     "text": [
      "\n",
      "\n"
     ]
    },
    {
     "name": "stderr",
     "output_type": "stream",
     "text": [
      "Train Epoch: 100 [12160/48625 (25%)]\tLoss: 8.196680\tTrain Prec@1 0.00 (0.05): : 195it [00:44,  4.33it/s]"
     ]
    },
    {
     "name": "stdout",
     "output_type": "stream",
     "text": [
      "\n",
      "\n"
     ]
    },
    {
     "name": "stderr",
     "output_type": "stream",
     "text": [
      "Train Epoch: 100 [12160/48625 (25%)]\tLoss: 8.196680\tTrain Prec@1 0.00 (0.05): : 197it [00:45,  4.33it/s]"
     ]
    },
    {
     "name": "stdout",
     "output_type": "stream",
     "text": [
      "\n",
      "\n"
     ]
    },
    {
     "name": "stderr",
     "output_type": "stream",
     "text": [
      "Train Epoch: 100 [12160/48625 (25%)]\tLoss: 8.196680\tTrain Prec@1 0.00 (0.05): : 199it [00:45,  4.33it/s]"
     ]
    },
    {
     "name": "stdout",
     "output_type": "stream",
     "text": [
      "\n",
      "\n"
     ]
    },
    {
     "name": "stderr",
     "output_type": "stream",
     "text": [
      "Train Epoch: 100 [12800/48625 (26%)]\tLoss: 8.130361\tTrain Prec@1 0.00 (0.05): : 201it [00:46,  4.33it/s]"
     ]
    },
    {
     "name": "stdout",
     "output_type": "stream",
     "text": [
      "\n",
      "\n"
     ]
    },
    {
     "name": "stderr",
     "output_type": "stream",
     "text": [
      "Train Epoch: 100 [12800/48625 (26%)]\tLoss: 8.130361\tTrain Prec@1 0.00 (0.05): : 203it [00:46,  4.33it/s]"
     ]
    },
    {
     "name": "stdout",
     "output_type": "stream",
     "text": [
      "\n",
      "\n"
     ]
    },
    {
     "name": "stderr",
     "output_type": "stream",
     "text": [
      "Train Epoch: 100 [12800/48625 (26%)]\tLoss: 8.130361\tTrain Prec@1 0.00 (0.05): : 205it [00:47,  4.33it/s]"
     ]
    },
    {
     "name": "stdout",
     "output_type": "stream",
     "text": [
      "\n",
      "\n"
     ]
    },
    {
     "name": "stderr",
     "output_type": "stream",
     "text": [
      "Train Epoch: 100 [12800/48625 (26%)]\tLoss: 8.130361\tTrain Prec@1 0.00 (0.05): : 207it [00:47,  4.34it/s]"
     ]
    },
    {
     "name": "stdout",
     "output_type": "stream",
     "text": [
      "\n",
      "\n"
     ]
    },
    {
     "name": "stderr",
     "output_type": "stream",
     "text": [
      "Train Epoch: 100 [12800/48625 (26%)]\tLoss: 8.130361\tTrain Prec@1 0.00 (0.05): : 209it [00:48,  4.34it/s]"
     ]
    },
    {
     "name": "stdout",
     "output_type": "stream",
     "text": [
      "\n",
      "\n"
     ]
    },
    {
     "name": "stderr",
     "output_type": "stream",
     "text": [
      "Train Epoch: 100 [13440/48625 (28%)]\tLoss: 8.117183\tTrain Prec@1 0.00 (0.06): : 211it [00:48,  4.34it/s]"
     ]
    },
    {
     "name": "stdout",
     "output_type": "stream",
     "text": [
      "\n",
      "\n"
     ]
    },
    {
     "name": "stderr",
     "output_type": "stream",
     "text": [
      "Train Epoch: 100 [13440/48625 (28%)]\tLoss: 8.117183\tTrain Prec@1 0.00 (0.06): : 213it [00:49,  4.34it/s]"
     ]
    },
    {
     "name": "stdout",
     "output_type": "stream",
     "text": [
      "\n",
      "\n"
     ]
    },
    {
     "name": "stderr",
     "output_type": "stream",
     "text": [
      "Train Epoch: 100 [13440/48625 (28%)]\tLoss: 8.117183\tTrain Prec@1 0.00 (0.06): : 215it [00:49,  4.34it/s]"
     ]
    },
    {
     "name": "stdout",
     "output_type": "stream",
     "text": [
      "\n",
      "\n"
     ]
    },
    {
     "name": "stderr",
     "output_type": "stream",
     "text": [
      "Train Epoch: 100 [13440/48625 (28%)]\tLoss: 8.117183\tTrain Prec@1 0.00 (0.06): : 217it [00:50,  4.34it/s]"
     ]
    },
    {
     "name": "stdout",
     "output_type": "stream",
     "text": [
      "\n",
      "\n"
     ]
    },
    {
     "name": "stderr",
     "output_type": "stream",
     "text": [
      "Train Epoch: 100 [13440/48625 (28%)]\tLoss: 8.117183\tTrain Prec@1 0.00 (0.06): : 219it [00:50,  4.34it/s]"
     ]
    },
    {
     "name": "stdout",
     "output_type": "stream",
     "text": [
      "\n",
      "\n"
     ]
    },
    {
     "name": "stderr",
     "output_type": "stream",
     "text": [
      "Train Epoch: 100 [14080/48625 (29%)]\tLoss: 8.130512\tTrain Prec@1 1.56 (0.06): : 221it [00:50,  4.34it/s]"
     ]
    },
    {
     "name": "stdout",
     "output_type": "stream",
     "text": [
      "\n",
      "\n"
     ]
    },
    {
     "name": "stderr",
     "output_type": "stream",
     "text": [
      "Train Epoch: 100 [14080/48625 (29%)]\tLoss: 8.130512\tTrain Prec@1 1.56 (0.06): : 223it [00:51,  4.34it/s]"
     ]
    },
    {
     "name": "stdout",
     "output_type": "stream",
     "text": [
      "\n",
      "\n"
     ]
    },
    {
     "name": "stderr",
     "output_type": "stream",
     "text": [
      "Train Epoch: 100 [14080/48625 (29%)]\tLoss: 8.130512\tTrain Prec@1 1.56 (0.06): : 225it [00:51,  4.34it/s]"
     ]
    },
    {
     "name": "stdout",
     "output_type": "stream",
     "text": [
      "\n",
      "\n"
     ]
    },
    {
     "name": "stderr",
     "output_type": "stream",
     "text": [
      "Train Epoch: 100 [14080/48625 (29%)]\tLoss: 8.130512\tTrain Prec@1 1.56 (0.06): : 227it [00:52,  4.34it/s]"
     ]
    },
    {
     "name": "stdout",
     "output_type": "stream",
     "text": [
      "\n",
      "\n"
     ]
    },
    {
     "name": "stderr",
     "output_type": "stream",
     "text": [
      "Train Epoch: 100 [14080/48625 (29%)]\tLoss: 8.130512\tTrain Prec@1 1.56 (0.06): : 229it [00:52,  4.34it/s]"
     ]
    },
    {
     "name": "stdout",
     "output_type": "stream",
     "text": [
      "\n",
      "\n"
     ]
    },
    {
     "name": "stderr",
     "output_type": "stream",
     "text": [
      "Train Epoch: 100 [14720/48625 (30%)]\tLoss: 8.052271\tTrain Prec@1 0.00 (0.07): : 231it [00:53,  4.34it/s]"
     ]
    },
    {
     "name": "stdout",
     "output_type": "stream",
     "text": [
      "\n",
      "\n"
     ]
    },
    {
     "name": "stderr",
     "output_type": "stream",
     "text": [
      "Train Epoch: 100 [14720/48625 (30%)]\tLoss: 8.052271\tTrain Prec@1 0.00 (0.07): : 233it [00:53,  4.34it/s]"
     ]
    },
    {
     "name": "stdout",
     "output_type": "stream",
     "text": [
      "\n",
      "\n"
     ]
    },
    {
     "name": "stderr",
     "output_type": "stream",
     "text": [
      "Train Epoch: 100 [14720/48625 (30%)]\tLoss: 8.052271\tTrain Prec@1 0.00 (0.07): : 235it [00:54,  4.34it/s]"
     ]
    },
    {
     "name": "stdout",
     "output_type": "stream",
     "text": [
      "\n",
      "\n"
     ]
    },
    {
     "name": "stderr",
     "output_type": "stream",
     "text": [
      "Train Epoch: 100 [14720/48625 (30%)]\tLoss: 8.052271\tTrain Prec@1 0.00 (0.07): : 237it [00:54,  4.34it/s]"
     ]
    },
    {
     "name": "stdout",
     "output_type": "stream",
     "text": [
      "\n",
      "\n"
     ]
    },
    {
     "name": "stderr",
     "output_type": "stream",
     "text": [
      "Train Epoch: 100 [14720/48625 (30%)]\tLoss: 8.052271\tTrain Prec@1 0.00 (0.07): : 239it [00:55,  4.34it/s]"
     ]
    },
    {
     "name": "stdout",
     "output_type": "stream",
     "text": [
      "\n",
      "\n"
     ]
    },
    {
     "name": "stderr",
     "output_type": "stream",
     "text": [
      "Train Epoch: 100 [15360/48625 (32%)]\tLoss: 8.138404\tTrain Prec@1 0.00 (0.06): : 241it [00:55,  4.34it/s]"
     ]
    },
    {
     "name": "stdout",
     "output_type": "stream",
     "text": [
      "\n",
      "\n"
     ]
    },
    {
     "name": "stderr",
     "output_type": "stream",
     "text": [
      "Train Epoch: 100 [15360/48625 (32%)]\tLoss: 8.138404\tTrain Prec@1 0.00 (0.06): : 243it [00:55,  4.34it/s]"
     ]
    },
    {
     "name": "stdout",
     "output_type": "stream",
     "text": [
      "\n",
      "\n"
     ]
    },
    {
     "name": "stderr",
     "output_type": "stream",
     "text": [
      "Train Epoch: 100 [15360/48625 (32%)]\tLoss: 8.138404\tTrain Prec@1 0.00 (0.06): : 245it [00:56,  4.34it/s]"
     ]
    },
    {
     "name": "stdout",
     "output_type": "stream",
     "text": [
      "\n",
      "\n"
     ]
    },
    {
     "name": "stderr",
     "output_type": "stream",
     "text": [
      "Train Epoch: 100 [15360/48625 (32%)]\tLoss: 8.138404\tTrain Prec@1 0.00 (0.06): : 247it [00:56,  4.34it/s]"
     ]
    },
    {
     "name": "stdout",
     "output_type": "stream",
     "text": [
      "\n",
      "\n"
     ]
    },
    {
     "name": "stderr",
     "output_type": "stream",
     "text": [
      "Train Epoch: 100 [15360/48625 (32%)]\tLoss: 8.138404\tTrain Prec@1 0.00 (0.06): : 249it [00:57,  4.34it/s]"
     ]
    },
    {
     "name": "stdout",
     "output_type": "stream",
     "text": [
      "\n",
      "\n"
     ]
    },
    {
     "name": "stderr",
     "output_type": "stream",
     "text": [
      "Train Epoch: 100 [16000/48625 (33%)]\tLoss: 8.308343\tTrain Prec@1 0.00 (0.07): : 251it [00:57,  4.34it/s]"
     ]
    },
    {
     "name": "stdout",
     "output_type": "stream",
     "text": [
      "\n",
      "\n"
     ]
    },
    {
     "name": "stderr",
     "output_type": "stream",
     "text": [
      "Train Epoch: 100 [16000/48625 (33%)]\tLoss: 8.308343\tTrain Prec@1 0.00 (0.07): : 253it [00:58,  4.34it/s]"
     ]
    },
    {
     "name": "stdout",
     "output_type": "stream",
     "text": [
      "\n",
      "\n"
     ]
    },
    {
     "name": "stderr",
     "output_type": "stream",
     "text": [
      "Train Epoch: 100 [16000/48625 (33%)]\tLoss: 8.308343\tTrain Prec@1 0.00 (0.07): : 255it [00:58,  4.35it/s]"
     ]
    },
    {
     "name": "stdout",
     "output_type": "stream",
     "text": [
      "\n",
      "\n"
     ]
    },
    {
     "name": "stderr",
     "output_type": "stream",
     "text": [
      "Train Epoch: 100 [16000/48625 (33%)]\tLoss: 8.308343\tTrain Prec@1 0.00 (0.07): : 257it [00:59,  4.35it/s]"
     ]
    },
    {
     "name": "stdout",
     "output_type": "stream",
     "text": [
      "\n",
      "\n"
     ]
    },
    {
     "name": "stderr",
     "output_type": "stream",
     "text": [
      "Train Epoch: 100 [16000/48625 (33%)]\tLoss: 8.308343\tTrain Prec@1 0.00 (0.07): : 259it [00:59,  4.35it/s]"
     ]
    },
    {
     "name": "stdout",
     "output_type": "stream",
     "text": [
      "\n",
      "\n"
     ]
    },
    {
     "name": "stderr",
     "output_type": "stream",
     "text": [
      "Train Epoch: 100 [16640/48625 (34%)]\tLoss: 8.117622\tTrain Prec@1 0.00 (0.07): : 261it [01:00,  4.34it/s]"
     ]
    },
    {
     "name": "stdout",
     "output_type": "stream",
     "text": [
      "\n",
      "\n"
     ]
    },
    {
     "name": "stderr",
     "output_type": "stream",
     "text": [
      "Train Epoch: 100 [16640/48625 (34%)]\tLoss: 8.117622\tTrain Prec@1 0.00 (0.07): : 263it [01:00,  4.35it/s]"
     ]
    },
    {
     "name": "stdout",
     "output_type": "stream",
     "text": [
      "\n",
      "\n"
     ]
    },
    {
     "name": "stderr",
     "output_type": "stream",
     "text": [
      "Train Epoch: 100 [16640/48625 (34%)]\tLoss: 8.117622\tTrain Prec@1 0.00 (0.07): : 265it [01:00,  4.35it/s]"
     ]
    },
    {
     "name": "stdout",
     "output_type": "stream",
     "text": [
      "\n",
      "\n"
     ]
    },
    {
     "name": "stderr",
     "output_type": "stream",
     "text": [
      "Train Epoch: 100 [16640/48625 (34%)]\tLoss: 8.117622\tTrain Prec@1 0.00 (0.07): : 267it [01:01,  4.34it/s]"
     ]
    },
    {
     "name": "stdout",
     "output_type": "stream",
     "text": [
      "\n",
      "\n"
     ]
    },
    {
     "name": "stderr",
     "output_type": "stream",
     "text": [
      "Train Epoch: 100 [16640/48625 (34%)]\tLoss: 8.117622\tTrain Prec@1 0.00 (0.07): : 269it [01:01,  4.34it/s]"
     ]
    },
    {
     "name": "stdout",
     "output_type": "stream",
     "text": [
      "\n",
      "\n"
     ]
    },
    {
     "name": "stderr",
     "output_type": "stream",
     "text": [
      "Train Epoch: 100 [17280/48625 (36%)]\tLoss: 8.034313\tTrain Prec@1 0.00 (0.08): : 271it [01:02,  4.34it/s]"
     ]
    },
    {
     "name": "stdout",
     "output_type": "stream",
     "text": [
      "\n",
      "\n"
     ]
    },
    {
     "name": "stderr",
     "output_type": "stream",
     "text": [
      "Train Epoch: 100 [17280/48625 (36%)]\tLoss: 8.034313\tTrain Prec@1 0.00 (0.08): : 273it [01:02,  4.34it/s]"
     ]
    },
    {
     "name": "stdout",
     "output_type": "stream",
     "text": [
      "\n",
      "\n"
     ]
    },
    {
     "name": "stderr",
     "output_type": "stream",
     "text": [
      "Train Epoch: 100 [17280/48625 (36%)]\tLoss: 8.034313\tTrain Prec@1 0.00 (0.08): : 275it [01:03,  4.34it/s]"
     ]
    },
    {
     "name": "stdout",
     "output_type": "stream",
     "text": [
      "\n",
      "\n"
     ]
    },
    {
     "name": "stderr",
     "output_type": "stream",
     "text": [
      "Train Epoch: 100 [17280/48625 (36%)]\tLoss: 8.034313\tTrain Prec@1 0.00 (0.08): : 277it [01:03,  4.34it/s]"
     ]
    },
    {
     "name": "stdout",
     "output_type": "stream",
     "text": [
      "\n",
      "\n"
     ]
    },
    {
     "name": "stderr",
     "output_type": "stream",
     "text": [
      "Train Epoch: 100 [17280/48625 (36%)]\tLoss: 8.034313\tTrain Prec@1 0.00 (0.08): : 279it [01:04,  4.34it/s]"
     ]
    },
    {
     "name": "stdout",
     "output_type": "stream",
     "text": [
      "\n",
      "\n"
     ]
    },
    {
     "name": "stderr",
     "output_type": "stream",
     "text": [
      "Train Epoch: 100 [17920/48625 (37%)]\tLoss: 8.211318\tTrain Prec@1 0.00 (0.08): : 281it [01:04,  4.34it/s]"
     ]
    },
    {
     "name": "stdout",
     "output_type": "stream",
     "text": [
      "\n",
      "\n"
     ]
    },
    {
     "name": "stderr",
     "output_type": "stream",
     "text": [
      "Train Epoch: 100 [17920/48625 (37%)]\tLoss: 8.211318\tTrain Prec@1 0.00 (0.08): : 283it [01:05,  4.34it/s]"
     ]
    },
    {
     "name": "stdout",
     "output_type": "stream",
     "text": [
      "\n",
      "\n"
     ]
    },
    {
     "name": "stderr",
     "output_type": "stream",
     "text": [
      "Train Epoch: 100 [17920/48625 (37%)]\tLoss: 8.211318\tTrain Prec@1 0.00 (0.08): : 285it [01:05,  4.34it/s]"
     ]
    },
    {
     "name": "stdout",
     "output_type": "stream",
     "text": [
      "\n",
      "\n"
     ]
    },
    {
     "name": "stderr",
     "output_type": "stream",
     "text": [
      "Train Epoch: 100 [17920/48625 (37%)]\tLoss: 8.211318\tTrain Prec@1 0.00 (0.08): : 287it [01:06,  4.34it/s]"
     ]
    },
    {
     "name": "stdout",
     "output_type": "stream",
     "text": [
      "\n",
      "\n"
     ]
    },
    {
     "name": "stderr",
     "output_type": "stream",
     "text": [
      "Train Epoch: 100 [17920/48625 (37%)]\tLoss: 8.211318\tTrain Prec@1 0.00 (0.08): : 289it [01:06,  4.35it/s]"
     ]
    },
    {
     "name": "stdout",
     "output_type": "stream",
     "text": [
      "\n",
      "\n"
     ]
    },
    {
     "name": "stderr",
     "output_type": "stream",
     "text": [
      "Train Epoch: 100 [18560/48625 (38%)]\tLoss: 8.145586\tTrain Prec@1 0.00 (0.08): : 291it [01:06,  4.35it/s]"
     ]
    },
    {
     "name": "stdout",
     "output_type": "stream",
     "text": [
      "\n",
      "\n"
     ]
    },
    {
     "name": "stderr",
     "output_type": "stream",
     "text": [
      "Train Epoch: 100 [18560/48625 (38%)]\tLoss: 8.145586\tTrain Prec@1 0.00 (0.08): : 293it [01:07,  4.35it/s]"
     ]
    },
    {
     "name": "stdout",
     "output_type": "stream",
     "text": [
      "\n",
      "\n"
     ]
    },
    {
     "name": "stderr",
     "output_type": "stream",
     "text": [
      "Train Epoch: 100 [18560/48625 (38%)]\tLoss: 8.145586\tTrain Prec@1 0.00 (0.08): : 295it [01:07,  4.35it/s]"
     ]
    },
    {
     "name": "stdout",
     "output_type": "stream",
     "text": [
      "\n",
      "\n"
     ]
    },
    {
     "name": "stderr",
     "output_type": "stream",
     "text": [
      "Train Epoch: 100 [18560/48625 (38%)]\tLoss: 8.145586\tTrain Prec@1 0.00 (0.08): : 297it [01:08,  4.35it/s]"
     ]
    },
    {
     "name": "stdout",
     "output_type": "stream",
     "text": [
      "\n",
      "\n"
     ]
    },
    {
     "name": "stderr",
     "output_type": "stream",
     "text": [
      "Train Epoch: 100 [18560/48625 (38%)]\tLoss: 8.145586\tTrain Prec@1 0.00 (0.08): : 299it [01:08,  4.35it/s]"
     ]
    },
    {
     "name": "stdout",
     "output_type": "stream",
     "text": [
      "\n",
      "\n"
     ]
    },
    {
     "name": "stderr",
     "output_type": "stream",
     "text": [
      "Train Epoch: 100 [19200/48625 (39%)]\tLoss: 8.128432\tTrain Prec@1 0.00 (0.08): : 301it [01:09,  4.35it/s]"
     ]
    },
    {
     "name": "stdout",
     "output_type": "stream",
     "text": [
      "\n",
      "\n"
     ]
    },
    {
     "name": "stderr",
     "output_type": "stream",
     "text": [
      "Train Epoch: 100 [19200/48625 (39%)]\tLoss: 8.128432\tTrain Prec@1 0.00 (0.08): : 303it [01:09,  4.35it/s]"
     ]
    },
    {
     "name": "stdout",
     "output_type": "stream",
     "text": [
      "\n",
      "\n"
     ]
    },
    {
     "name": "stderr",
     "output_type": "stream",
     "text": [
      "Train Epoch: 100 [19200/48625 (39%)]\tLoss: 8.128432\tTrain Prec@1 0.00 (0.08): : 305it [01:10,  4.35it/s]"
     ]
    },
    {
     "name": "stdout",
     "output_type": "stream",
     "text": [
      "\n",
      "\n"
     ]
    },
    {
     "name": "stderr",
     "output_type": "stream",
     "text": [
      "Train Epoch: 100 [19200/48625 (39%)]\tLoss: 8.128432\tTrain Prec@1 0.00 (0.08): : 307it [01:10,  4.35it/s]"
     ]
    },
    {
     "name": "stdout",
     "output_type": "stream",
     "text": [
      "\n",
      "\n"
     ]
    },
    {
     "name": "stderr",
     "output_type": "stream",
     "text": [
      "Train Epoch: 100 [19200/48625 (39%)]\tLoss: 8.128432\tTrain Prec@1 0.00 (0.08): : 309it [01:11,  4.35it/s]"
     ]
    },
    {
     "name": "stdout",
     "output_type": "stream",
     "text": [
      "\n",
      "\n"
     ]
    },
    {
     "name": "stderr",
     "output_type": "stream",
     "text": [
      "Train Epoch: 100 [19840/48625 (41%)]\tLoss: 7.990150\tTrain Prec@1 0.00 (0.08): : 311it [01:11,  4.35it/s]"
     ]
    },
    {
     "name": "stdout",
     "output_type": "stream",
     "text": [
      "\n",
      "\n"
     ]
    },
    {
     "name": "stderr",
     "output_type": "stream",
     "text": [
      "Train Epoch: 100 [19840/48625 (41%)]\tLoss: 7.990150\tTrain Prec@1 0.00 (0.08): : 313it [01:11,  4.35it/s]"
     ]
    },
    {
     "name": "stdout",
     "output_type": "stream",
     "text": [
      "\n",
      "\n"
     ]
    },
    {
     "name": "stderr",
     "output_type": "stream",
     "text": [
      "Train Epoch: 100 [19840/48625 (41%)]\tLoss: 7.990150\tTrain Prec@1 0.00 (0.08): : 315it [01:12,  4.35it/s]"
     ]
    },
    {
     "name": "stdout",
     "output_type": "stream",
     "text": [
      "\n",
      "\n"
     ]
    },
    {
     "name": "stderr",
     "output_type": "stream",
     "text": [
      "Train Epoch: 100 [19840/48625 (41%)]\tLoss: 7.990150\tTrain Prec@1 0.00 (0.08): : 317it [01:12,  4.35it/s]"
     ]
    },
    {
     "name": "stdout",
     "output_type": "stream",
     "text": [
      "\n",
      "\n"
     ]
    },
    {
     "name": "stderr",
     "output_type": "stream",
     "text": [
      "Train Epoch: 100 [19840/48625 (41%)]\tLoss: 7.990150\tTrain Prec@1 0.00 (0.08): : 319it [01:13,  4.35it/s]"
     ]
    },
    {
     "name": "stdout",
     "output_type": "stream",
     "text": [
      "\n",
      "\n"
     ]
    },
    {
     "name": "stderr",
     "output_type": "stream",
     "text": [
      "Train Epoch: 100 [20480/48625 (42%)]\tLoss: 8.251839\tTrain Prec@1 0.00 (0.08): : 321it [01:13,  4.35it/s]"
     ]
    },
    {
     "name": "stdout",
     "output_type": "stream",
     "text": [
      "\n",
      "\n"
     ]
    },
    {
     "name": "stderr",
     "output_type": "stream",
     "text": [
      "Train Epoch: 100 [20480/48625 (42%)]\tLoss: 8.251839\tTrain Prec@1 0.00 (0.08): : 323it [01:14,  4.35it/s]"
     ]
    },
    {
     "name": "stdout",
     "output_type": "stream",
     "text": [
      "\n",
      "\n"
     ]
    },
    {
     "name": "stderr",
     "output_type": "stream",
     "text": [
      "Train Epoch: 100 [20480/48625 (42%)]\tLoss: 8.251839\tTrain Prec@1 0.00 (0.08): : 325it [01:14,  4.35it/s]"
     ]
    },
    {
     "name": "stdout",
     "output_type": "stream",
     "text": [
      "\n",
      "\n"
     ]
    },
    {
     "name": "stderr",
     "output_type": "stream",
     "text": [
      "Train Epoch: 100 [20480/48625 (42%)]\tLoss: 8.251839\tTrain Prec@1 0.00 (0.08): : 327it [01:15,  4.35it/s]"
     ]
    },
    {
     "name": "stdout",
     "output_type": "stream",
     "text": [
      "\n",
      "\n"
     ]
    },
    {
     "name": "stderr",
     "output_type": "stream",
     "text": [
      "Train Epoch: 100 [20480/48625 (42%)]\tLoss: 8.251839\tTrain Prec@1 0.00 (0.08): : 329it [01:15,  4.35it/s]"
     ]
    },
    {
     "name": "stdout",
     "output_type": "stream",
     "text": [
      "\n",
      "\n"
     ]
    },
    {
     "name": "stderr",
     "output_type": "stream",
     "text": [
      "Train Epoch: 100 [21120/48625 (43%)]\tLoss: 8.126353\tTrain Prec@1 1.56 (0.08): : 331it [01:16,  4.35it/s]"
     ]
    },
    {
     "name": "stdout",
     "output_type": "stream",
     "text": [
      "\n",
      "\n"
     ]
    },
    {
     "name": "stderr",
     "output_type": "stream",
     "text": [
      "Train Epoch: 100 [21120/48625 (43%)]\tLoss: 8.126353\tTrain Prec@1 1.56 (0.08): : 333it [01:16,  4.34it/s]"
     ]
    },
    {
     "name": "stdout",
     "output_type": "stream",
     "text": [
      "\n",
      "\n"
     ]
    },
    {
     "name": "stderr",
     "output_type": "stream",
     "text": [
      "Train Epoch: 100 [21120/48625 (43%)]\tLoss: 8.126353\tTrain Prec@1 1.56 (0.08): : 335it [01:17,  4.34it/s]"
     ]
    },
    {
     "name": "stdout",
     "output_type": "stream",
     "text": [
      "\n",
      "\n"
     ]
    },
    {
     "name": "stderr",
     "output_type": "stream",
     "text": [
      "Train Epoch: 100 [21120/48625 (43%)]\tLoss: 8.126353\tTrain Prec@1 1.56 (0.08): : 337it [01:17,  4.33it/s]"
     ]
    },
    {
     "name": "stdout",
     "output_type": "stream",
     "text": [
      "\n",
      "\n"
     ]
    },
    {
     "name": "stderr",
     "output_type": "stream",
     "text": [
      "Train Epoch: 100 [21120/48625 (43%)]\tLoss: 8.126353\tTrain Prec@1 1.56 (0.08): : 339it [01:18,  4.33it/s]"
     ]
    },
    {
     "name": "stdout",
     "output_type": "stream",
     "text": [
      "\n",
      "\n"
     ]
    },
    {
     "name": "stderr",
     "output_type": "stream",
     "text": [
      "Train Epoch: 100 [21760/48625 (45%)]\tLoss: 8.049610\tTrain Prec@1 0.00 (0.08): : 341it [01:18,  4.32it/s]"
     ]
    },
    {
     "name": "stdout",
     "output_type": "stream",
     "text": [
      "\n",
      "\n"
     ]
    },
    {
     "name": "stderr",
     "output_type": "stream",
     "text": [
      "Train Epoch: 100 [21760/48625 (45%)]\tLoss: 8.049610\tTrain Prec@1 0.00 (0.08): : 343it [01:19,  4.31it/s]"
     ]
    },
    {
     "name": "stdout",
     "output_type": "stream",
     "text": [
      "\n",
      "\n"
     ]
    },
    {
     "name": "stderr",
     "output_type": "stream",
     "text": [
      "Train Epoch: 100 [21760/48625 (45%)]\tLoss: 8.049610\tTrain Prec@1 0.00 (0.08): : 345it [01:20,  4.30it/s]"
     ]
    },
    {
     "name": "stdout",
     "output_type": "stream",
     "text": [
      "\n",
      "\n"
     ]
    },
    {
     "name": "stderr",
     "output_type": "stream",
     "text": [
      "Train Epoch: 100 [21760/48625 (45%)]\tLoss: 8.049610\tTrain Prec@1 0.00 (0.08): : 347it [01:20,  4.30it/s]"
     ]
    },
    {
     "name": "stdout",
     "output_type": "stream",
     "text": [
      "\n",
      "\n"
     ]
    },
    {
     "name": "stderr",
     "output_type": "stream",
     "text": [
      "Train Epoch: 100 [21760/48625 (45%)]\tLoss: 8.049610\tTrain Prec@1 0.00 (0.08): : 349it [01:21,  4.30it/s]"
     ]
    },
    {
     "name": "stdout",
     "output_type": "stream",
     "text": [
      "\n",
      "\n"
     ]
    },
    {
     "name": "stderr",
     "output_type": "stream",
     "text": [
      "Train Epoch: 100 [22400/48625 (46%)]\tLoss: 8.073563\tTrain Prec@1 0.00 (0.08): : 351it [01:21,  4.30it/s]"
     ]
    },
    {
     "name": "stdout",
     "output_type": "stream",
     "text": [
      "\n",
      "\n"
     ]
    },
    {
     "name": "stderr",
     "output_type": "stream",
     "text": [
      "Train Epoch: 100 [22400/48625 (46%)]\tLoss: 8.073563\tTrain Prec@1 0.00 (0.08): : 353it [01:22,  4.30it/s]"
     ]
    },
    {
     "name": "stdout",
     "output_type": "stream",
     "text": [
      "\n",
      "\n"
     ]
    },
    {
     "name": "stderr",
     "output_type": "stream",
     "text": [
      "Train Epoch: 100 [22400/48625 (46%)]\tLoss: 8.073563\tTrain Prec@1 0.00 (0.08): : 355it [01:22,  4.30it/s]"
     ]
    },
    {
     "name": "stdout",
     "output_type": "stream",
     "text": [
      "\n",
      "\n"
     ]
    },
    {
     "name": "stderr",
     "output_type": "stream",
     "text": [
      "Train Epoch: 100 [22400/48625 (46%)]\tLoss: 8.073563\tTrain Prec@1 0.00 (0.08): : 357it [01:22,  4.30it/s]"
     ]
    },
    {
     "name": "stdout",
     "output_type": "stream",
     "text": [
      "\n",
      "\n"
     ]
    },
    {
     "name": "stderr",
     "output_type": "stream",
     "text": [
      "Train Epoch: 100 [22400/48625 (46%)]\tLoss: 8.073563\tTrain Prec@1 0.00 (0.08): : 359it [01:23,  4.30it/s]"
     ]
    },
    {
     "name": "stdout",
     "output_type": "stream",
     "text": [
      "\n",
      "\n"
     ]
    },
    {
     "name": "stderr",
     "output_type": "stream",
     "text": [
      "Train Epoch: 100 [23040/48625 (47%)]\tLoss: 8.073532\tTrain Prec@1 0.00 (0.08): : 361it [01:23,  4.30it/s]"
     ]
    },
    {
     "name": "stdout",
     "output_type": "stream",
     "text": [
      "\n",
      "\n"
     ]
    },
    {
     "name": "stderr",
     "output_type": "stream",
     "text": [
      "Train Epoch: 100 [23040/48625 (47%)]\tLoss: 8.073532\tTrain Prec@1 0.00 (0.08): : 363it [01:24,  4.30it/s]"
     ]
    },
    {
     "name": "stdout",
     "output_type": "stream",
     "text": [
      "\n",
      "\n"
     ]
    },
    {
     "name": "stderr",
     "output_type": "stream",
     "text": [
      "Train Epoch: 100 [23040/48625 (47%)]\tLoss: 8.073532\tTrain Prec@1 0.00 (0.08): : 365it [01:24,  4.31it/s]"
     ]
    },
    {
     "name": "stdout",
     "output_type": "stream",
     "text": [
      "\n",
      "\n"
     ]
    },
    {
     "name": "stderr",
     "output_type": "stream",
     "text": [
      "Train Epoch: 100 [23040/48625 (47%)]\tLoss: 8.073532\tTrain Prec@1 0.00 (0.08): : 367it [01:25,  4.30it/s]"
     ]
    },
    {
     "name": "stdout",
     "output_type": "stream",
     "text": [
      "\n",
      "\n"
     ]
    },
    {
     "name": "stderr",
     "output_type": "stream",
     "text": [
      "Train Epoch: 100 [23040/48625 (47%)]\tLoss: 8.073532\tTrain Prec@1 0.00 (0.08): : 369it [01:25,  4.31it/s]"
     ]
    },
    {
     "name": "stdout",
     "output_type": "stream",
     "text": [
      "\n",
      "\n"
     ]
    },
    {
     "name": "stderr",
     "output_type": "stream",
     "text": [
      "Train Epoch: 100 [23680/48625 (49%)]\tLoss: 7.955598\tTrain Prec@1 1.56 (0.09): : 371it [01:26,  4.31it/s]"
     ]
    },
    {
     "name": "stdout",
     "output_type": "stream",
     "text": [
      "\n",
      "\n"
     ]
    },
    {
     "name": "stderr",
     "output_type": "stream",
     "text": [
      "Train Epoch: 100 [23680/48625 (49%)]\tLoss: 7.955598\tTrain Prec@1 1.56 (0.09): : 373it [01:26,  4.31it/s]"
     ]
    },
    {
     "name": "stdout",
     "output_type": "stream",
     "text": [
      "\n",
      "\n"
     ]
    },
    {
     "name": "stderr",
     "output_type": "stream",
     "text": [
      "Train Epoch: 100 [23680/48625 (49%)]\tLoss: 7.955598\tTrain Prec@1 1.56 (0.09): : 375it [01:27,  4.31it/s]"
     ]
    },
    {
     "name": "stdout",
     "output_type": "stream",
     "text": [
      "\n",
      "\n"
     ]
    },
    {
     "name": "stderr",
     "output_type": "stream",
     "text": [
      "Train Epoch: 100 [23680/48625 (49%)]\tLoss: 7.955598\tTrain Prec@1 1.56 (0.09): : 377it [01:27,  4.31it/s]"
     ]
    },
    {
     "name": "stdout",
     "output_type": "stream",
     "text": [
      "\n",
      "\n"
     ]
    },
    {
     "name": "stderr",
     "output_type": "stream",
     "text": [
      "Train Epoch: 100 [23680/48625 (49%)]\tLoss: 7.955598\tTrain Prec@1 1.56 (0.09): : 379it [01:27,  4.31it/s]"
     ]
    },
    {
     "name": "stdout",
     "output_type": "stream",
     "text": [
      "\n",
      "\n"
     ]
    },
    {
     "name": "stderr",
     "output_type": "stream",
     "text": [
      "Train Epoch: 100 [24320/48625 (50%)]\tLoss: 7.857808\tTrain Prec@1 1.56 (0.09): : 381it [01:28,  4.31it/s]"
     ]
    },
    {
     "name": "stdout",
     "output_type": "stream",
     "text": [
      "\n",
      "\n"
     ]
    },
    {
     "name": "stderr",
     "output_type": "stream",
     "text": [
      "Train Epoch: 100 [24320/48625 (50%)]\tLoss: 7.857808\tTrain Prec@1 1.56 (0.09): : 383it [01:28,  4.31it/s]"
     ]
    },
    {
     "name": "stdout",
     "output_type": "stream",
     "text": [
      "\n",
      "\n"
     ]
    },
    {
     "name": "stderr",
     "output_type": "stream",
     "text": [
      "Train Epoch: 100 [24320/48625 (50%)]\tLoss: 7.857808\tTrain Prec@1 1.56 (0.09): : 385it [01:29,  4.31it/s]"
     ]
    },
    {
     "name": "stdout",
     "output_type": "stream",
     "text": [
      "\n",
      "\n"
     ]
    },
    {
     "name": "stderr",
     "output_type": "stream",
     "text": [
      "Train Epoch: 100 [24320/48625 (50%)]\tLoss: 7.857808\tTrain Prec@1 1.56 (0.09): : 387it [01:29,  4.31it/s]"
     ]
    },
    {
     "name": "stdout",
     "output_type": "stream",
     "text": [
      "\n",
      "\n"
     ]
    },
    {
     "name": "stderr",
     "output_type": "stream",
     "text": [
      "Train Epoch: 100 [24320/48625 (50%)]\tLoss: 7.857808\tTrain Prec@1 1.56 (0.09): : 389it [01:30,  4.31it/s]"
     ]
    },
    {
     "name": "stdout",
     "output_type": "stream",
     "text": [
      "\n",
      "\n"
     ]
    },
    {
     "name": "stderr",
     "output_type": "stream",
     "text": [
      "Train Epoch: 100 [24960/48625 (51%)]\tLoss: 7.981040\tTrain Prec@1 1.56 (0.10): : 391it [01:30,  4.31it/s]"
     ]
    },
    {
     "name": "stdout",
     "output_type": "stream",
     "text": [
      "\n",
      "\n"
     ]
    },
    {
     "name": "stderr",
     "output_type": "stream",
     "text": [
      "Train Epoch: 100 [24960/48625 (51%)]\tLoss: 7.981040\tTrain Prec@1 1.56 (0.10): : 393it [01:31,  4.31it/s]"
     ]
    },
    {
     "name": "stdout",
     "output_type": "stream",
     "text": [
      "\n",
      "\n"
     ]
    },
    {
     "name": "stderr",
     "output_type": "stream",
     "text": [
      "Train Epoch: 100 [24960/48625 (51%)]\tLoss: 7.981040\tTrain Prec@1 1.56 (0.10): : 395it [01:31,  4.31it/s]"
     ]
    },
    {
     "name": "stdout",
     "output_type": "stream",
     "text": [
      "\n",
      "\n"
     ]
    },
    {
     "name": "stderr",
     "output_type": "stream",
     "text": [
      "Train Epoch: 100 [24960/48625 (51%)]\tLoss: 7.981040\tTrain Prec@1 1.56 (0.10): : 397it [01:32,  4.31it/s]"
     ]
    },
    {
     "name": "stdout",
     "output_type": "stream",
     "text": [
      "\n",
      "\n"
     ]
    },
    {
     "name": "stderr",
     "output_type": "stream",
     "text": [
      "Train Epoch: 100 [24960/48625 (51%)]\tLoss: 7.981040\tTrain Prec@1 1.56 (0.10): : 399it [01:32,  4.31it/s]"
     ]
    },
    {
     "name": "stdout",
     "output_type": "stream",
     "text": [
      "\n",
      "\n"
     ]
    },
    {
     "name": "stderr",
     "output_type": "stream",
     "text": [
      "Train Epoch: 100 [25600/48625 (53%)]\tLoss: 8.015947\tTrain Prec@1 1.56 (0.10): : 401it [01:33,  4.31it/s]"
     ]
    },
    {
     "name": "stdout",
     "output_type": "stream",
     "text": [
      "\n",
      "\n"
     ]
    },
    {
     "name": "stderr",
     "output_type": "stream",
     "text": [
      "Train Epoch: 100 [25600/48625 (53%)]\tLoss: 8.015947\tTrain Prec@1 1.56 (0.10): : 403it [01:33,  4.31it/s]"
     ]
    },
    {
     "name": "stdout",
     "output_type": "stream",
     "text": [
      "\n",
      "\n"
     ]
    },
    {
     "name": "stderr",
     "output_type": "stream",
     "text": [
      "Train Epoch: 100 [25600/48625 (53%)]\tLoss: 8.015947\tTrain Prec@1 1.56 (0.10): : 405it [01:33,  4.31it/s]"
     ]
    },
    {
     "name": "stdout",
     "output_type": "stream",
     "text": [
      "\n",
      "\n"
     ]
    },
    {
     "name": "stderr",
     "output_type": "stream",
     "text": [
      "Train Epoch: 100 [25600/48625 (53%)]\tLoss: 8.015947\tTrain Prec@1 1.56 (0.10): : 407it [01:34,  4.31it/s]"
     ]
    },
    {
     "name": "stdout",
     "output_type": "stream",
     "text": [
      "\n",
      "\n"
     ]
    },
    {
     "name": "stderr",
     "output_type": "stream",
     "text": [
      "Train Epoch: 100 [25600/48625 (53%)]\tLoss: 8.015947\tTrain Prec@1 1.56 (0.10): : 409it [01:34,  4.31it/s]"
     ]
    },
    {
     "name": "stdout",
     "output_type": "stream",
     "text": [
      "\n",
      "\n"
     ]
    },
    {
     "name": "stderr",
     "output_type": "stream",
     "text": [
      "Train Epoch: 100 [26240/48625 (54%)]\tLoss: 8.276173\tTrain Prec@1 0.00 (0.10): : 411it [01:35,  4.31it/s]"
     ]
    },
    {
     "name": "stdout",
     "output_type": "stream",
     "text": [
      "\n",
      "\n"
     ]
    },
    {
     "name": "stderr",
     "output_type": "stream",
     "text": [
      "Train Epoch: 100 [26240/48625 (54%)]\tLoss: 8.276173\tTrain Prec@1 0.00 (0.10): : 413it [01:35,  4.31it/s]"
     ]
    },
    {
     "name": "stdout",
     "output_type": "stream",
     "text": [
      "\n",
      "\n"
     ]
    },
    {
     "name": "stderr",
     "output_type": "stream",
     "text": [
      "Train Epoch: 100 [26240/48625 (54%)]\tLoss: 8.276173\tTrain Prec@1 0.00 (0.10): : 415it [01:36,  4.31it/s]"
     ]
    },
    {
     "name": "stdout",
     "output_type": "stream",
     "text": [
      "\n",
      "\n"
     ]
    },
    {
     "name": "stderr",
     "output_type": "stream",
     "text": [
      "Train Epoch: 100 [26240/48625 (54%)]\tLoss: 8.276173\tTrain Prec@1 0.00 (0.10): : 417it [01:36,  4.31it/s]"
     ]
    },
    {
     "name": "stdout",
     "output_type": "stream",
     "text": [
      "\n",
      "\n"
     ]
    },
    {
     "name": "stderr",
     "output_type": "stream",
     "text": [
      "Train Epoch: 100 [26240/48625 (54%)]\tLoss: 8.276173\tTrain Prec@1 0.00 (0.10): : 419it [01:37,  4.31it/s]"
     ]
    },
    {
     "name": "stdout",
     "output_type": "stream",
     "text": [
      "\n",
      "\n"
     ]
    },
    {
     "name": "stderr",
     "output_type": "stream",
     "text": [
      "Train Epoch: 100 [26880/48625 (55%)]\tLoss: 7.860047\tTrain Prec@1 0.00 (0.10): : 421it [01:37,  4.31it/s]"
     ]
    },
    {
     "name": "stdout",
     "output_type": "stream",
     "text": [
      "\n",
      "\n"
     ]
    },
    {
     "name": "stderr",
     "output_type": "stream",
     "text": [
      "Train Epoch: 100 [26880/48625 (55%)]\tLoss: 7.860047\tTrain Prec@1 0.00 (0.10): : 423it [01:38,  4.31it/s]"
     ]
    },
    {
     "name": "stdout",
     "output_type": "stream",
     "text": [
      "\n",
      "\n"
     ]
    },
    {
     "name": "stderr",
     "output_type": "stream",
     "text": [
      "Train Epoch: 100 [26880/48625 (55%)]\tLoss: 7.860047\tTrain Prec@1 0.00 (0.10): : 425it [01:38,  4.31it/s]"
     ]
    },
    {
     "name": "stdout",
     "output_type": "stream",
     "text": [
      "\n",
      "\n"
     ]
    },
    {
     "name": "stderr",
     "output_type": "stream",
     "text": [
      "Train Epoch: 100 [26880/48625 (55%)]\tLoss: 7.860047\tTrain Prec@1 0.00 (0.10): : 427it [01:38,  4.31it/s]"
     ]
    },
    {
     "name": "stdout",
     "output_type": "stream",
     "text": [
      "\n",
      "\n"
     ]
    },
    {
     "name": "stderr",
     "output_type": "stream",
     "text": [
      "Train Epoch: 100 [26880/48625 (55%)]\tLoss: 7.860047\tTrain Prec@1 0.00 (0.10): : 429it [01:39,  4.32it/s]"
     ]
    },
    {
     "name": "stdout",
     "output_type": "stream",
     "text": [
      "\n",
      "\n"
     ]
    },
    {
     "name": "stderr",
     "output_type": "stream",
     "text": [
      "Train Epoch: 100 [27520/48625 (57%)]\tLoss: 7.909943\tTrain Prec@1 0.00 (0.10): : 431it [01:39,  4.31it/s]"
     ]
    },
    {
     "name": "stdout",
     "output_type": "stream",
     "text": [
      "\n",
      "\n"
     ]
    },
    {
     "name": "stderr",
     "output_type": "stream",
     "text": [
      "Train Epoch: 100 [27520/48625 (57%)]\tLoss: 7.909943\tTrain Prec@1 0.00 (0.10): : 433it [01:40,  4.32it/s]"
     ]
    },
    {
     "name": "stdout",
     "output_type": "stream",
     "text": [
      "\n",
      "\n"
     ]
    },
    {
     "name": "stderr",
     "output_type": "stream",
     "text": [
      "Train Epoch: 100 [27520/48625 (57%)]\tLoss: 7.909943\tTrain Prec@1 0.00 (0.10): : 435it [01:40,  4.32it/s]"
     ]
    },
    {
     "name": "stdout",
     "output_type": "stream",
     "text": [
      "\n",
      "\n"
     ]
    },
    {
     "name": "stderr",
     "output_type": "stream",
     "text": [
      "Train Epoch: 100 [27520/48625 (57%)]\tLoss: 7.909943\tTrain Prec@1 0.00 (0.10): : 437it [01:41,  4.32it/s]"
     ]
    },
    {
     "name": "stdout",
     "output_type": "stream",
     "text": [
      "\n",
      "\n"
     ]
    },
    {
     "name": "stderr",
     "output_type": "stream",
     "text": [
      "Train Epoch: 100 [27520/48625 (57%)]\tLoss: 7.909943\tTrain Prec@1 0.00 (0.10): : 439it [01:41,  4.32it/s]"
     ]
    },
    {
     "name": "stdout",
     "output_type": "stream",
     "text": [
      "\n",
      "\n"
     ]
    },
    {
     "name": "stderr",
     "output_type": "stream",
     "text": [
      "Train Epoch: 100 [28160/48625 (58%)]\tLoss: 8.065277\tTrain Prec@1 0.00 (0.10): : 441it [01:42,  4.32it/s]"
     ]
    },
    {
     "name": "stdout",
     "output_type": "stream",
     "text": [
      "\n",
      "\n"
     ]
    },
    {
     "name": "stderr",
     "output_type": "stream",
     "text": [
      "Train Epoch: 100 [28160/48625 (58%)]\tLoss: 8.065277\tTrain Prec@1 0.00 (0.10): : 443it [01:42,  4.32it/s]"
     ]
    },
    {
     "name": "stdout",
     "output_type": "stream",
     "text": [
      "\n",
      "\n"
     ]
    },
    {
     "name": "stderr",
     "output_type": "stream",
     "text": [
      "Train Epoch: 100 [28160/48625 (58%)]\tLoss: 8.065277\tTrain Prec@1 0.00 (0.10): : 445it [01:43,  4.32it/s]"
     ]
    },
    {
     "name": "stdout",
     "output_type": "stream",
     "text": [
      "\n",
      "\n"
     ]
    },
    {
     "name": "stderr",
     "output_type": "stream",
     "text": [
      "Train Epoch: 100 [28160/48625 (58%)]\tLoss: 8.065277\tTrain Prec@1 0.00 (0.10): : 447it [01:43,  4.32it/s]"
     ]
    },
    {
     "name": "stdout",
     "output_type": "stream",
     "text": [
      "\n",
      "\n"
     ]
    },
    {
     "name": "stderr",
     "output_type": "stream",
     "text": [
      "Train Epoch: 100 [28160/48625 (58%)]\tLoss: 8.065277\tTrain Prec@1 0.00 (0.10): : 449it [01:43,  4.32it/s]"
     ]
    },
    {
     "name": "stdout",
     "output_type": "stream",
     "text": [
      "\n",
      "\n"
     ]
    },
    {
     "name": "stderr",
     "output_type": "stream",
     "text": [
      "Train Epoch: 100 [28800/48625 (59%)]\tLoss: 8.101853\tTrain Prec@1 0.00 (0.10): : 451it [01:44,  4.32it/s]"
     ]
    },
    {
     "name": "stdout",
     "output_type": "stream",
     "text": [
      "\n",
      "\n"
     ]
    },
    {
     "name": "stderr",
     "output_type": "stream",
     "text": [
      "Train Epoch: 100 [28800/48625 (59%)]\tLoss: 8.101853\tTrain Prec@1 0.00 (0.10): : 453it [01:44,  4.32it/s]"
     ]
    },
    {
     "name": "stdout",
     "output_type": "stream",
     "text": [
      "\n",
      "\n"
     ]
    },
    {
     "name": "stderr",
     "output_type": "stream",
     "text": [
      "Train Epoch: 100 [28800/48625 (59%)]\tLoss: 8.101853\tTrain Prec@1 0.00 (0.10): : 455it [01:45,  4.32it/s]"
     ]
    },
    {
     "name": "stdout",
     "output_type": "stream",
     "text": [
      "\n",
      "\n"
     ]
    },
    {
     "name": "stderr",
     "output_type": "stream",
     "text": [
      "Train Epoch: 100 [28800/48625 (59%)]\tLoss: 8.101853\tTrain Prec@1 0.00 (0.10): : 457it [01:45,  4.32it/s]"
     ]
    },
    {
     "name": "stdout",
     "output_type": "stream",
     "text": [
      "\n",
      "\n"
     ]
    },
    {
     "name": "stderr",
     "output_type": "stream",
     "text": [
      "Train Epoch: 100 [28800/48625 (59%)]\tLoss: 8.101853\tTrain Prec@1 0.00 (0.10): : 459it [01:46,  4.32it/s]"
     ]
    },
    {
     "name": "stdout",
     "output_type": "stream",
     "text": [
      "\n",
      "\n"
     ]
    },
    {
     "name": "stderr",
     "output_type": "stream",
     "text": [
      "Train Epoch: 100 [29440/48625 (61%)]\tLoss: 7.928224\tTrain Prec@1 0.00 (0.10): : 461it [01:46,  4.32it/s]"
     ]
    },
    {
     "name": "stdout",
     "output_type": "stream",
     "text": [
      "\n",
      "\n"
     ]
    },
    {
     "name": "stderr",
     "output_type": "stream",
     "text": [
      "Train Epoch: 100 [29440/48625 (61%)]\tLoss: 7.928224\tTrain Prec@1 0.00 (0.10): : 463it [01:47,  4.32it/s]"
     ]
    },
    {
     "name": "stdout",
     "output_type": "stream",
     "text": [
      "\n",
      "\n"
     ]
    },
    {
     "name": "stderr",
     "output_type": "stream",
     "text": [
      "Train Epoch: 100 [29440/48625 (61%)]\tLoss: 7.928224\tTrain Prec@1 0.00 (0.10): : 465it [01:47,  4.32it/s]"
     ]
    },
    {
     "name": "stdout",
     "output_type": "stream",
     "text": [
      "\n",
      "\n"
     ]
    },
    {
     "name": "stderr",
     "output_type": "stream",
     "text": [
      "Train Epoch: 100 [29440/48625 (61%)]\tLoss: 7.928224\tTrain Prec@1 0.00 (0.10): : 467it [01:48,  4.32it/s]"
     ]
    },
    {
     "name": "stdout",
     "output_type": "stream",
     "text": [
      "\n",
      "\n"
     ]
    },
    {
     "name": "stderr",
     "output_type": "stream",
     "text": [
      "Train Epoch: 100 [29440/48625 (61%)]\tLoss: 7.928224\tTrain Prec@1 0.00 (0.10): : 469it [01:48,  4.32it/s]"
     ]
    },
    {
     "name": "stdout",
     "output_type": "stream",
     "text": [
      "\n",
      "\n"
     ]
    },
    {
     "name": "stderr",
     "output_type": "stream",
     "text": [
      "Train Epoch: 100 [30080/48625 (62%)]\tLoss: 7.911515\tTrain Prec@1 0.00 (0.10): : 471it [01:48,  4.32it/s]"
     ]
    },
    {
     "name": "stdout",
     "output_type": "stream",
     "text": [
      "\n",
      "\n"
     ]
    },
    {
     "name": "stderr",
     "output_type": "stream",
     "text": [
      "Train Epoch: 100 [30080/48625 (62%)]\tLoss: 7.911515\tTrain Prec@1 0.00 (0.10): : 473it [01:49,  4.32it/s]"
     ]
    },
    {
     "name": "stdout",
     "output_type": "stream",
     "text": [
      "\n",
      "\n"
     ]
    },
    {
     "name": "stderr",
     "output_type": "stream",
     "text": [
      "Train Epoch: 100 [30080/48625 (62%)]\tLoss: 7.911515\tTrain Prec@1 0.00 (0.10): : 475it [01:49,  4.32it/s]"
     ]
    },
    {
     "name": "stdout",
     "output_type": "stream",
     "text": [
      "\n",
      "\n"
     ]
    },
    {
     "name": "stderr",
     "output_type": "stream",
     "text": [
      "Train Epoch: 100 [30080/48625 (62%)]\tLoss: 7.911515\tTrain Prec@1 0.00 (0.10): : 477it [01:50,  4.32it/s]"
     ]
    },
    {
     "name": "stdout",
     "output_type": "stream",
     "text": [
      "\n",
      "\n"
     ]
    },
    {
     "name": "stderr",
     "output_type": "stream",
     "text": [
      "Train Epoch: 100 [30080/48625 (62%)]\tLoss: 7.911515\tTrain Prec@1 0.00 (0.10): : 479it [01:50,  4.32it/s]"
     ]
    },
    {
     "name": "stdout",
     "output_type": "stream",
     "text": [
      "\n",
      "\n"
     ]
    },
    {
     "name": "stderr",
     "output_type": "stream",
     "text": [
      "Train Epoch: 100 [30720/48625 (63%)]\tLoss: 7.963201\tTrain Prec@1 0.00 (0.10): : 481it [01:51,  4.33it/s]"
     ]
    },
    {
     "name": "stdout",
     "output_type": "stream",
     "text": [
      "\n",
      "\n"
     ]
    },
    {
     "name": "stderr",
     "output_type": "stream",
     "text": [
      "Train Epoch: 100 [30720/48625 (63%)]\tLoss: 7.963201\tTrain Prec@1 0.00 (0.10): : 483it [01:51,  4.33it/s]"
     ]
    },
    {
     "name": "stdout",
     "output_type": "stream",
     "text": [
      "\n",
      "\n"
     ]
    },
    {
     "name": "stderr",
     "output_type": "stream",
     "text": [
      "Train Epoch: 100 [30720/48625 (63%)]\tLoss: 7.963201\tTrain Prec@1 0.00 (0.10): : 485it [01:52,  4.33it/s]"
     ]
    },
    {
     "name": "stdout",
     "output_type": "stream",
     "text": [
      "\n",
      "\n"
     ]
    },
    {
     "name": "stderr",
     "output_type": "stream",
     "text": [
      "Train Epoch: 100 [30720/48625 (63%)]\tLoss: 7.963201\tTrain Prec@1 0.00 (0.10): : 487it [01:52,  4.33it/s]"
     ]
    },
    {
     "name": "stdout",
     "output_type": "stream",
     "text": [
      "\n",
      "\n"
     ]
    },
    {
     "name": "stderr",
     "output_type": "stream",
     "text": [
      "Train Epoch: 100 [30720/48625 (63%)]\tLoss: 7.963201\tTrain Prec@1 0.00 (0.10): : 489it [01:52,  4.33it/s]"
     ]
    },
    {
     "name": "stdout",
     "output_type": "stream",
     "text": [
      "\n",
      "\n"
     ]
    },
    {
     "name": "stderr",
     "output_type": "stream",
     "text": [
      "Train Epoch: 100 [31360/48625 (64%)]\tLoss: 8.166517\tTrain Prec@1 0.00 (0.10): : 491it [01:53,  4.33it/s]"
     ]
    },
    {
     "name": "stdout",
     "output_type": "stream",
     "text": [
      "\n",
      "\n"
     ]
    },
    {
     "name": "stderr",
     "output_type": "stream",
     "text": [
      "Train Epoch: 100 [31360/48625 (64%)]\tLoss: 8.166517\tTrain Prec@1 0.00 (0.10): : 493it [01:53,  4.33it/s]"
     ]
    },
    {
     "name": "stdout",
     "output_type": "stream",
     "text": [
      "\n",
      "\n"
     ]
    },
    {
     "name": "stderr",
     "output_type": "stream",
     "text": [
      "Train Epoch: 100 [31360/48625 (64%)]\tLoss: 8.166517\tTrain Prec@1 0.00 (0.10): : 495it [01:54,  4.33it/s]"
     ]
    },
    {
     "name": "stdout",
     "output_type": "stream",
     "text": [
      "\n",
      "\n"
     ]
    },
    {
     "name": "stderr",
     "output_type": "stream",
     "text": [
      "Train Epoch: 100 [31360/48625 (64%)]\tLoss: 8.166517\tTrain Prec@1 0.00 (0.10): : 497it [01:54,  4.33it/s]"
     ]
    },
    {
     "name": "stdout",
     "output_type": "stream",
     "text": [
      "\n",
      "\n"
     ]
    },
    {
     "name": "stderr",
     "output_type": "stream",
     "text": [
      "Train Epoch: 100 [31360/48625 (64%)]\tLoss: 8.166517\tTrain Prec@1 0.00 (0.10): : 499it [01:55,  4.33it/s]"
     ]
    },
    {
     "name": "stdout",
     "output_type": "stream",
     "text": [
      "\n",
      "\n"
     ]
    },
    {
     "name": "stderr",
     "output_type": "stream",
     "text": [
      "Train Epoch: 100 [32000/48625 (66%)]\tLoss: 8.023371\tTrain Prec@1 0.00 (0.10): : 501it [01:55,  4.33it/s]"
     ]
    },
    {
     "name": "stdout",
     "output_type": "stream",
     "text": [
      "\n",
      "\n"
     ]
    },
    {
     "name": "stderr",
     "output_type": "stream",
     "text": [
      "Train Epoch: 100 [32000/48625 (66%)]\tLoss: 8.023371\tTrain Prec@1 0.00 (0.10): : 503it [01:56,  4.33it/s]"
     ]
    },
    {
     "name": "stdout",
     "output_type": "stream",
     "text": [
      "\n",
      "\n"
     ]
    },
    {
     "name": "stderr",
     "output_type": "stream",
     "text": [
      "Train Epoch: 100 [32000/48625 (66%)]\tLoss: 8.023371\tTrain Prec@1 0.00 (0.10): : 505it [01:56,  4.33it/s]"
     ]
    },
    {
     "name": "stdout",
     "output_type": "stream",
     "text": [
      "\n",
      "\n"
     ]
    },
    {
     "name": "stderr",
     "output_type": "stream",
     "text": [
      "Train Epoch: 100 [32000/48625 (66%)]\tLoss: 8.023371\tTrain Prec@1 0.00 (0.10): : 507it [01:57,  4.33it/s]"
     ]
    },
    {
     "name": "stdout",
     "output_type": "stream",
     "text": [
      "\n",
      "\n"
     ]
    },
    {
     "name": "stderr",
     "output_type": "stream",
     "text": [
      "Train Epoch: 100 [32000/48625 (66%)]\tLoss: 8.023371\tTrain Prec@1 0.00 (0.10): : 509it [01:57,  4.33it/s]"
     ]
    },
    {
     "name": "stdout",
     "output_type": "stream",
     "text": [
      "\n",
      "\n"
     ]
    },
    {
     "name": "stderr",
     "output_type": "stream",
     "text": [
      "Train Epoch: 100 [32640/48625 (67%)]\tLoss: 8.069902\tTrain Prec@1 0.00 (0.11): : 511it [01:58,  4.33it/s]"
     ]
    },
    {
     "name": "stdout",
     "output_type": "stream",
     "text": [
      "\n",
      "\n"
     ]
    },
    {
     "name": "stderr",
     "output_type": "stream",
     "text": [
      "Train Epoch: 100 [32640/48625 (67%)]\tLoss: 8.069902\tTrain Prec@1 0.00 (0.11): : 513it [01:58,  4.33it/s]"
     ]
    },
    {
     "name": "stdout",
     "output_type": "stream",
     "text": [
      "\n",
      "\n"
     ]
    },
    {
     "name": "stderr",
     "output_type": "stream",
     "text": [
      "Train Epoch: 100 [32640/48625 (67%)]\tLoss: 8.069902\tTrain Prec@1 0.00 (0.11): : 515it [01:58,  4.33it/s]"
     ]
    },
    {
     "name": "stdout",
     "output_type": "stream",
     "text": [
      "\n",
      "\n"
     ]
    },
    {
     "name": "stderr",
     "output_type": "stream",
     "text": [
      "Train Epoch: 100 [32640/48625 (67%)]\tLoss: 8.069902\tTrain Prec@1 0.00 (0.11): : 517it [01:59,  4.33it/s]"
     ]
    },
    {
     "name": "stdout",
     "output_type": "stream",
     "text": [
      "\n",
      "\n"
     ]
    },
    {
     "name": "stderr",
     "output_type": "stream",
     "text": [
      "Train Epoch: 100 [32640/48625 (67%)]\tLoss: 8.069902\tTrain Prec@1 0.00 (0.11): : 519it [01:59,  4.33it/s]"
     ]
    },
    {
     "name": "stdout",
     "output_type": "stream",
     "text": [
      "\n",
      "\n"
     ]
    },
    {
     "name": "stderr",
     "output_type": "stream",
     "text": [
      "Train Epoch: 100 [33280/48625 (68%)]\tLoss: 8.056209\tTrain Prec@1 0.00 (0.10): : 521it [02:00,  4.33it/s]"
     ]
    },
    {
     "name": "stdout",
     "output_type": "stream",
     "text": [
      "\n",
      "\n"
     ]
    },
    {
     "name": "stderr",
     "output_type": "stream",
     "text": [
      "Train Epoch: 100 [33280/48625 (68%)]\tLoss: 8.056209\tTrain Prec@1 0.00 (0.10): : 523it [02:00,  4.33it/s]"
     ]
    },
    {
     "name": "stdout",
     "output_type": "stream",
     "text": [
      "\n",
      "\n"
     ]
    },
    {
     "name": "stderr",
     "output_type": "stream",
     "text": [
      "Train Epoch: 100 [33280/48625 (68%)]\tLoss: 8.056209\tTrain Prec@1 0.00 (0.10): : 525it [02:01,  4.33it/s]"
     ]
    },
    {
     "name": "stdout",
     "output_type": "stream",
     "text": [
      "\n",
      "\n"
     ]
    },
    {
     "name": "stderr",
     "output_type": "stream",
     "text": [
      "Train Epoch: 100 [33280/48625 (68%)]\tLoss: 8.056209\tTrain Prec@1 0.00 (0.10): : 527it [02:01,  4.33it/s]"
     ]
    },
    {
     "name": "stdout",
     "output_type": "stream",
     "text": [
      "\n",
      "\n"
     ]
    },
    {
     "name": "stderr",
     "output_type": "stream",
     "text": [
      "Train Epoch: 100 [33280/48625 (68%)]\tLoss: 8.056209\tTrain Prec@1 0.00 (0.10): : 529it [02:02,  4.33it/s]"
     ]
    },
    {
     "name": "stdout",
     "output_type": "stream",
     "text": [
      "\n",
      "\n"
     ]
    },
    {
     "name": "stderr",
     "output_type": "stream",
     "text": [
      "Train Epoch: 100 [33920/48625 (70%)]\tLoss: 8.139691\tTrain Prec@1 0.00 (0.11): : 531it [02:02,  4.33it/s]"
     ]
    },
    {
     "name": "stdout",
     "output_type": "stream",
     "text": [
      "\n",
      "\n"
     ]
    },
    {
     "name": "stderr",
     "output_type": "stream",
     "text": [
      "Train Epoch: 100 [33920/48625 (70%)]\tLoss: 8.139691\tTrain Prec@1 0.00 (0.11): : 533it [02:03,  4.33it/s]"
     ]
    },
    {
     "name": "stdout",
     "output_type": "stream",
     "text": [
      "\n",
      "\n"
     ]
    },
    {
     "name": "stderr",
     "output_type": "stream",
     "text": [
      "Train Epoch: 100 [33920/48625 (70%)]\tLoss: 8.139691\tTrain Prec@1 0.00 (0.11): : 535it [02:03,  4.33it/s]"
     ]
    },
    {
     "name": "stdout",
     "output_type": "stream",
     "text": [
      "\n",
      "\n"
     ]
    },
    {
     "name": "stderr",
     "output_type": "stream",
     "text": [
      "Train Epoch: 100 [33920/48625 (70%)]\tLoss: 8.139691\tTrain Prec@1 0.00 (0.11): : 537it [02:04,  4.33it/s]"
     ]
    },
    {
     "name": "stdout",
     "output_type": "stream",
     "text": [
      "\n",
      "\n"
     ]
    },
    {
     "name": "stderr",
     "output_type": "stream",
     "text": [
      "Train Epoch: 100 [33920/48625 (70%)]\tLoss: 8.139691\tTrain Prec@1 0.00 (0.11): : 539it [02:04,  4.33it/s]"
     ]
    },
    {
     "name": "stdout",
     "output_type": "stream",
     "text": [
      "\n",
      "\n"
     ]
    },
    {
     "name": "stderr",
     "output_type": "stream",
     "text": [
      "Train Epoch: 100 [34560/48625 (71%)]\tLoss: 8.029527\tTrain Prec@1 1.56 (0.11): : 541it [02:04,  4.33it/s]"
     ]
    },
    {
     "name": "stdout",
     "output_type": "stream",
     "text": [
      "\n",
      "\n"
     ]
    },
    {
     "name": "stderr",
     "output_type": "stream",
     "text": [
      "Train Epoch: 100 [34560/48625 (71%)]\tLoss: 8.029527\tTrain Prec@1 1.56 (0.11): : 543it [02:05,  4.33it/s]"
     ]
    },
    {
     "name": "stdout",
     "output_type": "stream",
     "text": [
      "\n",
      "\n"
     ]
    },
    {
     "name": "stderr",
     "output_type": "stream",
     "text": [
      "Train Epoch: 100 [34560/48625 (71%)]\tLoss: 8.029527\tTrain Prec@1 1.56 (0.11): : 545it [02:05,  4.33it/s]"
     ]
    },
    {
     "name": "stdout",
     "output_type": "stream",
     "text": [
      "\n",
      "\n"
     ]
    },
    {
     "name": "stderr",
     "output_type": "stream",
     "text": [
      "Train Epoch: 100 [34560/48625 (71%)]\tLoss: 8.029527\tTrain Prec@1 1.56 (0.11): : 547it [02:06,  4.33it/s]"
     ]
    },
    {
     "name": "stdout",
     "output_type": "stream",
     "text": [
      "\n",
      "\n"
     ]
    },
    {
     "name": "stderr",
     "output_type": "stream",
     "text": [
      "Train Epoch: 100 [34560/48625 (71%)]\tLoss: 8.029527\tTrain Prec@1 1.56 (0.11): : 549it [02:06,  4.33it/s]"
     ]
    },
    {
     "name": "stdout",
     "output_type": "stream",
     "text": [
      "\n",
      "\n"
     ]
    },
    {
     "name": "stderr",
     "output_type": "stream",
     "text": [
      "Train Epoch: 100 [35200/48625 (72%)]\tLoss: 7.762889\tTrain Prec@1 0.00 (0.12): : 551it [02:07,  4.33it/s]"
     ]
    },
    {
     "name": "stdout",
     "output_type": "stream",
     "text": [
      "\n",
      "\n"
     ]
    },
    {
     "name": "stderr",
     "output_type": "stream",
     "text": [
      "Train Epoch: 100 [35200/48625 (72%)]\tLoss: 7.762889\tTrain Prec@1 0.00 (0.12): : 553it [02:07,  4.33it/s]"
     ]
    },
    {
     "name": "stdout",
     "output_type": "stream",
     "text": [
      "\n",
      "\n"
     ]
    },
    {
     "name": "stderr",
     "output_type": "stream",
     "text": [
      "Train Epoch: 100 [35200/48625 (72%)]\tLoss: 7.762889\tTrain Prec@1 0.00 (0.12): : 555it [02:08,  4.33it/s]"
     ]
    },
    {
     "name": "stdout",
     "output_type": "stream",
     "text": [
      "\n",
      "\n"
     ]
    },
    {
     "name": "stderr",
     "output_type": "stream",
     "text": [
      "Train Epoch: 100 [35200/48625 (72%)]\tLoss: 7.762889\tTrain Prec@1 0.00 (0.12): : 557it [02:08,  4.33it/s]"
     ]
    },
    {
     "name": "stdout",
     "output_type": "stream",
     "text": [
      "\n",
      "\n"
     ]
    },
    {
     "name": "stderr",
     "output_type": "stream",
     "text": [
      "Train Epoch: 100 [35200/48625 (72%)]\tLoss: 7.762889\tTrain Prec@1 0.00 (0.12): : 559it [02:09,  4.33it/s]"
     ]
    },
    {
     "name": "stdout",
     "output_type": "stream",
     "text": [
      "\n",
      "\n"
     ]
    },
    {
     "name": "stderr",
     "output_type": "stream",
     "text": [
      "Train Epoch: 100 [35840/48625 (74%)]\tLoss: 7.867885\tTrain Prec@1 0.00 (0.12): : 561it [02:09,  4.33it/s]"
     ]
    },
    {
     "name": "stdout",
     "output_type": "stream",
     "text": [
      "\n",
      "\n"
     ]
    },
    {
     "name": "stderr",
     "output_type": "stream",
     "text": [
      "Train Epoch: 100 [35840/48625 (74%)]\tLoss: 7.867885\tTrain Prec@1 0.00 (0.12): : 563it [02:09,  4.33it/s]"
     ]
    },
    {
     "name": "stdout",
     "output_type": "stream",
     "text": [
      "\n",
      "\n"
     ]
    },
    {
     "name": "stderr",
     "output_type": "stream",
     "text": [
      "Train Epoch: 100 [35840/48625 (74%)]\tLoss: 7.867885\tTrain Prec@1 0.00 (0.12): : 565it [02:10,  4.33it/s]"
     ]
    },
    {
     "name": "stdout",
     "output_type": "stream",
     "text": [
      "\n",
      "\n"
     ]
    },
    {
     "name": "stderr",
     "output_type": "stream",
     "text": [
      "Train Epoch: 100 [35840/48625 (74%)]\tLoss: 7.867885\tTrain Prec@1 0.00 (0.12): : 567it [02:10,  4.33it/s]"
     ]
    },
    {
     "name": "stdout",
     "output_type": "stream",
     "text": [
      "\n",
      "\n"
     ]
    },
    {
     "name": "stderr",
     "output_type": "stream",
     "text": [
      "Train Epoch: 100 [35840/48625 (74%)]\tLoss: 7.867885\tTrain Prec@1 0.00 (0.12): : 569it [02:11,  4.33it/s]"
     ]
    },
    {
     "name": "stdout",
     "output_type": "stream",
     "text": [
      "\n",
      "\n"
     ]
    },
    {
     "name": "stderr",
     "output_type": "stream",
     "text": [
      "Train Epoch: 100 [36480/48625 (75%)]\tLoss: 7.840545\tTrain Prec@1 0.00 (0.12): : 571it [02:11,  4.33it/s]"
     ]
    },
    {
     "name": "stdout",
     "output_type": "stream",
     "text": [
      "\n",
      "\n"
     ]
    },
    {
     "name": "stderr",
     "output_type": "stream",
     "text": [
      "Train Epoch: 100 [36480/48625 (75%)]\tLoss: 7.840545\tTrain Prec@1 0.00 (0.12): : 573it [02:12,  4.33it/s]"
     ]
    },
    {
     "name": "stdout",
     "output_type": "stream",
     "text": [
      "\n",
      "\n"
     ]
    },
    {
     "name": "stderr",
     "output_type": "stream",
     "text": [
      "Train Epoch: 100 [36480/48625 (75%)]\tLoss: 7.840545\tTrain Prec@1 0.00 (0.12): : 575it [02:12,  4.33it/s]"
     ]
    },
    {
     "name": "stdout",
     "output_type": "stream",
     "text": [
      "\n",
      "\n"
     ]
    },
    {
     "name": "stderr",
     "output_type": "stream",
     "text": [
      "Train Epoch: 100 [36480/48625 (75%)]\tLoss: 7.840545\tTrain Prec@1 0.00 (0.12): : 577it [02:13,  4.33it/s]"
     ]
    },
    {
     "name": "stdout",
     "output_type": "stream",
     "text": [
      "\n",
      "\n"
     ]
    },
    {
     "name": "stderr",
     "output_type": "stream",
     "text": [
      "Train Epoch: 100 [36480/48625 (75%)]\tLoss: 7.840545\tTrain Prec@1 0.00 (0.12): : 579it [02:13,  4.33it/s]"
     ]
    },
    {
     "name": "stdout",
     "output_type": "stream",
     "text": [
      "\n",
      "\n"
     ]
    },
    {
     "name": "stderr",
     "output_type": "stream",
     "text": [
      "Train Epoch: 100 [37120/48625 (76%)]\tLoss: 8.110847\tTrain Prec@1 1.56 (0.12): : 581it [02:14,  4.33it/s]"
     ]
    },
    {
     "name": "stdout",
     "output_type": "stream",
     "text": [
      "\n",
      "\n"
     ]
    },
    {
     "name": "stderr",
     "output_type": "stream",
     "text": [
      "Train Epoch: 100 [37120/48625 (76%)]\tLoss: 8.110847\tTrain Prec@1 1.56 (0.12): : 583it [02:14,  4.33it/s]"
     ]
    },
    {
     "name": "stdout",
     "output_type": "stream",
     "text": [
      "\n",
      "\n"
     ]
    },
    {
     "name": "stderr",
     "output_type": "stream",
     "text": [
      "Train Epoch: 100 [37120/48625 (76%)]\tLoss: 8.110847\tTrain Prec@1 1.56 (0.12): : 585it [02:14,  4.33it/s]"
     ]
    },
    {
     "name": "stdout",
     "output_type": "stream",
     "text": [
      "\n",
      "\n"
     ]
    },
    {
     "name": "stderr",
     "output_type": "stream",
     "text": [
      "Train Epoch: 100 [37120/48625 (76%)]\tLoss: 8.110847\tTrain Prec@1 1.56 (0.12): : 587it [02:15,  4.33it/s]"
     ]
    },
    {
     "name": "stdout",
     "output_type": "stream",
     "text": [
      "\n",
      "\n"
     ]
    },
    {
     "name": "stderr",
     "output_type": "stream",
     "text": [
      "Train Epoch: 100 [37120/48625 (76%)]\tLoss: 8.110847\tTrain Prec@1 1.56 (0.12): : 589it [02:15,  4.33it/s]"
     ]
    },
    {
     "name": "stdout",
     "output_type": "stream",
     "text": [
      "\n",
      "\n"
     ]
    },
    {
     "name": "stderr",
     "output_type": "stream",
     "text": [
      "Train Epoch: 100 [37760/48625 (78%)]\tLoss: 7.693021\tTrain Prec@1 0.00 (0.12): : 591it [02:16,  4.33it/s]"
     ]
    },
    {
     "name": "stdout",
     "output_type": "stream",
     "text": [
      "\n",
      "\n"
     ]
    },
    {
     "name": "stderr",
     "output_type": "stream",
     "text": [
      "Train Epoch: 100 [37760/48625 (78%)]\tLoss: 7.693021\tTrain Prec@1 0.00 (0.12): : 593it [02:16,  4.34it/s]"
     ]
    },
    {
     "name": "stdout",
     "output_type": "stream",
     "text": [
      "\n",
      "\n"
     ]
    },
    {
     "name": "stderr",
     "output_type": "stream",
     "text": [
      "Train Epoch: 100 [37760/48625 (78%)]\tLoss: 7.693021\tTrain Prec@1 0.00 (0.12): : 595it [02:17,  4.33it/s]"
     ]
    },
    {
     "name": "stdout",
     "output_type": "stream",
     "text": [
      "\n",
      "\n"
     ]
    },
    {
     "name": "stderr",
     "output_type": "stream",
     "text": [
      "Train Epoch: 100 [37760/48625 (78%)]\tLoss: 7.693021\tTrain Prec@1 0.00 (0.12): : 597it [02:17,  4.34it/s]"
     ]
    },
    {
     "name": "stdout",
     "output_type": "stream",
     "text": [
      "\n",
      "\n"
     ]
    },
    {
     "name": "stderr",
     "output_type": "stream",
     "text": [
      "Train Epoch: 100 [37760/48625 (78%)]\tLoss: 7.693021\tTrain Prec@1 0.00 (0.12): : 599it [02:18,  4.34it/s]"
     ]
    },
    {
     "name": "stdout",
     "output_type": "stream",
     "text": [
      "\n",
      "\n"
     ]
    },
    {
     "name": "stderr",
     "output_type": "stream",
     "text": [
      "Train Epoch: 100 [38400/48625 (79%)]\tLoss: 8.045672\tTrain Prec@1 0.00 (0.12): : 601it [02:18,  4.34it/s]"
     ]
    },
    {
     "name": "stdout",
     "output_type": "stream",
     "text": [
      "\n",
      "\n"
     ]
    },
    {
     "name": "stderr",
     "output_type": "stream",
     "text": [
      "Train Epoch: 100 [38400/48625 (79%)]\tLoss: 8.045672\tTrain Prec@1 0.00 (0.12): : 603it [02:19,  4.34it/s]"
     ]
    },
    {
     "name": "stdout",
     "output_type": "stream",
     "text": [
      "\n",
      "\n"
     ]
    },
    {
     "name": "stderr",
     "output_type": "stream",
     "text": [
      "Train Epoch: 100 [38400/48625 (79%)]\tLoss: 8.045672\tTrain Prec@1 0.00 (0.12): : 605it [02:19,  4.34it/s]"
     ]
    },
    {
     "name": "stdout",
     "output_type": "stream",
     "text": [
      "\n",
      "\n"
     ]
    },
    {
     "name": "stderr",
     "output_type": "stream",
     "text": [
      "Train Epoch: 100 [38400/48625 (79%)]\tLoss: 8.045672\tTrain Prec@1 0.00 (0.12): : 607it [02:19,  4.34it/s]"
     ]
    },
    {
     "name": "stdout",
     "output_type": "stream",
     "text": [
      "\n",
      "\n"
     ]
    },
    {
     "name": "stderr",
     "output_type": "stream",
     "text": [
      "Train Epoch: 100 [38400/48625 (79%)]\tLoss: 8.045672\tTrain Prec@1 0.00 (0.12): : 609it [02:20,  4.34it/s]"
     ]
    },
    {
     "name": "stdout",
     "output_type": "stream",
     "text": [
      "\n",
      "\n"
     ]
    },
    {
     "name": "stderr",
     "output_type": "stream",
     "text": [
      "Train Epoch: 100 [39040/48625 (80%)]\tLoss: 7.827775\tTrain Prec@1 0.00 (0.12): : 611it [02:20,  4.34it/s]"
     ]
    },
    {
     "name": "stdout",
     "output_type": "stream",
     "text": [
      "\n",
      "\n"
     ]
    },
    {
     "name": "stderr",
     "output_type": "stream",
     "text": [
      "Train Epoch: 100 [39040/48625 (80%)]\tLoss: 7.827775\tTrain Prec@1 0.00 (0.12): : 613it [02:21,  4.34it/s]"
     ]
    },
    {
     "name": "stdout",
     "output_type": "stream",
     "text": [
      "\n",
      "\n"
     ]
    },
    {
     "name": "stderr",
     "output_type": "stream",
     "text": [
      "Train Epoch: 100 [39040/48625 (80%)]\tLoss: 7.827775\tTrain Prec@1 0.00 (0.12): : 615it [02:21,  4.34it/s]"
     ]
    },
    {
     "name": "stdout",
     "output_type": "stream",
     "text": [
      "\n",
      "\n"
     ]
    },
    {
     "name": "stderr",
     "output_type": "stream",
     "text": [
      "Train Epoch: 100 [39040/48625 (80%)]\tLoss: 7.827775\tTrain Prec@1 0.00 (0.12): : 617it [02:22,  4.34it/s]"
     ]
    },
    {
     "name": "stdout",
     "output_type": "stream",
     "text": [
      "\n",
      "\n"
     ]
    },
    {
     "name": "stderr",
     "output_type": "stream",
     "text": [
      "Train Epoch: 100 [39040/48625 (80%)]\tLoss: 7.827775\tTrain Prec@1 0.00 (0.12): : 619it [02:22,  4.34it/s]"
     ]
    },
    {
     "name": "stdout",
     "output_type": "stream",
     "text": [
      "\n",
      "\n"
     ]
    },
    {
     "name": "stderr",
     "output_type": "stream",
     "text": [
      "Train Epoch: 100 [39680/48625 (82%)]\tLoss: 7.881325\tTrain Prec@1 1.56 (0.13): : 621it [02:23,  4.34it/s]"
     ]
    },
    {
     "name": "stdout",
     "output_type": "stream",
     "text": [
      "\n",
      "\n"
     ]
    },
    {
     "name": "stderr",
     "output_type": "stream",
     "text": [
      "Train Epoch: 100 [39680/48625 (82%)]\tLoss: 7.881325\tTrain Prec@1 1.56 (0.13): : 623it [02:23,  4.34it/s]"
     ]
    },
    {
     "name": "stdout",
     "output_type": "stream",
     "text": [
      "\n",
      "\n"
     ]
    },
    {
     "name": "stderr",
     "output_type": "stream",
     "text": [
      "Train Epoch: 100 [39680/48625 (82%)]\tLoss: 7.881325\tTrain Prec@1 1.56 (0.13): : 625it [02:24,  4.34it/s]"
     ]
    },
    {
     "name": "stdout",
     "output_type": "stream",
     "text": [
      "\n",
      "\n"
     ]
    },
    {
     "name": "stderr",
     "output_type": "stream",
     "text": [
      "Train Epoch: 100 [39680/48625 (82%)]\tLoss: 7.881325\tTrain Prec@1 1.56 (0.13): : 627it [02:24,  4.34it/s]"
     ]
    },
    {
     "name": "stdout",
     "output_type": "stream",
     "text": [
      "\n",
      "\n"
     ]
    },
    {
     "name": "stderr",
     "output_type": "stream",
     "text": [
      "Train Epoch: 100 [39680/48625 (82%)]\tLoss: 7.881325\tTrain Prec@1 1.56 (0.13): : 629it [02:25,  4.34it/s]"
     ]
    },
    {
     "name": "stdout",
     "output_type": "stream",
     "text": [
      "\n",
      "\n"
     ]
    },
    {
     "name": "stderr",
     "output_type": "stream",
     "text": [
      "Train Epoch: 100 [40320/48625 (83%)]\tLoss: 7.869007\tTrain Prec@1 0.00 (0.13): : 631it [02:25,  4.34it/s]"
     ]
    },
    {
     "name": "stdout",
     "output_type": "stream",
     "text": [
      "\n",
      "\n"
     ]
    },
    {
     "name": "stderr",
     "output_type": "stream",
     "text": [
      "Train Epoch: 100 [40320/48625 (83%)]\tLoss: 7.869007\tTrain Prec@1 0.00 (0.13): : 633it [02:25,  4.34it/s]"
     ]
    },
    {
     "name": "stdout",
     "output_type": "stream",
     "text": [
      "\n",
      "\n"
     ]
    },
    {
     "name": "stderr",
     "output_type": "stream",
     "text": [
      "Train Epoch: 100 [40320/48625 (83%)]\tLoss: 7.869007\tTrain Prec@1 0.00 (0.13): : 635it [02:26,  4.34it/s]"
     ]
    },
    {
     "name": "stdout",
     "output_type": "stream",
     "text": [
      "\n",
      "\n"
     ]
    },
    {
     "name": "stderr",
     "output_type": "stream",
     "text": [
      "Train Epoch: 100 [40320/48625 (83%)]\tLoss: 7.869007\tTrain Prec@1 0.00 (0.13): : 637it [02:26,  4.34it/s]"
     ]
    },
    {
     "name": "stdout",
     "output_type": "stream",
     "text": [
      "\n",
      "\n"
     ]
    },
    {
     "name": "stderr",
     "output_type": "stream",
     "text": [
      "Train Epoch: 100 [40320/48625 (83%)]\tLoss: 7.869007\tTrain Prec@1 0.00 (0.13): : 639it [02:27,  4.34it/s]"
     ]
    },
    {
     "name": "stdout",
     "output_type": "stream",
     "text": [
      "\n",
      "\n"
     ]
    },
    {
     "name": "stderr",
     "output_type": "stream",
     "text": [
      "Train Epoch: 100 [40960/48625 (84%)]\tLoss: 7.822390\tTrain Prec@1 0.00 (0.13): : 641it [02:27,  4.34it/s]"
     ]
    },
    {
     "name": "stdout",
     "output_type": "stream",
     "text": [
      "\n",
      "\n"
     ]
    },
    {
     "name": "stderr",
     "output_type": "stream",
     "text": [
      "Train Epoch: 100 [40960/48625 (84%)]\tLoss: 7.822390\tTrain Prec@1 0.00 (0.13): : 643it [02:28,  4.34it/s]"
     ]
    },
    {
     "name": "stdout",
     "output_type": "stream",
     "text": [
      "\n",
      "\n"
     ]
    },
    {
     "name": "stderr",
     "output_type": "stream",
     "text": [
      "Train Epoch: 100 [40960/48625 (84%)]\tLoss: 7.822390\tTrain Prec@1 0.00 (0.13): : 645it [02:28,  4.34it/s]"
     ]
    },
    {
     "name": "stdout",
     "output_type": "stream",
     "text": [
      "\n",
      "\n"
     ]
    },
    {
     "name": "stderr",
     "output_type": "stream",
     "text": [
      "Train Epoch: 100 [40960/48625 (84%)]\tLoss: 7.822390\tTrain Prec@1 0.00 (0.13): : 647it [02:29,  4.34it/s]"
     ]
    },
    {
     "name": "stdout",
     "output_type": "stream",
     "text": [
      "\n",
      "\n"
     ]
    },
    {
     "name": "stderr",
     "output_type": "stream",
     "text": [
      "Train Epoch: 100 [40960/48625 (84%)]\tLoss: 7.822390\tTrain Prec@1 0.00 (0.13): : 649it [02:29,  4.34it/s]"
     ]
    },
    {
     "name": "stdout",
     "output_type": "stream",
     "text": [
      "\n",
      "\n"
     ]
    },
    {
     "name": "stderr",
     "output_type": "stream",
     "text": [
      "Train Epoch: 100 [41600/48625 (86%)]\tLoss: 8.139138\tTrain Prec@1 0.00 (0.13): : 651it [02:30,  4.34it/s]"
     ]
    },
    {
     "name": "stdout",
     "output_type": "stream",
     "text": [
      "\n",
      "\n"
     ]
    },
    {
     "name": "stderr",
     "output_type": "stream",
     "text": [
      "Train Epoch: 100 [41600/48625 (86%)]\tLoss: 8.139138\tTrain Prec@1 0.00 (0.13): : 653it [02:30,  4.34it/s]"
     ]
    },
    {
     "name": "stdout",
     "output_type": "stream",
     "text": [
      "\n",
      "\n"
     ]
    },
    {
     "name": "stderr",
     "output_type": "stream",
     "text": [
      "Train Epoch: 100 [41600/48625 (86%)]\tLoss: 8.139138\tTrain Prec@1 0.00 (0.13): : 655it [02:30,  4.34it/s]"
     ]
    },
    {
     "name": "stdout",
     "output_type": "stream",
     "text": [
      "\n",
      "\n"
     ]
    },
    {
     "name": "stderr",
     "output_type": "stream",
     "text": [
      "Train Epoch: 100 [41600/48625 (86%)]\tLoss: 8.139138\tTrain Prec@1 0.00 (0.13): : 657it [02:31,  4.34it/s]"
     ]
    },
    {
     "name": "stdout",
     "output_type": "stream",
     "text": [
      "\n",
      "\n"
     ]
    },
    {
     "name": "stderr",
     "output_type": "stream",
     "text": [
      "Train Epoch: 100 [41600/48625 (86%)]\tLoss: 8.139138\tTrain Prec@1 0.00 (0.13): : 659it [02:31,  4.34it/s]"
     ]
    },
    {
     "name": "stdout",
     "output_type": "stream",
     "text": [
      "\n",
      "\n"
     ]
    },
    {
     "name": "stderr",
     "output_type": "stream",
     "text": [
      "Train Epoch: 100 [42240/48625 (87%)]\tLoss: 7.665403\tTrain Prec@1 0.00 (0.13): : 661it [02:32,  4.34it/s]"
     ]
    },
    {
     "name": "stdout",
     "output_type": "stream",
     "text": [
      "\n",
      "\n"
     ]
    },
    {
     "name": "stderr",
     "output_type": "stream",
     "text": [
      "Train Epoch: 100 [42240/48625 (87%)]\tLoss: 7.665403\tTrain Prec@1 0.00 (0.13): : 663it [02:32,  4.34it/s]"
     ]
    },
    {
     "name": "stdout",
     "output_type": "stream",
     "text": [
      "\n",
      "\n"
     ]
    },
    {
     "name": "stderr",
     "output_type": "stream",
     "text": [
      "Train Epoch: 100 [42240/48625 (87%)]\tLoss: 7.665403\tTrain Prec@1 0.00 (0.13): : 665it [02:33,  4.34it/s]"
     ]
    },
    {
     "name": "stdout",
     "output_type": "stream",
     "text": [
      "\n",
      "\n"
     ]
    },
    {
     "name": "stderr",
     "output_type": "stream",
     "text": [
      "Train Epoch: 100 [42240/48625 (87%)]\tLoss: 7.665403\tTrain Prec@1 0.00 (0.13): : 667it [02:33,  4.34it/s]"
     ]
    },
    {
     "name": "stdout",
     "output_type": "stream",
     "text": [
      "\n",
      "\n"
     ]
    },
    {
     "name": "stderr",
     "output_type": "stream",
     "text": [
      "Train Epoch: 100 [42240/48625 (87%)]\tLoss: 7.665403\tTrain Prec@1 0.00 (0.13): : 669it [02:34,  4.34it/s]"
     ]
    },
    {
     "name": "stdout",
     "output_type": "stream",
     "text": [
      "\n",
      "\n"
     ]
    },
    {
     "name": "stderr",
     "output_type": "stream",
     "text": [
      "Train Epoch: 100 [42880/48625 (88%)]\tLoss: 7.929697\tTrain Prec@1 0.00 (0.13): : 671it [02:34,  4.34it/s]"
     ]
    },
    {
     "name": "stdout",
     "output_type": "stream",
     "text": [
      "\n",
      "\n"
     ]
    },
    {
     "name": "stderr",
     "output_type": "stream",
     "text": [
      "Train Epoch: 100 [42880/48625 (88%)]\tLoss: 7.929697\tTrain Prec@1 0.00 (0.13): : 673it [02:35,  4.34it/s]"
     ]
    },
    {
     "name": "stdout",
     "output_type": "stream",
     "text": [
      "\n",
      "\n"
     ]
    },
    {
     "name": "stderr",
     "output_type": "stream",
     "text": [
      "Train Epoch: 100 [42880/48625 (88%)]\tLoss: 7.929697\tTrain Prec@1 0.00 (0.13): : 675it [02:35,  4.34it/s]"
     ]
    },
    {
     "name": "stdout",
     "output_type": "stream",
     "text": [
      "\n",
      "\n"
     ]
    },
    {
     "name": "stderr",
     "output_type": "stream",
     "text": [
      "Train Epoch: 100 [42880/48625 (88%)]\tLoss: 7.929697\tTrain Prec@1 0.00 (0.13): : 677it [02:36,  4.34it/s]"
     ]
    },
    {
     "name": "stdout",
     "output_type": "stream",
     "text": [
      "\n",
      "\n"
     ]
    },
    {
     "name": "stderr",
     "output_type": "stream",
     "text": [
      "Train Epoch: 100 [42880/48625 (88%)]\tLoss: 7.929697\tTrain Prec@1 0.00 (0.13): : 679it [02:36,  4.34it/s]"
     ]
    },
    {
     "name": "stdout",
     "output_type": "stream",
     "text": [
      "\n",
      "\n"
     ]
    },
    {
     "name": "stderr",
     "output_type": "stream",
     "text": [
      "Train Epoch: 100 [43520/48625 (89%)]\tLoss: 7.621321\tTrain Prec@1 1.56 (0.13): : 681it [02:36,  4.34it/s]"
     ]
    },
    {
     "name": "stdout",
     "output_type": "stream",
     "text": [
      "\n",
      "\n"
     ]
    },
    {
     "name": "stderr",
     "output_type": "stream",
     "text": [
      "Train Epoch: 100 [43520/48625 (89%)]\tLoss: 7.621321\tTrain Prec@1 1.56 (0.13): : 683it [02:37,  4.34it/s]"
     ]
    },
    {
     "name": "stdout",
     "output_type": "stream",
     "text": [
      "\n",
      "\n"
     ]
    },
    {
     "name": "stderr",
     "output_type": "stream",
     "text": [
      "Train Epoch: 100 [43520/48625 (89%)]\tLoss: 7.621321\tTrain Prec@1 1.56 (0.13): : 685it [02:37,  4.34it/s]"
     ]
    },
    {
     "name": "stdout",
     "output_type": "stream",
     "text": [
      "\n",
      "\n"
     ]
    },
    {
     "name": "stderr",
     "output_type": "stream",
     "text": [
      "Train Epoch: 100 [43520/48625 (89%)]\tLoss: 7.621321\tTrain Prec@1 1.56 (0.13): : 687it [02:38,  4.34it/s]"
     ]
    },
    {
     "name": "stdout",
     "output_type": "stream",
     "text": [
      "\n",
      "\n"
     ]
    },
    {
     "name": "stderr",
     "output_type": "stream",
     "text": [
      "Train Epoch: 100 [43520/48625 (89%)]\tLoss: 7.621321\tTrain Prec@1 1.56 (0.13): : 689it [02:38,  4.34it/s]"
     ]
    },
    {
     "name": "stdout",
     "output_type": "stream",
     "text": [
      "\n",
      "\n"
     ]
    },
    {
     "name": "stderr",
     "output_type": "stream",
     "text": [
      "Train Epoch: 100 [44160/48625 (91%)]\tLoss: 7.996204\tTrain Prec@1 0.00 (0.13): : 691it [02:39,  4.34it/s]"
     ]
    },
    {
     "name": "stdout",
     "output_type": "stream",
     "text": [
      "\n",
      "\n"
     ]
    },
    {
     "name": "stderr",
     "output_type": "stream",
     "text": [
      "Train Epoch: 100 [44160/48625 (91%)]\tLoss: 7.996204\tTrain Prec@1 0.00 (0.13): : 693it [02:39,  4.34it/s]"
     ]
    },
    {
     "name": "stdout",
     "output_type": "stream",
     "text": [
      "\n",
      "\n"
     ]
    },
    {
     "name": "stderr",
     "output_type": "stream",
     "text": [
      "Train Epoch: 100 [44160/48625 (91%)]\tLoss: 7.996204\tTrain Prec@1 0.00 (0.13): : 695it [02:40,  4.34it/s]"
     ]
    },
    {
     "name": "stdout",
     "output_type": "stream",
     "text": [
      "\n",
      "\n"
     ]
    },
    {
     "name": "stderr",
     "output_type": "stream",
     "text": [
      "Train Epoch: 100 [44160/48625 (91%)]\tLoss: 7.996204\tTrain Prec@1 0.00 (0.13): : 697it [02:40,  4.34it/s]"
     ]
    },
    {
     "name": "stdout",
     "output_type": "stream",
     "text": [
      "\n",
      "\n"
     ]
    },
    {
     "name": "stderr",
     "output_type": "stream",
     "text": [
      "Train Epoch: 100 [44160/48625 (91%)]\tLoss: 7.996204\tTrain Prec@1 0.00 (0.13): : 699it [02:41,  4.34it/s]"
     ]
    },
    {
     "name": "stdout",
     "output_type": "stream",
     "text": [
      "\n",
      "\n"
     ]
    },
    {
     "name": "stderr",
     "output_type": "stream",
     "text": [
      "Train Epoch: 100 [44800/48625 (92%)]\tLoss: 7.814749\tTrain Prec@1 0.00 (0.13): : 701it [02:41,  4.34it/s]"
     ]
    },
    {
     "name": "stdout",
     "output_type": "stream",
     "text": [
      "\n",
      "\n"
     ]
    },
    {
     "name": "stderr",
     "output_type": "stream",
     "text": [
      "Train Epoch: 100 [44800/48625 (92%)]\tLoss: 7.814749\tTrain Prec@1 0.00 (0.13): : 703it [02:41,  4.34it/s]"
     ]
    },
    {
     "name": "stdout",
     "output_type": "stream",
     "text": [
      "\n",
      "\n"
     ]
    },
    {
     "name": "stderr",
     "output_type": "stream",
     "text": [
      "Train Epoch: 100 [44800/48625 (92%)]\tLoss: 7.814749\tTrain Prec@1 0.00 (0.13): : 705it [02:42,  4.34it/s]"
     ]
    },
    {
     "name": "stdout",
     "output_type": "stream",
     "text": [
      "\n",
      "\n"
     ]
    },
    {
     "name": "stderr",
     "output_type": "stream",
     "text": [
      "Train Epoch: 100 [44800/48625 (92%)]\tLoss: 7.814749\tTrain Prec@1 0.00 (0.13): : 707it [02:42,  4.34it/s]"
     ]
    },
    {
     "name": "stdout",
     "output_type": "stream",
     "text": [
      "\n",
      "\n"
     ]
    },
    {
     "name": "stderr",
     "output_type": "stream",
     "text": [
      "Train Epoch: 100 [44800/48625 (92%)]\tLoss: 7.814749\tTrain Prec@1 0.00 (0.13): : 709it [02:43,  4.34it/s]"
     ]
    },
    {
     "name": "stdout",
     "output_type": "stream",
     "text": [
      "\n",
      "\n"
     ]
    },
    {
     "name": "stderr",
     "output_type": "stream",
     "text": [
      "Train Epoch: 100 [45440/48625 (93%)]\tLoss: 8.169764\tTrain Prec@1 0.00 (0.14): : 711it [02:43,  4.34it/s]"
     ]
    },
    {
     "name": "stdout",
     "output_type": "stream",
     "text": [
      "\n",
      "\n"
     ]
    },
    {
     "name": "stderr",
     "output_type": "stream",
     "text": [
      "Train Epoch: 100 [45440/48625 (93%)]\tLoss: 8.169764\tTrain Prec@1 0.00 (0.14): : 713it [02:44,  4.34it/s]"
     ]
    },
    {
     "name": "stdout",
     "output_type": "stream",
     "text": [
      "\n",
      "\n"
     ]
    },
    {
     "name": "stderr",
     "output_type": "stream",
     "text": [
      "Train Epoch: 100 [45440/48625 (93%)]\tLoss: 8.169764\tTrain Prec@1 0.00 (0.14): : 715it [02:44,  4.34it/s]"
     ]
    },
    {
     "name": "stdout",
     "output_type": "stream",
     "text": [
      "\n",
      "\n"
     ]
    },
    {
     "name": "stderr",
     "output_type": "stream",
     "text": [
      "Train Epoch: 100 [45440/48625 (93%)]\tLoss: 8.169764\tTrain Prec@1 0.00 (0.14): : 717it [02:45,  4.34it/s]"
     ]
    },
    {
     "name": "stdout",
     "output_type": "stream",
     "text": [
      "\n",
      "\n"
     ]
    },
    {
     "name": "stderr",
     "output_type": "stream",
     "text": [
      "Train Epoch: 100 [45440/48625 (93%)]\tLoss: 8.169764\tTrain Prec@1 0.00 (0.14): : 719it [02:45,  4.34it/s]"
     ]
    },
    {
     "name": "stdout",
     "output_type": "stream",
     "text": [
      "\n",
      "\n"
     ]
    },
    {
     "name": "stderr",
     "output_type": "stream",
     "text": [
      "Train Epoch: 100 [46080/48625 (95%)]\tLoss: 7.569984\tTrain Prec@1 0.00 (0.14): : 721it [02:46,  4.34it/s]"
     ]
    },
    {
     "name": "stdout",
     "output_type": "stream",
     "text": [
      "\n",
      "\n"
     ]
    },
    {
     "name": "stderr",
     "output_type": "stream",
     "text": [
      "Train Epoch: 100 [46080/48625 (95%)]\tLoss: 7.569984\tTrain Prec@1 0.00 (0.14): : 723it [02:46,  4.34it/s]"
     ]
    },
    {
     "name": "stdout",
     "output_type": "stream",
     "text": [
      "\n",
      "\n"
     ]
    },
    {
     "name": "stderr",
     "output_type": "stream",
     "text": [
      "Train Epoch: 100 [46080/48625 (95%)]\tLoss: 7.569984\tTrain Prec@1 0.00 (0.14): : 725it [02:47,  4.34it/s]"
     ]
    },
    {
     "name": "stdout",
     "output_type": "stream",
     "text": [
      "\n",
      "\n"
     ]
    },
    {
     "name": "stderr",
     "output_type": "stream",
     "text": [
      "Train Epoch: 100 [46080/48625 (95%)]\tLoss: 7.569984\tTrain Prec@1 0.00 (0.14): : 727it [02:47,  4.34it/s]"
     ]
    },
    {
     "name": "stdout",
     "output_type": "stream",
     "text": [
      "\n",
      "\n"
     ]
    },
    {
     "name": "stderr",
     "output_type": "stream",
     "text": [
      "Train Epoch: 100 [46080/48625 (95%)]\tLoss: 7.569984\tTrain Prec@1 0.00 (0.14): : 729it [02:47,  4.34it/s]"
     ]
    },
    {
     "name": "stdout",
     "output_type": "stream",
     "text": [
      "\n",
      "\n"
     ]
    },
    {
     "name": "stderr",
     "output_type": "stream",
     "text": [
      "Train Epoch: 100 [46720/48625 (96%)]\tLoss: 7.767561\tTrain Prec@1 0.00 (0.14): : 731it [02:48,  4.34it/s]"
     ]
    },
    {
     "name": "stdout",
     "output_type": "stream",
     "text": [
      "\n",
      "\n"
     ]
    },
    {
     "name": "stderr",
     "output_type": "stream",
     "text": [
      "Train Epoch: 100 [46720/48625 (96%)]\tLoss: 7.767561\tTrain Prec@1 0.00 (0.14): : 733it [02:48,  4.34it/s]"
     ]
    },
    {
     "name": "stdout",
     "output_type": "stream",
     "text": [
      "\n",
      "\n"
     ]
    },
    {
     "name": "stderr",
     "output_type": "stream",
     "text": [
      "Train Epoch: 100 [46720/48625 (96%)]\tLoss: 7.767561\tTrain Prec@1 0.00 (0.14): : 735it [02:49,  4.34it/s]"
     ]
    },
    {
     "name": "stdout",
     "output_type": "stream",
     "text": [
      "\n",
      "\n"
     ]
    },
    {
     "name": "stderr",
     "output_type": "stream",
     "text": [
      "Train Epoch: 100 [46720/48625 (96%)]\tLoss: 7.767561\tTrain Prec@1 0.00 (0.14): : 737it [02:50,  4.33it/s]"
     ]
    },
    {
     "name": "stdout",
     "output_type": "stream",
     "text": [
      "\n",
      "\n"
     ]
    },
    {
     "name": "stderr",
     "output_type": "stream",
     "text": [
      "Train Epoch: 100 [46720/48625 (96%)]\tLoss: 7.767561\tTrain Prec@1 0.00 (0.14): : 739it [02:50,  4.33it/s]"
     ]
    },
    {
     "name": "stdout",
     "output_type": "stream",
     "text": [
      "\n",
      "\n"
     ]
    },
    {
     "name": "stderr",
     "output_type": "stream",
     "text": [
      "Train Epoch: 100 [47360/48625 (97%)]\tLoss: 8.123195\tTrain Prec@1 1.56 (0.14): : 741it [02:50,  4.33it/s]"
     ]
    },
    {
     "name": "stdout",
     "output_type": "stream",
     "text": [
      "\n",
      "\n"
     ]
    },
    {
     "name": "stderr",
     "output_type": "stream",
     "text": [
      "Train Epoch: 100 [47360/48625 (97%)]\tLoss: 8.123195\tTrain Prec@1 1.56 (0.14): : 743it [02:51,  4.33it/s]"
     ]
    },
    {
     "name": "stdout",
     "output_type": "stream",
     "text": [
      "\n",
      "\n"
     ]
    },
    {
     "name": "stderr",
     "output_type": "stream",
     "text": [
      "Train Epoch: 100 [47360/48625 (97%)]\tLoss: 8.123195\tTrain Prec@1 1.56 (0.14): : 745it [02:51,  4.33it/s]"
     ]
    },
    {
     "name": "stdout",
     "output_type": "stream",
     "text": [
      "\n",
      "\n"
     ]
    },
    {
     "name": "stderr",
     "output_type": "stream",
     "text": [
      "Train Epoch: 100 [47360/48625 (97%)]\tLoss: 8.123195\tTrain Prec@1 1.56 (0.14): : 747it [02:52,  4.33it/s]"
     ]
    },
    {
     "name": "stdout",
     "output_type": "stream",
     "text": [
      "\n",
      "\n"
     ]
    },
    {
     "name": "stderr",
     "output_type": "stream",
     "text": [
      "Train Epoch: 100 [47360/48625 (97%)]\tLoss: 8.123195\tTrain Prec@1 1.56 (0.14): : 749it [02:52,  4.33it/s]"
     ]
    },
    {
     "name": "stdout",
     "output_type": "stream",
     "text": [
      "\n",
      "\n"
     ]
    },
    {
     "name": "stderr",
     "output_type": "stream",
     "text": [
      "Train Epoch: 100 [48000/48625 (99%)]\tLoss: 7.831263\tTrain Prec@1 1.56 (0.14): : 751it [02:53,  4.33it/s]"
     ]
    },
    {
     "name": "stdout",
     "output_type": "stream",
     "text": [
      "\n",
      "\n"
     ]
    },
    {
     "name": "stderr",
     "output_type": "stream",
     "text": [
      "Train Epoch: 100 [48000/48625 (99%)]\tLoss: 7.831263\tTrain Prec@1 1.56 (0.14): : 753it [02:53,  4.33it/s]"
     ]
    },
    {
     "name": "stdout",
     "output_type": "stream",
     "text": [
      "\n",
      "\n"
     ]
    },
    {
     "name": "stderr",
     "output_type": "stream",
     "text": [
      "Train Epoch: 100 [48000/48625 (99%)]\tLoss: 7.831263\tTrain Prec@1 1.56 (0.14): : 755it [02:54,  4.33it/s]"
     ]
    },
    {
     "name": "stdout",
     "output_type": "stream",
     "text": [
      "\n",
      "\n"
     ]
    },
    {
     "name": "stderr",
     "output_type": "stream",
     "text": [
      "Train Epoch: 100 [48000/48625 (99%)]\tLoss: 7.831263\tTrain Prec@1 1.56 (0.14): : 757it [02:54,  4.33it/s]"
     ]
    },
    {
     "name": "stdout",
     "output_type": "stream",
     "text": [
      "\n",
      "\n"
     ]
    },
    {
     "name": "stderr",
     "output_type": "stream",
     "text": [
      "Train Epoch: 100 [48000/48625 (99%)]\tLoss: 7.831263\tTrain Prec@1 1.56 (0.14): : 759it [02:55,  4.34it/s]"
     ]
    },
    {
     "name": "stdout",
     "output_type": "stream",
     "text": [
      "\n",
      "\n"
     ]
    },
    {
     "name": "stderr",
     "output_type": "stream",
     "text": [
      "Train Epoch: 100 [48000/48625 (99%)]\tLoss: 7.831263\tTrain Prec@1 1.56 (0.14): : 760it [02:55,  4.34it/s]\n",
      "Test Epoch: 100 [5760/6000 (96%)]: : 94it [01:13,  1.28it/s]\n"
     ]
    },
    {
     "name": "stdout",
     "output_type": "stream",
     "text": [
      "\u001b[91mTest set: Accuracy: 0.60666667\n",
      "\u001b[0m\n"
     ]
    },
    {
     "name": "stderr",
     "output_type": "stream",
     "text": [
      "Test Epoch: 100 [9600/9808 (97%)]\tTest Prec@1 0.00 (0.49): : 154it [00:31,  4.93it/s]\n",
      "Train Epoch: 101 [0/48625 (0%)]\tLoss: 7.351052\tTrain Prec@1 3.12 (3.12): : 1it [00:00,  1.91it/s]"
     ]
    },
    {
     "name": "stdout",
     "output_type": "stream",
     "text": [
      "\n",
      "\n"
     ]
    },
    {
     "name": "stderr",
     "output_type": "stream",
     "text": [
      "Train Epoch: 101 [0/48625 (0%)]\tLoss: 7.351052\tTrain Prec@1 3.12 (3.12): : 3it [00:00,  3.04it/s]"
     ]
    },
    {
     "name": "stdout",
     "output_type": "stream",
     "text": [
      "\n",
      "\n"
     ]
    },
    {
     "name": "stderr",
     "output_type": "stream",
     "text": [
      "Train Epoch: 101 [0/48625 (0%)]\tLoss: 7.351052\tTrain Prec@1 3.12 (3.12): : 5it [00:01,  3.42it/s]"
     ]
    },
    {
     "name": "stdout",
     "output_type": "stream",
     "text": [
      "\n",
      "\n"
     ]
    },
    {
     "name": "stderr",
     "output_type": "stream",
     "text": [
      "Train Epoch: 101 [0/48625 (0%)]\tLoss: 7.351052\tTrain Prec@1 3.12 (3.12): : 7it [00:01,  3.66it/s]"
     ]
    },
    {
     "name": "stdout",
     "output_type": "stream",
     "text": [
      "\n",
      "\n"
     ]
    },
    {
     "name": "stderr",
     "output_type": "stream",
     "text": [
      "Train Epoch: 101 [0/48625 (0%)]\tLoss: 7.351052\tTrain Prec@1 3.12 (3.12): : 9it [00:02,  3.78it/s]"
     ]
    },
    {
     "name": "stdout",
     "output_type": "stream",
     "text": [
      "\n",
      "\n"
     ]
    },
    {
     "name": "stderr",
     "output_type": "stream",
     "text": [
      "Train Epoch: 101 [640/48625 (1%)]\tLoss: 7.388460\tTrain Prec@1 0.00 (0.57): : 11it [00:02,  3.89it/s]"
     ]
    },
    {
     "name": "stdout",
     "output_type": "stream",
     "text": [
      "\n",
      "\n"
     ]
    },
    {
     "name": "stderr",
     "output_type": "stream",
     "text": [
      "Train Epoch: 101 [640/48625 (1%)]\tLoss: 7.388460\tTrain Prec@1 0.00 (0.57): : 13it [00:03,  3.99it/s]"
     ]
    },
    {
     "name": "stdout",
     "output_type": "stream",
     "text": [
      "\n",
      "\n"
     ]
    },
    {
     "name": "stderr",
     "output_type": "stream",
     "text": [
      "Train Epoch: 101 [640/48625 (1%)]\tLoss: 7.388460\tTrain Prec@1 0.00 (0.57): : 15it [00:03,  4.04it/s]"
     ]
    },
    {
     "name": "stdout",
     "output_type": "stream",
     "text": [
      "\n",
      "\n"
     ]
    },
    {
     "name": "stderr",
     "output_type": "stream",
     "text": [
      "Train Epoch: 101 [640/48625 (1%)]\tLoss: 7.388460\tTrain Prec@1 0.00 (0.57): : 17it [00:04,  4.08it/s]"
     ]
    },
    {
     "name": "stdout",
     "output_type": "stream",
     "text": [
      "\n",
      "\n"
     ]
    },
    {
     "name": "stderr",
     "output_type": "stream",
     "text": [
      "Train Epoch: 101 [640/48625 (1%)]\tLoss: 7.388460\tTrain Prec@1 0.00 (0.57): : 19it [00:04,  4.11it/s]"
     ]
    },
    {
     "name": "stdout",
     "output_type": "stream",
     "text": [
      "\n",
      "\n"
     ]
    },
    {
     "name": "stderr",
     "output_type": "stream",
     "text": [
      "Train Epoch: 101 [1280/48625 (3%)]\tLoss: 7.255645\tTrain Prec@1 1.56 (0.60): : 21it [00:05,  4.11it/s]"
     ]
    },
    {
     "name": "stdout",
     "output_type": "stream",
     "text": [
      "\n",
      "\n"
     ]
    },
    {
     "name": "stderr",
     "output_type": "stream",
     "text": [
      "Train Epoch: 101 [1280/48625 (3%)]\tLoss: 7.255645\tTrain Prec@1 1.56 (0.60): : 23it [00:05,  4.14it/s]"
     ]
    },
    {
     "name": "stdout",
     "output_type": "stream",
     "text": [
      "\n",
      "\n"
     ]
    },
    {
     "name": "stderr",
     "output_type": "stream",
     "text": [
      "Train Epoch: 101 [1280/48625 (3%)]\tLoss: 7.255645\tTrain Prec@1 1.56 (0.60): : 25it [00:06,  4.16it/s]"
     ]
    },
    {
     "name": "stdout",
     "output_type": "stream",
     "text": [
      "\n",
      "\n"
     ]
    },
    {
     "name": "stderr",
     "output_type": "stream",
     "text": [
      "Train Epoch: 101 [1280/48625 (3%)]\tLoss: 7.255645\tTrain Prec@1 1.56 (0.60): : 27it [00:06,  4.17it/s]"
     ]
    },
    {
     "name": "stdout",
     "output_type": "stream",
     "text": [
      "\n",
      "\n"
     ]
    },
    {
     "name": "stderr",
     "output_type": "stream",
     "text": [
      "Train Epoch: 101 [1280/48625 (3%)]\tLoss: 7.255645\tTrain Prec@1 1.56 (0.60): : 29it [00:06,  4.19it/s]"
     ]
    },
    {
     "name": "stdout",
     "output_type": "stream",
     "text": [
      "\n",
      "\n"
     ]
    },
    {
     "name": "stderr",
     "output_type": "stream",
     "text": [
      "Train Epoch: 101 [1920/48625 (4%)]\tLoss: 7.486364\tTrain Prec@1 0.00 (0.81): : 31it [00:07,  4.19it/s]"
     ]
    },
    {
     "name": "stdout",
     "output_type": "stream",
     "text": [
      "\n",
      "\n"
     ]
    },
    {
     "name": "stderr",
     "output_type": "stream",
     "text": [
      "Train Epoch: 101 [1920/48625 (4%)]\tLoss: 7.486364\tTrain Prec@1 0.00 (0.81): : 33it [00:07,  4.21it/s]"
     ]
    },
    {
     "name": "stdout",
     "output_type": "stream",
     "text": [
      "\n",
      "\n"
     ]
    },
    {
     "name": "stderr",
     "output_type": "stream",
     "text": [
      "Train Epoch: 101 [1920/48625 (4%)]\tLoss: 7.486364\tTrain Prec@1 0.00 (0.81): : 35it [00:08,  4.22it/s]"
     ]
    },
    {
     "name": "stdout",
     "output_type": "stream",
     "text": [
      "\n",
      "\n"
     ]
    },
    {
     "name": "stderr",
     "output_type": "stream",
     "text": [
      "Train Epoch: 101 [1920/48625 (4%)]\tLoss: 7.486364\tTrain Prec@1 0.00 (0.81): : 37it [00:08,  4.21it/s]"
     ]
    },
    {
     "name": "stdout",
     "output_type": "stream",
     "text": [
      "\n",
      "\n"
     ]
    },
    {
     "name": "stderr",
     "output_type": "stream",
     "text": [
      "Train Epoch: 101 [1920/48625 (4%)]\tLoss: 7.486364\tTrain Prec@1 0.00 (0.81): : 39it [00:09,  4.22it/s]"
     ]
    },
    {
     "name": "stdout",
     "output_type": "stream",
     "text": [
      "\n",
      "\n"
     ]
    },
    {
     "name": "stderr",
     "output_type": "stream",
     "text": [
      "Train Epoch: 101 [2560/48625 (5%)]\tLoss: 7.533628\tTrain Prec@1 0.00 (0.72): : 41it [00:09,  4.20it/s]"
     ]
    },
    {
     "name": "stdout",
     "output_type": "stream",
     "text": [
      "\n",
      "\n"
     ]
    },
    {
     "name": "stderr",
     "output_type": "stream",
     "text": [
      "Train Epoch: 101 [2560/48625 (5%)]\tLoss: 7.533628\tTrain Prec@1 0.00 (0.72): : 43it [00:10,  4.22it/s]"
     ]
    },
    {
     "name": "stdout",
     "output_type": "stream",
     "text": [
      "\n",
      "\n"
     ]
    },
    {
     "name": "stderr",
     "output_type": "stream",
     "text": [
      "Train Epoch: 101 [2560/48625 (5%)]\tLoss: 7.533628\tTrain Prec@1 0.00 (0.72): : 45it [00:10,  4.22it/s]"
     ]
    },
    {
     "name": "stdout",
     "output_type": "stream",
     "text": [
      "\n",
      "\n"
     ]
    },
    {
     "name": "stderr",
     "output_type": "stream",
     "text": [
      "Train Epoch: 101 [2560/48625 (5%)]\tLoss: 7.533628\tTrain Prec@1 0.00 (0.72): : 47it [00:11,  4.23it/s]"
     ]
    },
    {
     "name": "stdout",
     "output_type": "stream",
     "text": [
      "\n",
      "\n"
     ]
    },
    {
     "name": "stderr",
     "output_type": "stream",
     "text": [
      "Train Epoch: 101 [2560/48625 (5%)]\tLoss: 7.533628\tTrain Prec@1 0.00 (0.72): : 49it [00:11,  4.23it/s]"
     ]
    },
    {
     "name": "stdout",
     "output_type": "stream",
     "text": [
      "\n",
      "\n"
     ]
    },
    {
     "name": "stderr",
     "output_type": "stream",
     "text": [
      "Train Epoch: 101 [3200/48625 (7%)]\tLoss: 7.340090\tTrain Prec@1 0.00 (0.70): : 51it [00:12,  4.23it/s]"
     ]
    },
    {
     "name": "stdout",
     "output_type": "stream",
     "text": [
      "\n",
      "\n"
     ]
    },
    {
     "name": "stderr",
     "output_type": "stream",
     "text": [
      "Train Epoch: 101 [3200/48625 (7%)]\tLoss: 7.340090\tTrain Prec@1 0.00 (0.70): : 53it [00:12,  4.24it/s]"
     ]
    },
    {
     "name": "stdout",
     "output_type": "stream",
     "text": [
      "\n",
      "\n"
     ]
    },
    {
     "name": "stderr",
     "output_type": "stream",
     "text": [
      "Train Epoch: 101 [3200/48625 (7%)]\tLoss: 7.340090\tTrain Prec@1 0.00 (0.70): : 55it [00:12,  4.24it/s]"
     ]
    },
    {
     "name": "stdout",
     "output_type": "stream",
     "text": [
      "\n",
      "\n"
     ]
    },
    {
     "name": "stderr",
     "output_type": "stream",
     "text": [
      "Train Epoch: 101 [3200/48625 (7%)]\tLoss: 7.340090\tTrain Prec@1 0.00 (0.70): : 57it [00:13,  4.25it/s]"
     ]
    },
    {
     "name": "stdout",
     "output_type": "stream",
     "text": [
      "\n",
      "\n"
     ]
    },
    {
     "name": "stderr",
     "output_type": "stream",
     "text": [
      "Train Epoch: 101 [3200/48625 (7%)]\tLoss: 7.340090\tTrain Prec@1 0.00 (0.70): : 59it [00:13,  4.26it/s]"
     ]
    },
    {
     "name": "stdout",
     "output_type": "stream",
     "text": [
      "\n",
      "\n"
     ]
    },
    {
     "name": "stderr",
     "output_type": "stream",
     "text": [
      "Train Epoch: 101 [3840/48625 (8%)]\tLoss: 7.592987\tTrain Prec@1 0.00 (0.72): : 61it [00:14,  4.25it/s]"
     ]
    },
    {
     "name": "stdout",
     "output_type": "stream",
     "text": [
      "\n",
      "\n"
     ]
    },
    {
     "name": "stderr",
     "output_type": "stream",
     "text": [
      "Train Epoch: 101 [3840/48625 (8%)]\tLoss: 7.592987\tTrain Prec@1 0.00 (0.72): : 63it [00:14,  4.26it/s]"
     ]
    },
    {
     "name": "stdout",
     "output_type": "stream",
     "text": [
      "\n",
      "\n"
     ]
    },
    {
     "name": "stderr",
     "output_type": "stream",
     "text": [
      "Train Epoch: 101 [3840/48625 (8%)]\tLoss: 7.592987\tTrain Prec@1 0.00 (0.72): : 65it [00:15,  4.26it/s]"
     ]
    },
    {
     "name": "stdout",
     "output_type": "stream",
     "text": [
      "\n",
      "\n"
     ]
    },
    {
     "name": "stderr",
     "output_type": "stream",
     "text": [
      "Train Epoch: 101 [3840/48625 (8%)]\tLoss: 7.592987\tTrain Prec@1 0.00 (0.72): : 67it [00:15,  4.26it/s]"
     ]
    },
    {
     "name": "stdout",
     "output_type": "stream",
     "text": [
      "\n",
      "\n"
     ]
    },
    {
     "name": "stderr",
     "output_type": "stream",
     "text": [
      "Train Epoch: 101 [3840/48625 (8%)]\tLoss: 7.592987\tTrain Prec@1 0.00 (0.72): : 69it [00:16,  4.27it/s]"
     ]
    },
    {
     "name": "stdout",
     "output_type": "stream",
     "text": [
      "\n",
      "\n"
     ]
    },
    {
     "name": "stderr",
     "output_type": "stream",
     "text": [
      "Train Epoch: 101 [4480/48625 (9%)]\tLoss: 7.813533\tTrain Prec@1 0.00 (0.68): : 71it [00:16,  4.26it/s]"
     ]
    },
    {
     "name": "stdout",
     "output_type": "stream",
     "text": [
      "\n",
      "\n"
     ]
    },
    {
     "name": "stderr",
     "output_type": "stream",
     "text": [
      "Train Epoch: 101 [4480/48625 (9%)]\tLoss: 7.813533\tTrain Prec@1 0.00 (0.68): : 73it [00:17,  4.27it/s]"
     ]
    },
    {
     "name": "stdout",
     "output_type": "stream",
     "text": [
      "\n",
      "\n"
     ]
    },
    {
     "name": "stderr",
     "output_type": "stream",
     "text": [
      "Train Epoch: 101 [4480/48625 (9%)]\tLoss: 7.813533\tTrain Prec@1 0.00 (0.68): : 75it [00:17,  4.27it/s]"
     ]
    },
    {
     "name": "stdout",
     "output_type": "stream",
     "text": [
      "\n",
      "\n"
     ]
    },
    {
     "name": "stderr",
     "output_type": "stream",
     "text": [
      "Train Epoch: 101 [4480/48625 (9%)]\tLoss: 7.813533\tTrain Prec@1 0.00 (0.68): : 77it [00:17,  4.28it/s]"
     ]
    },
    {
     "name": "stdout",
     "output_type": "stream",
     "text": [
      "\n",
      "\n"
     ]
    },
    {
     "name": "stderr",
     "output_type": "stream",
     "text": [
      "Train Epoch: 101 [4480/48625 (9%)]\tLoss: 7.813533\tTrain Prec@1 0.00 (0.68): : 79it [00:18,  4.29it/s]"
     ]
    },
    {
     "name": "stdout",
     "output_type": "stream",
     "text": [
      "\n",
      "\n"
     ]
    },
    {
     "name": "stderr",
     "output_type": "stream",
     "text": [
      "Train Epoch: 101 [5120/48625 (11%)]\tLoss: 7.518493\tTrain Prec@1 0.00 (0.66): : 81it [00:18,  4.28it/s]"
     ]
    },
    {
     "name": "stdout",
     "output_type": "stream",
     "text": [
      "\n",
      "\n"
     ]
    },
    {
     "name": "stderr",
     "output_type": "stream",
     "text": [
      "Train Epoch: 101 [5120/48625 (11%)]\tLoss: 7.518493\tTrain Prec@1 0.00 (0.66): : 83it [00:19,  4.28it/s]"
     ]
    },
    {
     "name": "stdout",
     "output_type": "stream",
     "text": [
      "\n",
      "\n"
     ]
    },
    {
     "name": "stderr",
     "output_type": "stream",
     "text": [
      "Train Epoch: 101 [5120/48625 (11%)]\tLoss: 7.518493\tTrain Prec@1 0.00 (0.66): : 85it [00:19,  4.29it/s]"
     ]
    },
    {
     "name": "stdout",
     "output_type": "stream",
     "text": [
      "\n",
      "\n"
     ]
    },
    {
     "name": "stderr",
     "output_type": "stream",
     "text": [
      "Train Epoch: 101 [5120/48625 (11%)]\tLoss: 7.518493\tTrain Prec@1 0.00 (0.66): : 87it [00:20,  4.29it/s]"
     ]
    },
    {
     "name": "stdout",
     "output_type": "stream",
     "text": [
      "\n",
      "\n"
     ]
    },
    {
     "name": "stderr",
     "output_type": "stream",
     "text": [
      "Train Epoch: 101 [5120/48625 (11%)]\tLoss: 7.518493\tTrain Prec@1 0.00 (0.66): : 89it [00:20,  4.29it/s]"
     ]
    },
    {
     "name": "stdout",
     "output_type": "stream",
     "text": [
      "\n",
      "\n"
     ]
    },
    {
     "name": "stderr",
     "output_type": "stream",
     "text": [
      "Train Epoch: 101 [5760/48625 (12%)]\tLoss: 7.612736\tTrain Prec@1 0.00 (0.67): : 91it [00:21,  4.29it/s]"
     ]
    },
    {
     "name": "stdout",
     "output_type": "stream",
     "text": [
      "\n",
      "\n"
     ]
    },
    {
     "name": "stderr",
     "output_type": "stream",
     "text": [
      "Train Epoch: 101 [5760/48625 (12%)]\tLoss: 7.612736\tTrain Prec@1 0.00 (0.67): : 93it [00:21,  4.29it/s]"
     ]
    },
    {
     "name": "stdout",
     "output_type": "stream",
     "text": [
      "\n",
      "\n"
     ]
    },
    {
     "name": "stderr",
     "output_type": "stream",
     "text": [
      "Train Epoch: 101 [5760/48625 (12%)]\tLoss: 7.612736\tTrain Prec@1 0.00 (0.67): : 95it [00:22,  4.30it/s]"
     ]
    },
    {
     "name": "stdout",
     "output_type": "stream",
     "text": [
      "\n",
      "\n"
     ]
    },
    {
     "name": "stderr",
     "output_type": "stream",
     "text": [
      "Train Epoch: 101 [5760/48625 (12%)]\tLoss: 7.612736\tTrain Prec@1 0.00 (0.67): : 97it [00:22,  4.29it/s]"
     ]
    },
    {
     "name": "stdout",
     "output_type": "stream",
     "text": [
      "\n",
      "\n"
     ]
    },
    {
     "name": "stderr",
     "output_type": "stream",
     "text": [
      "Train Epoch: 101 [5760/48625 (12%)]\tLoss: 7.612736\tTrain Prec@1 0.00 (0.67): : 99it [00:23,  4.30it/s]"
     ]
    },
    {
     "name": "stdout",
     "output_type": "stream",
     "text": [
      "\n",
      "\n"
     ]
    },
    {
     "name": "stderr",
     "output_type": "stream",
     "text": [
      "Train Epoch: 101 [6400/48625 (13%)]\tLoss: 7.584199\tTrain Prec@1 0.00 (0.62): : 101it [00:23,  4.30it/s]"
     ]
    },
    {
     "name": "stdout",
     "output_type": "stream",
     "text": [
      "\n",
      "\n"
     ]
    },
    {
     "name": "stderr",
     "output_type": "stream",
     "text": [
      "Train Epoch: 101 [6400/48625 (13%)]\tLoss: 7.584199\tTrain Prec@1 0.00 (0.62): : 103it [00:23,  4.30it/s]"
     ]
    },
    {
     "name": "stdout",
     "output_type": "stream",
     "text": [
      "\n",
      "\n"
     ]
    },
    {
     "name": "stderr",
     "output_type": "stream",
     "text": [
      "Train Epoch: 101 [6400/48625 (13%)]\tLoss: 7.584199\tTrain Prec@1 0.00 (0.62): : 105it [00:24,  4.30it/s]"
     ]
    },
    {
     "name": "stdout",
     "output_type": "stream",
     "text": [
      "\n",
      "\n"
     ]
    },
    {
     "name": "stderr",
     "output_type": "stream",
     "text": [
      "Train Epoch: 101 [6400/48625 (13%)]\tLoss: 7.584199\tTrain Prec@1 0.00 (0.62): : 107it [00:24,  4.30it/s]"
     ]
    },
    {
     "name": "stdout",
     "output_type": "stream",
     "text": [
      "\n",
      "\n"
     ]
    },
    {
     "name": "stderr",
     "output_type": "stream",
     "text": [
      "Train Epoch: 101 [6400/48625 (13%)]\tLoss: 7.584199\tTrain Prec@1 0.00 (0.62): : 109it [00:25,  4.30it/s]"
     ]
    },
    {
     "name": "stdout",
     "output_type": "stream",
     "text": [
      "\n",
      "\n"
     ]
    },
    {
     "name": "stderr",
     "output_type": "stream",
     "text": [
      "Train Epoch: 101 [7040/48625 (14%)]\tLoss: 7.475895\tTrain Prec@1 0.00 (0.59): : 111it [00:25,  4.31it/s]"
     ]
    },
    {
     "name": "stdout",
     "output_type": "stream",
     "text": [
      "\n",
      "\n"
     ]
    },
    {
     "name": "stderr",
     "output_type": "stream",
     "text": [
      "Train Epoch: 101 [7040/48625 (14%)]\tLoss: 7.475895\tTrain Prec@1 0.00 (0.59): : 113it [00:26,  4.31it/s]"
     ]
    },
    {
     "name": "stdout",
     "output_type": "stream",
     "text": [
      "\n",
      "\n"
     ]
    },
    {
     "name": "stderr",
     "output_type": "stream",
     "text": [
      "Train Epoch: 101 [7040/48625 (14%)]\tLoss: 7.475895\tTrain Prec@1 0.00 (0.59): : 115it [00:26,  4.31it/s]"
     ]
    },
    {
     "name": "stdout",
     "output_type": "stream",
     "text": [
      "\n",
      "\n"
     ]
    },
    {
     "name": "stderr",
     "output_type": "stream",
     "text": [
      "Train Epoch: 101 [7040/48625 (14%)]\tLoss: 7.475895\tTrain Prec@1 0.00 (0.59): : 117it [00:27,  4.31it/s]"
     ]
    },
    {
     "name": "stdout",
     "output_type": "stream",
     "text": [
      "\n",
      "\n"
     ]
    },
    {
     "name": "stderr",
     "output_type": "stream",
     "text": [
      "Train Epoch: 101 [7040/48625 (14%)]\tLoss: 7.475895\tTrain Prec@1 0.00 (0.59): : 119it [00:27,  4.31it/s]"
     ]
    },
    {
     "name": "stdout",
     "output_type": "stream",
     "text": [
      "\n",
      "\n"
     ]
    },
    {
     "name": "stderr",
     "output_type": "stream",
     "text": [
      "Train Epoch: 101 [7680/48625 (16%)]\tLoss: 7.602418\tTrain Prec@1 0.00 (0.58): : 121it [00:28,  4.31it/s]"
     ]
    },
    {
     "name": "stdout",
     "output_type": "stream",
     "text": [
      "\n",
      "\n"
     ]
    },
    {
     "name": "stderr",
     "output_type": "stream",
     "text": [
      "Train Epoch: 101 [7680/48625 (16%)]\tLoss: 7.602418\tTrain Prec@1 0.00 (0.58): : 123it [00:28,  4.31it/s]"
     ]
    },
    {
     "name": "stdout",
     "output_type": "stream",
     "text": [
      "\n",
      "\n"
     ]
    },
    {
     "name": "stderr",
     "output_type": "stream",
     "text": [
      "Train Epoch: 101 [7680/48625 (16%)]\tLoss: 7.602418\tTrain Prec@1 0.00 (0.58): : 125it [00:28,  4.31it/s]"
     ]
    },
    {
     "name": "stdout",
     "output_type": "stream",
     "text": [
      "\n",
      "\n"
     ]
    },
    {
     "name": "stderr",
     "output_type": "stream",
     "text": [
      "Train Epoch: 101 [7680/48625 (16%)]\tLoss: 7.602418\tTrain Prec@1 0.00 (0.58): : 127it [00:29,  4.31it/s]"
     ]
    },
    {
     "name": "stdout",
     "output_type": "stream",
     "text": [
      "\n",
      "\n"
     ]
    },
    {
     "name": "stderr",
     "output_type": "stream",
     "text": [
      "Train Epoch: 101 [7680/48625 (16%)]\tLoss: 7.602418\tTrain Prec@1 0.00 (0.58): : 129it [00:29,  4.32it/s]"
     ]
    },
    {
     "name": "stdout",
     "output_type": "stream",
     "text": [
      "\n",
      "\n"
     ]
    },
    {
     "name": "stderr",
     "output_type": "stream",
     "text": [
      "Train Epoch: 101 [8320/48625 (17%)]\tLoss: 7.316600\tTrain Prec@1 3.12 (0.61): : 131it [00:30,  4.32it/s]"
     ]
    },
    {
     "name": "stdout",
     "output_type": "stream",
     "text": [
      "\n",
      "\n"
     ]
    },
    {
     "name": "stderr",
     "output_type": "stream",
     "text": [
      "Train Epoch: 101 [8320/48625 (17%)]\tLoss: 7.316600\tTrain Prec@1 3.12 (0.61): : 133it [00:30,  4.32it/s]"
     ]
    },
    {
     "name": "stdout",
     "output_type": "stream",
     "text": [
      "\n",
      "\n"
     ]
    },
    {
     "name": "stderr",
     "output_type": "stream",
     "text": [
      "Train Epoch: 101 [8320/48625 (17%)]\tLoss: 7.316600\tTrain Prec@1 3.12 (0.61): : 135it [00:31,  4.32it/s]"
     ]
    },
    {
     "name": "stdout",
     "output_type": "stream",
     "text": [
      "\n",
      "\n"
     ]
    },
    {
     "name": "stderr",
     "output_type": "stream",
     "text": [
      "Train Epoch: 101 [8320/48625 (17%)]\tLoss: 7.316600\tTrain Prec@1 3.12 (0.61): : 137it [00:31,  4.32it/s]"
     ]
    },
    {
     "name": "stdout",
     "output_type": "stream",
     "text": [
      "\n",
      "\n"
     ]
    },
    {
     "name": "stderr",
     "output_type": "stream",
     "text": [
      "Train Epoch: 101 [8320/48625 (17%)]\tLoss: 7.316600\tTrain Prec@1 3.12 (0.61): : 139it [00:32,  4.32it/s]"
     ]
    },
    {
     "name": "stdout",
     "output_type": "stream",
     "text": [
      "\n",
      "\n"
     ]
    },
    {
     "name": "stderr",
     "output_type": "stream",
     "text": [
      "Train Epoch: 101 [8960/48625 (18%)]\tLoss: 7.518728\tTrain Prec@1 0.00 (0.59): : 141it [00:32,  4.32it/s]"
     ]
    },
    {
     "name": "stdout",
     "output_type": "stream",
     "text": [
      "\n",
      "\n"
     ]
    },
    {
     "name": "stderr",
     "output_type": "stream",
     "text": [
      "Train Epoch: 101 [8960/48625 (18%)]\tLoss: 7.518728\tTrain Prec@1 0.00 (0.59): : 143it [00:33,  4.32it/s]"
     ]
    },
    {
     "name": "stdout",
     "output_type": "stream",
     "text": [
      "\n",
      "\n"
     ]
    },
    {
     "name": "stderr",
     "output_type": "stream",
     "text": [
      "Train Epoch: 101 [8960/48625 (18%)]\tLoss: 7.518728\tTrain Prec@1 0.00 (0.59): : 145it [00:33,  4.33it/s]"
     ]
    },
    {
     "name": "stdout",
     "output_type": "stream",
     "text": [
      "\n",
      "\n"
     ]
    },
    {
     "name": "stderr",
     "output_type": "stream",
     "text": [
      "Train Epoch: 101 [8960/48625 (18%)]\tLoss: 7.518728\tTrain Prec@1 0.00 (0.59): : 147it [00:33,  4.33it/s]"
     ]
    },
    {
     "name": "stdout",
     "output_type": "stream",
     "text": [
      "\n",
      "\n"
     ]
    },
    {
     "name": "stderr",
     "output_type": "stream",
     "text": [
      "Train Epoch: 101 [8960/48625 (18%)]\tLoss: 7.518728\tTrain Prec@1 0.00 (0.59): : 149it [00:34,  4.33it/s]"
     ]
    },
    {
     "name": "stdout",
     "output_type": "stream",
     "text": [
      "\n",
      "\n"
     ]
    },
    {
     "name": "stderr",
     "output_type": "stream",
     "text": [
      "Train Epoch: 101 [9600/48625 (20%)]\tLoss: 7.490223\tTrain Prec@1 1.56 (0.61): : 151it [00:34,  4.33it/s]"
     ]
    },
    {
     "name": "stdout",
     "output_type": "stream",
     "text": [
      "\n",
      "\n"
     ]
    },
    {
     "name": "stderr",
     "output_type": "stream",
     "text": [
      "Train Epoch: 101 [9600/48625 (20%)]\tLoss: 7.490223\tTrain Prec@1 1.56 (0.61): : 153it [00:35,  4.33it/s]"
     ]
    },
    {
     "name": "stdout",
     "output_type": "stream",
     "text": [
      "\n",
      "\n"
     ]
    },
    {
     "name": "stderr",
     "output_type": "stream",
     "text": [
      "Train Epoch: 101 [9600/48625 (20%)]\tLoss: 7.490223\tTrain Prec@1 1.56 (0.61): : 155it [00:35,  4.33it/s]"
     ]
    },
    {
     "name": "stdout",
     "output_type": "stream",
     "text": [
      "\n",
      "\n"
     ]
    },
    {
     "name": "stderr",
     "output_type": "stream",
     "text": [
      "Train Epoch: 101 [9600/48625 (20%)]\tLoss: 7.490223\tTrain Prec@1 1.56 (0.61): : 157it [00:36,  4.33it/s]"
     ]
    },
    {
     "name": "stdout",
     "output_type": "stream",
     "text": [
      "\n",
      "\n"
     ]
    },
    {
     "name": "stderr",
     "output_type": "stream",
     "text": [
      "Train Epoch: 101 [9600/48625 (20%)]\tLoss: 7.490223\tTrain Prec@1 1.56 (0.61): : 159it [00:36,  4.33it/s]"
     ]
    },
    {
     "name": "stdout",
     "output_type": "stream",
     "text": [
      "\n",
      "\n"
     ]
    },
    {
     "name": "stderr",
     "output_type": "stream",
     "text": [
      "Train Epoch: 101 [10240/48625 (21%)]\tLoss: 7.481862\tTrain Prec@1 1.56 (0.60): : 161it [00:37,  4.33it/s]"
     ]
    },
    {
     "name": "stdout",
     "output_type": "stream",
     "text": [
      "\n",
      "\n"
     ]
    },
    {
     "name": "stderr",
     "output_type": "stream",
     "text": [
      "Train Epoch: 101 [10240/48625 (21%)]\tLoss: 7.481862\tTrain Prec@1 1.56 (0.60): : 163it [00:37,  4.33it/s]"
     ]
    },
    {
     "name": "stdout",
     "output_type": "stream",
     "text": [
      "\n",
      "\n"
     ]
    },
    {
     "name": "stderr",
     "output_type": "stream",
     "text": [
      "Train Epoch: 101 [10240/48625 (21%)]\tLoss: 7.481862\tTrain Prec@1 1.56 (0.60): : 165it [00:38,  4.33it/s]"
     ]
    },
    {
     "name": "stdout",
     "output_type": "stream",
     "text": [
      "\n",
      "\n"
     ]
    },
    {
     "name": "stderr",
     "output_type": "stream",
     "text": [
      "Train Epoch: 101 [10240/48625 (21%)]\tLoss: 7.481862\tTrain Prec@1 1.56 (0.60): : 167it [00:38,  4.34it/s]"
     ]
    },
    {
     "name": "stdout",
     "output_type": "stream",
     "text": [
      "\n",
      "\n"
     ]
    },
    {
     "name": "stderr",
     "output_type": "stream",
     "text": [
      "Train Epoch: 101 [10240/48625 (21%)]\tLoss: 7.481862\tTrain Prec@1 1.56 (0.60): : 169it [00:38,  4.34it/s]"
     ]
    },
    {
     "name": "stdout",
     "output_type": "stream",
     "text": [
      "\n",
      "\n"
     ]
    },
    {
     "name": "stderr",
     "output_type": "stream",
     "text": [
      "Train Epoch: 101 [10880/48625 (22%)]\tLoss: 7.486240\tTrain Prec@1 0.00 (0.60): : 171it [00:39,  4.33it/s]"
     ]
    },
    {
     "name": "stdout",
     "output_type": "stream",
     "text": [
      "\n",
      "\n"
     ]
    },
    {
     "name": "stderr",
     "output_type": "stream",
     "text": [
      "Train Epoch: 101 [10880/48625 (22%)]\tLoss: 7.486240\tTrain Prec@1 0.00 (0.60): : 173it [00:39,  4.34it/s]"
     ]
    },
    {
     "name": "stdout",
     "output_type": "stream",
     "text": [
      "\n",
      "\n"
     ]
    },
    {
     "name": "stderr",
     "output_type": "stream",
     "text": [
      "Train Epoch: 101 [10880/48625 (22%)]\tLoss: 7.486240\tTrain Prec@1 0.00 (0.60): : 175it [00:40,  4.34it/s]"
     ]
    },
    {
     "name": "stdout",
     "output_type": "stream",
     "text": [
      "\n",
      "\n"
     ]
    },
    {
     "name": "stderr",
     "output_type": "stream",
     "text": [
      "Train Epoch: 101 [10880/48625 (22%)]\tLoss: 7.486240\tTrain Prec@1 0.00 (0.60): : 177it [00:40,  4.34it/s]"
     ]
    },
    {
     "name": "stdout",
     "output_type": "stream",
     "text": [
      "\n",
      "\n"
     ]
    },
    {
     "name": "stderr",
     "output_type": "stream",
     "text": [
      "Train Epoch: 101 [10880/48625 (22%)]\tLoss: 7.486240\tTrain Prec@1 0.00 (0.60): : 179it [00:41,  4.34it/s]"
     ]
    },
    {
     "name": "stdout",
     "output_type": "stream",
     "text": [
      "\n",
      "\n"
     ]
    },
    {
     "name": "stderr",
     "output_type": "stream",
     "text": [
      "Train Epoch: 101 [11520/48625 (24%)]\tLoss: 7.709353\tTrain Prec@1 3.12 (0.61): : 181it [00:41,  4.34it/s]"
     ]
    },
    {
     "name": "stdout",
     "output_type": "stream",
     "text": [
      "\n",
      "\n"
     ]
    },
    {
     "name": "stderr",
     "output_type": "stream",
     "text": [
      "Train Epoch: 101 [11520/48625 (24%)]\tLoss: 7.709353\tTrain Prec@1 3.12 (0.61): : 183it [00:42,  4.34it/s]"
     ]
    },
    {
     "name": "stdout",
     "output_type": "stream",
     "text": [
      "\n",
      "\n"
     ]
    },
    {
     "name": "stderr",
     "output_type": "stream",
     "text": [
      "Train Epoch: 101 [11520/48625 (24%)]\tLoss: 7.709353\tTrain Prec@1 3.12 (0.61): : 185it [00:42,  4.34it/s]"
     ]
    },
    {
     "name": "stdout",
     "output_type": "stream",
     "text": [
      "\n",
      "\n"
     ]
    },
    {
     "name": "stderr",
     "output_type": "stream",
     "text": [
      "Train Epoch: 101 [11520/48625 (24%)]\tLoss: 7.709353\tTrain Prec@1 3.12 (0.61): : 187it [00:43,  4.34it/s]"
     ]
    },
    {
     "name": "stdout",
     "output_type": "stream",
     "text": [
      "\n",
      "\n"
     ]
    },
    {
     "name": "stderr",
     "output_type": "stream",
     "text": [
      "Train Epoch: 101 [11520/48625 (24%)]\tLoss: 7.709353\tTrain Prec@1 3.12 (0.61): : 189it [00:43,  4.34it/s]"
     ]
    },
    {
     "name": "stdout",
     "output_type": "stream",
     "text": [
      "\n",
      "\n"
     ]
    },
    {
     "name": "stderr",
     "output_type": "stream",
     "text": [
      "Train Epoch: 101 [12160/48625 (25%)]\tLoss: 7.373813\tTrain Prec@1 0.00 (0.60): : 191it [00:43,  4.34it/s]"
     ]
    },
    {
     "name": "stdout",
     "output_type": "stream",
     "text": [
      "\n",
      "\n"
     ]
    },
    {
     "name": "stderr",
     "output_type": "stream",
     "text": [
      "Train Epoch: 101 [12160/48625 (25%)]\tLoss: 7.373813\tTrain Prec@1 0.00 (0.60): : 193it [00:44,  4.34it/s]"
     ]
    },
    {
     "name": "stdout",
     "output_type": "stream",
     "text": [
      "\n",
      "\n"
     ]
    },
    {
     "name": "stderr",
     "output_type": "stream",
     "text": [
      "Train Epoch: 101 [12160/48625 (25%)]\tLoss: 7.373813\tTrain Prec@1 0.00 (0.60): : 195it [00:44,  4.35it/s]"
     ]
    },
    {
     "name": "stdout",
     "output_type": "stream",
     "text": [
      "\n",
      "\n"
     ]
    },
    {
     "name": "stderr",
     "output_type": "stream",
     "text": [
      "Train Epoch: 101 [12160/48625 (25%)]\tLoss: 7.373813\tTrain Prec@1 0.00 (0.60): : 197it [00:45,  4.35it/s]"
     ]
    },
    {
     "name": "stdout",
     "output_type": "stream",
     "text": [
      "\n",
      "\n"
     ]
    },
    {
     "name": "stderr",
     "output_type": "stream",
     "text": [
      "Train Epoch: 101 [12160/48625 (25%)]\tLoss: 7.373813\tTrain Prec@1 0.00 (0.60): : 199it [00:45,  4.35it/s]"
     ]
    },
    {
     "name": "stdout",
     "output_type": "stream",
     "text": [
      "\n",
      "\n"
     ]
    },
    {
     "name": "stderr",
     "output_type": "stream",
     "text": [
      "Train Epoch: 101 [12800/48625 (26%)]\tLoss: 7.675970\tTrain Prec@1 1.56 (0.58): : 201it [00:46,  4.35it/s]"
     ]
    },
    {
     "name": "stdout",
     "output_type": "stream",
     "text": [
      "\n",
      "\n"
     ]
    },
    {
     "name": "stderr",
     "output_type": "stream",
     "text": [
      "Train Epoch: 101 [12800/48625 (26%)]\tLoss: 7.675970\tTrain Prec@1 1.56 (0.58): : 203it [00:46,  4.35it/s]"
     ]
    },
    {
     "name": "stdout",
     "output_type": "stream",
     "text": [
      "\n",
      "\n"
     ]
    },
    {
     "name": "stderr",
     "output_type": "stream",
     "text": [
      "Train Epoch: 101 [12800/48625 (26%)]\tLoss: 7.675970\tTrain Prec@1 1.56 (0.58): : 205it [00:47,  4.35it/s]"
     ]
    },
    {
     "name": "stdout",
     "output_type": "stream",
     "text": [
      "\n",
      "\n"
     ]
    },
    {
     "name": "stderr",
     "output_type": "stream",
     "text": [
      "Train Epoch: 101 [12800/48625 (26%)]\tLoss: 7.675970\tTrain Prec@1 1.56 (0.58): : 207it [00:47,  4.35it/s]"
     ]
    },
    {
     "name": "stdout",
     "output_type": "stream",
     "text": [
      "\n",
      "\n"
     ]
    },
    {
     "name": "stderr",
     "output_type": "stream",
     "text": [
      "Train Epoch: 101 [12800/48625 (26%)]\tLoss: 7.675970\tTrain Prec@1 1.56 (0.58): : 209it [00:48,  4.35it/s]"
     ]
    },
    {
     "name": "stdout",
     "output_type": "stream",
     "text": [
      "\n",
      "\n"
     ]
    },
    {
     "name": "stderr",
     "output_type": "stream",
     "text": [
      "Train Epoch: 101 [13440/48625 (28%)]\tLoss: 7.686606\tTrain Prec@1 0.00 (0.59): : 211it [00:48,  4.35it/s]"
     ]
    },
    {
     "name": "stdout",
     "output_type": "stream",
     "text": [
      "\n",
      "\n"
     ]
    },
    {
     "name": "stderr",
     "output_type": "stream",
     "text": [
      "Train Epoch: 101 [13440/48625 (28%)]\tLoss: 7.686606\tTrain Prec@1 0.00 (0.59): : 213it [00:48,  4.35it/s]"
     ]
    },
    {
     "name": "stdout",
     "output_type": "stream",
     "text": [
      "\n",
      "\n"
     ]
    },
    {
     "name": "stderr",
     "output_type": "stream",
     "text": [
      "Train Epoch: 101 [13440/48625 (28%)]\tLoss: 7.686606\tTrain Prec@1 0.00 (0.59): : 215it [00:49,  4.35it/s]"
     ]
    },
    {
     "name": "stdout",
     "output_type": "stream",
     "text": [
      "\n",
      "\n"
     ]
    },
    {
     "name": "stderr",
     "output_type": "stream",
     "text": [
      "Train Epoch: 101 [13440/48625 (28%)]\tLoss: 7.686606\tTrain Prec@1 0.00 (0.59): : 217it [00:49,  4.35it/s]"
     ]
    },
    {
     "name": "stdout",
     "output_type": "stream",
     "text": [
      "\n",
      "\n"
     ]
    },
    {
     "name": "stderr",
     "output_type": "stream",
     "text": [
      "Train Epoch: 101 [13440/48625 (28%)]\tLoss: 7.686606\tTrain Prec@1 0.00 (0.59): : 219it [00:50,  4.35it/s]"
     ]
    },
    {
     "name": "stdout",
     "output_type": "stream",
     "text": [
      "\n",
      "\n"
     ]
    },
    {
     "name": "stderr",
     "output_type": "stream",
     "text": [
      "Train Epoch: 101 [14080/48625 (29%)]\tLoss: 7.530492\tTrain Prec@1 0.00 (0.58): : 221it [00:50,  4.35it/s]"
     ]
    },
    {
     "name": "stdout",
     "output_type": "stream",
     "text": [
      "\n",
      "\n"
     ]
    },
    {
     "name": "stderr",
     "output_type": "stream",
     "text": [
      "Train Epoch: 101 [14080/48625 (29%)]\tLoss: 7.530492\tTrain Prec@1 0.00 (0.58): : 223it [00:51,  4.35it/s]"
     ]
    },
    {
     "name": "stdout",
     "output_type": "stream",
     "text": [
      "\n",
      "\n"
     ]
    },
    {
     "name": "stderr",
     "output_type": "stream",
     "text": [
      "Train Epoch: 101 [14080/48625 (29%)]\tLoss: 7.530492\tTrain Prec@1 0.00 (0.58): : 225it [00:51,  4.35it/s]"
     ]
    },
    {
     "name": "stdout",
     "output_type": "stream",
     "text": [
      "\n",
      "\n"
     ]
    },
    {
     "name": "stderr",
     "output_type": "stream",
     "text": [
      "Train Epoch: 101 [14080/48625 (29%)]\tLoss: 7.530492\tTrain Prec@1 0.00 (0.58): : 227it [00:52,  4.35it/s]"
     ]
    },
    {
     "name": "stdout",
     "output_type": "stream",
     "text": [
      "\n",
      "\n"
     ]
    },
    {
     "name": "stderr",
     "output_type": "stream",
     "text": [
      "Train Epoch: 101 [14080/48625 (29%)]\tLoss: 7.530492\tTrain Prec@1 0.00 (0.58): : 229it [00:52,  4.35it/s]"
     ]
    },
    {
     "name": "stdout",
     "output_type": "stream",
     "text": [
      "\n",
      "\n"
     ]
    },
    {
     "name": "stderr",
     "output_type": "stream",
     "text": [
      "Train Epoch: 101 [14720/48625 (30%)]\tLoss: 7.646953\tTrain Prec@1 0.00 (0.57): : 231it [00:53,  4.35it/s]"
     ]
    },
    {
     "name": "stdout",
     "output_type": "stream",
     "text": [
      "\n",
      "\n"
     ]
    },
    {
     "name": "stderr",
     "output_type": "stream",
     "text": [
      "Train Epoch: 101 [14720/48625 (30%)]\tLoss: 7.646953\tTrain Prec@1 0.00 (0.57): : 233it [00:53,  4.36it/s]"
     ]
    },
    {
     "name": "stdout",
     "output_type": "stream",
     "text": [
      "\n",
      "\n"
     ]
    },
    {
     "name": "stderr",
     "output_type": "stream",
     "text": [
      "Train Epoch: 101 [14720/48625 (30%)]\tLoss: 7.646953\tTrain Prec@1 0.00 (0.57): : 235it [00:53,  4.36it/s]"
     ]
    },
    {
     "name": "stdout",
     "output_type": "stream",
     "text": [
      "\n",
      "\n"
     ]
    },
    {
     "name": "stderr",
     "output_type": "stream",
     "text": [
      "Train Epoch: 101 [14720/48625 (30%)]\tLoss: 7.646953\tTrain Prec@1 0.00 (0.57): : 237it [00:54,  4.36it/s]"
     ]
    },
    {
     "name": "stdout",
     "output_type": "stream",
     "text": [
      "\n",
      "\n"
     ]
    },
    {
     "name": "stderr",
     "output_type": "stream",
     "text": [
      "Train Epoch: 101 [14720/48625 (30%)]\tLoss: 7.646953\tTrain Prec@1 0.00 (0.57): : 239it [00:54,  4.36it/s]"
     ]
    },
    {
     "name": "stdout",
     "output_type": "stream",
     "text": [
      "\n",
      "\n"
     ]
    },
    {
     "name": "stderr",
     "output_type": "stream",
     "text": [
      "Train Epoch: 101 [15360/48625 (32%)]\tLoss: 7.306637\tTrain Prec@1 0.00 (0.56): : 241it [00:55,  4.36it/s]"
     ]
    },
    {
     "name": "stdout",
     "output_type": "stream",
     "text": [
      "\n",
      "\n"
     ]
    },
    {
     "name": "stderr",
     "output_type": "stream",
     "text": [
      "Train Epoch: 101 [15360/48625 (32%)]\tLoss: 7.306637\tTrain Prec@1 0.00 (0.56): : 243it [00:55,  4.36it/s]"
     ]
    },
    {
     "name": "stdout",
     "output_type": "stream",
     "text": [
      "\n",
      "\n"
     ]
    },
    {
     "name": "stderr",
     "output_type": "stream",
     "text": [
      "Train Epoch: 101 [15360/48625 (32%)]\tLoss: 7.306637\tTrain Prec@1 0.00 (0.56): : 245it [00:56,  4.36it/s]"
     ]
    },
    {
     "name": "stdout",
     "output_type": "stream",
     "text": [
      "\n",
      "\n"
     ]
    },
    {
     "name": "stderr",
     "output_type": "stream",
     "text": [
      "Train Epoch: 101 [15360/48625 (32%)]\tLoss: 7.306637\tTrain Prec@1 0.00 (0.56): : 247it [00:56,  4.36it/s]"
     ]
    },
    {
     "name": "stdout",
     "output_type": "stream",
     "text": [
      "\n",
      "\n"
     ]
    },
    {
     "name": "stderr",
     "output_type": "stream",
     "text": [
      "Train Epoch: 101 [15360/48625 (32%)]\tLoss: 7.306637\tTrain Prec@1 0.00 (0.56): : 249it [00:57,  4.36it/s]"
     ]
    },
    {
     "name": "stdout",
     "output_type": "stream",
     "text": [
      "\n",
      "\n"
     ]
    },
    {
     "name": "stderr",
     "output_type": "stream",
     "text": [
      "Train Epoch: 101 [16000/48625 (33%)]\tLoss: 7.528087\tTrain Prec@1 0.00 (0.55): : 251it [00:57,  4.36it/s]"
     ]
    },
    {
     "name": "stdout",
     "output_type": "stream",
     "text": [
      "\n",
      "\n"
     ]
    },
    {
     "name": "stderr",
     "output_type": "stream",
     "text": [
      "Train Epoch: 101 [16000/48625 (33%)]\tLoss: 7.528087\tTrain Prec@1 0.00 (0.55): : 253it [00:58,  4.36it/s]"
     ]
    },
    {
     "name": "stdout",
     "output_type": "stream",
     "text": [
      "\n",
      "\n"
     ]
    },
    {
     "name": "stderr",
     "output_type": "stream",
     "text": [
      "Train Epoch: 101 [16000/48625 (33%)]\tLoss: 7.528087\tTrain Prec@1 0.00 (0.55): : 255it [00:58,  4.36it/s]"
     ]
    },
    {
     "name": "stdout",
     "output_type": "stream",
     "text": [
      "\n",
      "\n"
     ]
    },
    {
     "name": "stderr",
     "output_type": "stream",
     "text": [
      "Train Epoch: 101 [16000/48625 (33%)]\tLoss: 7.528087\tTrain Prec@1 0.00 (0.55): : 257it [00:58,  4.36it/s]"
     ]
    },
    {
     "name": "stdout",
     "output_type": "stream",
     "text": [
      "\n",
      "\n"
     ]
    },
    {
     "name": "stderr",
     "output_type": "stream",
     "text": [
      "Train Epoch: 101 [16000/48625 (33%)]\tLoss: 7.528087\tTrain Prec@1 0.00 (0.55): : 259it [00:59,  4.36it/s]"
     ]
    },
    {
     "name": "stdout",
     "output_type": "stream",
     "text": [
      "\n",
      "\n"
     ]
    },
    {
     "name": "stderr",
     "output_type": "stream",
     "text": [
      "Train Epoch: 101 [16640/48625 (34%)]\tLoss: 7.276798\tTrain Prec@1 0.00 (0.56): : 261it [00:59,  4.36it/s]"
     ]
    },
    {
     "name": "stdout",
     "output_type": "stream",
     "text": [
      "\n",
      "\n"
     ]
    },
    {
     "name": "stderr",
     "output_type": "stream",
     "text": [
      "Train Epoch: 101 [16640/48625 (34%)]\tLoss: 7.276798\tTrain Prec@1 0.00 (0.56): : 263it [01:00,  4.36it/s]"
     ]
    },
    {
     "name": "stdout",
     "output_type": "stream",
     "text": [
      "\n",
      "\n"
     ]
    },
    {
     "name": "stderr",
     "output_type": "stream",
     "text": [
      "Train Epoch: 101 [16640/48625 (34%)]\tLoss: 7.276798\tTrain Prec@1 0.00 (0.56): : 265it [01:00,  4.36it/s]"
     ]
    },
    {
     "name": "stdout",
     "output_type": "stream",
     "text": [
      "\n",
      "\n"
     ]
    },
    {
     "name": "stderr",
     "output_type": "stream",
     "text": [
      "Train Epoch: 101 [16640/48625 (34%)]\tLoss: 7.276798\tTrain Prec@1 0.00 (0.56): : 267it [01:01,  4.36it/s]"
     ]
    },
    {
     "name": "stdout",
     "output_type": "stream",
     "text": [
      "\n",
      "\n"
     ]
    },
    {
     "name": "stderr",
     "output_type": "stream",
     "text": [
      "Train Epoch: 101 [16640/48625 (34%)]\tLoss: 7.276798\tTrain Prec@1 0.00 (0.56): : 269it [01:01,  4.36it/s]"
     ]
    },
    {
     "name": "stdout",
     "output_type": "stream",
     "text": [
      "\n",
      "\n"
     ]
    },
    {
     "name": "stderr",
     "output_type": "stream",
     "text": [
      "Train Epoch: 101 [17280/48625 (36%)]\tLoss: 7.566095\tTrain Prec@1 0.00 (0.57): : 271it [01:02,  4.36it/s]"
     ]
    },
    {
     "name": "stdout",
     "output_type": "stream",
     "text": [
      "\n",
      "\n"
     ]
    },
    {
     "name": "stderr",
     "output_type": "stream",
     "text": [
      "Train Epoch: 101 [17280/48625 (36%)]\tLoss: 7.566095\tTrain Prec@1 0.00 (0.57): : 273it [01:02,  4.36it/s]"
     ]
    },
    {
     "name": "stdout",
     "output_type": "stream",
     "text": [
      "\n",
      "\n"
     ]
    },
    {
     "name": "stderr",
     "output_type": "stream",
     "text": [
      "Train Epoch: 101 [17280/48625 (36%)]\tLoss: 7.566095\tTrain Prec@1 0.00 (0.57): : 275it [01:03,  4.36it/s]"
     ]
    },
    {
     "name": "stdout",
     "output_type": "stream",
     "text": [
      "\n",
      "\n"
     ]
    },
    {
     "name": "stderr",
     "output_type": "stream",
     "text": [
      "Train Epoch: 101 [17280/48625 (36%)]\tLoss: 7.566095\tTrain Prec@1 0.00 (0.57): : 277it [01:03,  4.36it/s]"
     ]
    },
    {
     "name": "stdout",
     "output_type": "stream",
     "text": [
      "\n",
      "\n"
     ]
    },
    {
     "name": "stderr",
     "output_type": "stream",
     "text": [
      "Train Epoch: 101 [17280/48625 (36%)]\tLoss: 7.566095\tTrain Prec@1 0.00 (0.57): : 279it [01:03,  4.36it/s]"
     ]
    },
    {
     "name": "stdout",
     "output_type": "stream",
     "text": [
      "\n",
      "\n"
     ]
    },
    {
     "name": "stderr",
     "output_type": "stream",
     "text": [
      "Train Epoch: 101 [17920/48625 (37%)]\tLoss: 7.422901\tTrain Prec@1 1.56 (0.57): : 281it [01:04,  4.36it/s]"
     ]
    },
    {
     "name": "stdout",
     "output_type": "stream",
     "text": [
      "\n",
      "\n"
     ]
    },
    {
     "name": "stderr",
     "output_type": "stream",
     "text": [
      "Train Epoch: 101 [17920/48625 (37%)]\tLoss: 7.422901\tTrain Prec@1 1.56 (0.57): : 283it [01:04,  4.36it/s]"
     ]
    },
    {
     "name": "stdout",
     "output_type": "stream",
     "text": [
      "\n",
      "\n"
     ]
    },
    {
     "name": "stderr",
     "output_type": "stream",
     "text": [
      "Train Epoch: 101 [17920/48625 (37%)]\tLoss: 7.422901\tTrain Prec@1 1.56 (0.57): : 285it [01:05,  4.36it/s]"
     ]
    },
    {
     "name": "stdout",
     "output_type": "stream",
     "text": [
      "\n",
      "\n"
     ]
    },
    {
     "name": "stderr",
     "output_type": "stream",
     "text": [
      "Train Epoch: 101 [17920/48625 (37%)]\tLoss: 7.422901\tTrain Prec@1 1.56 (0.57): : 287it [01:05,  4.36it/s]"
     ]
    },
    {
     "name": "stdout",
     "output_type": "stream",
     "text": [
      "\n",
      "\n"
     ]
    },
    {
     "name": "stderr",
     "output_type": "stream",
     "text": [
      "Train Epoch: 101 [17920/48625 (37%)]\tLoss: 7.422901\tTrain Prec@1 1.56 (0.57): : 289it [01:06,  4.36it/s]"
     ]
    },
    {
     "name": "stdout",
     "output_type": "stream",
     "text": [
      "\n",
      "\n"
     ]
    },
    {
     "name": "stderr",
     "output_type": "stream",
     "text": [
      "Train Epoch: 101 [18560/48625 (38%)]\tLoss: 7.482937\tTrain Prec@1 0.00 (0.56): : 291it [01:06,  4.36it/s]"
     ]
    },
    {
     "name": "stdout",
     "output_type": "stream",
     "text": [
      "\n",
      "\n"
     ]
    },
    {
     "name": "stderr",
     "output_type": "stream",
     "text": [
      "Train Epoch: 101 [18560/48625 (38%)]\tLoss: 7.482937\tTrain Prec@1 0.00 (0.56): : 293it [01:07,  4.36it/s]"
     ]
    },
    {
     "name": "stdout",
     "output_type": "stream",
     "text": [
      "\n",
      "\n"
     ]
    },
    {
     "name": "stderr",
     "output_type": "stream",
     "text": [
      "Train Epoch: 101 [18560/48625 (38%)]\tLoss: 7.482937\tTrain Prec@1 0.00 (0.56): : 295it [01:07,  4.36it/s]"
     ]
    },
    {
     "name": "stdout",
     "output_type": "stream",
     "text": [
      "\n",
      "\n"
     ]
    },
    {
     "name": "stderr",
     "output_type": "stream",
     "text": [
      "Train Epoch: 101 [18560/48625 (38%)]\tLoss: 7.482937\tTrain Prec@1 0.00 (0.56): : 297it [01:08,  4.36it/s]"
     ]
    },
    {
     "name": "stdout",
     "output_type": "stream",
     "text": [
      "\n",
      "\n"
     ]
    },
    {
     "name": "stderr",
     "output_type": "stream",
     "text": [
      "Train Epoch: 101 [18560/48625 (38%)]\tLoss: 7.482937\tTrain Prec@1 0.00 (0.56): : 299it [01:08,  4.36it/s]"
     ]
    },
    {
     "name": "stdout",
     "output_type": "stream",
     "text": [
      "\n",
      "\n"
     ]
    },
    {
     "name": "stderr",
     "output_type": "stream",
     "text": [
      "Train Epoch: 101 [19200/48625 (39%)]\tLoss: 7.551481\tTrain Prec@1 0.00 (0.57): : 301it [01:08,  4.36it/s]"
     ]
    },
    {
     "name": "stdout",
     "output_type": "stream",
     "text": [
      "\n",
      "\n"
     ]
    },
    {
     "name": "stderr",
     "output_type": "stream",
     "text": [
      "Train Epoch: 101 [19200/48625 (39%)]\tLoss: 7.551481\tTrain Prec@1 0.00 (0.57): : 303it [01:09,  4.36it/s]"
     ]
    },
    {
     "name": "stdout",
     "output_type": "stream",
     "text": [
      "\n",
      "\n"
     ]
    },
    {
     "name": "stderr",
     "output_type": "stream",
     "text": [
      "Train Epoch: 101 [19200/48625 (39%)]\tLoss: 7.551481\tTrain Prec@1 0.00 (0.57): : 305it [01:09,  4.36it/s]"
     ]
    },
    {
     "name": "stdout",
     "output_type": "stream",
     "text": [
      "\n",
      "\n"
     ]
    },
    {
     "name": "stderr",
     "output_type": "stream",
     "text": [
      "Train Epoch: 101 [19200/48625 (39%)]\tLoss: 7.551481\tTrain Prec@1 0.00 (0.57): : 307it [01:10,  4.36it/s]"
     ]
    },
    {
     "name": "stdout",
     "output_type": "stream",
     "text": [
      "\n",
      "\n"
     ]
    },
    {
     "name": "stderr",
     "output_type": "stream",
     "text": [
      "Train Epoch: 101 [19200/48625 (39%)]\tLoss: 7.551481\tTrain Prec@1 0.00 (0.57): : 309it [01:10,  4.36it/s]"
     ]
    },
    {
     "name": "stdout",
     "output_type": "stream",
     "text": [
      "\n",
      "\n"
     ]
    },
    {
     "name": "stderr",
     "output_type": "stream",
     "text": [
      "Train Epoch: 101 [19840/48625 (41%)]\tLoss: 7.312747\tTrain Prec@1 0.00 (0.57): : 311it [01:11,  4.37it/s]"
     ]
    },
    {
     "name": "stdout",
     "output_type": "stream",
     "text": [
      "\n",
      "\n"
     ]
    },
    {
     "name": "stderr",
     "output_type": "stream",
     "text": [
      "Train Epoch: 101 [19840/48625 (41%)]\tLoss: 7.312747\tTrain Prec@1 0.00 (0.57): : 313it [01:11,  4.37it/s]"
     ]
    },
    {
     "name": "stdout",
     "output_type": "stream",
     "text": [
      "\n",
      "\n"
     ]
    },
    {
     "name": "stderr",
     "output_type": "stream",
     "text": [
      "Train Epoch: 101 [19840/48625 (41%)]\tLoss: 7.312747\tTrain Prec@1 0.00 (0.57): : 315it [01:12,  4.37it/s]"
     ]
    },
    {
     "name": "stdout",
     "output_type": "stream",
     "text": [
      "\n",
      "\n"
     ]
    },
    {
     "name": "stderr",
     "output_type": "stream",
     "text": [
      "Train Epoch: 101 [19840/48625 (41%)]\tLoss: 7.312747\tTrain Prec@1 0.00 (0.57): : 317it [01:12,  4.37it/s]"
     ]
    },
    {
     "name": "stdout",
     "output_type": "stream",
     "text": [
      "\n",
      "\n"
     ]
    },
    {
     "name": "stderr",
     "output_type": "stream",
     "text": [
      "Train Epoch: 101 [19840/48625 (41%)]\tLoss: 7.312747\tTrain Prec@1 0.00 (0.57): : 319it [01:13,  4.37it/s]"
     ]
    },
    {
     "name": "stdout",
     "output_type": "stream",
     "text": [
      "\n",
      "\n"
     ]
    },
    {
     "name": "stderr",
     "output_type": "stream",
     "text": [
      "Train Epoch: 101 [20480/48625 (42%)]\tLoss: 7.739110\tTrain Prec@1 0.00 (0.56): : 321it [01:13,  4.37it/s]"
     ]
    },
    {
     "name": "stdout",
     "output_type": "stream",
     "text": [
      "\n",
      "\n"
     ]
    },
    {
     "name": "stderr",
     "output_type": "stream",
     "text": [
      "Train Epoch: 101 [20480/48625 (42%)]\tLoss: 7.739110\tTrain Prec@1 0.00 (0.56): : 323it [01:13,  4.37it/s]"
     ]
    },
    {
     "name": "stdout",
     "output_type": "stream",
     "text": [
      "\n",
      "\n"
     ]
    },
    {
     "name": "stderr",
     "output_type": "stream",
     "text": [
      "Train Epoch: 101 [20480/48625 (42%)]\tLoss: 7.739110\tTrain Prec@1 0.00 (0.56): : 325it [01:14,  4.37it/s]"
     ]
    },
    {
     "name": "stdout",
     "output_type": "stream",
     "text": [
      "\n",
      "\n"
     ]
    },
    {
     "name": "stderr",
     "output_type": "stream",
     "text": [
      "Train Epoch: 101 [20480/48625 (42%)]\tLoss: 7.739110\tTrain Prec@1 0.00 (0.56): : 327it [01:14,  4.37it/s]"
     ]
    },
    {
     "name": "stdout",
     "output_type": "stream",
     "text": [
      "\n",
      "\n"
     ]
    },
    {
     "name": "stderr",
     "output_type": "stream",
     "text": [
      "Train Epoch: 101 [20480/48625 (42%)]\tLoss: 7.739110\tTrain Prec@1 0.00 (0.56): : 329it [01:15,  4.36it/s]"
     ]
    },
    {
     "name": "stdout",
     "output_type": "stream",
     "text": [
      "\n",
      "\n"
     ]
    },
    {
     "name": "stderr",
     "output_type": "stream",
     "text": [
      "Train Epoch: 101 [21120/48625 (43%)]\tLoss: 7.717484\tTrain Prec@1 1.56 (0.56): : 331it [01:15,  4.36it/s]"
     ]
    },
    {
     "name": "stdout",
     "output_type": "stream",
     "text": [
      "\n",
      "\n"
     ]
    },
    {
     "name": "stderr",
     "output_type": "stream",
     "text": [
      "Train Epoch: 101 [21120/48625 (43%)]\tLoss: 7.717484\tTrain Prec@1 1.56 (0.56): : 333it [01:16,  4.36it/s]"
     ]
    },
    {
     "name": "stdout",
     "output_type": "stream",
     "text": [
      "\n",
      "\n"
     ]
    },
    {
     "name": "stderr",
     "output_type": "stream",
     "text": [
      "Train Epoch: 101 [21120/48625 (43%)]\tLoss: 7.717484\tTrain Prec@1 1.56 (0.56): : 335it [01:16,  4.36it/s]"
     ]
    },
    {
     "name": "stdout",
     "output_type": "stream",
     "text": [
      "\n",
      "\n"
     ]
    },
    {
     "name": "stderr",
     "output_type": "stream",
     "text": [
      "Train Epoch: 101 [21120/48625 (43%)]\tLoss: 7.717484\tTrain Prec@1 1.56 (0.56): : 337it [01:17,  4.36it/s]"
     ]
    },
    {
     "name": "stdout",
     "output_type": "stream",
     "text": [
      "\n",
      "\n"
     ]
    },
    {
     "name": "stderr",
     "output_type": "stream",
     "text": [
      "Train Epoch: 101 [21120/48625 (43%)]\tLoss: 7.717484\tTrain Prec@1 1.56 (0.56): : 339it [01:17,  4.36it/s]"
     ]
    },
    {
     "name": "stdout",
     "output_type": "stream",
     "text": [
      "\n",
      "\n"
     ]
    },
    {
     "name": "stderr",
     "output_type": "stream",
     "text": [
      "Train Epoch: 101 [21760/48625 (45%)]\tLoss: 7.523575\tTrain Prec@1 0.00 (0.55): : 341it [01:18,  4.36it/s]"
     ]
    },
    {
     "name": "stdout",
     "output_type": "stream",
     "text": [
      "\n",
      "\n"
     ]
    },
    {
     "name": "stderr",
     "output_type": "stream",
     "text": [
      "Train Epoch: 101 [21760/48625 (45%)]\tLoss: 7.523575\tTrain Prec@1 0.00 (0.55): : 343it [01:18,  4.37it/s]"
     ]
    },
    {
     "name": "stdout",
     "output_type": "stream",
     "text": [
      "\n",
      "\n"
     ]
    },
    {
     "name": "stderr",
     "output_type": "stream",
     "text": [
      "Train Epoch: 101 [21760/48625 (45%)]\tLoss: 7.523575\tTrain Prec@1 0.00 (0.55): : 345it [01:19,  4.36it/s]"
     ]
    },
    {
     "name": "stdout",
     "output_type": "stream",
     "text": [
      "\n",
      "\n"
     ]
    },
    {
     "name": "stderr",
     "output_type": "stream",
     "text": [
      "Train Epoch: 101 [21760/48625 (45%)]\tLoss: 7.523575\tTrain Prec@1 0.00 (0.55): : 347it [01:19,  4.36it/s]"
     ]
    },
    {
     "name": "stdout",
     "output_type": "stream",
     "text": [
      "\n",
      "\n"
     ]
    },
    {
     "name": "stderr",
     "output_type": "stream",
     "text": [
      "Train Epoch: 101 [21760/48625 (45%)]\tLoss: 7.523575\tTrain Prec@1 0.00 (0.55): : 349it [01:19,  4.36it/s]"
     ]
    },
    {
     "name": "stdout",
     "output_type": "stream",
     "text": [
      "\n",
      "\n"
     ]
    },
    {
     "name": "stderr",
     "output_type": "stream",
     "text": [
      "Train Epoch: 101 [22400/48625 (46%)]\tLoss: 7.644238\tTrain Prec@1 0.00 (0.56): : 351it [01:20,  4.36it/s]"
     ]
    },
    {
     "name": "stdout",
     "output_type": "stream",
     "text": [
      "\n",
      "\n"
     ]
    },
    {
     "name": "stderr",
     "output_type": "stream",
     "text": [
      "Train Epoch: 101 [22400/48625 (46%)]\tLoss: 7.644238\tTrain Prec@1 0.00 (0.56): : 353it [01:20,  4.36it/s]"
     ]
    },
    {
     "name": "stdout",
     "output_type": "stream",
     "text": [
      "\n",
      "\n"
     ]
    },
    {
     "name": "stderr",
     "output_type": "stream",
     "text": [
      "Train Epoch: 101 [22400/48625 (46%)]\tLoss: 7.644238\tTrain Prec@1 0.00 (0.56): : 355it [01:21,  4.36it/s]"
     ]
    },
    {
     "name": "stdout",
     "output_type": "stream",
     "text": [
      "\n",
      "\n"
     ]
    },
    {
     "name": "stderr",
     "output_type": "stream",
     "text": [
      "Train Epoch: 101 [22400/48625 (46%)]\tLoss: 7.644238\tTrain Prec@1 0.00 (0.56): : 357it [01:21,  4.36it/s]"
     ]
    },
    {
     "name": "stdout",
     "output_type": "stream",
     "text": [
      "\n",
      "\n"
     ]
    },
    {
     "name": "stderr",
     "output_type": "stream",
     "text": [
      "Train Epoch: 101 [22400/48625 (46%)]\tLoss: 7.644238\tTrain Prec@1 0.00 (0.56): : 359it [01:22,  4.36it/s]"
     ]
    },
    {
     "name": "stdout",
     "output_type": "stream",
     "text": [
      "\n",
      "\n"
     ]
    },
    {
     "name": "stderr",
     "output_type": "stream",
     "text": [
      "Train Epoch: 101 [23040/48625 (47%)]\tLoss: 7.393818\tTrain Prec@1 0.00 (0.55): : 361it [01:22,  4.36it/s]"
     ]
    },
    {
     "name": "stdout",
     "output_type": "stream",
     "text": [
      "\n",
      "\n"
     ]
    },
    {
     "name": "stderr",
     "output_type": "stream",
     "text": [
      "Train Epoch: 101 [23040/48625 (47%)]\tLoss: 7.393818\tTrain Prec@1 0.00 (0.55): : 363it [01:23,  4.36it/s]"
     ]
    },
    {
     "name": "stdout",
     "output_type": "stream",
     "text": [
      "\n",
      "\n"
     ]
    },
    {
     "name": "stderr",
     "output_type": "stream",
     "text": [
      "Train Epoch: 101 [23040/48625 (47%)]\tLoss: 7.393818\tTrain Prec@1 0.00 (0.55): : 365it [01:23,  4.36it/s]"
     ]
    },
    {
     "name": "stdout",
     "output_type": "stream",
     "text": [
      "\n",
      "\n"
     ]
    },
    {
     "name": "stderr",
     "output_type": "stream",
     "text": [
      "Train Epoch: 101 [23040/48625 (47%)]\tLoss: 7.393818\tTrain Prec@1 0.00 (0.55): : 367it [01:24,  4.36it/s]"
     ]
    },
    {
     "name": "stdout",
     "output_type": "stream",
     "text": [
      "\n",
      "\n"
     ]
    },
    {
     "name": "stderr",
     "output_type": "stream",
     "text": [
      "Train Epoch: 101 [23040/48625 (47%)]\tLoss: 7.393818\tTrain Prec@1 0.00 (0.55): : 369it [01:24,  4.36it/s]"
     ]
    },
    {
     "name": "stdout",
     "output_type": "stream",
     "text": [
      "\n",
      "\n"
     ]
    },
    {
     "name": "stderr",
     "output_type": "stream",
     "text": [
      "Train Epoch: 101 [23680/48625 (49%)]\tLoss: 7.595468\tTrain Prec@1 0.00 (0.53): : 371it [01:25,  4.36it/s]"
     ]
    },
    {
     "name": "stdout",
     "output_type": "stream",
     "text": [
      "\n",
      "\n"
     ]
    },
    {
     "name": "stderr",
     "output_type": "stream",
     "text": [
      "Train Epoch: 101 [23680/48625 (49%)]\tLoss: 7.595468\tTrain Prec@1 0.00 (0.53): : 373it [01:25,  4.36it/s]"
     ]
    },
    {
     "name": "stdout",
     "output_type": "stream",
     "text": [
      "\n",
      "\n"
     ]
    },
    {
     "name": "stderr",
     "output_type": "stream",
     "text": [
      "Train Epoch: 101 [23680/48625 (49%)]\tLoss: 7.595468\tTrain Prec@1 0.00 (0.53): : 375it [01:25,  4.36it/s]"
     ]
    },
    {
     "name": "stdout",
     "output_type": "stream",
     "text": [
      "\n",
      "\n"
     ]
    },
    {
     "name": "stderr",
     "output_type": "stream",
     "text": [
      "Train Epoch: 101 [23680/48625 (49%)]\tLoss: 7.595468\tTrain Prec@1 0.00 (0.53): : 377it [01:26,  4.36it/s]"
     ]
    },
    {
     "name": "stdout",
     "output_type": "stream",
     "text": [
      "\n",
      "\n"
     ]
    },
    {
     "name": "stderr",
     "output_type": "stream",
     "text": [
      "Train Epoch: 101 [23680/48625 (49%)]\tLoss: 7.595468\tTrain Prec@1 0.00 (0.53): : 379it [01:26,  4.36it/s]"
     ]
    },
    {
     "name": "stdout",
     "output_type": "stream",
     "text": [
      "\n",
      "\n"
     ]
    },
    {
     "name": "stderr",
     "output_type": "stream",
     "text": [
      "Train Epoch: 101 [24320/48625 (50%)]\tLoss: 7.692753\tTrain Prec@1 0.00 (0.54): : 381it [01:27,  4.36it/s]"
     ]
    },
    {
     "name": "stdout",
     "output_type": "stream",
     "text": [
      "\n",
      "\n"
     ]
    },
    {
     "name": "stderr",
     "output_type": "stream",
     "text": [
      "Train Epoch: 101 [24320/48625 (50%)]\tLoss: 7.692753\tTrain Prec@1 0.00 (0.54): : 383it [01:27,  4.36it/s]"
     ]
    },
    {
     "name": "stdout",
     "output_type": "stream",
     "text": [
      "\n",
      "\n"
     ]
    },
    {
     "name": "stderr",
     "output_type": "stream",
     "text": [
      "Train Epoch: 101 [24320/48625 (50%)]\tLoss: 7.692753\tTrain Prec@1 0.00 (0.54): : 385it [01:28,  4.36it/s]"
     ]
    },
    {
     "name": "stdout",
     "output_type": "stream",
     "text": [
      "\n",
      "\n"
     ]
    },
    {
     "name": "stderr",
     "output_type": "stream",
     "text": [
      "Train Epoch: 101 [24320/48625 (50%)]\tLoss: 7.692753\tTrain Prec@1 0.00 (0.54): : 387it [01:28,  4.36it/s]"
     ]
    },
    {
     "name": "stdout",
     "output_type": "stream",
     "text": [
      "\n",
      "\n"
     ]
    },
    {
     "name": "stderr",
     "output_type": "stream",
     "text": [
      "Train Epoch: 101 [24320/48625 (50%)]\tLoss: 7.692753\tTrain Prec@1 0.00 (0.54): : 389it [01:29,  4.36it/s]"
     ]
    },
    {
     "name": "stdout",
     "output_type": "stream",
     "text": [
      "\n",
      "\n"
     ]
    },
    {
     "name": "stderr",
     "output_type": "stream",
     "text": [
      "Train Epoch: 101 [24960/48625 (51%)]\tLoss: 7.219922\tTrain Prec@1 0.00 (0.54): : 391it [01:29,  4.36it/s]"
     ]
    },
    {
     "name": "stdout",
     "output_type": "stream",
     "text": [
      "\n",
      "\n"
     ]
    },
    {
     "name": "stderr",
     "output_type": "stream",
     "text": [
      "Train Epoch: 101 [24960/48625 (51%)]\tLoss: 7.219922\tTrain Prec@1 0.00 (0.54): : 393it [01:30,  4.36it/s]"
     ]
    },
    {
     "name": "stdout",
     "output_type": "stream",
     "text": [
      "\n",
      "\n"
     ]
    },
    {
     "name": "stderr",
     "output_type": "stream",
     "text": [
      "Train Epoch: 101 [24960/48625 (51%)]\tLoss: 7.219922\tTrain Prec@1 0.00 (0.54): : 395it [01:30,  4.36it/s]"
     ]
    },
    {
     "name": "stdout",
     "output_type": "stream",
     "text": [
      "\n",
      "\n"
     ]
    },
    {
     "name": "stderr",
     "output_type": "stream",
     "text": [
      "Train Epoch: 101 [24960/48625 (51%)]\tLoss: 7.219922\tTrain Prec@1 0.00 (0.54): : 397it [01:30,  4.36it/s]"
     ]
    },
    {
     "name": "stdout",
     "output_type": "stream",
     "text": [
      "\n",
      "\n"
     ]
    },
    {
     "name": "stderr",
     "output_type": "stream",
     "text": [
      "Train Epoch: 101 [24960/48625 (51%)]\tLoss: 7.219922\tTrain Prec@1 0.00 (0.54): : 399it [01:31,  4.36it/s]"
     ]
    },
    {
     "name": "stdout",
     "output_type": "stream",
     "text": [
      "\n",
      "\n"
     ]
    },
    {
     "name": "stderr",
     "output_type": "stream",
     "text": [
      "Train Epoch: 101 [25600/48625 (53%)]\tLoss: 7.517627\tTrain Prec@1 1.56 (0.55): : 401it [01:31,  4.36it/s]"
     ]
    },
    {
     "name": "stdout",
     "output_type": "stream",
     "text": [
      "\n"
     ]
    },
    {
     "name": "stderr",
     "output_type": "stream",
     "text": [
      "\r",
      "Train Epoch: 101 [25600/48625 (53%)]\tLoss: 7.517627\tTrain Prec@1 1.56 (0.55): : 402it [01:32,  4.36it/s]"
     ]
    },
    {
     "name": "stdout",
     "output_type": "stream",
     "text": [
      "\n"
     ]
    },
    {
     "name": "stderr",
     "output_type": "stream",
     "text": [
      "\r",
      "Train Epoch: 101 [25600/48625 (53%)]\tLoss: 7.517627\tTrain Prec@1 1.56 (0.55): : 403it [01:32,  4.36it/s]"
     ]
    },
    {
     "name": "stdout",
     "output_type": "stream",
     "text": [
      "\n",
      "\n"
     ]
    },
    {
     "name": "stderr",
     "output_type": "stream",
     "text": [
      "Train Epoch: 101 [25600/48625 (53%)]\tLoss: 7.517627\tTrain Prec@1 1.56 (0.55): : 405it [01:32,  4.36it/s]"
     ]
    },
    {
     "name": "stdout",
     "output_type": "stream",
     "text": [
      "\n",
      "\n"
     ]
    },
    {
     "name": "stderr",
     "output_type": "stream",
     "text": [
      "Train Epoch: 101 [25600/48625 (53%)]\tLoss: 7.517627\tTrain Prec@1 1.56 (0.55): : 407it [01:33,  4.36it/s]"
     ]
    },
    {
     "name": "stdout",
     "output_type": "stream",
     "text": [
      "\n",
      "\n"
     ]
    },
    {
     "name": "stderr",
     "output_type": "stream",
     "text": [
      "Train Epoch: 101 [25600/48625 (53%)]\tLoss: 7.517627\tTrain Prec@1 1.56 (0.55): : 409it [01:33,  4.36it/s]"
     ]
    },
    {
     "name": "stdout",
     "output_type": "stream",
     "text": [
      "\n",
      "\n"
     ]
    },
    {
     "name": "stderr",
     "output_type": "stream",
     "text": [
      "Train Epoch: 101 [26240/48625 (54%)]\tLoss: 7.203399\tTrain Prec@1 0.00 (0.56): : 411it [01:34,  4.36it/s]"
     ]
    },
    {
     "name": "stdout",
     "output_type": "stream",
     "text": [
      "\n",
      "\n"
     ]
    },
    {
     "name": "stderr",
     "output_type": "stream",
     "text": [
      "Train Epoch: 101 [26240/48625 (54%)]\tLoss: 7.203399\tTrain Prec@1 0.00 (0.56): : 413it [01:34,  4.36it/s]"
     ]
    },
    {
     "name": "stdout",
     "output_type": "stream",
     "text": [
      "\n",
      "\n"
     ]
    },
    {
     "name": "stderr",
     "output_type": "stream",
     "text": [
      "Train Epoch: 101 [26240/48625 (54%)]\tLoss: 7.203399\tTrain Prec@1 0.00 (0.56): : 415it [01:35,  4.36it/s]"
     ]
    },
    {
     "name": "stdout",
     "output_type": "stream",
     "text": [
      "\n",
      "\n"
     ]
    },
    {
     "name": "stderr",
     "output_type": "stream",
     "text": [
      "Train Epoch: 101 [26240/48625 (54%)]\tLoss: 7.203399\tTrain Prec@1 0.00 (0.56): : 417it [01:35,  4.36it/s]"
     ]
    },
    {
     "name": "stdout",
     "output_type": "stream",
     "text": [
      "\n",
      "\n"
     ]
    },
    {
     "name": "stderr",
     "output_type": "stream",
     "text": [
      "Train Epoch: 101 [26240/48625 (54%)]\tLoss: 7.203399\tTrain Prec@1 0.00 (0.56): : 419it [01:36,  4.36it/s]"
     ]
    },
    {
     "name": "stdout",
     "output_type": "stream",
     "text": [
      "\n",
      "\n"
     ]
    },
    {
     "name": "stderr",
     "output_type": "stream",
     "text": [
      "Train Epoch: 101 [26880/48625 (55%)]\tLoss: 7.439229\tTrain Prec@1 1.56 (0.57): : 421it [01:36,  4.36it/s]"
     ]
    },
    {
     "name": "stdout",
     "output_type": "stream",
     "text": [
      "\n",
      "\n"
     ]
    },
    {
     "name": "stderr",
     "output_type": "stream",
     "text": [
      "Train Epoch: 101 [26880/48625 (55%)]\tLoss: 7.439229\tTrain Prec@1 1.56 (0.57): : 423it [01:37,  4.36it/s]"
     ]
    },
    {
     "name": "stdout",
     "output_type": "stream",
     "text": [
      "\n",
      "\n"
     ]
    },
    {
     "name": "stderr",
     "output_type": "stream",
     "text": [
      "Train Epoch: 101 [26880/48625 (55%)]\tLoss: 7.439229\tTrain Prec@1 1.56 (0.57): : 425it [01:37,  4.36it/s]"
     ]
    },
    {
     "name": "stdout",
     "output_type": "stream",
     "text": [
      "\n",
      "\n"
     ]
    },
    {
     "name": "stderr",
     "output_type": "stream",
     "text": [
      "Train Epoch: 101 [26880/48625 (55%)]\tLoss: 7.439229\tTrain Prec@1 1.56 (0.57): : 427it [01:38,  4.36it/s]"
     ]
    },
    {
     "name": "stdout",
     "output_type": "stream",
     "text": [
      "\n",
      "\n"
     ]
    },
    {
     "name": "stderr",
     "output_type": "stream",
     "text": [
      "Train Epoch: 101 [26880/48625 (55%)]\tLoss: 7.439229\tTrain Prec@1 1.56 (0.57): : 429it [01:38,  4.35it/s]"
     ]
    },
    {
     "name": "stdout",
     "output_type": "stream",
     "text": [
      "\n",
      "\n"
     ]
    },
    {
     "name": "stderr",
     "output_type": "stream",
     "text": [
      "Train Epoch: 101 [27520/48625 (57%)]\tLoss: 7.304859\tTrain Prec@1 0.00 (0.58): : 431it [01:39,  4.35it/s]"
     ]
    },
    {
     "name": "stdout",
     "output_type": "stream",
     "text": [
      "\n",
      "\n"
     ]
    },
    {
     "name": "stderr",
     "output_type": "stream",
     "text": [
      "Train Epoch: 101 [27520/48625 (57%)]\tLoss: 7.304859\tTrain Prec@1 0.00 (0.58): : 433it [01:39,  4.35it/s]"
     ]
    },
    {
     "name": "stdout",
     "output_type": "stream",
     "text": [
      "\n",
      "\n"
     ]
    },
    {
     "name": "stderr",
     "output_type": "stream",
     "text": [
      "Train Epoch: 101 [27520/48625 (57%)]\tLoss: 7.304859\tTrain Prec@1 0.00 (0.58): : 435it [01:39,  4.35it/s]"
     ]
    },
    {
     "name": "stdout",
     "output_type": "stream",
     "text": [
      "\n",
      "\n"
     ]
    },
    {
     "name": "stderr",
     "output_type": "stream",
     "text": [
      "Train Epoch: 101 [27520/48625 (57%)]\tLoss: 7.304859\tTrain Prec@1 0.00 (0.58): : 437it [01:40,  4.35it/s]"
     ]
    },
    {
     "name": "stdout",
     "output_type": "stream",
     "text": [
      "\n",
      "\n"
     ]
    },
    {
     "name": "stderr",
     "output_type": "stream",
     "text": [
      "Train Epoch: 101 [27520/48625 (57%)]\tLoss: 7.304859\tTrain Prec@1 0.00 (0.58): : 439it [01:40,  4.35it/s]"
     ]
    },
    {
     "name": "stdout",
     "output_type": "stream",
     "text": [
      "\n",
      "\n"
     ]
    },
    {
     "name": "stderr",
     "output_type": "stream",
     "text": [
      "Train Epoch: 101 [28160/48625 (58%)]\tLoss: 7.831946\tTrain Prec@1 0.00 (0.57): : 441it [01:41,  4.35it/s]"
     ]
    },
    {
     "name": "stdout",
     "output_type": "stream",
     "text": [
      "\n",
      "\n"
     ]
    },
    {
     "name": "stderr",
     "output_type": "stream",
     "text": [
      "Train Epoch: 101 [28160/48625 (58%)]\tLoss: 7.831946\tTrain Prec@1 0.00 (0.57): : 443it [01:41,  4.35it/s]"
     ]
    },
    {
     "name": "stdout",
     "output_type": "stream",
     "text": [
      "\n",
      "\n"
     ]
    },
    {
     "name": "stderr",
     "output_type": "stream",
     "text": [
      "Train Epoch: 101 [28160/48625 (58%)]\tLoss: 7.831946\tTrain Prec@1 0.00 (0.57): : 445it [01:42,  4.35it/s]"
     ]
    },
    {
     "name": "stdout",
     "output_type": "stream",
     "text": [
      "\n",
      "\n"
     ]
    },
    {
     "name": "stderr",
     "output_type": "stream",
     "text": [
      "Train Epoch: 101 [28160/48625 (58%)]\tLoss: 7.831946\tTrain Prec@1 0.00 (0.57): : 447it [01:42,  4.35it/s]"
     ]
    },
    {
     "name": "stdout",
     "output_type": "stream",
     "text": [
      "\n",
      "\n"
     ]
    },
    {
     "name": "stderr",
     "output_type": "stream",
     "text": [
      "Train Epoch: 101 [28160/48625 (58%)]\tLoss: 7.831946\tTrain Prec@1 0.00 (0.57): : 449it [01:43,  4.35it/s]"
     ]
    },
    {
     "name": "stdout",
     "output_type": "stream",
     "text": [
      "\n",
      "\n"
     ]
    },
    {
     "name": "stderr",
     "output_type": "stream",
     "text": [
      "Train Epoch: 101 [28800/48625 (59%)]\tLoss: 7.383571\tTrain Prec@1 0.00 (0.58): : 451it [01:43,  4.35it/s]"
     ]
    },
    {
     "name": "stdout",
     "output_type": "stream",
     "text": [
      "\n",
      "\n"
     ]
    },
    {
     "name": "stderr",
     "output_type": "stream",
     "text": [
      "Train Epoch: 101 [28800/48625 (59%)]\tLoss: 7.383571\tTrain Prec@1 0.00 (0.58): : 453it [01:44,  4.35it/s]"
     ]
    },
    {
     "name": "stdout",
     "output_type": "stream",
     "text": [
      "\n",
      "\n"
     ]
    },
    {
     "name": "stderr",
     "output_type": "stream",
     "text": [
      "Train Epoch: 101 [28800/48625 (59%)]\tLoss: 7.383571\tTrain Prec@1 0.00 (0.58): : 455it [01:44,  4.35it/s]"
     ]
    },
    {
     "name": "stdout",
     "output_type": "stream",
     "text": [
      "\n",
      "\n"
     ]
    },
    {
     "name": "stderr",
     "output_type": "stream",
     "text": [
      "Train Epoch: 101 [28800/48625 (59%)]\tLoss: 7.383571\tTrain Prec@1 0.00 (0.58): : 457it [01:45,  4.35it/s]"
     ]
    },
    {
     "name": "stdout",
     "output_type": "stream",
     "text": [
      "\n",
      "\n"
     ]
    },
    {
     "name": "stderr",
     "output_type": "stream",
     "text": [
      "Train Epoch: 101 [28800/48625 (59%)]\tLoss: 7.383571\tTrain Prec@1 0.00 (0.58): : 459it [01:45,  4.35it/s]"
     ]
    },
    {
     "name": "stdout",
     "output_type": "stream",
     "text": [
      "\n",
      "\n"
     ]
    },
    {
     "name": "stderr",
     "output_type": "stream",
     "text": [
      "Train Epoch: 101 [29440/48625 (61%)]\tLoss: 7.663034\tTrain Prec@1 0.00 (0.57): : 461it [01:46,  4.35it/s]"
     ]
    },
    {
     "name": "stdout",
     "output_type": "stream",
     "text": [
      "\n",
      "\n"
     ]
    },
    {
     "name": "stderr",
     "output_type": "stream",
     "text": [
      "Train Epoch: 101 [29440/48625 (61%)]\tLoss: 7.663034\tTrain Prec@1 0.00 (0.57): : 463it [01:46,  4.35it/s]"
     ]
    },
    {
     "name": "stdout",
     "output_type": "stream",
     "text": [
      "\n",
      "\n"
     ]
    },
    {
     "name": "stderr",
     "output_type": "stream",
     "text": [
      "Train Epoch: 101 [29440/48625 (61%)]\tLoss: 7.663034\tTrain Prec@1 0.00 (0.57): : 465it [01:46,  4.35it/s]"
     ]
    },
    {
     "name": "stdout",
     "output_type": "stream",
     "text": [
      "\n",
      "\n"
     ]
    },
    {
     "name": "stderr",
     "output_type": "stream",
     "text": [
      "Train Epoch: 101 [29440/48625 (61%)]\tLoss: 7.663034\tTrain Prec@1 0.00 (0.57): : 467it [01:47,  4.35it/s]"
     ]
    },
    {
     "name": "stdout",
     "output_type": "stream",
     "text": [
      "\n",
      "\n"
     ]
    },
    {
     "name": "stderr",
     "output_type": "stream",
     "text": [
      "Train Epoch: 101 [29440/48625 (61%)]\tLoss: 7.663034\tTrain Prec@1 0.00 (0.57): : 469it [01:47,  4.35it/s]"
     ]
    },
    {
     "name": "stdout",
     "output_type": "stream",
     "text": [
      "\n",
      "\n"
     ]
    },
    {
     "name": "stderr",
     "output_type": "stream",
     "text": [
      "Train Epoch: 101 [30080/48625 (62%)]\tLoss: 7.505586\tTrain Prec@1 0.00 (0.57): : 471it [01:48,  4.35it/s]"
     ]
    },
    {
     "name": "stdout",
     "output_type": "stream",
     "text": [
      "\n",
      "\n"
     ]
    },
    {
     "name": "stderr",
     "output_type": "stream",
     "text": [
      "Train Epoch: 101 [30080/48625 (62%)]\tLoss: 7.505586\tTrain Prec@1 0.00 (0.57): : 473it [01:48,  4.35it/s]"
     ]
    },
    {
     "name": "stdout",
     "output_type": "stream",
     "text": [
      "\n",
      "\n"
     ]
    },
    {
     "name": "stderr",
     "output_type": "stream",
     "text": [
      "Train Epoch: 101 [30080/48625 (62%)]\tLoss: 7.505586\tTrain Prec@1 0.00 (0.57): : 475it [01:49,  4.35it/s]"
     ]
    },
    {
     "name": "stdout",
     "output_type": "stream",
     "text": [
      "\n",
      "\n"
     ]
    },
    {
     "name": "stderr",
     "output_type": "stream",
     "text": [
      "Train Epoch: 101 [30080/48625 (62%)]\tLoss: 7.505586\tTrain Prec@1 0.00 (0.57): : 477it [01:49,  4.35it/s]"
     ]
    },
    {
     "name": "stdout",
     "output_type": "stream",
     "text": [
      "\n",
      "\n"
     ]
    },
    {
     "name": "stderr",
     "output_type": "stream",
     "text": [
      "Train Epoch: 101 [30080/48625 (62%)]\tLoss: 7.505586\tTrain Prec@1 0.00 (0.57): : 479it [01:50,  4.35it/s]"
     ]
    },
    {
     "name": "stdout",
     "output_type": "stream",
     "text": [
      "\n",
      "\n"
     ]
    },
    {
     "name": "stderr",
     "output_type": "stream",
     "text": [
      "Train Epoch: 101 [30720/48625 (63%)]\tLoss: 7.188478\tTrain Prec@1 0.00 (0.57): : 481it [01:50,  4.35it/s]"
     ]
    },
    {
     "name": "stdout",
     "output_type": "stream",
     "text": [
      "\n",
      "\n"
     ]
    },
    {
     "name": "stderr",
     "output_type": "stream",
     "text": [
      "Train Epoch: 101 [30720/48625 (63%)]\tLoss: 7.188478\tTrain Prec@1 0.00 (0.57): : 483it [01:51,  4.35it/s]"
     ]
    },
    {
     "name": "stdout",
     "output_type": "stream",
     "text": [
      "\n",
      "\n"
     ]
    },
    {
     "name": "stderr",
     "output_type": "stream",
     "text": [
      "Train Epoch: 101 [30720/48625 (63%)]\tLoss: 7.188478\tTrain Prec@1 0.00 (0.57): : 485it [01:51,  4.35it/s]"
     ]
    },
    {
     "name": "stdout",
     "output_type": "stream",
     "text": [
      "\n",
      "\n"
     ]
    },
    {
     "name": "stderr",
     "output_type": "stream",
     "text": [
      "Train Epoch: 101 [30720/48625 (63%)]\tLoss: 7.188478\tTrain Prec@1 0.00 (0.57): : 487it [01:51,  4.35it/s]"
     ]
    },
    {
     "name": "stdout",
     "output_type": "stream",
     "text": [
      "\n",
      "\n"
     ]
    },
    {
     "name": "stderr",
     "output_type": "stream",
     "text": [
      "Train Epoch: 101 [30720/48625 (63%)]\tLoss: 7.188478\tTrain Prec@1 0.00 (0.57): : 489it [01:52,  4.35it/s]"
     ]
    },
    {
     "name": "stdout",
     "output_type": "stream",
     "text": [
      "\n",
      "\n"
     ]
    },
    {
     "name": "stderr",
     "output_type": "stream",
     "text": [
      "Train Epoch: 101 [31360/48625 (64%)]\tLoss: 7.366385\tTrain Prec@1 3.12 (0.58): : 490it [01:52,  4.34it/s]"
     ]
    },
    {
     "name": "stdout",
     "output_type": "stream",
     "text": [
      "\n"
     ]
    },
    {
     "name": "stderr",
     "output_type": "stream",
     "text": [
      "Train Epoch: 101 [31360/48625 (64%)]\tLoss: 7.366385\tTrain Prec@1 3.12 (0.58): : 492it [01:53,  4.35it/s]"
     ]
    },
    {
     "name": "stdout",
     "output_type": "stream",
     "text": [
      "\n"
     ]
    },
    {
     "name": "stderr",
     "output_type": "stream",
     "text": [
      "\r",
      "Train Epoch: 101 [31360/48625 (64%)]\tLoss: 7.366385\tTrain Prec@1 3.12 (0.58): : 493it [01:53,  4.35it/s]"
     ]
    },
    {
     "name": "stdout",
     "output_type": "stream",
     "text": [
      "\n",
      "\n"
     ]
    },
    {
     "name": "stderr",
     "output_type": "stream",
     "text": [
      "Train Epoch: 101 [31360/48625 (64%)]\tLoss: 7.366385\tTrain Prec@1 3.12 (0.58): : 495it [01:53,  4.35it/s]"
     ]
    },
    {
     "name": "stdout",
     "output_type": "stream",
     "text": [
      "\n",
      "\n"
     ]
    },
    {
     "name": "stderr",
     "output_type": "stream",
     "text": [
      "Train Epoch: 101 [31360/48625 (64%)]\tLoss: 7.366385\tTrain Prec@1 3.12 (0.58): : 497it [01:54,  4.35it/s]"
     ]
    },
    {
     "name": "stdout",
     "output_type": "stream",
     "text": [
      "\n",
      "\n"
     ]
    },
    {
     "name": "stderr",
     "output_type": "stream",
     "text": [
      "Train Epoch: 101 [31360/48625 (64%)]\tLoss: 7.366385\tTrain Prec@1 3.12 (0.58): : 499it [01:54,  4.35it/s]"
     ]
    },
    {
     "name": "stdout",
     "output_type": "stream",
     "text": [
      "\n",
      "\n"
     ]
    },
    {
     "name": "stderr",
     "output_type": "stream",
     "text": [
      "Train Epoch: 101 [32000/48625 (66%)]\tLoss: 7.479279\tTrain Prec@1 0.00 (0.58): : 501it [01:55,  4.35it/s]"
     ]
    },
    {
     "name": "stdout",
     "output_type": "stream",
     "text": [
      "\n",
      "\n"
     ]
    },
    {
     "name": "stderr",
     "output_type": "stream",
     "text": [
      "Train Epoch: 101 [32000/48625 (66%)]\tLoss: 7.479279\tTrain Prec@1 0.00 (0.58): : 503it [01:55,  4.35it/s]"
     ]
    },
    {
     "name": "stdout",
     "output_type": "stream",
     "text": [
      "\n",
      "\n"
     ]
    },
    {
     "name": "stderr",
     "output_type": "stream",
     "text": [
      "Train Epoch: 101 [32000/48625 (66%)]\tLoss: 7.479279\tTrain Prec@1 0.00 (0.58): : 505it [01:56,  4.35it/s]"
     ]
    },
    {
     "name": "stdout",
     "output_type": "stream",
     "text": [
      "\n",
      "\n"
     ]
    },
    {
     "name": "stderr",
     "output_type": "stream",
     "text": [
      "Train Epoch: 101 [32000/48625 (66%)]\tLoss: 7.479279\tTrain Prec@1 0.00 (0.58): : 507it [01:56,  4.35it/s]"
     ]
    },
    {
     "name": "stdout",
     "output_type": "stream",
     "text": [
      "\n",
      "\n"
     ]
    },
    {
     "name": "stderr",
     "output_type": "stream",
     "text": [
      "Train Epoch: 101 [32000/48625 (66%)]\tLoss: 7.479279\tTrain Prec@1 0.00 (0.58): : 509it [01:57,  4.35it/s]"
     ]
    },
    {
     "name": "stdout",
     "output_type": "stream",
     "text": [
      "\n",
      "\n"
     ]
    },
    {
     "name": "stderr",
     "output_type": "stream",
     "text": [
      "Train Epoch: 101 [32640/48625 (67%)]\tLoss: 7.294357\tTrain Prec@1 0.00 (0.57): : 511it [01:57,  4.35it/s]"
     ]
    },
    {
     "name": "stdout",
     "output_type": "stream",
     "text": [
      "\n",
      "\n"
     ]
    },
    {
     "name": "stderr",
     "output_type": "stream",
     "text": [
      "Train Epoch: 101 [32640/48625 (67%)]\tLoss: 7.294357\tTrain Prec@1 0.00 (0.57): : 513it [01:57,  4.35it/s]"
     ]
    },
    {
     "name": "stdout",
     "output_type": "stream",
     "text": [
      "\n",
      "\n"
     ]
    },
    {
     "name": "stderr",
     "output_type": "stream",
     "text": [
      "Train Epoch: 101 [32640/48625 (67%)]\tLoss: 7.294357\tTrain Prec@1 0.00 (0.57): : 515it [01:58,  4.35it/s]"
     ]
    },
    {
     "name": "stdout",
     "output_type": "stream",
     "text": [
      "\n",
      "\n"
     ]
    },
    {
     "name": "stderr",
     "output_type": "stream",
     "text": [
      "Train Epoch: 101 [32640/48625 (67%)]\tLoss: 7.294357\tTrain Prec@1 0.00 (0.57): : 517it [01:58,  4.35it/s]"
     ]
    },
    {
     "name": "stdout",
     "output_type": "stream",
     "text": [
      "\n",
      "\n"
     ]
    },
    {
     "name": "stderr",
     "output_type": "stream",
     "text": [
      "Train Epoch: 101 [32640/48625 (67%)]\tLoss: 7.294357\tTrain Prec@1 0.00 (0.57): : 519it [01:59,  4.35it/s]"
     ]
    },
    {
     "name": "stdout",
     "output_type": "stream",
     "text": [
      "\n",
      "\n"
     ]
    },
    {
     "name": "stderr",
     "output_type": "stream",
     "text": [
      "Train Epoch: 101 [33280/48625 (68%)]\tLoss: 7.462905\tTrain Prec@1 1.56 (0.58): : 521it [01:59,  4.35it/s]"
     ]
    },
    {
     "name": "stdout",
     "output_type": "stream",
     "text": [
      "\n",
      "\n"
     ]
    },
    {
     "name": "stderr",
     "output_type": "stream",
     "text": [
      "Train Epoch: 101 [33280/48625 (68%)]\tLoss: 7.462905\tTrain Prec@1 1.56 (0.58): : 523it [02:00,  4.35it/s]"
     ]
    },
    {
     "name": "stdout",
     "output_type": "stream",
     "text": [
      "\n",
      "\n"
     ]
    },
    {
     "name": "stderr",
     "output_type": "stream",
     "text": [
      "Train Epoch: 101 [33280/48625 (68%)]\tLoss: 7.462905\tTrain Prec@1 1.56 (0.58): : 525it [02:00,  4.35it/s]"
     ]
    },
    {
     "name": "stdout",
     "output_type": "stream",
     "text": [
      "\n",
      "\n"
     ]
    },
    {
     "name": "stderr",
     "output_type": "stream",
     "text": [
      "Train Epoch: 101 [33280/48625 (68%)]\tLoss: 7.462905\tTrain Prec@1 1.56 (0.58): : 527it [02:01,  4.35it/s]"
     ]
    },
    {
     "name": "stdout",
     "output_type": "stream",
     "text": [
      "\n",
      "\n"
     ]
    },
    {
     "name": "stderr",
     "output_type": "stream",
     "text": [
      "Train Epoch: 101 [33280/48625 (68%)]\tLoss: 7.462905\tTrain Prec@1 1.56 (0.58): : 529it [02:01,  4.35it/s]"
     ]
    },
    {
     "name": "stdout",
     "output_type": "stream",
     "text": [
      "\n",
      "\n"
     ]
    },
    {
     "name": "stderr",
     "output_type": "stream",
     "text": [
      "Train Epoch: 101 [33920/48625 (70%)]\tLoss: 7.425453\tTrain Prec@1 0.00 (0.57): : 531it [02:02,  4.35it/s]"
     ]
    },
    {
     "name": "stdout",
     "output_type": "stream",
     "text": [
      "\n",
      "\n"
     ]
    },
    {
     "name": "stderr",
     "output_type": "stream",
     "text": [
      "Train Epoch: 101 [33920/48625 (70%)]\tLoss: 7.425453\tTrain Prec@1 0.00 (0.57): : 533it [02:02,  4.35it/s]"
     ]
    },
    {
     "name": "stdout",
     "output_type": "stream",
     "text": [
      "\n",
      "\n"
     ]
    },
    {
     "name": "stderr",
     "output_type": "stream",
     "text": [
      "Train Epoch: 101 [33920/48625 (70%)]\tLoss: 7.425453\tTrain Prec@1 0.00 (0.57): : 535it [02:02,  4.35it/s]"
     ]
    },
    {
     "name": "stdout",
     "output_type": "stream",
     "text": [
      "\n",
      "\n"
     ]
    },
    {
     "name": "stderr",
     "output_type": "stream",
     "text": [
      "Train Epoch: 101 [33920/48625 (70%)]\tLoss: 7.425453\tTrain Prec@1 0.00 (0.57): : 537it [02:03,  4.35it/s]"
     ]
    },
    {
     "name": "stdout",
     "output_type": "stream",
     "text": [
      "\n",
      "\n"
     ]
    },
    {
     "name": "stderr",
     "output_type": "stream",
     "text": [
      "Train Epoch: 101 [33920/48625 (70%)]\tLoss: 7.425453\tTrain Prec@1 0.00 (0.57): : 539it [02:03,  4.35it/s]"
     ]
    },
    {
     "name": "stdout",
     "output_type": "stream",
     "text": [
      "\n",
      "\n"
     ]
    },
    {
     "name": "stderr",
     "output_type": "stream",
     "text": [
      "Train Epoch: 101 [34560/48625 (71%)]\tLoss: 7.489422\tTrain Prec@1 1.56 (0.58): : 541it [02:04,  4.35it/s]"
     ]
    },
    {
     "name": "stdout",
     "output_type": "stream",
     "text": [
      "\n",
      "\n"
     ]
    },
    {
     "name": "stderr",
     "output_type": "stream",
     "text": [
      "Train Epoch: 101 [34560/48625 (71%)]\tLoss: 7.489422\tTrain Prec@1 1.56 (0.58): : 543it [02:04,  4.35it/s]"
     ]
    },
    {
     "name": "stdout",
     "output_type": "stream",
     "text": [
      "\n",
      "\n"
     ]
    },
    {
     "name": "stderr",
     "output_type": "stream",
     "text": [
      "Train Epoch: 101 [34560/48625 (71%)]\tLoss: 7.489422\tTrain Prec@1 1.56 (0.58): : 545it [02:05,  4.35it/s]"
     ]
    },
    {
     "name": "stdout",
     "output_type": "stream",
     "text": [
      "\n",
      "\n"
     ]
    },
    {
     "name": "stderr",
     "output_type": "stream",
     "text": [
      "Train Epoch: 101 [34560/48625 (71%)]\tLoss: 7.489422\tTrain Prec@1 1.56 (0.58): : 547it [02:05,  4.35it/s]"
     ]
    },
    {
     "name": "stdout",
     "output_type": "stream",
     "text": [
      "\n",
      "\n"
     ]
    },
    {
     "name": "stderr",
     "output_type": "stream",
     "text": [
      "Train Epoch: 101 [34560/48625 (71%)]\tLoss: 7.489422\tTrain Prec@1 1.56 (0.58): : 549it [02:06,  4.35it/s]"
     ]
    },
    {
     "name": "stdout",
     "output_type": "stream",
     "text": [
      "\n",
      "\n"
     ]
    },
    {
     "name": "stderr",
     "output_type": "stream",
     "text": [
      "Train Epoch: 101 [35200/48625 (72%)]\tLoss: 7.614230\tTrain Prec@1 0.00 (0.60): : 551it [02:06,  4.35it/s]"
     ]
    },
    {
     "name": "stdout",
     "output_type": "stream",
     "text": [
      "\n",
      "\n"
     ]
    },
    {
     "name": "stderr",
     "output_type": "stream",
     "text": [
      "Train Epoch: 101 [35200/48625 (72%)]\tLoss: 7.614230\tTrain Prec@1 0.00 (0.60): : 553it [02:07,  4.35it/s]"
     ]
    },
    {
     "name": "stdout",
     "output_type": "stream",
     "text": [
      "\n",
      "\n"
     ]
    },
    {
     "name": "stderr",
     "output_type": "stream",
     "text": [
      "Train Epoch: 101 [35200/48625 (72%)]\tLoss: 7.614230\tTrain Prec@1 0.00 (0.60): : 555it [02:07,  4.35it/s]"
     ]
    },
    {
     "name": "stdout",
     "output_type": "stream",
     "text": [
      "\n",
      "\n"
     ]
    },
    {
     "name": "stderr",
     "output_type": "stream",
     "text": [
      "Train Epoch: 101 [35200/48625 (72%)]\tLoss: 7.614230\tTrain Prec@1 0.00 (0.60): : 557it [02:08,  4.35it/s]"
     ]
    },
    {
     "name": "stdout",
     "output_type": "stream",
     "text": [
      "\n",
      "\n"
     ]
    },
    {
     "name": "stderr",
     "output_type": "stream",
     "text": [
      "Train Epoch: 101 [35200/48625 (72%)]\tLoss: 7.614230\tTrain Prec@1 0.00 (0.60): : 559it [02:08,  4.35it/s]"
     ]
    },
    {
     "name": "stdout",
     "output_type": "stream",
     "text": [
      "\n",
      "\n"
     ]
    },
    {
     "name": "stderr",
     "output_type": "stream",
     "text": [
      "Train Epoch: 101 [35840/48625 (74%)]\tLoss: 7.511432\tTrain Prec@1 1.56 (0.60): : 561it [02:08,  4.35it/s]"
     ]
    },
    {
     "name": "stdout",
     "output_type": "stream",
     "text": [
      "\n",
      "\n"
     ]
    },
    {
     "name": "stderr",
     "output_type": "stream",
     "text": [
      "Train Epoch: 101 [35840/48625 (74%)]\tLoss: 7.511432\tTrain Prec@1 1.56 (0.60): : 563it [02:09,  4.35it/s]"
     ]
    },
    {
     "name": "stdout",
     "output_type": "stream",
     "text": [
      "\n",
      "\n"
     ]
    },
    {
     "name": "stderr",
     "output_type": "stream",
     "text": [
      "Train Epoch: 101 [35840/48625 (74%)]\tLoss: 7.511432\tTrain Prec@1 1.56 (0.60): : 565it [02:09,  4.35it/s]"
     ]
    },
    {
     "name": "stdout",
     "output_type": "stream",
     "text": [
      "\n",
      "\n"
     ]
    },
    {
     "name": "stderr",
     "output_type": "stream",
     "text": [
      "Train Epoch: 101 [35840/48625 (74%)]\tLoss: 7.511432\tTrain Prec@1 1.56 (0.60): : 567it [02:10,  4.35it/s]"
     ]
    },
    {
     "name": "stdout",
     "output_type": "stream",
     "text": [
      "\n",
      "\n"
     ]
    },
    {
     "name": "stderr",
     "output_type": "stream",
     "text": [
      "Train Epoch: 101 [35840/48625 (74%)]\tLoss: 7.511432\tTrain Prec@1 1.56 (0.60): : 569it [02:10,  4.35it/s]"
     ]
    },
    {
     "name": "stdout",
     "output_type": "stream",
     "text": [
      "\n",
      "\n"
     ]
    },
    {
     "name": "stderr",
     "output_type": "stream",
     "text": [
      "Train Epoch: 101 [36480/48625 (75%)]\tLoss: 7.258551\tTrain Prec@1 0.00 (0.60): : 571it [02:11,  4.35it/s]"
     ]
    },
    {
     "name": "stdout",
     "output_type": "stream",
     "text": [
      "\n",
      "\n"
     ]
    },
    {
     "name": "stderr",
     "output_type": "stream",
     "text": [
      "Train Epoch: 101 [36480/48625 (75%)]\tLoss: 7.258551\tTrain Prec@1 0.00 (0.60): : 573it [02:11,  4.35it/s]"
     ]
    },
    {
     "name": "stdout",
     "output_type": "stream",
     "text": [
      "\n",
      "\n"
     ]
    },
    {
     "name": "stderr",
     "output_type": "stream",
     "text": [
      "Train Epoch: 101 [36480/48625 (75%)]\tLoss: 7.258551\tTrain Prec@1 0.00 (0.60): : 575it [02:12,  4.35it/s]"
     ]
    },
    {
     "name": "stdout",
     "output_type": "stream",
     "text": [
      "\n",
      "\n"
     ]
    },
    {
     "name": "stderr",
     "output_type": "stream",
     "text": [
      "Train Epoch: 101 [36480/48625 (75%)]\tLoss: 7.258551\tTrain Prec@1 0.00 (0.60): : 577it [02:12,  4.35it/s]"
     ]
    },
    {
     "name": "stdout",
     "output_type": "stream",
     "text": [
      "\n",
      "\n"
     ]
    },
    {
     "name": "stderr",
     "output_type": "stream",
     "text": [
      "Train Epoch: 101 [36480/48625 (75%)]\tLoss: 7.258551\tTrain Prec@1 0.00 (0.60): : 579it [02:13,  4.35it/s]"
     ]
    },
    {
     "name": "stdout",
     "output_type": "stream",
     "text": [
      "\n",
      "\n"
     ]
    },
    {
     "name": "stderr",
     "output_type": "stream",
     "text": [
      "Train Epoch: 101 [37120/48625 (76%)]\tLoss: 7.369540\tTrain Prec@1 0.00 (0.61): : 581it [02:13,  4.35it/s]"
     ]
    },
    {
     "name": "stdout",
     "output_type": "stream",
     "text": [
      "\n",
      "\n"
     ]
    },
    {
     "name": "stderr",
     "output_type": "stream",
     "text": [
      "Train Epoch: 101 [37120/48625 (76%)]\tLoss: 7.369540\tTrain Prec@1 0.00 (0.61): : 583it [02:14,  4.35it/s]"
     ]
    },
    {
     "name": "stdout",
     "output_type": "stream",
     "text": [
      "\n",
      "\n"
     ]
    },
    {
     "name": "stderr",
     "output_type": "stream",
     "text": [
      "Train Epoch: 101 [37120/48625 (76%)]\tLoss: 7.369540\tTrain Prec@1 0.00 (0.61): : 585it [02:14,  4.35it/s]"
     ]
    },
    {
     "name": "stdout",
     "output_type": "stream",
     "text": [
      "\n",
      "\n"
     ]
    },
    {
     "name": "stderr",
     "output_type": "stream",
     "text": [
      "Train Epoch: 101 [37120/48625 (76%)]\tLoss: 7.369540\tTrain Prec@1 0.00 (0.61): : 587it [02:14,  4.35it/s]"
     ]
    },
    {
     "name": "stdout",
     "output_type": "stream",
     "text": [
      "\n",
      "\n"
     ]
    },
    {
     "name": "stderr",
     "output_type": "stream",
     "text": [
      "Train Epoch: 101 [37120/48625 (76%)]\tLoss: 7.369540\tTrain Prec@1 0.00 (0.61): : 589it [02:15,  4.35it/s]"
     ]
    },
    {
     "name": "stdout",
     "output_type": "stream",
     "text": [
      "\n",
      "\n"
     ]
    },
    {
     "name": "stderr",
     "output_type": "stream",
     "text": [
      "Train Epoch: 101 [37760/48625 (78%)]\tLoss: 7.274024\tTrain Prec@1 3.12 (0.62): : 591it [02:15,  4.35it/s]"
     ]
    },
    {
     "name": "stdout",
     "output_type": "stream",
     "text": [
      "\n"
     ]
    },
    {
     "name": "stderr",
     "output_type": "stream",
     "text": [
      "\r",
      "Train Epoch: 101 [37760/48625 (78%)]\tLoss: 7.274024\tTrain Prec@1 3.12 (0.62): : 592it [02:16,  4.35it/s]"
     ]
    },
    {
     "name": "stdout",
     "output_type": "stream",
     "text": [
      "\n"
     ]
    },
    {
     "name": "stderr",
     "output_type": "stream",
     "text": [
      "\r",
      "Train Epoch: 101 [37760/48625 (78%)]\tLoss: 7.274024\tTrain Prec@1 3.12 (0.62): : 593it [02:16,  4.35it/s]"
     ]
    },
    {
     "name": "stdout",
     "output_type": "stream",
     "text": [
      "\n",
      "\n"
     ]
    },
    {
     "name": "stderr",
     "output_type": "stream",
     "text": [
      "Train Epoch: 101 [37760/48625 (78%)]\tLoss: 7.274024\tTrain Prec@1 3.12 (0.62): : 595it [02:16,  4.35it/s]"
     ]
    },
    {
     "name": "stdout",
     "output_type": "stream",
     "text": [
      "\n",
      "\n"
     ]
    },
    {
     "name": "stderr",
     "output_type": "stream",
     "text": [
      "Train Epoch: 101 [37760/48625 (78%)]\tLoss: 7.274024\tTrain Prec@1 3.12 (0.62): : 597it [02:17,  4.35it/s]"
     ]
    },
    {
     "name": "stdout",
     "output_type": "stream",
     "text": [
      "\n",
      "\n"
     ]
    },
    {
     "name": "stderr",
     "output_type": "stream",
     "text": [
      "Train Epoch: 101 [37760/48625 (78%)]\tLoss: 7.274024\tTrain Prec@1 3.12 (0.62): : 599it [02:17,  4.35it/s]"
     ]
    },
    {
     "name": "stdout",
     "output_type": "stream",
     "text": [
      "\n"
     ]
    },
    {
     "name": "stderr",
     "output_type": "stream",
     "text": [
      "Train Epoch: 101 [38400/48625 (79%)]\tLoss: 7.198545\tTrain Prec@1 1.56 (0.63): : 601it [02:18,  4.35it/s]"
     ]
    },
    {
     "name": "stdout",
     "output_type": "stream",
     "text": [
      "\n",
      "\n"
     ]
    },
    {
     "name": "stderr",
     "output_type": "stream",
     "text": [
      "\r",
      "Train Epoch: 101 [38400/48625 (79%)]\tLoss: 7.198545\tTrain Prec@1 1.56 (0.63): : 602it [02:18,  4.35it/s]"
     ]
    },
    {
     "name": "stdout",
     "output_type": "stream",
     "text": [
      "\n"
     ]
    },
    {
     "name": "stderr",
     "output_type": "stream",
     "text": [
      "\r",
      "Train Epoch: 101 [38400/48625 (79%)]\tLoss: 7.198545\tTrain Prec@1 1.56 (0.63): : 603it [02:18,  4.35it/s]"
     ]
    },
    {
     "name": "stdout",
     "output_type": "stream",
     "text": [
      "\n"
     ]
    },
    {
     "name": "stderr",
     "output_type": "stream",
     "text": [
      "\r",
      "Train Epoch: 101 [38400/48625 (79%)]\tLoss: 7.198545\tTrain Prec@1 1.56 (0.63): : 604it [02:18,  4.35it/s]"
     ]
    },
    {
     "name": "stdout",
     "output_type": "stream",
     "text": [
      "\n"
     ]
    },
    {
     "name": "stderr",
     "output_type": "stream",
     "text": [
      "\r",
      "Train Epoch: 101 [38400/48625 (79%)]\tLoss: 7.198545\tTrain Prec@1 1.56 (0.63): : 605it [02:19,  4.35it/s]"
     ]
    },
    {
     "name": "stdout",
     "output_type": "stream",
     "text": [
      "\n"
     ]
    },
    {
     "name": "stderr",
     "output_type": "stream",
     "text": [
      "\r",
      "Train Epoch: 101 [38400/48625 (79%)]\tLoss: 7.198545\tTrain Prec@1 1.56 (0.63): : 606it [02:19,  4.35it/s]"
     ]
    },
    {
     "name": "stdout",
     "output_type": "stream",
     "text": [
      "\n"
     ]
    },
    {
     "name": "stderr",
     "output_type": "stream",
     "text": [
      "\r",
      "Train Epoch: 101 [38400/48625 (79%)]\tLoss: 7.198545\tTrain Prec@1 1.56 (0.63): : 607it [02:19,  4.35it/s]"
     ]
    },
    {
     "name": "stdout",
     "output_type": "stream",
     "text": [
      "\n"
     ]
    },
    {
     "name": "stderr",
     "output_type": "stream",
     "text": [
      "\r",
      "Train Epoch: 101 [38400/48625 (79%)]\tLoss: 7.198545\tTrain Prec@1 1.56 (0.63): : 608it [02:19,  4.35it/s]"
     ]
    },
    {
     "name": "stdout",
     "output_type": "stream",
     "text": [
      "\n"
     ]
    },
    {
     "name": "stderr",
     "output_type": "stream",
     "text": [
      "\r",
      "Train Epoch: 101 [38400/48625 (79%)]\tLoss: 7.198545\tTrain Prec@1 1.56 (0.63): : 609it [02:20,  4.35it/s]"
     ]
    },
    {
     "name": "stdout",
     "output_type": "stream",
     "text": [
      "\n"
     ]
    },
    {
     "name": "stderr",
     "output_type": "stream",
     "text": [
      "\r",
      "Train Epoch: 101 [38400/48625 (79%)]\tLoss: 7.198545\tTrain Prec@1 1.56 (0.63): : 610it [02:20,  4.35it/s]"
     ]
    },
    {
     "name": "stdout",
     "output_type": "stream",
     "text": [
      "\n"
     ]
    },
    {
     "name": "stderr",
     "output_type": "stream",
     "text": [
      "Train Epoch: 101 [39040/48625 (80%)]\tLoss: 7.266065\tTrain Prec@1 3.12 (0.64): : 611it [02:20,  4.35it/s]"
     ]
    },
    {
     "name": "stdout",
     "output_type": "stream",
     "text": [
      "\n"
     ]
    },
    {
     "name": "stderr",
     "output_type": "stream",
     "text": [
      "\r",
      "Train Epoch: 101 [39040/48625 (80%)]\tLoss: 7.266065\tTrain Prec@1 3.12 (0.64): : 612it [02:20,  4.35it/s]"
     ]
    },
    {
     "name": "stdout",
     "output_type": "stream",
     "text": [
      "\n"
     ]
    },
    {
     "name": "stderr",
     "output_type": "stream",
     "text": [
      "\r",
      "Train Epoch: 101 [39040/48625 (80%)]\tLoss: 7.266065\tTrain Prec@1 3.12 (0.64): : 613it [02:20,  4.35it/s]"
     ]
    },
    {
     "name": "stdout",
     "output_type": "stream",
     "text": [
      "\n"
     ]
    },
    {
     "name": "stderr",
     "output_type": "stream",
     "text": [
      "\r",
      "Train Epoch: 101 [39040/48625 (80%)]\tLoss: 7.266065\tTrain Prec@1 3.12 (0.64): : 614it [02:21,  4.35it/s]"
     ]
    },
    {
     "name": "stdout",
     "output_type": "stream",
     "text": [
      "\n"
     ]
    },
    {
     "name": "stderr",
     "output_type": "stream",
     "text": [
      "\r",
      "Train Epoch: 101 [39040/48625 (80%)]\tLoss: 7.266065\tTrain Prec@1 3.12 (0.64): : 615it [02:21,  4.35it/s]"
     ]
    },
    {
     "name": "stdout",
     "output_type": "stream",
     "text": [
      "\n"
     ]
    },
    {
     "name": "stderr",
     "output_type": "stream",
     "text": [
      "\r",
      "Train Epoch: 101 [39040/48625 (80%)]\tLoss: 7.266065\tTrain Prec@1 3.12 (0.64): : 616it [02:21,  4.35it/s]"
     ]
    },
    {
     "name": "stdout",
     "output_type": "stream",
     "text": [
      "\n"
     ]
    },
    {
     "name": "stderr",
     "output_type": "stream",
     "text": [
      "\r",
      "Train Epoch: 101 [39040/48625 (80%)]\tLoss: 7.266065\tTrain Prec@1 3.12 (0.64): : 617it [02:21,  4.35it/s]"
     ]
    },
    {
     "name": "stdout",
     "output_type": "stream",
     "text": [
      "\n"
     ]
    },
    {
     "name": "stderr",
     "output_type": "stream",
     "text": [
      "\r",
      "Train Epoch: 101 [39040/48625 (80%)]\tLoss: 7.266065\tTrain Prec@1 3.12 (0.64): : 618it [02:22,  4.35it/s]"
     ]
    },
    {
     "name": "stdout",
     "output_type": "stream",
     "text": [
      "\n"
     ]
    },
    {
     "name": "stderr",
     "output_type": "stream",
     "text": [
      "\r",
      "Train Epoch: 101 [39040/48625 (80%)]\tLoss: 7.266065\tTrain Prec@1 3.12 (0.64): : 619it [02:22,  4.35it/s]"
     ]
    },
    {
     "name": "stdout",
     "output_type": "stream",
     "text": [
      "\n"
     ]
    },
    {
     "name": "stderr",
     "output_type": "stream",
     "text": [
      "\r",
      "Train Epoch: 101 [39040/48625 (80%)]\tLoss: 7.266065\tTrain Prec@1 3.12 (0.64): : 620it [02:22,  4.35it/s]"
     ]
    },
    {
     "name": "stdout",
     "output_type": "stream",
     "text": [
      "\n"
     ]
    },
    {
     "name": "stderr",
     "output_type": "stream",
     "text": [
      "Train Epoch: 101 [39680/48625 (82%)]\tLoss: 7.340557\tTrain Prec@1 0.00 (0.64): : 621it [02:22,  4.35it/s]"
     ]
    },
    {
     "name": "stdout",
     "output_type": "stream",
     "text": [
      "\n"
     ]
    },
    {
     "name": "stderr",
     "output_type": "stream",
     "text": [
      "\r",
      "Train Epoch: 101 [39680/48625 (82%)]\tLoss: 7.340557\tTrain Prec@1 0.00 (0.64): : 622it [02:23,  4.35it/s]"
     ]
    },
    {
     "name": "stdout",
     "output_type": "stream",
     "text": [
      "\n"
     ]
    },
    {
     "name": "stderr",
     "output_type": "stream",
     "text": [
      "\r",
      "Train Epoch: 101 [39680/48625 (82%)]\tLoss: 7.340557\tTrain Prec@1 0.00 (0.64): : 623it [02:23,  4.35it/s]"
     ]
    },
    {
     "name": "stdout",
     "output_type": "stream",
     "text": [
      "\n"
     ]
    },
    {
     "name": "stderr",
     "output_type": "stream",
     "text": [
      "\r",
      "Train Epoch: 101 [39680/48625 (82%)]\tLoss: 7.340557\tTrain Prec@1 0.00 (0.64): : 624it [02:23,  4.35it/s]"
     ]
    },
    {
     "name": "stdout",
     "output_type": "stream",
     "text": [
      "\n"
     ]
    },
    {
     "name": "stderr",
     "output_type": "stream",
     "text": [
      "\r",
      "Train Epoch: 101 [39680/48625 (82%)]\tLoss: 7.340557\tTrain Prec@1 0.00 (0.64): : 625it [02:23,  4.35it/s]"
     ]
    },
    {
     "name": "stdout",
     "output_type": "stream",
     "text": [
      "\n"
     ]
    },
    {
     "name": "stderr",
     "output_type": "stream",
     "text": [
      "\r",
      "Train Epoch: 101 [39680/48625 (82%)]\tLoss: 7.340557\tTrain Prec@1 0.00 (0.64): : 626it [02:23,  4.35it/s]"
     ]
    },
    {
     "name": "stdout",
     "output_type": "stream",
     "text": [
      "\n"
     ]
    },
    {
     "name": "stderr",
     "output_type": "stream",
     "text": [
      "\r",
      "Train Epoch: 101 [39680/48625 (82%)]\tLoss: 7.340557\tTrain Prec@1 0.00 (0.64): : 627it [02:24,  4.35it/s]"
     ]
    },
    {
     "name": "stdout",
     "output_type": "stream",
     "text": [
      "\n"
     ]
    },
    {
     "name": "stderr",
     "output_type": "stream",
     "text": [
      "\r",
      "Train Epoch: 101 [39680/48625 (82%)]\tLoss: 7.340557\tTrain Prec@1 0.00 (0.64): : 628it [02:24,  4.35it/s]"
     ]
    },
    {
     "name": "stdout",
     "output_type": "stream",
     "text": [
      "\n"
     ]
    },
    {
     "name": "stderr",
     "output_type": "stream",
     "text": [
      "\r",
      "Train Epoch: 101 [39680/48625 (82%)]\tLoss: 7.340557\tTrain Prec@1 0.00 (0.64): : 629it [02:24,  4.35it/s]"
     ]
    },
    {
     "name": "stdout",
     "output_type": "stream",
     "text": [
      "\n"
     ]
    },
    {
     "name": "stderr",
     "output_type": "stream",
     "text": [
      "\r",
      "Train Epoch: 101 [39680/48625 (82%)]\tLoss: 7.340557\tTrain Prec@1 0.00 (0.64): : 630it [02:24,  4.35it/s]"
     ]
    },
    {
     "name": "stdout",
     "output_type": "stream",
     "text": [
      "\n"
     ]
    },
    {
     "name": "stderr",
     "output_type": "stream",
     "text": [
      "Train Epoch: 101 [40320/48625 (83%)]\tLoss: 7.580759\tTrain Prec@1 1.56 (0.65): : 631it [02:25,  4.35it/s]"
     ]
    },
    {
     "name": "stdout",
     "output_type": "stream",
     "text": [
      "\n"
     ]
    },
    {
     "name": "stderr",
     "output_type": "stream",
     "text": [
      "\r",
      "Train Epoch: 101 [40320/48625 (83%)]\tLoss: 7.580759\tTrain Prec@1 1.56 (0.65): : 632it [02:25,  4.35it/s]"
     ]
    },
    {
     "name": "stdout",
     "output_type": "stream",
     "text": [
      "\n"
     ]
    },
    {
     "name": "stderr",
     "output_type": "stream",
     "text": [
      "\r",
      "Train Epoch: 101 [40320/48625 (83%)]\tLoss: 7.580759\tTrain Prec@1 1.56 (0.65): : 633it [02:25,  4.35it/s]"
     ]
    },
    {
     "name": "stdout",
     "output_type": "stream",
     "text": [
      "\n"
     ]
    },
    {
     "name": "stderr",
     "output_type": "stream",
     "text": [
      "\r",
      "Train Epoch: 101 [40320/48625 (83%)]\tLoss: 7.580759\tTrain Prec@1 1.56 (0.65): : 634it [02:25,  4.35it/s]"
     ]
    },
    {
     "name": "stdout",
     "output_type": "stream",
     "text": [
      "\n"
     ]
    },
    {
     "name": "stderr",
     "output_type": "stream",
     "text": [
      "\r",
      "Train Epoch: 101 [40320/48625 (83%)]\tLoss: 7.580759\tTrain Prec@1 1.56 (0.65): : 635it [02:26,  4.35it/s]"
     ]
    },
    {
     "name": "stdout",
     "output_type": "stream",
     "text": [
      "\n"
     ]
    },
    {
     "name": "stderr",
     "output_type": "stream",
     "text": [
      "\r",
      "Train Epoch: 101 [40320/48625 (83%)]\tLoss: 7.580759\tTrain Prec@1 1.56 (0.65): : 636it [02:26,  4.34it/s]"
     ]
    },
    {
     "name": "stdout",
     "output_type": "stream",
     "text": [
      "\n"
     ]
    },
    {
     "name": "stderr",
     "output_type": "stream",
     "text": [
      "\r",
      "Train Epoch: 101 [40320/48625 (83%)]\tLoss: 7.580759\tTrain Prec@1 1.56 (0.65): : 637it [02:26,  4.34it/s]"
     ]
    },
    {
     "name": "stdout",
     "output_type": "stream",
     "text": [
      "\n"
     ]
    },
    {
     "name": "stderr",
     "output_type": "stream",
     "text": [
      "\r",
      "Train Epoch: 101 [40320/48625 (83%)]\tLoss: 7.580759\tTrain Prec@1 1.56 (0.65): : 638it [02:26,  4.34it/s]"
     ]
    },
    {
     "name": "stdout",
     "output_type": "stream",
     "text": [
      "\n"
     ]
    },
    {
     "name": "stderr",
     "output_type": "stream",
     "text": [
      "\r",
      "Train Epoch: 101 [40320/48625 (83%)]\tLoss: 7.580759\tTrain Prec@1 1.56 (0.65): : 639it [02:27,  4.34it/s]"
     ]
    },
    {
     "name": "stdout",
     "output_type": "stream",
     "text": [
      "\n"
     ]
    },
    {
     "name": "stderr",
     "output_type": "stream",
     "text": [
      "\r",
      "Train Epoch: 101 [40320/48625 (83%)]\tLoss: 7.580759\tTrain Prec@1 1.56 (0.65): : 640it [02:27,  4.34it/s]"
     ]
    },
    {
     "name": "stdout",
     "output_type": "stream",
     "text": [
      "\n"
     ]
    },
    {
     "name": "stderr",
     "output_type": "stream",
     "text": [
      "Train Epoch: 101 [40960/48625 (84%)]\tLoss: 7.407430\tTrain Prec@1 0.00 (0.65): : 641it [02:27,  4.34it/s]"
     ]
    },
    {
     "name": "stdout",
     "output_type": "stream",
     "text": [
      "\n"
     ]
    },
    {
     "name": "stderr",
     "output_type": "stream",
     "text": [
      "\r",
      "Train Epoch: 101 [40960/48625 (84%)]\tLoss: 7.407430\tTrain Prec@1 0.00 (0.65): : 642it [02:27,  4.34it/s]"
     ]
    },
    {
     "name": "stdout",
     "output_type": "stream",
     "text": [
      "\n"
     ]
    },
    {
     "name": "stderr",
     "output_type": "stream",
     "text": [
      "\r",
      "Train Epoch: 101 [40960/48625 (84%)]\tLoss: 7.407430\tTrain Prec@1 0.00 (0.65): : 643it [02:28,  4.34it/s]"
     ]
    },
    {
     "name": "stdout",
     "output_type": "stream",
     "text": [
      "\n"
     ]
    },
    {
     "name": "stderr",
     "output_type": "stream",
     "text": [
      "\r",
      "Train Epoch: 101 [40960/48625 (84%)]\tLoss: 7.407430\tTrain Prec@1 0.00 (0.65): : 644it [02:28,  4.34it/s]"
     ]
    },
    {
     "name": "stdout",
     "output_type": "stream",
     "text": [
      "\n"
     ]
    },
    {
     "name": "stderr",
     "output_type": "stream",
     "text": [
      "\r",
      "Train Epoch: 101 [40960/48625 (84%)]\tLoss: 7.407430\tTrain Prec@1 0.00 (0.65): : 645it [02:28,  4.34it/s]"
     ]
    },
    {
     "name": "stdout",
     "output_type": "stream",
     "text": [
      "\n"
     ]
    },
    {
     "name": "stderr",
     "output_type": "stream",
     "text": [
      "\r",
      "Train Epoch: 101 [40960/48625 (84%)]\tLoss: 7.407430\tTrain Prec@1 0.00 (0.65): : 646it [02:28,  4.34it/s]"
     ]
    },
    {
     "name": "stdout",
     "output_type": "stream",
     "text": [
      "\n"
     ]
    },
    {
     "name": "stderr",
     "output_type": "stream",
     "text": [
      "\r",
      "Train Epoch: 101 [40960/48625 (84%)]\tLoss: 7.407430\tTrain Prec@1 0.00 (0.65): : 647it [02:28,  4.34it/s]"
     ]
    },
    {
     "name": "stdout",
     "output_type": "stream",
     "text": [
      "\n"
     ]
    },
    {
     "name": "stderr",
     "output_type": "stream",
     "text": [
      "\r",
      "Train Epoch: 101 [40960/48625 (84%)]\tLoss: 7.407430\tTrain Prec@1 0.00 (0.65): : 648it [02:29,  4.34it/s]"
     ]
    },
    {
     "name": "stdout",
     "output_type": "stream",
     "text": [
      "\n"
     ]
    },
    {
     "name": "stderr",
     "output_type": "stream",
     "text": [
      "\r",
      "Train Epoch: 101 [40960/48625 (84%)]\tLoss: 7.407430\tTrain Prec@1 0.00 (0.65): : 649it [02:29,  4.34it/s]"
     ]
    },
    {
     "name": "stdout",
     "output_type": "stream",
     "text": [
      "\n"
     ]
    },
    {
     "name": "stderr",
     "output_type": "stream",
     "text": [
      "\r",
      "Train Epoch: 101 [40960/48625 (84%)]\tLoss: 7.407430\tTrain Prec@1 0.00 (0.65): : 650it [02:29,  4.34it/s]"
     ]
    },
    {
     "name": "stdout",
     "output_type": "stream",
     "text": [
      "\n"
     ]
    },
    {
     "name": "stderr",
     "output_type": "stream",
     "text": [
      "Train Epoch: 101 [41600/48625 (86%)]\tLoss: 7.351154\tTrain Prec@1 0.00 (0.66): : 651it [02:29,  4.34it/s]"
     ]
    },
    {
     "name": "stdout",
     "output_type": "stream",
     "text": [
      "\n"
     ]
    },
    {
     "name": "stderr",
     "output_type": "stream",
     "text": [
      "\r",
      "Train Epoch: 101 [41600/48625 (86%)]\tLoss: 7.351154\tTrain Prec@1 0.00 (0.66): : 652it [02:30,  4.34it/s]"
     ]
    },
    {
     "name": "stdout",
     "output_type": "stream",
     "text": [
      "\n"
     ]
    },
    {
     "name": "stderr",
     "output_type": "stream",
     "text": [
      "\r",
      "Train Epoch: 101 [41600/48625 (86%)]\tLoss: 7.351154\tTrain Prec@1 0.00 (0.66): : 653it [02:30,  4.34it/s]"
     ]
    },
    {
     "name": "stdout",
     "output_type": "stream",
     "text": [
      "\n"
     ]
    },
    {
     "name": "stderr",
     "output_type": "stream",
     "text": [
      "\r",
      "Train Epoch: 101 [41600/48625 (86%)]\tLoss: 7.351154\tTrain Prec@1 0.00 (0.66): : 654it [02:30,  4.34it/s]"
     ]
    },
    {
     "name": "stdout",
     "output_type": "stream",
     "text": [
      "\n"
     ]
    },
    {
     "name": "stderr",
     "output_type": "stream",
     "text": [
      "\r",
      "Train Epoch: 101 [41600/48625 (86%)]\tLoss: 7.351154\tTrain Prec@1 0.00 (0.66): : 655it [02:30,  4.34it/s]"
     ]
    },
    {
     "name": "stdout",
     "output_type": "stream",
     "text": [
      "\n"
     ]
    },
    {
     "name": "stderr",
     "output_type": "stream",
     "text": [
      "\r",
      "Train Epoch: 101 [41600/48625 (86%)]\tLoss: 7.351154\tTrain Prec@1 0.00 (0.66): : 656it [02:31,  4.34it/s]"
     ]
    },
    {
     "name": "stdout",
     "output_type": "stream",
     "text": [
      "\n"
     ]
    },
    {
     "name": "stderr",
     "output_type": "stream",
     "text": [
      "\r",
      "Train Epoch: 101 [41600/48625 (86%)]\tLoss: 7.351154\tTrain Prec@1 0.00 (0.66): : 657it [02:31,  4.34it/s]"
     ]
    },
    {
     "name": "stdout",
     "output_type": "stream",
     "text": [
      "\n"
     ]
    },
    {
     "name": "stderr",
     "output_type": "stream",
     "text": [
      "\r",
      "Train Epoch: 101 [41600/48625 (86%)]\tLoss: 7.351154\tTrain Prec@1 0.00 (0.66): : 658it [02:31,  4.34it/s]"
     ]
    },
    {
     "name": "stdout",
     "output_type": "stream",
     "text": [
      "\n"
     ]
    },
    {
     "name": "stderr",
     "output_type": "stream",
     "text": [
      "\r",
      "Train Epoch: 101 [41600/48625 (86%)]\tLoss: 7.351154\tTrain Prec@1 0.00 (0.66): : 659it [02:31,  4.34it/s]"
     ]
    },
    {
     "name": "stdout",
     "output_type": "stream",
     "text": [
      "\n"
     ]
    },
    {
     "name": "stderr",
     "output_type": "stream",
     "text": [
      "\r",
      "Train Epoch: 101 [41600/48625 (86%)]\tLoss: 7.351154\tTrain Prec@1 0.00 (0.66): : 660it [02:32,  4.34it/s]"
     ]
    },
    {
     "name": "stdout",
     "output_type": "stream",
     "text": [
      "\n"
     ]
    },
    {
     "name": "stderr",
     "output_type": "stream",
     "text": [
      "Train Epoch: 101 [42240/48625 (87%)]\tLoss: 7.436913\tTrain Prec@1 0.00 (0.65): : 661it [02:32,  4.34it/s]"
     ]
    },
    {
     "name": "stdout",
     "output_type": "stream",
     "text": [
      "\n"
     ]
    },
    {
     "name": "stderr",
     "output_type": "stream",
     "text": [
      "\r",
      "Train Epoch: 101 [42240/48625 (87%)]\tLoss: 7.436913\tTrain Prec@1 0.00 (0.65): : 662it [02:32,  4.34it/s]"
     ]
    },
    {
     "name": "stdout",
     "output_type": "stream",
     "text": [
      "\n"
     ]
    },
    {
     "name": "stderr",
     "output_type": "stream",
     "text": [
      "\r",
      "Train Epoch: 101 [42240/48625 (87%)]\tLoss: 7.436913\tTrain Prec@1 0.00 (0.65): : 663it [02:32,  4.34it/s]"
     ]
    },
    {
     "name": "stdout",
     "output_type": "stream",
     "text": [
      "\n"
     ]
    },
    {
     "name": "stderr",
     "output_type": "stream",
     "text": [
      "\r",
      "Train Epoch: 101 [42240/48625 (87%)]\tLoss: 7.436913\tTrain Prec@1 0.00 (0.65): : 664it [02:33,  4.34it/s]"
     ]
    },
    {
     "name": "stdout",
     "output_type": "stream",
     "text": [
      "\n"
     ]
    },
    {
     "name": "stderr",
     "output_type": "stream",
     "text": [
      "\r",
      "Train Epoch: 101 [42240/48625 (87%)]\tLoss: 7.436913\tTrain Prec@1 0.00 (0.65): : 665it [02:33,  4.34it/s]"
     ]
    },
    {
     "name": "stdout",
     "output_type": "stream",
     "text": [
      "\n"
     ]
    },
    {
     "name": "stderr",
     "output_type": "stream",
     "text": [
      "\r",
      "Train Epoch: 101 [42240/48625 (87%)]\tLoss: 7.436913\tTrain Prec@1 0.00 (0.65): : 666it [02:33,  4.34it/s]"
     ]
    },
    {
     "name": "stdout",
     "output_type": "stream",
     "text": [
      "\n"
     ]
    },
    {
     "name": "stderr",
     "output_type": "stream",
     "text": [
      "\r",
      "Train Epoch: 101 [42240/48625 (87%)]\tLoss: 7.436913\tTrain Prec@1 0.00 (0.65): : 667it [02:33,  4.34it/s]"
     ]
    },
    {
     "name": "stdout",
     "output_type": "stream",
     "text": [
      "\n"
     ]
    },
    {
     "name": "stderr",
     "output_type": "stream",
     "text": [
      "\r",
      "Train Epoch: 101 [42240/48625 (87%)]\tLoss: 7.436913\tTrain Prec@1 0.00 (0.65): : 668it [02:34,  4.34it/s]"
     ]
    },
    {
     "name": "stdout",
     "output_type": "stream",
     "text": [
      "\n"
     ]
    },
    {
     "name": "stderr",
     "output_type": "stream",
     "text": [
      "\r",
      "Train Epoch: 101 [42240/48625 (87%)]\tLoss: 7.436913\tTrain Prec@1 0.00 (0.65): : 669it [02:34,  4.34it/s]"
     ]
    },
    {
     "name": "stdout",
     "output_type": "stream",
     "text": [
      "\n"
     ]
    },
    {
     "name": "stderr",
     "output_type": "stream",
     "text": [
      "\r",
      "Train Epoch: 101 [42240/48625 (87%)]\tLoss: 7.436913\tTrain Prec@1 0.00 (0.65): : 670it [02:34,  4.34it/s]"
     ]
    },
    {
     "name": "stdout",
     "output_type": "stream",
     "text": [
      "\n"
     ]
    },
    {
     "name": "stderr",
     "output_type": "stream",
     "text": [
      "Train Epoch: 101 [42880/48625 (88%)]\tLoss: 7.501809\tTrain Prec@1 0.00 (0.67): : 671it [02:34,  4.34it/s]"
     ]
    },
    {
     "name": "stdout",
     "output_type": "stream",
     "text": [
      "\n"
     ]
    },
    {
     "name": "stderr",
     "output_type": "stream",
     "text": [
      "\r",
      "Train Epoch: 101 [42880/48625 (88%)]\tLoss: 7.501809\tTrain Prec@1 0.00 (0.67): : 672it [02:35,  4.34it/s]"
     ]
    },
    {
     "name": "stdout",
     "output_type": "stream",
     "text": [
      "\n"
     ]
    },
    {
     "name": "stderr",
     "output_type": "stream",
     "text": [
      "\r",
      "Train Epoch: 101 [42880/48625 (88%)]\tLoss: 7.501809\tTrain Prec@1 0.00 (0.67): : 673it [02:35,  4.34it/s]"
     ]
    },
    {
     "name": "stdout",
     "output_type": "stream",
     "text": [
      "\n"
     ]
    },
    {
     "name": "stderr",
     "output_type": "stream",
     "text": [
      "\r",
      "Train Epoch: 101 [42880/48625 (88%)]\tLoss: 7.501809\tTrain Prec@1 0.00 (0.67): : 674it [02:35,  4.34it/s]"
     ]
    },
    {
     "name": "stdout",
     "output_type": "stream",
     "text": [
      "\n"
     ]
    },
    {
     "name": "stderr",
     "output_type": "stream",
     "text": [
      "\r",
      "Train Epoch: 101 [42880/48625 (88%)]\tLoss: 7.501809\tTrain Prec@1 0.00 (0.67): : 675it [02:35,  4.33it/s]"
     ]
    },
    {
     "name": "stdout",
     "output_type": "stream",
     "text": [
      "\n"
     ]
    },
    {
     "name": "stderr",
     "output_type": "stream",
     "text": [
      "\r",
      "Train Epoch: 101 [42880/48625 (88%)]\tLoss: 7.501809\tTrain Prec@1 0.00 (0.67): : 676it [02:35,  4.34it/s]"
     ]
    },
    {
     "name": "stdout",
     "output_type": "stream",
     "text": [
      "\n"
     ]
    },
    {
     "name": "stderr",
     "output_type": "stream",
     "text": [
      "\r",
      "Train Epoch: 101 [42880/48625 (88%)]\tLoss: 7.501809\tTrain Prec@1 0.00 (0.67): : 677it [02:36,  4.33it/s]"
     ]
    },
    {
     "name": "stdout",
     "output_type": "stream",
     "text": [
      "\n"
     ]
    },
    {
     "name": "stderr",
     "output_type": "stream",
     "text": [
      "\r",
      "Train Epoch: 101 [42880/48625 (88%)]\tLoss: 7.501809\tTrain Prec@1 0.00 (0.67): : 678it [02:36,  4.34it/s]"
     ]
    },
    {
     "name": "stdout",
     "output_type": "stream",
     "text": [
      "\n"
     ]
    },
    {
     "name": "stderr",
     "output_type": "stream",
     "text": [
      "\r",
      "Train Epoch: 101 [42880/48625 (88%)]\tLoss: 7.501809\tTrain Prec@1 0.00 (0.67): : 679it [02:36,  4.33it/s]"
     ]
    },
    {
     "name": "stdout",
     "output_type": "stream",
     "text": [
      "\n"
     ]
    },
    {
     "name": "stderr",
     "output_type": "stream",
     "text": [
      "\r",
      "Train Epoch: 101 [42880/48625 (88%)]\tLoss: 7.501809\tTrain Prec@1 0.00 (0.67): : 680it [02:36,  4.33it/s]"
     ]
    },
    {
     "name": "stdout",
     "output_type": "stream",
     "text": [
      "\n"
     ]
    },
    {
     "name": "stderr",
     "output_type": "stream",
     "text": [
      "Train Epoch: 101 [43520/48625 (89%)]\tLoss: 7.322353\tTrain Prec@1 1.56 (0.67): : 681it [02:37,  4.33it/s]"
     ]
    },
    {
     "name": "stdout",
     "output_type": "stream",
     "text": [
      "\n"
     ]
    },
    {
     "name": "stderr",
     "output_type": "stream",
     "text": [
      "\r",
      "Train Epoch: 101 [43520/48625 (89%)]\tLoss: 7.322353\tTrain Prec@1 1.56 (0.67): : 682it [02:37,  4.33it/s]"
     ]
    },
    {
     "name": "stdout",
     "output_type": "stream",
     "text": [
      "\n"
     ]
    },
    {
     "name": "stderr",
     "output_type": "stream",
     "text": [
      "\r",
      "Train Epoch: 101 [43520/48625 (89%)]\tLoss: 7.322353\tTrain Prec@1 1.56 (0.67): : 683it [02:37,  4.33it/s]"
     ]
    },
    {
     "name": "stdout",
     "output_type": "stream",
     "text": [
      "\n"
     ]
    },
    {
     "name": "stderr",
     "output_type": "stream",
     "text": [
      "\r",
      "Train Epoch: 101 [43520/48625 (89%)]\tLoss: 7.322353\tTrain Prec@1 1.56 (0.67): : 684it [02:37,  4.33it/s]"
     ]
    },
    {
     "name": "stdout",
     "output_type": "stream",
     "text": [
      "\n"
     ]
    },
    {
     "name": "stderr",
     "output_type": "stream",
     "text": [
      "\r",
      "Train Epoch: 101 [43520/48625 (89%)]\tLoss: 7.322353\tTrain Prec@1 1.56 (0.67): : 685it [02:38,  4.33it/s]"
     ]
    },
    {
     "name": "stdout",
     "output_type": "stream",
     "text": [
      "\n"
     ]
    },
    {
     "name": "stderr",
     "output_type": "stream",
     "text": [
      "\r",
      "Train Epoch: 101 [43520/48625 (89%)]\tLoss: 7.322353\tTrain Prec@1 1.56 (0.67): : 686it [02:38,  4.33it/s]"
     ]
    },
    {
     "name": "stdout",
     "output_type": "stream",
     "text": [
      "\n"
     ]
    },
    {
     "name": "stderr",
     "output_type": "stream",
     "text": [
      "\r",
      "Train Epoch: 101 [43520/48625 (89%)]\tLoss: 7.322353\tTrain Prec@1 1.56 (0.67): : 687it [02:38,  4.33it/s]"
     ]
    },
    {
     "name": "stdout",
     "output_type": "stream",
     "text": [
      "\n"
     ]
    },
    {
     "name": "stderr",
     "output_type": "stream",
     "text": [
      "\r",
      "Train Epoch: 101 [43520/48625 (89%)]\tLoss: 7.322353\tTrain Prec@1 1.56 (0.67): : 688it [02:38,  4.33it/s]"
     ]
    },
    {
     "name": "stdout",
     "output_type": "stream",
     "text": [
      "\n"
     ]
    },
    {
     "name": "stderr",
     "output_type": "stream",
     "text": [
      "\r",
      "Train Epoch: 101 [43520/48625 (89%)]\tLoss: 7.322353\tTrain Prec@1 1.56 (0.67): : 689it [02:39,  4.33it/s]"
     ]
    },
    {
     "name": "stdout",
     "output_type": "stream",
     "text": [
      "\n"
     ]
    },
    {
     "name": "stderr",
     "output_type": "stream",
     "text": [
      "\r",
      "Train Epoch: 101 [43520/48625 (89%)]\tLoss: 7.322353\tTrain Prec@1 1.56 (0.67): : 690it [02:39,  4.33it/s]"
     ]
    },
    {
     "name": "stdout",
     "output_type": "stream",
     "text": [
      "\n"
     ]
    },
    {
     "name": "stderr",
     "output_type": "stream",
     "text": [
      "Train Epoch: 101 [44160/48625 (91%)]\tLoss: 7.136410\tTrain Prec@1 0.00 (0.67): : 691it [02:39,  4.33it/s]"
     ]
    },
    {
     "name": "stdout",
     "output_type": "stream",
     "text": [
      "\n"
     ]
    },
    {
     "name": "stderr",
     "output_type": "stream",
     "text": [
      "\r",
      "Train Epoch: 101 [44160/48625 (91%)]\tLoss: 7.136410\tTrain Prec@1 0.00 (0.67): : 692it [02:39,  4.33it/s]"
     ]
    },
    {
     "name": "stdout",
     "output_type": "stream",
     "text": [
      "\n"
     ]
    },
    {
     "name": "stderr",
     "output_type": "stream",
     "text": [
      "\r",
      "Train Epoch: 101 [44160/48625 (91%)]\tLoss: 7.136410\tTrain Prec@1 0.00 (0.67): : 693it [02:39,  4.33it/s]"
     ]
    },
    {
     "name": "stdout",
     "output_type": "stream",
     "text": [
      "\n"
     ]
    },
    {
     "name": "stderr",
     "output_type": "stream",
     "text": [
      "\r",
      "Train Epoch: 101 [44160/48625 (91%)]\tLoss: 7.136410\tTrain Prec@1 0.00 (0.67): : 694it [02:40,  4.33it/s]"
     ]
    },
    {
     "name": "stdout",
     "output_type": "stream",
     "text": [
      "\n"
     ]
    },
    {
     "name": "stderr",
     "output_type": "stream",
     "text": [
      "\r",
      "Train Epoch: 101 [44160/48625 (91%)]\tLoss: 7.136410\tTrain Prec@1 0.00 (0.67): : 695it [02:40,  4.33it/s]"
     ]
    },
    {
     "name": "stdout",
     "output_type": "stream",
     "text": [
      "\n"
     ]
    },
    {
     "name": "stderr",
     "output_type": "stream",
     "text": [
      "\r",
      "Train Epoch: 101 [44160/48625 (91%)]\tLoss: 7.136410\tTrain Prec@1 0.00 (0.67): : 696it [02:40,  4.33it/s]"
     ]
    },
    {
     "name": "stdout",
     "output_type": "stream",
     "text": [
      "\n"
     ]
    },
    {
     "name": "stderr",
     "output_type": "stream",
     "text": [
      "\r",
      "Train Epoch: 101 [44160/48625 (91%)]\tLoss: 7.136410\tTrain Prec@1 0.00 (0.67): : 697it [02:41,  4.33it/s]"
     ]
    },
    {
     "name": "stdout",
     "output_type": "stream",
     "text": [
      "\n"
     ]
    },
    {
     "name": "stderr",
     "output_type": "stream",
     "text": [
      "\r",
      "Train Epoch: 101 [44160/48625 (91%)]\tLoss: 7.136410\tTrain Prec@1 0.00 (0.67): : 698it [02:41,  4.32it/s]"
     ]
    },
    {
     "name": "stdout",
     "output_type": "stream",
     "text": [
      "\n"
     ]
    },
    {
     "name": "stderr",
     "output_type": "stream",
     "text": [
      "\r",
      "Train Epoch: 101 [44160/48625 (91%)]\tLoss: 7.136410\tTrain Prec@1 0.00 (0.67): : 699it [02:41,  4.32it/s]"
     ]
    },
    {
     "name": "stdout",
     "output_type": "stream",
     "text": [
      "\n"
     ]
    },
    {
     "name": "stderr",
     "output_type": "stream",
     "text": [
      "\r",
      "Train Epoch: 101 [44160/48625 (91%)]\tLoss: 7.136410\tTrain Prec@1 0.00 (0.67): : 700it [02:42,  4.32it/s]"
     ]
    },
    {
     "name": "stdout",
     "output_type": "stream",
     "text": [
      "\n"
     ]
    },
    {
     "name": "stderr",
     "output_type": "stream",
     "text": [
      "Train Epoch: 101 [44800/48625 (92%)]\tLoss: 7.359565\tTrain Prec@1 1.56 (0.68): : 701it [02:42,  4.32it/s]"
     ]
    },
    {
     "name": "stdout",
     "output_type": "stream",
     "text": [
      "\n"
     ]
    },
    {
     "name": "stderr",
     "output_type": "stream",
     "text": [
      "\r",
      "Train Epoch: 101 [44800/48625 (92%)]\tLoss: 7.359565\tTrain Prec@1 1.56 (0.68): : 702it [02:42,  4.32it/s]"
     ]
    },
    {
     "name": "stdout",
     "output_type": "stream",
     "text": [
      "\n"
     ]
    },
    {
     "name": "stderr",
     "output_type": "stream",
     "text": [
      "\r",
      "Train Epoch: 101 [44800/48625 (92%)]\tLoss: 7.359565\tTrain Prec@1 1.56 (0.68): : 703it [02:42,  4.31it/s]"
     ]
    },
    {
     "name": "stdout",
     "output_type": "stream",
     "text": [
      "\n"
     ]
    },
    {
     "name": "stderr",
     "output_type": "stream",
     "text": [
      "\r",
      "Train Epoch: 101 [44800/48625 (92%)]\tLoss: 7.359565\tTrain Prec@1 1.56 (0.68): : 704it [02:43,  4.31it/s]"
     ]
    },
    {
     "name": "stdout",
     "output_type": "stream",
     "text": [
      "\n"
     ]
    },
    {
     "name": "stderr",
     "output_type": "stream",
     "text": [
      "\r",
      "Train Epoch: 101 [44800/48625 (92%)]\tLoss: 7.359565\tTrain Prec@1 1.56 (0.68): : 705it [02:43,  4.31it/s]"
     ]
    },
    {
     "name": "stdout",
     "output_type": "stream",
     "text": [
      "\n"
     ]
    },
    {
     "name": "stderr",
     "output_type": "stream",
     "text": [
      "\r",
      "Train Epoch: 101 [44800/48625 (92%)]\tLoss: 7.359565\tTrain Prec@1 1.56 (0.68): : 706it [02:43,  4.31it/s]"
     ]
    },
    {
     "name": "stdout",
     "output_type": "stream",
     "text": [
      "\n"
     ]
    },
    {
     "name": "stderr",
     "output_type": "stream",
     "text": [
      "\r",
      "Train Epoch: 101 [44800/48625 (92%)]\tLoss: 7.359565\tTrain Prec@1 1.56 (0.68): : 707it [02:44,  4.31it/s]"
     ]
    },
    {
     "name": "stdout",
     "output_type": "stream",
     "text": [
      "\n"
     ]
    },
    {
     "name": "stderr",
     "output_type": "stream",
     "text": [
      "\r",
      "Train Epoch: 101 [44800/48625 (92%)]\tLoss: 7.359565\tTrain Prec@1 1.56 (0.68): : 708it [02:44,  4.31it/s]"
     ]
    },
    {
     "name": "stdout",
     "output_type": "stream",
     "text": [
      "\n"
     ]
    },
    {
     "name": "stderr",
     "output_type": "stream",
     "text": [
      "\r",
      "Train Epoch: 101 [44800/48625 (92%)]\tLoss: 7.359565\tTrain Prec@1 1.56 (0.68): : 709it [02:44,  4.30it/s]"
     ]
    },
    {
     "name": "stdout",
     "output_type": "stream",
     "text": [
      "\n"
     ]
    },
    {
     "name": "stderr",
     "output_type": "stream",
     "text": [
      "\r",
      "Train Epoch: 101 [44800/48625 (92%)]\tLoss: 7.359565\tTrain Prec@1 1.56 (0.68): : 710it [02:45,  4.30it/s]"
     ]
    },
    {
     "name": "stdout",
     "output_type": "stream",
     "text": [
      "\n"
     ]
    },
    {
     "name": "stderr",
     "output_type": "stream",
     "text": [
      "Train Epoch: 101 [45440/48625 (93%)]\tLoss: 7.430336\tTrain Prec@1 0.00 (0.68): : 711it [02:45,  4.30it/s]"
     ]
    },
    {
     "name": "stdout",
     "output_type": "stream",
     "text": [
      "\n"
     ]
    },
    {
     "name": "stderr",
     "output_type": "stream",
     "text": [
      "\r",
      "Train Epoch: 101 [45440/48625 (93%)]\tLoss: 7.430336\tTrain Prec@1 0.00 (0.68): : 712it [02:45,  4.30it/s]"
     ]
    },
    {
     "name": "stdout",
     "output_type": "stream",
     "text": [
      "\n"
     ]
    },
    {
     "name": "stderr",
     "output_type": "stream",
     "text": [
      "\r",
      "Train Epoch: 101 [45440/48625 (93%)]\tLoss: 7.430336\tTrain Prec@1 0.00 (0.68): : 713it [02:45,  4.30it/s]"
     ]
    },
    {
     "name": "stdout",
     "output_type": "stream",
     "text": [
      "\n"
     ]
    },
    {
     "name": "stderr",
     "output_type": "stream",
     "text": [
      "\r",
      "Train Epoch: 101 [45440/48625 (93%)]\tLoss: 7.430336\tTrain Prec@1 0.00 (0.68): : 714it [02:46,  4.29it/s]"
     ]
    },
    {
     "name": "stdout",
     "output_type": "stream",
     "text": [
      "\n"
     ]
    },
    {
     "name": "stderr",
     "output_type": "stream",
     "text": [
      "\r",
      "Train Epoch: 101 [45440/48625 (93%)]\tLoss: 7.430336\tTrain Prec@1 0.00 (0.68): : 715it [02:46,  4.29it/s]"
     ]
    },
    {
     "name": "stdout",
     "output_type": "stream",
     "text": [
      "\n"
     ]
    },
    {
     "name": "stderr",
     "output_type": "stream",
     "text": [
      "\r",
      "Train Epoch: 101 [45440/48625 (93%)]\tLoss: 7.430336\tTrain Prec@1 0.00 (0.68): : 716it [02:46,  4.29it/s]"
     ]
    },
    {
     "name": "stdout",
     "output_type": "stream",
     "text": [
      "\n"
     ]
    },
    {
     "name": "stderr",
     "output_type": "stream",
     "text": [
      "\r",
      "Train Epoch: 101 [45440/48625 (93%)]\tLoss: 7.430336\tTrain Prec@1 0.00 (0.68): : 717it [02:47,  4.29it/s]"
     ]
    },
    {
     "name": "stdout",
     "output_type": "stream",
     "text": [
      "\n"
     ]
    },
    {
     "name": "stderr",
     "output_type": "stream",
     "text": [
      "\r",
      "Train Epoch: 101 [45440/48625 (93%)]\tLoss: 7.430336\tTrain Prec@1 0.00 (0.68): : 718it [02:47,  4.29it/s]"
     ]
    },
    {
     "name": "stdout",
     "output_type": "stream",
     "text": [
      "\n"
     ]
    },
    {
     "name": "stderr",
     "output_type": "stream",
     "text": [
      "\r",
      "Train Epoch: 101 [45440/48625 (93%)]\tLoss: 7.430336\tTrain Prec@1 0.00 (0.68): : 719it [02:47,  4.29it/s]"
     ]
    },
    {
     "name": "stdout",
     "output_type": "stream",
     "text": [
      "\n"
     ]
    },
    {
     "name": "stderr",
     "output_type": "stream",
     "text": [
      "\r",
      "Train Epoch: 101 [45440/48625 (93%)]\tLoss: 7.430336\tTrain Prec@1 0.00 (0.68): : 720it [02:48,  4.28it/s]"
     ]
    },
    {
     "name": "stdout",
     "output_type": "stream",
     "text": [
      "\n"
     ]
    },
    {
     "name": "stderr",
     "output_type": "stream",
     "text": [
      "Train Epoch: 101 [46080/48625 (95%)]\tLoss: 7.402371\tTrain Prec@1 3.12 (0.70): : 721it [02:48,  4.28it/s]"
     ]
    },
    {
     "name": "stdout",
     "output_type": "stream",
     "text": [
      "\n"
     ]
    },
    {
     "name": "stderr",
     "output_type": "stream",
     "text": [
      "\r",
      "Train Epoch: 101 [46080/48625 (95%)]\tLoss: 7.402371\tTrain Prec@1 3.12 (0.70): : 722it [02:48,  4.28it/s]"
     ]
    },
    {
     "name": "stdout",
     "output_type": "stream",
     "text": [
      "\n"
     ]
    },
    {
     "name": "stderr",
     "output_type": "stream",
     "text": [
      "\r",
      "Train Epoch: 101 [46080/48625 (95%)]\tLoss: 7.402371\tTrain Prec@1 3.12 (0.70): : 723it [02:48,  4.28it/s]"
     ]
    },
    {
     "name": "stdout",
     "output_type": "stream",
     "text": [
      "\n"
     ]
    },
    {
     "name": "stderr",
     "output_type": "stream",
     "text": [
      "\r",
      "Train Epoch: 101 [46080/48625 (95%)]\tLoss: 7.402371\tTrain Prec@1 3.12 (0.70): : 724it [02:49,  4.28it/s]"
     ]
    },
    {
     "name": "stdout",
     "output_type": "stream",
     "text": [
      "\n",
      "\n"
     ]
    },
    {
     "name": "stderr",
     "output_type": "stream",
     "text": [
      "Train Epoch: 101 [46080/48625 (95%)]\tLoss: 7.402371\tTrain Prec@1 3.12 (0.70): : 726it [02:49,  4.28it/s]"
     ]
    },
    {
     "name": "stdout",
     "output_type": "stream",
     "text": [
      "\n",
      "\n"
     ]
    },
    {
     "name": "stderr",
     "output_type": "stream",
     "text": [
      "Train Epoch: 101 [46080/48625 (95%)]\tLoss: 7.402371\tTrain Prec@1 3.12 (0.70): : 728it [02:50,  4.28it/s]"
     ]
    },
    {
     "name": "stdout",
     "output_type": "stream",
     "text": [
      "\n",
      "\n"
     ]
    },
    {
     "name": "stderr",
     "output_type": "stream",
     "text": [
      "Train Epoch: 101 [46080/48625 (95%)]\tLoss: 7.402371\tTrain Prec@1 3.12 (0.70): : 730it [02:50,  4.28it/s]"
     ]
    },
    {
     "name": "stdout",
     "output_type": "stream",
     "text": [
      "\n",
      "\n"
     ]
    },
    {
     "name": "stderr",
     "output_type": "stream",
     "text": [
      "Train Epoch: 101 [46720/48625 (96%)]\tLoss: 7.352331\tTrain Prec@1 0.00 (0.71): : 732it [02:51,  4.28it/s]"
     ]
    },
    {
     "name": "stdout",
     "output_type": "stream",
     "text": [
      "\n",
      "\n"
     ]
    },
    {
     "name": "stderr",
     "output_type": "stream",
     "text": [
      "Train Epoch: 101 [46720/48625 (96%)]\tLoss: 7.352331\tTrain Prec@1 0.00 (0.71): : 734it [02:51,  4.28it/s]"
     ]
    },
    {
     "name": "stdout",
     "output_type": "stream",
     "text": [
      "\n",
      "\n"
     ]
    },
    {
     "name": "stderr",
     "output_type": "stream",
     "text": [
      "Train Epoch: 101 [46720/48625 (96%)]\tLoss: 7.352331\tTrain Prec@1 0.00 (0.71): : 736it [02:52,  4.28it/s]"
     ]
    },
    {
     "name": "stdout",
     "output_type": "stream",
     "text": [
      "\n",
      "\n"
     ]
    },
    {
     "name": "stderr",
     "output_type": "stream",
     "text": [
      "Train Epoch: 101 [46720/48625 (96%)]\tLoss: 7.352331\tTrain Prec@1 0.00 (0.71): : 738it [02:52,  4.28it/s]"
     ]
    },
    {
     "name": "stdout",
     "output_type": "stream",
     "text": [
      "\n",
      "\n"
     ]
    },
    {
     "name": "stderr",
     "output_type": "stream",
     "text": [
      "Train Epoch: 101 [46720/48625 (96%)]\tLoss: 7.352331\tTrain Prec@1 0.00 (0.71): : 740it [02:52,  4.28it/s]"
     ]
    },
    {
     "name": "stdout",
     "output_type": "stream",
     "text": [
      "\n",
      "\n"
     ]
    },
    {
     "name": "stderr",
     "output_type": "stream",
     "text": [
      "Train Epoch: 101 [47360/48625 (97%)]\tLoss: 7.165152\tTrain Prec@1 1.56 (0.72): : 742it [02:53,  4.28it/s]"
     ]
    },
    {
     "name": "stdout",
     "output_type": "stream",
     "text": [
      "\n",
      "\n"
     ]
    },
    {
     "name": "stderr",
     "output_type": "stream",
     "text": [
      "Train Epoch: 101 [47360/48625 (97%)]\tLoss: 7.165152\tTrain Prec@1 1.56 (0.72): : 744it [02:53,  4.28it/s]"
     ]
    },
    {
     "name": "stdout",
     "output_type": "stream",
     "text": [
      "\n",
      "\n"
     ]
    },
    {
     "name": "stderr",
     "output_type": "stream",
     "text": [
      "Train Epoch: 101 [47360/48625 (97%)]\tLoss: 7.165152\tTrain Prec@1 1.56 (0.72): : 746it [02:54,  4.28it/s]"
     ]
    },
    {
     "name": "stdout",
     "output_type": "stream",
     "text": [
      "\n",
      "\n"
     ]
    },
    {
     "name": "stderr",
     "output_type": "stream",
     "text": [
      "Train Epoch: 101 [47360/48625 (97%)]\tLoss: 7.165152\tTrain Prec@1 1.56 (0.72): : 748it [02:54,  4.28it/s]"
     ]
    },
    {
     "name": "stdout",
     "output_type": "stream",
     "text": [
      "\n",
      "\n"
     ]
    },
    {
     "name": "stderr",
     "output_type": "stream",
     "text": [
      "Train Epoch: 101 [47360/48625 (97%)]\tLoss: 7.165152\tTrain Prec@1 1.56 (0.72): : 750it [02:55,  4.28it/s]"
     ]
    },
    {
     "name": "stdout",
     "output_type": "stream",
     "text": [
      "\n"
     ]
    },
    {
     "name": "stderr",
     "output_type": "stream",
     "text": [
      "Train Epoch: 101 [48000/48625 (99%)]\tLoss: 7.294973\tTrain Prec@1 0.00 (0.72): : 752it [02:55,  4.28it/s]"
     ]
    },
    {
     "name": "stdout",
     "output_type": "stream",
     "text": [
      "\n",
      "\n",
      "\n"
     ]
    },
    {
     "name": "stderr",
     "output_type": "stream",
     "text": [
      "Train Epoch: 101 [48000/48625 (99%)]\tLoss: 7.294973\tTrain Prec@1 0.00 (0.72): : 754it [02:56,  4.28it/s]"
     ]
    },
    {
     "name": "stdout",
     "output_type": "stream",
     "text": [
      "\n",
      "\n"
     ]
    },
    {
     "name": "stderr",
     "output_type": "stream",
     "text": [
      "Train Epoch: 101 [48000/48625 (99%)]\tLoss: 7.294973\tTrain Prec@1 0.00 (0.72): : 756it [02:56,  4.28it/s]"
     ]
    },
    {
     "name": "stdout",
     "output_type": "stream",
     "text": [
      "\n",
      "\n"
     ]
    },
    {
     "name": "stderr",
     "output_type": "stream",
     "text": [
      "Train Epoch: 101 [48000/48625 (99%)]\tLoss: 7.294973\tTrain Prec@1 0.00 (0.72): : 758it [02:57,  4.28it/s]"
     ]
    },
    {
     "name": "stdout",
     "output_type": "stream",
     "text": [
      "\n"
     ]
    },
    {
     "name": "stderr",
     "output_type": "stream",
     "text": [
      "Train Epoch: 101 [48000/48625 (99%)]\tLoss: 7.294973\tTrain Prec@1 0.00 (0.72): : 760it [02:57,  4.28it/s]\n"
     ]
    },
    {
     "name": "stdout",
     "output_type": "stream",
     "text": [
      "\n",
      "\n"
     ]
    },
    {
     "name": "stderr",
     "output_type": "stream",
     "text": [
      "Test Epoch: 101 [5760/6000 (96%)]: : 94it [01:16,  1.24it/s]\n"
     ]
    },
    {
     "name": "stdout",
     "output_type": "stream",
     "text": [
      "\u001b[91mTest set: Accuracy: 0.62050000\n",
      "\u001b[0m\n"
     ]
    },
    {
     "name": "stderr",
     "output_type": "stream",
     "text": [
      "Test Epoch: 101 [9600/9808 (97%)]\tTest Prec@1 0.00 (1.60): : 154it [00:30,  5.04it/s]\n",
      "Train Epoch: 102 [0/48625 (0%)]\tLoss: 7.130311\tTrain Prec@1 4.69 (4.69): : 1it [00:00,  1.90it/s]"
     ]
    },
    {
     "name": "stdout",
     "output_type": "stream",
     "text": [
      "\n",
      "\n"
     ]
    },
    {
     "name": "stderr",
     "output_type": "stream",
     "text": [
      "Train Epoch: 102 [0/48625 (0%)]\tLoss: 7.130311\tTrain Prec@1 4.69 (4.69): : 3it [00:00,  3.17it/s]"
     ]
    },
    {
     "name": "stdout",
     "output_type": "stream",
     "text": [
      "\n",
      "\n"
     ]
    },
    {
     "name": "stderr",
     "output_type": "stream",
     "text": [
      "Train Epoch: 102 [0/48625 (0%)]\tLoss: 7.130311\tTrain Prec@1 4.69 (4.69): : 5it [00:01,  3.51it/s]"
     ]
    },
    {
     "name": "stdout",
     "output_type": "stream",
     "text": [
      "\n",
      "\n"
     ]
    },
    {
     "name": "stderr",
     "output_type": "stream",
     "text": [
      "Train Epoch: 102 [0/48625 (0%)]\tLoss: 7.130311\tTrain Prec@1 4.69 (4.69): : 7it [00:01,  3.74it/s]"
     ]
    },
    {
     "name": "stdout",
     "output_type": "stream",
     "text": [
      "\n",
      "\n"
     ]
    },
    {
     "name": "stderr",
     "output_type": "stream",
     "text": [
      "Train Epoch: 102 [0/48625 (0%)]\tLoss: 7.130311\tTrain Prec@1 4.69 (4.69): : 9it [00:02,  3.84it/s]"
     ]
    },
    {
     "name": "stdout",
     "output_type": "stream",
     "text": [
      "\n",
      "\n"
     ]
    },
    {
     "name": "stderr",
     "output_type": "stream",
     "text": [
      "Train Epoch: 102 [640/48625 (1%)]\tLoss: 6.650970\tTrain Prec@1 6.25 (3.12): : 11it [00:02,  3.90it/s]"
     ]
    },
    {
     "name": "stdout",
     "output_type": "stream",
     "text": [
      "\n",
      "\n"
     ]
    },
    {
     "name": "stderr",
     "output_type": "stream",
     "text": [
      "Train Epoch: 102 [640/48625 (1%)]\tLoss: 6.650970\tTrain Prec@1 6.25 (3.12): : 13it [00:03,  3.99it/s]"
     ]
    },
    {
     "name": "stdout",
     "output_type": "stream",
     "text": [
      "\n",
      "\n"
     ]
    },
    {
     "name": "stderr",
     "output_type": "stream",
     "text": [
      "Train Epoch: 102 [640/48625 (1%)]\tLoss: 6.650970\tTrain Prec@1 6.25 (3.12): : 15it [00:03,  4.04it/s]"
     ]
    },
    {
     "name": "stdout",
     "output_type": "stream",
     "text": [
      "\n",
      "\n"
     ]
    },
    {
     "name": "stderr",
     "output_type": "stream",
     "text": [
      "Train Epoch: 102 [640/48625 (1%)]\tLoss: 6.650970\tTrain Prec@1 6.25 (3.12): : 17it [00:04,  4.07it/s]"
     ]
    },
    {
     "name": "stdout",
     "output_type": "stream",
     "text": [
      "\n",
      "\n"
     ]
    },
    {
     "name": "stderr",
     "output_type": "stream",
     "text": [
      "Train Epoch: 102 [640/48625 (1%)]\tLoss: 6.650970\tTrain Prec@1 6.25 (3.12): : 19it [00:04,  4.11it/s]"
     ]
    },
    {
     "name": "stdout",
     "output_type": "stream",
     "text": [
      "\n",
      "\n"
     ]
    },
    {
     "name": "stderr",
     "output_type": "stream",
     "text": [
      "Train Epoch: 102 [1280/48625 (3%)]\tLoss: 7.009830\tTrain Prec@1 0.00 (2.46): : 21it [00:05,  4.09it/s]"
     ]
    },
    {
     "name": "stdout",
     "output_type": "stream",
     "text": [
      "\n",
      "\n"
     ]
    },
    {
     "name": "stderr",
     "output_type": "stream",
     "text": [
      "Train Epoch: 102 [1280/48625 (3%)]\tLoss: 7.009830\tTrain Prec@1 0.00 (2.46): : 23it [00:05,  4.14it/s]"
     ]
    },
    {
     "name": "stdout",
     "output_type": "stream",
     "text": [
      "\n",
      "\n"
     ]
    },
    {
     "name": "stderr",
     "output_type": "stream",
     "text": [
      "Train Epoch: 102 [1280/48625 (3%)]\tLoss: 7.009830\tTrain Prec@1 0.00 (2.46): : 25it [00:06,  4.13it/s]"
     ]
    },
    {
     "name": "stdout",
     "output_type": "stream",
     "text": [
      "\n",
      "\n"
     ]
    },
    {
     "name": "stderr",
     "output_type": "stream",
     "text": [
      "Train Epoch: 102 [1280/48625 (3%)]\tLoss: 7.009830\tTrain Prec@1 0.00 (2.46): : 27it [00:06,  4.15it/s]"
     ]
    },
    {
     "name": "stdout",
     "output_type": "stream",
     "text": [
      "\n",
      "\n"
     ]
    },
    {
     "name": "stderr",
     "output_type": "stream",
     "text": [
      "Train Epoch: 102 [1280/48625 (3%)]\tLoss: 7.009830\tTrain Prec@1 0.00 (2.46): : 29it [00:06,  4.16it/s]"
     ]
    },
    {
     "name": "stdout",
     "output_type": "stream",
     "text": [
      "\n",
      "\n"
     ]
    },
    {
     "name": "stderr",
     "output_type": "stream",
     "text": [
      "Train Epoch: 102 [1920/48625 (4%)]\tLoss: 6.613790\tTrain Prec@1 6.25 (2.57): : 31it [00:07,  4.15it/s]"
     ]
    },
    {
     "name": "stdout",
     "output_type": "stream",
     "text": [
      "\n",
      "\n"
     ]
    },
    {
     "name": "stderr",
     "output_type": "stream",
     "text": [
      "Train Epoch: 102 [1920/48625 (4%)]\tLoss: 6.613790\tTrain Prec@1 6.25 (2.57): : 33it [00:07,  4.17it/s]"
     ]
    },
    {
     "name": "stdout",
     "output_type": "stream",
     "text": [
      "\n",
      "\n"
     ]
    },
    {
     "name": "stderr",
     "output_type": "stream",
     "text": [
      "Train Epoch: 102 [1920/48625 (4%)]\tLoss: 6.613790\tTrain Prec@1 6.25 (2.57): : 35it [00:08,  4.18it/s]"
     ]
    },
    {
     "name": "stdout",
     "output_type": "stream",
     "text": [
      "\n",
      "\n"
     ]
    },
    {
     "name": "stderr",
     "output_type": "stream",
     "text": [
      "Train Epoch: 102 [1920/48625 (4%)]\tLoss: 6.613790\tTrain Prec@1 6.25 (2.57): : 37it [00:08,  4.18it/s]"
     ]
    },
    {
     "name": "stdout",
     "output_type": "stream",
     "text": [
      "\n",
      "\n"
     ]
    },
    {
     "name": "stderr",
     "output_type": "stream",
     "text": [
      "Train Epoch: 102 [1920/48625 (4%)]\tLoss: 6.613790\tTrain Prec@1 6.25 (2.57): : 39it [00:09,  4.19it/s]"
     ]
    },
    {
     "name": "stdout",
     "output_type": "stream",
     "text": [
      "\n",
      "\n"
     ]
    },
    {
     "name": "stderr",
     "output_type": "stream",
     "text": [
      "Train Epoch: 102 [2560/48625 (5%)]\tLoss: 6.582483\tTrain Prec@1 4.69 (2.59): : 41it [00:09,  4.18it/s]"
     ]
    },
    {
     "name": "stdout",
     "output_type": "stream",
     "text": [
      "\n",
      "\n"
     ]
    },
    {
     "name": "stderr",
     "output_type": "stream",
     "text": [
      "Train Epoch: 102 [2560/48625 (5%)]\tLoss: 6.582483\tTrain Prec@1 4.69 (2.59): : 43it [00:10,  4.19it/s]"
     ]
    },
    {
     "name": "stdout",
     "output_type": "stream",
     "text": [
      "\n",
      "\n"
     ]
    },
    {
     "name": "stderr",
     "output_type": "stream",
     "text": [
      "Train Epoch: 102 [2560/48625 (5%)]\tLoss: 6.582483\tTrain Prec@1 4.69 (2.59): : 45it [00:10,  4.20it/s]"
     ]
    },
    {
     "name": "stdout",
     "output_type": "stream",
     "text": [
      "\n",
      "\n"
     ]
    },
    {
     "name": "stderr",
     "output_type": "stream",
     "text": [
      "Train Epoch: 102 [2560/48625 (5%)]\tLoss: 6.582483\tTrain Prec@1 4.69 (2.59): : 47it [00:11,  4.21it/s]"
     ]
    },
    {
     "name": "stdout",
     "output_type": "stream",
     "text": [
      "\n",
      "\n"
     ]
    },
    {
     "name": "stderr",
     "output_type": "stream",
     "text": [
      "Train Epoch: 102 [2560/48625 (5%)]\tLoss: 6.582483\tTrain Prec@1 4.69 (2.59): : 49it [00:11,  4.21it/s]"
     ]
    },
    {
     "name": "stdout",
     "output_type": "stream",
     "text": [
      "\n",
      "\n"
     ]
    },
    {
     "name": "stderr",
     "output_type": "stream",
     "text": [
      "Train Epoch: 102 [3200/48625 (7%)]\tLoss: 6.669668\tTrain Prec@1 1.56 (2.67): : 51it [00:12,  4.21it/s]"
     ]
    },
    {
     "name": "stdout",
     "output_type": "stream",
     "text": [
      "\n",
      "\n"
     ]
    },
    {
     "name": "stderr",
     "output_type": "stream",
     "text": [
      "Train Epoch: 102 [3200/48625 (7%)]\tLoss: 6.669668\tTrain Prec@1 1.56 (2.67): : 53it [00:12,  4.22it/s]"
     ]
    },
    {
     "name": "stdout",
     "output_type": "stream",
     "text": [
      "\n",
      "\n"
     ]
    },
    {
     "name": "stderr",
     "output_type": "stream",
     "text": [
      "Train Epoch: 102 [3200/48625 (7%)]\tLoss: 6.669668\tTrain Prec@1 1.56 (2.67): : 55it [00:13,  4.22it/s]"
     ]
    },
    {
     "name": "stdout",
     "output_type": "stream",
     "text": [
      "\n",
      "\n"
     ]
    },
    {
     "name": "stderr",
     "output_type": "stream",
     "text": [
      "Train Epoch: 102 [3200/48625 (7%)]\tLoss: 6.669668\tTrain Prec@1 1.56 (2.67): : 57it [00:13,  4.22it/s]"
     ]
    },
    {
     "name": "stdout",
     "output_type": "stream",
     "text": [
      "\n",
      "\n"
     ]
    },
    {
     "name": "stderr",
     "output_type": "stream",
     "text": [
      "Train Epoch: 102 [3200/48625 (7%)]\tLoss: 6.669668\tTrain Prec@1 1.56 (2.67): : 59it [00:13,  4.22it/s]"
     ]
    },
    {
     "name": "stdout",
     "output_type": "stream",
     "text": [
      "\n",
      "\n"
     ]
    },
    {
     "name": "stderr",
     "output_type": "stream",
     "text": [
      "Train Epoch: 102 [3840/48625 (8%)]\tLoss: 6.791300\tTrain Prec@1 1.56 (2.56): : 61it [00:14,  4.22it/s]"
     ]
    },
    {
     "name": "stdout",
     "output_type": "stream",
     "text": [
      "\n",
      "\n"
     ]
    },
    {
     "name": "stderr",
     "output_type": "stream",
     "text": [
      "Train Epoch: 102 [3840/48625 (8%)]\tLoss: 6.791300\tTrain Prec@1 1.56 (2.56): : 63it [00:14,  4.22it/s]"
     ]
    },
    {
     "name": "stdout",
     "output_type": "stream",
     "text": [
      "\n",
      "\n"
     ]
    },
    {
     "name": "stderr",
     "output_type": "stream",
     "text": [
      "Train Epoch: 102 [3840/48625 (8%)]\tLoss: 6.791300\tTrain Prec@1 1.56 (2.56): : 65it [00:15,  4.23it/s]"
     ]
    },
    {
     "name": "stdout",
     "output_type": "stream",
     "text": [
      "\n",
      "\n"
     ]
    },
    {
     "name": "stderr",
     "output_type": "stream",
     "text": [
      "Train Epoch: 102 [3840/48625 (8%)]\tLoss: 6.791300\tTrain Prec@1 1.56 (2.56): : 67it [00:15,  4.23it/s]"
     ]
    },
    {
     "name": "stdout",
     "output_type": "stream",
     "text": [
      "\n",
      "\n"
     ]
    },
    {
     "name": "stderr",
     "output_type": "stream",
     "text": [
      "Train Epoch: 102 [3840/48625 (8%)]\tLoss: 6.791300\tTrain Prec@1 1.56 (2.56): : 69it [00:16,  4.23it/s]"
     ]
    },
    {
     "name": "stdout",
     "output_type": "stream",
     "text": [
      "\n",
      "\n"
     ]
    },
    {
     "name": "stderr",
     "output_type": "stream",
     "text": [
      "Train Epoch: 102 [4480/48625 (9%)]\tLoss: 6.978479\tTrain Prec@1 1.56 (2.53): : 71it [00:16,  4.23it/s]"
     ]
    },
    {
     "name": "stdout",
     "output_type": "stream",
     "text": [
      "\n",
      "\n"
     ]
    },
    {
     "name": "stderr",
     "output_type": "stream",
     "text": [
      "Train Epoch: 102 [4480/48625 (9%)]\tLoss: 6.978479\tTrain Prec@1 1.56 (2.53): : 73it [00:17,  4.23it/s]"
     ]
    },
    {
     "name": "stdout",
     "output_type": "stream",
     "text": [
      "\n",
      "\n"
     ]
    },
    {
     "name": "stderr",
     "output_type": "stream",
     "text": [
      "Train Epoch: 102 [4480/48625 (9%)]\tLoss: 6.978479\tTrain Prec@1 1.56 (2.53): : 75it [00:17,  4.24it/s]"
     ]
    },
    {
     "name": "stdout",
     "output_type": "stream",
     "text": [
      "\n",
      "\n"
     ]
    },
    {
     "name": "stderr",
     "output_type": "stream",
     "text": [
      "Train Epoch: 102 [4480/48625 (9%)]\tLoss: 6.978479\tTrain Prec@1 1.56 (2.53): : 77it [00:18,  4.24it/s]"
     ]
    },
    {
     "name": "stdout",
     "output_type": "stream",
     "text": [
      "\n",
      "\n"
     ]
    },
    {
     "name": "stderr",
     "output_type": "stream",
     "text": [
      "Train Epoch: 102 [4480/48625 (9%)]\tLoss: 6.978479\tTrain Prec@1 1.56 (2.53): : 79it [00:18,  4.24it/s]"
     ]
    },
    {
     "name": "stdout",
     "output_type": "stream",
     "text": [
      "\n",
      "\n"
     ]
    },
    {
     "name": "stderr",
     "output_type": "stream",
     "text": [
      "Train Epoch: 102 [5120/48625 (11%)]\tLoss: 6.750871\tTrain Prec@1 3.12 (2.49): : 81it [00:19,  4.25it/s]"
     ]
    },
    {
     "name": "stdout",
     "output_type": "stream",
     "text": [
      "\n",
      "\n"
     ]
    },
    {
     "name": "stderr",
     "output_type": "stream",
     "text": [
      "Train Epoch: 102 [5120/48625 (11%)]\tLoss: 6.750871\tTrain Prec@1 3.12 (2.49): : 83it [00:19,  4.25it/s]"
     ]
    },
    {
     "name": "stdout",
     "output_type": "stream",
     "text": [
      "\n",
      "\n"
     ]
    },
    {
     "name": "stderr",
     "output_type": "stream",
     "text": [
      "Train Epoch: 102 [5120/48625 (11%)]\tLoss: 6.750871\tTrain Prec@1 3.12 (2.49): : 85it [00:19,  4.26it/s]"
     ]
    },
    {
     "name": "stdout",
     "output_type": "stream",
     "text": [
      "\n",
      "\n"
     ]
    },
    {
     "name": "stderr",
     "output_type": "stream",
     "text": [
      "Train Epoch: 102 [5120/48625 (11%)]\tLoss: 6.750871\tTrain Prec@1 3.12 (2.49): : 87it [00:20,  4.26it/s]"
     ]
    },
    {
     "name": "stdout",
     "output_type": "stream",
     "text": [
      "\n",
      "\n"
     ]
    },
    {
     "name": "stderr",
     "output_type": "stream",
     "text": [
      "Train Epoch: 102 [5120/48625 (11%)]\tLoss: 6.750871\tTrain Prec@1 3.12 (2.49): : 89it [00:20,  4.26it/s]"
     ]
    },
    {
     "name": "stdout",
     "output_type": "stream",
     "text": [
      "\n",
      "\n"
     ]
    },
    {
     "name": "stderr",
     "output_type": "stream",
     "text": [
      "Train Epoch: 102 [5760/48625 (12%)]\tLoss: 6.809281\tTrain Prec@1 4.69 (2.40): : 91it [00:21,  4.26it/s]"
     ]
    },
    {
     "name": "stdout",
     "output_type": "stream",
     "text": [
      "\n",
      "\n"
     ]
    },
    {
     "name": "stderr",
     "output_type": "stream",
     "text": [
      "Train Epoch: 102 [5760/48625 (12%)]\tLoss: 6.809281\tTrain Prec@1 4.69 (2.40): : 93it [00:21,  4.26it/s]"
     ]
    },
    {
     "name": "stdout",
     "output_type": "stream",
     "text": [
      "\n",
      "\n"
     ]
    },
    {
     "name": "stderr",
     "output_type": "stream",
     "text": [
      "Train Epoch: 102 [5760/48625 (12%)]\tLoss: 6.809281\tTrain Prec@1 4.69 (2.40): : 95it [00:22,  4.27it/s]"
     ]
    },
    {
     "name": "stdout",
     "output_type": "stream",
     "text": [
      "\n",
      "\n"
     ]
    },
    {
     "name": "stderr",
     "output_type": "stream",
     "text": [
      "Train Epoch: 102 [5760/48625 (12%)]\tLoss: 6.809281\tTrain Prec@1 4.69 (2.40): : 97it [00:22,  4.26it/s]"
     ]
    },
    {
     "name": "stdout",
     "output_type": "stream",
     "text": [
      "\n",
      "\n"
     ]
    },
    {
     "name": "stderr",
     "output_type": "stream",
     "text": [
      "Train Epoch: 102 [5760/48625 (12%)]\tLoss: 6.809281\tTrain Prec@1 4.69 (2.40): : 99it [00:23,  4.27it/s]"
     ]
    },
    {
     "name": "stdout",
     "output_type": "stream",
     "text": [
      "\n",
      "\n"
     ]
    },
    {
     "name": "stderr",
     "output_type": "stream",
     "text": [
      "Train Epoch: 102 [6400/48625 (13%)]\tLoss: 6.654866\tTrain Prec@1 0.00 (2.46): : 101it [00:23,  4.27it/s]"
     ]
    },
    {
     "name": "stdout",
     "output_type": "stream",
     "text": [
      "\n",
      "\n"
     ]
    },
    {
     "name": "stderr",
     "output_type": "stream",
     "text": [
      "Train Epoch: 102 [6400/48625 (13%)]\tLoss: 6.654866\tTrain Prec@1 0.00 (2.46): : 103it [00:24,  4.27it/s]"
     ]
    },
    {
     "name": "stdout",
     "output_type": "stream",
     "text": [
      "\n",
      "\n"
     ]
    },
    {
     "name": "stderr",
     "output_type": "stream",
     "text": [
      "Train Epoch: 102 [6400/48625 (13%)]\tLoss: 6.654866\tTrain Prec@1 0.00 (2.46): : 105it [00:24,  4.27it/s]"
     ]
    },
    {
     "name": "stdout",
     "output_type": "stream",
     "text": [
      "\n",
      "\n"
     ]
    },
    {
     "name": "stderr",
     "output_type": "stream",
     "text": [
      "Train Epoch: 102 [6400/48625 (13%)]\tLoss: 6.654866\tTrain Prec@1 0.00 (2.46): : 107it [00:25,  4.27it/s]"
     ]
    },
    {
     "name": "stdout",
     "output_type": "stream",
     "text": [
      "\n",
      "\n"
     ]
    },
    {
     "name": "stderr",
     "output_type": "stream",
     "text": [
      "Train Epoch: 102 [6400/48625 (13%)]\tLoss: 6.654866\tTrain Prec@1 0.00 (2.46): : 109it [00:25,  4.27it/s]"
     ]
    },
    {
     "name": "stdout",
     "output_type": "stream",
     "text": [
      "\n",
      "\n"
     ]
    },
    {
     "name": "stderr",
     "output_type": "stream",
     "text": [
      "Train Epoch: 102 [7040/48625 (14%)]\tLoss: 7.015706\tTrain Prec@1 1.56 (2.44): : 111it [00:26,  4.27it/s]"
     ]
    },
    {
     "name": "stdout",
     "output_type": "stream",
     "text": [
      "\n",
      "\n"
     ]
    },
    {
     "name": "stderr",
     "output_type": "stream",
     "text": [
      "Train Epoch: 102 [7040/48625 (14%)]\tLoss: 7.015706\tTrain Prec@1 1.56 (2.44): : 113it [00:26,  4.27it/s]"
     ]
    },
    {
     "name": "stdout",
     "output_type": "stream",
     "text": [
      "\n",
      "\n"
     ]
    },
    {
     "name": "stderr",
     "output_type": "stream",
     "text": [
      "Train Epoch: 102 [7040/48625 (14%)]\tLoss: 7.015706\tTrain Prec@1 1.56 (2.44): : 115it [00:26,  4.28it/s]"
     ]
    },
    {
     "name": "stdout",
     "output_type": "stream",
     "text": [
      "\n",
      "\n"
     ]
    },
    {
     "name": "stderr",
     "output_type": "stream",
     "text": [
      "Train Epoch: 102 [7040/48625 (14%)]\tLoss: 7.015706\tTrain Prec@1 1.56 (2.44): : 117it [00:27,  4.28it/s]"
     ]
    },
    {
     "name": "stdout",
     "output_type": "stream",
     "text": [
      "\n",
      "\n"
     ]
    },
    {
     "name": "stderr",
     "output_type": "stream",
     "text": [
      "Train Epoch: 102 [7040/48625 (14%)]\tLoss: 7.015706\tTrain Prec@1 1.56 (2.44): : 119it [00:27,  4.28it/s]"
     ]
    },
    {
     "name": "stdout",
     "output_type": "stream",
     "text": [
      "\n",
      "\n"
     ]
    },
    {
     "name": "stderr",
     "output_type": "stream",
     "text": [
      "Train Epoch: 102 [7680/48625 (16%)]\tLoss: 6.523407\tTrain Prec@1 4.69 (2.41): : 121it [00:28,  4.28it/s]"
     ]
    },
    {
     "name": "stdout",
     "output_type": "stream",
     "text": [
      "\n",
      "\n"
     ]
    },
    {
     "name": "stderr",
     "output_type": "stream",
     "text": [
      "Train Epoch: 102 [7680/48625 (16%)]\tLoss: 6.523407\tTrain Prec@1 4.69 (2.41): : 123it [00:28,  4.28it/s]"
     ]
    },
    {
     "name": "stdout",
     "output_type": "stream",
     "text": [
      "\n",
      "\n"
     ]
    },
    {
     "name": "stderr",
     "output_type": "stream",
     "text": [
      "Train Epoch: 102 [7680/48625 (16%)]\tLoss: 6.523407\tTrain Prec@1 4.69 (2.41): : 125it [00:29,  4.29it/s]"
     ]
    },
    {
     "name": "stdout",
     "output_type": "stream",
     "text": [
      "\n",
      "\n"
     ]
    },
    {
     "name": "stderr",
     "output_type": "stream",
     "text": [
      "Train Epoch: 102 [7680/48625 (16%)]\tLoss: 6.523407\tTrain Prec@1 4.69 (2.41): : 127it [00:29,  4.29it/s]"
     ]
    },
    {
     "name": "stdout",
     "output_type": "stream",
     "text": [
      "\n",
      "\n"
     ]
    },
    {
     "name": "stderr",
     "output_type": "stream",
     "text": [
      "Train Epoch: 102 [7680/48625 (16%)]\tLoss: 6.523407\tTrain Prec@1 4.69 (2.41): : 129it [00:30,  4.29it/s]"
     ]
    },
    {
     "name": "stdout",
     "output_type": "stream",
     "text": [
      "\n",
      "\n"
     ]
    },
    {
     "name": "stderr",
     "output_type": "stream",
     "text": [
      "Train Epoch: 102 [8320/48625 (17%)]\tLoss: 6.590864\tTrain Prec@1 4.69 (2.45): : 131it [00:30,  4.29it/s]"
     ]
    },
    {
     "name": "stdout",
     "output_type": "stream",
     "text": [
      "\n",
      "\n"
     ]
    },
    {
     "name": "stderr",
     "output_type": "stream",
     "text": [
      "Train Epoch: 102 [8320/48625 (17%)]\tLoss: 6.590864\tTrain Prec@1 4.69 (2.45): : 133it [00:30,  4.29it/s]"
     ]
    },
    {
     "name": "stdout",
     "output_type": "stream",
     "text": [
      "\n",
      "\n"
     ]
    },
    {
     "name": "stderr",
     "output_type": "stream",
     "text": [
      "Train Epoch: 102 [8320/48625 (17%)]\tLoss: 6.590864\tTrain Prec@1 4.69 (2.45): : 135it [00:31,  4.29it/s]"
     ]
    },
    {
     "name": "stdout",
     "output_type": "stream",
     "text": [
      "\n",
      "\n"
     ]
    },
    {
     "name": "stderr",
     "output_type": "stream",
     "text": [
      "Train Epoch: 102 [8320/48625 (17%)]\tLoss: 6.590864\tTrain Prec@1 4.69 (2.45): : 137it [00:31,  4.30it/s]"
     ]
    },
    {
     "name": "stdout",
     "output_type": "stream",
     "text": [
      "\n",
      "\n"
     ]
    },
    {
     "name": "stderr",
     "output_type": "stream",
     "text": [
      "Train Epoch: 102 [8320/48625 (17%)]\tLoss: 6.590864\tTrain Prec@1 4.69 (2.45): : 139it [00:32,  4.30it/s]"
     ]
    },
    {
     "name": "stdout",
     "output_type": "stream",
     "text": [
      "\n",
      "\n"
     ]
    },
    {
     "name": "stderr",
     "output_type": "stream",
     "text": [
      "Train Epoch: 102 [8960/48625 (18%)]\tLoss: 6.777218\tTrain Prec@1 3.12 (2.42): : 141it [00:32,  4.29it/s]"
     ]
    },
    {
     "name": "stdout",
     "output_type": "stream",
     "text": [
      "\n",
      "\n"
     ]
    },
    {
     "name": "stderr",
     "output_type": "stream",
     "text": [
      "Train Epoch: 102 [8960/48625 (18%)]\tLoss: 6.777218\tTrain Prec@1 3.12 (2.42): : 143it [00:33,  4.30it/s]"
     ]
    },
    {
     "name": "stdout",
     "output_type": "stream",
     "text": [
      "\n",
      "\n"
     ]
    },
    {
     "name": "stderr",
     "output_type": "stream",
     "text": [
      "Train Epoch: 102 [8960/48625 (18%)]\tLoss: 6.777218\tTrain Prec@1 3.12 (2.42): : 145it [00:33,  4.30it/s]"
     ]
    },
    {
     "name": "stdout",
     "output_type": "stream",
     "text": [
      "\n",
      "\n"
     ]
    },
    {
     "name": "stderr",
     "output_type": "stream",
     "text": [
      "Train Epoch: 102 [8960/48625 (18%)]\tLoss: 6.777218\tTrain Prec@1 3.12 (2.42): : 147it [00:34,  4.30it/s]"
     ]
    },
    {
     "name": "stdout",
     "output_type": "stream",
     "text": [
      "\n",
      "\n"
     ]
    },
    {
     "name": "stderr",
     "output_type": "stream",
     "text": [
      "Train Epoch: 102 [8960/48625 (18%)]\tLoss: 6.777218\tTrain Prec@1 3.12 (2.42): : 149it [00:34,  4.30it/s]"
     ]
    },
    {
     "name": "stdout",
     "output_type": "stream",
     "text": [
      "\n",
      "\n"
     ]
    },
    {
     "name": "stderr",
     "output_type": "stream",
     "text": [
      "Train Epoch: 102 [9600/48625 (20%)]\tLoss: 7.110402\tTrain Prec@1 0.00 (2.39): : 151it [00:35,  4.30it/s]"
     ]
    },
    {
     "name": "stdout",
     "output_type": "stream",
     "text": [
      "\n",
      "\n"
     ]
    },
    {
     "name": "stderr",
     "output_type": "stream",
     "text": [
      "Train Epoch: 102 [9600/48625 (20%)]\tLoss: 7.110402\tTrain Prec@1 0.00 (2.39): : 153it [00:35,  4.30it/s]"
     ]
    },
    {
     "name": "stdout",
     "output_type": "stream",
     "text": [
      "\n",
      "\n"
     ]
    },
    {
     "name": "stderr",
     "output_type": "stream",
     "text": [
      "Train Epoch: 102 [9600/48625 (20%)]\tLoss: 7.110402\tTrain Prec@1 0.00 (2.39): : 155it [00:36,  4.30it/s]"
     ]
    },
    {
     "name": "stdout",
     "output_type": "stream",
     "text": [
      "\n",
      "\n"
     ]
    },
    {
     "name": "stderr",
     "output_type": "stream",
     "text": [
      "Train Epoch: 102 [9600/48625 (20%)]\tLoss: 7.110402\tTrain Prec@1 0.00 (2.39): : 157it [00:36,  4.31it/s]"
     ]
    },
    {
     "name": "stdout",
     "output_type": "stream",
     "text": [
      "\n",
      "\n"
     ]
    },
    {
     "name": "stderr",
     "output_type": "stream",
     "text": [
      "Train Epoch: 102 [9600/48625 (20%)]\tLoss: 7.110402\tTrain Prec@1 0.00 (2.39): : 159it [00:36,  4.31it/s]"
     ]
    },
    {
     "name": "stdout",
     "output_type": "stream",
     "text": [
      "\n",
      "\n"
     ]
    },
    {
     "name": "stderr",
     "output_type": "stream",
     "text": [
      "Train Epoch: 102 [10240/48625 (21%)]\tLoss: 6.698582\tTrain Prec@1 1.56 (2.33): : 161it [00:37,  4.30it/s]"
     ]
    },
    {
     "name": "stdout",
     "output_type": "stream",
     "text": [
      "\n",
      "\n"
     ]
    },
    {
     "name": "stderr",
     "output_type": "stream",
     "text": [
      "Train Epoch: 102 [10240/48625 (21%)]\tLoss: 6.698582\tTrain Prec@1 1.56 (2.33): : 163it [00:37,  4.30it/s]"
     ]
    },
    {
     "name": "stdout",
     "output_type": "stream",
     "text": [
      "\n",
      "\n"
     ]
    },
    {
     "name": "stderr",
     "output_type": "stream",
     "text": [
      "Train Epoch: 102 [10240/48625 (21%)]\tLoss: 6.698582\tTrain Prec@1 1.56 (2.33): : 165it [00:38,  4.30it/s]"
     ]
    },
    {
     "name": "stdout",
     "output_type": "stream",
     "text": [
      "\n",
      "\n"
     ]
    },
    {
     "name": "stderr",
     "output_type": "stream",
     "text": [
      "Train Epoch: 102 [10240/48625 (21%)]\tLoss: 6.698582\tTrain Prec@1 1.56 (2.33): : 167it [00:38,  4.30it/s]"
     ]
    },
    {
     "name": "stdout",
     "output_type": "stream",
     "text": [
      "\n",
      "\n"
     ]
    },
    {
     "name": "stderr",
     "output_type": "stream",
     "text": [
      "Train Epoch: 102 [10240/48625 (21%)]\tLoss: 6.698582\tTrain Prec@1 1.56 (2.33): : 169it [00:39,  4.30it/s]"
     ]
    },
    {
     "name": "stdout",
     "output_type": "stream",
     "text": [
      "\n",
      "\n"
     ]
    },
    {
     "name": "stderr",
     "output_type": "stream",
     "text": [
      "Train Epoch: 102 [10880/48625 (22%)]\tLoss: 6.679241\tTrain Prec@1 1.56 (2.37): : 171it [00:39,  4.29it/s]"
     ]
    },
    {
     "name": "stdout",
     "output_type": "stream",
     "text": [
      "\n",
      "\n"
     ]
    },
    {
     "name": "stderr",
     "output_type": "stream",
     "text": [
      "Train Epoch: 102 [10880/48625 (22%)]\tLoss: 6.679241\tTrain Prec@1 1.56 (2.37): : 173it [00:40,  4.29it/s]"
     ]
    },
    {
     "name": "stdout",
     "output_type": "stream",
     "text": [
      "\n",
      "\n"
     ]
    },
    {
     "name": "stderr",
     "output_type": "stream",
     "text": [
      "Train Epoch: 102 [10880/48625 (22%)]\tLoss: 6.679241\tTrain Prec@1 1.56 (2.37): : 175it [00:40,  4.29it/s]"
     ]
    },
    {
     "name": "stdout",
     "output_type": "stream",
     "text": [
      "\n",
      "\n"
     ]
    },
    {
     "name": "stderr",
     "output_type": "stream",
     "text": [
      "Train Epoch: 102 [10880/48625 (22%)]\tLoss: 6.679241\tTrain Prec@1 1.56 (2.37): : 177it [00:41,  4.29it/s]"
     ]
    },
    {
     "name": "stdout",
     "output_type": "stream",
     "text": [
      "\n",
      "\n"
     ]
    },
    {
     "name": "stderr",
     "output_type": "stream",
     "text": [
      "Train Epoch: 102 [10880/48625 (22%)]\tLoss: 6.679241\tTrain Prec@1 1.56 (2.37): : 179it [00:41,  4.29it/s]"
     ]
    },
    {
     "name": "stdout",
     "output_type": "stream",
     "text": [
      "\n",
      "\n"
     ]
    },
    {
     "name": "stderr",
     "output_type": "stream",
     "text": [
      "Train Epoch: 102 [11520/48625 (24%)]\tLoss: 6.715496\tTrain Prec@1 1.56 (2.37): : 181it [00:42,  4.29it/s]"
     ]
    },
    {
     "name": "stdout",
     "output_type": "stream",
     "text": [
      "\n",
      "\n"
     ]
    },
    {
     "name": "stderr",
     "output_type": "stream",
     "text": [
      "Train Epoch: 102 [11520/48625 (24%)]\tLoss: 6.715496\tTrain Prec@1 1.56 (2.37): : 183it [00:42,  4.29it/s]"
     ]
    },
    {
     "name": "stdout",
     "output_type": "stream",
     "text": [
      "\n",
      "\n"
     ]
    },
    {
     "name": "stderr",
     "output_type": "stream",
     "text": [
      "Train Epoch: 102 [11520/48625 (24%)]\tLoss: 6.715496\tTrain Prec@1 1.56 (2.37): : 185it [00:43,  4.30it/s]"
     ]
    },
    {
     "name": "stdout",
     "output_type": "stream",
     "text": [
      "\n",
      "\n"
     ]
    },
    {
     "name": "stderr",
     "output_type": "stream",
     "text": [
      "Train Epoch: 102 [11520/48625 (24%)]\tLoss: 6.715496\tTrain Prec@1 1.56 (2.37): : 187it [00:43,  4.30it/s]"
     ]
    },
    {
     "name": "stdout",
     "output_type": "stream",
     "text": [
      "\n",
      "\n"
     ]
    },
    {
     "name": "stderr",
     "output_type": "stream",
     "text": [
      "Train Epoch: 102 [11520/48625 (24%)]\tLoss: 6.715496\tTrain Prec@1 1.56 (2.37): : 189it [00:43,  4.30it/s]"
     ]
    },
    {
     "name": "stdout",
     "output_type": "stream",
     "text": [
      "\n",
      "\n"
     ]
    },
    {
     "name": "stderr",
     "output_type": "stream",
     "text": [
      "Train Epoch: 102 [12160/48625 (25%)]\tLoss: 7.139982\tTrain Prec@1 3.12 (2.39): : 191it [00:44,  4.30it/s]"
     ]
    },
    {
     "name": "stdout",
     "output_type": "stream",
     "text": [
      "\n",
      "\n"
     ]
    },
    {
     "name": "stderr",
     "output_type": "stream",
     "text": [
      "Train Epoch: 102 [12160/48625 (25%)]\tLoss: 7.139982\tTrain Prec@1 3.12 (2.39): : 193it [00:44,  4.30it/s]"
     ]
    },
    {
     "name": "stdout",
     "output_type": "stream",
     "text": [
      "\n",
      "\n"
     ]
    },
    {
     "name": "stderr",
     "output_type": "stream",
     "text": [
      "Train Epoch: 102 [12160/48625 (25%)]\tLoss: 7.139982\tTrain Prec@1 3.12 (2.39): : 195it [00:45,  4.30it/s]"
     ]
    },
    {
     "name": "stdout",
     "output_type": "stream",
     "text": [
      "\n",
      "\n"
     ]
    },
    {
     "name": "stderr",
     "output_type": "stream",
     "text": [
      "Train Epoch: 102 [12160/48625 (25%)]\tLoss: 7.139982\tTrain Prec@1 3.12 (2.39): : 197it [00:45,  4.30it/s]"
     ]
    },
    {
     "name": "stdout",
     "output_type": "stream",
     "text": [
      "\n",
      "\n"
     ]
    },
    {
     "name": "stderr",
     "output_type": "stream",
     "text": [
      "Train Epoch: 102 [12160/48625 (25%)]\tLoss: 7.139982\tTrain Prec@1 3.12 (2.39): : 199it [00:46,  4.30it/s]"
     ]
    },
    {
     "name": "stdout",
     "output_type": "stream",
     "text": [
      "\n",
      "\n"
     ]
    },
    {
     "name": "stderr",
     "output_type": "stream",
     "text": [
      "Train Epoch: 102 [12800/48625 (26%)]\tLoss: 6.801280\tTrain Prec@1 4.69 (2.42): : 201it [00:46,  4.30it/s]"
     ]
    },
    {
     "name": "stdout",
     "output_type": "stream",
     "text": [
      "\n",
      "\n"
     ]
    },
    {
     "name": "stderr",
     "output_type": "stream",
     "text": [
      "Train Epoch: 102 [12800/48625 (26%)]\tLoss: 6.801280\tTrain Prec@1 4.69 (2.42): : 203it [00:47,  4.30it/s]"
     ]
    },
    {
     "name": "stdout",
     "output_type": "stream",
     "text": [
      "\n",
      "\n"
     ]
    },
    {
     "name": "stderr",
     "output_type": "stream",
     "text": [
      "Train Epoch: 102 [12800/48625 (26%)]\tLoss: 6.801280\tTrain Prec@1 4.69 (2.42): : 205it [00:47,  4.30it/s]"
     ]
    },
    {
     "name": "stdout",
     "output_type": "stream",
     "text": [
      "\n",
      "\n"
     ]
    },
    {
     "name": "stderr",
     "output_type": "stream",
     "text": [
      "Train Epoch: 102 [12800/48625 (26%)]\tLoss: 6.801280\tTrain Prec@1 4.69 (2.42): : 207it [00:48,  4.30it/s]"
     ]
    },
    {
     "name": "stdout",
     "output_type": "stream",
     "text": [
      "\n",
      "\n"
     ]
    },
    {
     "name": "stderr",
     "output_type": "stream",
     "text": [
      "Train Epoch: 102 [12800/48625 (26%)]\tLoss: 6.801280\tTrain Prec@1 4.69 (2.42): : 209it [00:48,  4.30it/s]"
     ]
    },
    {
     "name": "stdout",
     "output_type": "stream",
     "text": [
      "\n",
      "\n"
     ]
    },
    {
     "name": "stderr",
     "output_type": "stream",
     "text": [
      "Train Epoch: 102 [13440/48625 (28%)]\tLoss: 6.695125\tTrain Prec@1 3.12 (2.44): : 211it [00:49,  4.30it/s]"
     ]
    },
    {
     "name": "stdout",
     "output_type": "stream",
     "text": [
      "\n",
      "\n"
     ]
    },
    {
     "name": "stderr",
     "output_type": "stream",
     "text": [
      "Train Epoch: 102 [13440/48625 (28%)]\tLoss: 6.695125\tTrain Prec@1 3.12 (2.44): : 213it [00:49,  4.30it/s]"
     ]
    },
    {
     "name": "stdout",
     "output_type": "stream",
     "text": [
      "\n",
      "\n"
     ]
    },
    {
     "name": "stderr",
     "output_type": "stream",
     "text": [
      "Train Epoch: 102 [13440/48625 (28%)]\tLoss: 6.695125\tTrain Prec@1 3.12 (2.44): : 215it [00:49,  4.31it/s]"
     ]
    },
    {
     "name": "stdout",
     "output_type": "stream",
     "text": [
      "\n",
      "\n"
     ]
    },
    {
     "name": "stderr",
     "output_type": "stream",
     "text": [
      "Train Epoch: 102 [13440/48625 (28%)]\tLoss: 6.695125\tTrain Prec@1 3.12 (2.44): : 217it [00:50,  4.31it/s]"
     ]
    },
    {
     "name": "stdout",
     "output_type": "stream",
     "text": [
      "\n",
      "\n"
     ]
    },
    {
     "name": "stderr",
     "output_type": "stream",
     "text": [
      "Train Epoch: 102 [13440/48625 (28%)]\tLoss: 6.695125\tTrain Prec@1 3.12 (2.44): : 219it [00:50,  4.31it/s]"
     ]
    },
    {
     "name": "stdout",
     "output_type": "stream",
     "text": [
      "\n",
      "\n"
     ]
    },
    {
     "name": "stderr",
     "output_type": "stream",
     "text": [
      "Train Epoch: 102 [14080/48625 (29%)]\tLoss: 6.929659\tTrain Prec@1 1.56 (2.43): : 221it [00:51,  4.31it/s]"
     ]
    },
    {
     "name": "stdout",
     "output_type": "stream",
     "text": [
      "\n",
      "\n"
     ]
    },
    {
     "name": "stderr",
     "output_type": "stream",
     "text": [
      "Train Epoch: 102 [14080/48625 (29%)]\tLoss: 6.929659\tTrain Prec@1 1.56 (2.43): : 223it [00:51,  4.31it/s]"
     ]
    },
    {
     "name": "stdout",
     "output_type": "stream",
     "text": [
      "\n",
      "\n"
     ]
    },
    {
     "name": "stderr",
     "output_type": "stream",
     "text": [
      "Train Epoch: 102 [14080/48625 (29%)]\tLoss: 6.929659\tTrain Prec@1 1.56 (2.43): : 225it [00:52,  4.31it/s]"
     ]
    },
    {
     "name": "stdout",
     "output_type": "stream",
     "text": [
      "\n",
      "\n"
     ]
    },
    {
     "name": "stderr",
     "output_type": "stream",
     "text": [
      "Train Epoch: 102 [14080/48625 (29%)]\tLoss: 6.929659\tTrain Prec@1 1.56 (2.43): : 227it [00:52,  4.31it/s]"
     ]
    },
    {
     "name": "stdout",
     "output_type": "stream",
     "text": [
      "\n",
      "\n"
     ]
    },
    {
     "name": "stderr",
     "output_type": "stream",
     "text": [
      "Train Epoch: 102 [14080/48625 (29%)]\tLoss: 6.929659\tTrain Prec@1 1.56 (2.43): : 229it [00:53,  4.31it/s]"
     ]
    },
    {
     "name": "stdout",
     "output_type": "stream",
     "text": [
      "\n",
      "\n"
     ]
    },
    {
     "name": "stderr",
     "output_type": "stream",
     "text": [
      "Train Epoch: 102 [14720/48625 (30%)]\tLoss: 6.991452\tTrain Prec@1 3.12 (2.49): : 231it [00:53,  4.31it/s]"
     ]
    },
    {
     "name": "stdout",
     "output_type": "stream",
     "text": [
      "\n",
      "\n"
     ]
    },
    {
     "name": "stderr",
     "output_type": "stream",
     "text": [
      "Train Epoch: 102 [14720/48625 (30%)]\tLoss: 6.991452\tTrain Prec@1 3.12 (2.49): : 233it [00:54,  4.31it/s]"
     ]
    },
    {
     "name": "stdout",
     "output_type": "stream",
     "text": [
      "\n",
      "\n"
     ]
    },
    {
     "name": "stderr",
     "output_type": "stream",
     "text": [
      "Train Epoch: 102 [14720/48625 (30%)]\tLoss: 6.991452\tTrain Prec@1 3.12 (2.49): : 235it [00:54,  4.31it/s]"
     ]
    },
    {
     "name": "stdout",
     "output_type": "stream",
     "text": [
      "\n",
      "\n"
     ]
    },
    {
     "name": "stderr",
     "output_type": "stream",
     "text": [
      "Train Epoch: 102 [14720/48625 (30%)]\tLoss: 6.991452\tTrain Prec@1 3.12 (2.49): : 237it [00:54,  4.31it/s]"
     ]
    },
    {
     "name": "stdout",
     "output_type": "stream",
     "text": [
      "\n",
      "\n"
     ]
    },
    {
     "name": "stderr",
     "output_type": "stream",
     "text": [
      "Train Epoch: 102 [14720/48625 (30%)]\tLoss: 6.991452\tTrain Prec@1 3.12 (2.49): : 239it [00:55,  4.31it/s]"
     ]
    },
    {
     "name": "stdout",
     "output_type": "stream",
     "text": [
      "\n",
      "\n"
     ]
    },
    {
     "name": "stderr",
     "output_type": "stream",
     "text": [
      "Train Epoch: 102 [15360/48625 (32%)]\tLoss: 6.540181\tTrain Prec@1 3.12 (2.52): : 241it [00:55,  4.31it/s]"
     ]
    },
    {
     "name": "stdout",
     "output_type": "stream",
     "text": [
      "\n",
      "\n"
     ]
    },
    {
     "name": "stderr",
     "output_type": "stream",
     "text": [
      "Train Epoch: 102 [15360/48625 (32%)]\tLoss: 6.540181\tTrain Prec@1 3.12 (2.52): : 243it [00:56,  4.31it/s]"
     ]
    },
    {
     "name": "stdout",
     "output_type": "stream",
     "text": [
      "\n",
      "\n"
     ]
    },
    {
     "name": "stderr",
     "output_type": "stream",
     "text": [
      "Train Epoch: 102 [15360/48625 (32%)]\tLoss: 6.540181\tTrain Prec@1 3.12 (2.52): : 245it [00:56,  4.31it/s]"
     ]
    },
    {
     "name": "stdout",
     "output_type": "stream",
     "text": [
      "\n",
      "\n"
     ]
    },
    {
     "name": "stderr",
     "output_type": "stream",
     "text": [
      "Train Epoch: 102 [15360/48625 (32%)]\tLoss: 6.540181\tTrain Prec@1 3.12 (2.52): : 247it [00:57,  4.31it/s]"
     ]
    },
    {
     "name": "stdout",
     "output_type": "stream",
     "text": [
      "\n",
      "\n"
     ]
    },
    {
     "name": "stderr",
     "output_type": "stream",
     "text": [
      "Train Epoch: 102 [15360/48625 (32%)]\tLoss: 6.540181\tTrain Prec@1 3.12 (2.52): : 249it [00:57,  4.31it/s]"
     ]
    },
    {
     "name": "stdout",
     "output_type": "stream",
     "text": [
      "\n",
      "\n"
     ]
    },
    {
     "name": "stderr",
     "output_type": "stream",
     "text": [
      "Train Epoch: 102 [16000/48625 (33%)]\tLoss: 6.740103\tTrain Prec@1 0.00 (2.49): : 251it [00:58,  4.31it/s]"
     ]
    },
    {
     "name": "stdout",
     "output_type": "stream",
     "text": [
      "\n",
      "\n"
     ]
    },
    {
     "name": "stderr",
     "output_type": "stream",
     "text": [
      "Train Epoch: 102 [16000/48625 (33%)]\tLoss: 6.740103\tTrain Prec@1 0.00 (2.49): : 253it [00:58,  4.31it/s]"
     ]
    },
    {
     "name": "stdout",
     "output_type": "stream",
     "text": [
      "\n",
      "\n"
     ]
    },
    {
     "name": "stderr",
     "output_type": "stream",
     "text": [
      "Train Epoch: 102 [16000/48625 (33%)]\tLoss: 6.740103\tTrain Prec@1 0.00 (2.49): : 255it [00:59,  4.31it/s]"
     ]
    },
    {
     "name": "stdout",
     "output_type": "stream",
     "text": [
      "\n",
      "\n"
     ]
    },
    {
     "name": "stderr",
     "output_type": "stream",
     "text": [
      "Train Epoch: 102 [16000/48625 (33%)]\tLoss: 6.740103\tTrain Prec@1 0.00 (2.49): : 257it [00:59,  4.31it/s]"
     ]
    },
    {
     "name": "stdout",
     "output_type": "stream",
     "text": [
      "\n",
      "\n"
     ]
    },
    {
     "name": "stderr",
     "output_type": "stream",
     "text": [
      "Train Epoch: 102 [16000/48625 (33%)]\tLoss: 6.740103\tTrain Prec@1 0.00 (2.49): : 259it [01:00,  4.31it/s]"
     ]
    },
    {
     "name": "stdout",
     "output_type": "stream",
     "text": [
      "\n",
      "\n"
     ]
    },
    {
     "name": "stderr",
     "output_type": "stream",
     "text": [
      "Train Epoch: 102 [16640/48625 (34%)]\tLoss: 6.992161\tTrain Prec@1 1.56 (2.48): : 261it [01:00,  4.31it/s]"
     ]
    },
    {
     "name": "stdout",
     "output_type": "stream",
     "text": [
      "\n",
      "\n"
     ]
    },
    {
     "name": "stderr",
     "output_type": "stream",
     "text": [
      "Train Epoch: 102 [16640/48625 (34%)]\tLoss: 6.992161\tTrain Prec@1 1.56 (2.48): : 263it [01:01,  4.31it/s]"
     ]
    },
    {
     "name": "stdout",
     "output_type": "stream",
     "text": [
      "\n",
      "\n"
     ]
    },
    {
     "name": "stderr",
     "output_type": "stream",
     "text": [
      "Train Epoch: 102 [16640/48625 (34%)]\tLoss: 6.992161\tTrain Prec@1 1.56 (2.48): : 265it [01:01,  4.31it/s]"
     ]
    },
    {
     "name": "stdout",
     "output_type": "stream",
     "text": [
      "\n",
      "\n"
     ]
    },
    {
     "name": "stderr",
     "output_type": "stream",
     "text": [
      "Train Epoch: 102 [16640/48625 (34%)]\tLoss: 6.992161\tTrain Prec@1 1.56 (2.48): : 267it [01:01,  4.31it/s]"
     ]
    },
    {
     "name": "stdout",
     "output_type": "stream",
     "text": [
      "\n",
      "\n"
     ]
    },
    {
     "name": "stderr",
     "output_type": "stream",
     "text": [
      "Train Epoch: 102 [16640/48625 (34%)]\tLoss: 6.992161\tTrain Prec@1 1.56 (2.48): : 269it [01:02,  4.31it/s]"
     ]
    },
    {
     "name": "stdout",
     "output_type": "stream",
     "text": [
      "\n",
      "\n"
     ]
    },
    {
     "name": "stderr",
     "output_type": "stream",
     "text": [
      "Train Epoch: 102 [17280/48625 (36%)]\tLoss: 6.592138\tTrain Prec@1 1.56 (2.49): : 271it [01:02,  4.31it/s]"
     ]
    },
    {
     "name": "stdout",
     "output_type": "stream",
     "text": [
      "\n",
      "\n"
     ]
    },
    {
     "name": "stderr",
     "output_type": "stream",
     "text": [
      "Train Epoch: 102 [17280/48625 (36%)]\tLoss: 6.592138\tTrain Prec@1 1.56 (2.49): : 273it [01:03,  4.31it/s]"
     ]
    },
    {
     "name": "stdout",
     "output_type": "stream",
     "text": [
      "\n",
      "\n"
     ]
    },
    {
     "name": "stderr",
     "output_type": "stream",
     "text": [
      "Train Epoch: 102 [17280/48625 (36%)]\tLoss: 6.592138\tTrain Prec@1 1.56 (2.49): : 275it [01:03,  4.31it/s]"
     ]
    },
    {
     "name": "stdout",
     "output_type": "stream",
     "text": [
      "\n",
      "\n"
     ]
    },
    {
     "name": "stderr",
     "output_type": "stream",
     "text": [
      "Train Epoch: 102 [17280/48625 (36%)]\tLoss: 6.592138\tTrain Prec@1 1.56 (2.49): : 277it [01:04,  4.31it/s]"
     ]
    },
    {
     "name": "stdout",
     "output_type": "stream",
     "text": [
      "\n",
      "\n"
     ]
    },
    {
     "name": "stderr",
     "output_type": "stream",
     "text": [
      "Train Epoch: 102 [17280/48625 (36%)]\tLoss: 6.592138\tTrain Prec@1 1.56 (2.49): : 279it [01:04,  4.31it/s]"
     ]
    },
    {
     "name": "stdout",
     "output_type": "stream",
     "text": [
      "\n",
      "\n"
     ]
    },
    {
     "name": "stderr",
     "output_type": "stream",
     "text": [
      "Train Epoch: 102 [17920/48625 (37%)]\tLoss: 6.649714\tTrain Prec@1 0.00 (2.46): : 281it [01:05,  4.31it/s]"
     ]
    },
    {
     "name": "stdout",
     "output_type": "stream",
     "text": [
      "\n",
      "\n"
     ]
    },
    {
     "name": "stderr",
     "output_type": "stream",
     "text": [
      "Train Epoch: 102 [17920/48625 (37%)]\tLoss: 6.649714\tTrain Prec@1 0.00 (2.46): : 283it [01:05,  4.31it/s]"
     ]
    },
    {
     "name": "stdout",
     "output_type": "stream",
     "text": [
      "\n",
      "\n"
     ]
    },
    {
     "name": "stderr",
     "output_type": "stream",
     "text": [
      "Train Epoch: 102 [17920/48625 (37%)]\tLoss: 6.649714\tTrain Prec@1 0.00 (2.46): : 285it [01:06,  4.31it/s]"
     ]
    },
    {
     "name": "stdout",
     "output_type": "stream",
     "text": [
      "\n",
      "\n"
     ]
    },
    {
     "name": "stderr",
     "output_type": "stream",
     "text": [
      "Train Epoch: 102 [17920/48625 (37%)]\tLoss: 6.649714\tTrain Prec@1 0.00 (2.46): : 287it [01:06,  4.31it/s]"
     ]
    },
    {
     "name": "stdout",
     "output_type": "stream",
     "text": [
      "\n",
      "\n"
     ]
    },
    {
     "name": "stderr",
     "output_type": "stream",
     "text": [
      "Train Epoch: 102 [17920/48625 (37%)]\tLoss: 6.649714\tTrain Prec@1 0.00 (2.46): : 289it [01:06,  4.31it/s]"
     ]
    },
    {
     "name": "stdout",
     "output_type": "stream",
     "text": [
      "\n",
      "\n"
     ]
    },
    {
     "name": "stderr",
     "output_type": "stream",
     "text": [
      "Train Epoch: 102 [18560/48625 (38%)]\tLoss: 6.756418\tTrain Prec@1 7.81 (2.49): : 291it [01:07,  4.31it/s]"
     ]
    },
    {
     "name": "stdout",
     "output_type": "stream",
     "text": [
      "\n",
      "\n"
     ]
    },
    {
     "name": "stderr",
     "output_type": "stream",
     "text": [
      "Train Epoch: 102 [18560/48625 (38%)]\tLoss: 6.756418\tTrain Prec@1 7.81 (2.49): : 293it [01:07,  4.31it/s]"
     ]
    },
    {
     "name": "stdout",
     "output_type": "stream",
     "text": [
      "\n",
      "\n"
     ]
    },
    {
     "name": "stderr",
     "output_type": "stream",
     "text": [
      "Train Epoch: 102 [18560/48625 (38%)]\tLoss: 6.756418\tTrain Prec@1 7.81 (2.49): : 295it [01:08,  4.31it/s]"
     ]
    },
    {
     "name": "stdout",
     "output_type": "stream",
     "text": [
      "\n",
      "\n"
     ]
    },
    {
     "name": "stderr",
     "output_type": "stream",
     "text": [
      "Train Epoch: 102 [18560/48625 (38%)]\tLoss: 6.756418\tTrain Prec@1 7.81 (2.49): : 297it [01:08,  4.31it/s]"
     ]
    },
    {
     "name": "stdout",
     "output_type": "stream",
     "text": [
      "\n",
      "\n"
     ]
    },
    {
     "name": "stderr",
     "output_type": "stream",
     "text": [
      "Train Epoch: 102 [18560/48625 (38%)]\tLoss: 6.756418\tTrain Prec@1 7.81 (2.49): : 299it [01:09,  4.31it/s]"
     ]
    },
    {
     "name": "stdout",
     "output_type": "stream",
     "text": [
      "\n",
      "\n"
     ]
    },
    {
     "name": "stderr",
     "output_type": "stream",
     "text": [
      "Train Epoch: 102 [19200/48625 (39%)]\tLoss: 6.790031\tTrain Prec@1 4.69 (2.49): : 301it [01:09,  4.31it/s]"
     ]
    },
    {
     "name": "stdout",
     "output_type": "stream",
     "text": [
      "\n",
      "\n"
     ]
    },
    {
     "name": "stderr",
     "output_type": "stream",
     "text": [
      "Train Epoch: 102 [19200/48625 (39%)]\tLoss: 6.790031\tTrain Prec@1 4.69 (2.49): : 303it [01:10,  4.31it/s]"
     ]
    },
    {
     "name": "stdout",
     "output_type": "stream",
     "text": [
      "\n",
      "\n"
     ]
    },
    {
     "name": "stderr",
     "output_type": "stream",
     "text": [
      "Train Epoch: 102 [19200/48625 (39%)]\tLoss: 6.790031\tTrain Prec@1 4.69 (2.49): : 305it [01:10,  4.31it/s]"
     ]
    },
    {
     "name": "stdout",
     "output_type": "stream",
     "text": [
      "\n",
      "\n"
     ]
    },
    {
     "name": "stderr",
     "output_type": "stream",
     "text": [
      "Train Epoch: 102 [19200/48625 (39%)]\tLoss: 6.790031\tTrain Prec@1 4.69 (2.49): : 307it [01:11,  4.31it/s]"
     ]
    },
    {
     "name": "stdout",
     "output_type": "stream",
     "text": [
      "\n",
      "\n"
     ]
    },
    {
     "name": "stderr",
     "output_type": "stream",
     "text": [
      "Train Epoch: 102 [19200/48625 (39%)]\tLoss: 6.790031\tTrain Prec@1 4.69 (2.49): : 309it [01:11,  4.31it/s]"
     ]
    },
    {
     "name": "stdout",
     "output_type": "stream",
     "text": [
      "\n",
      "\n"
     ]
    },
    {
     "name": "stderr",
     "output_type": "stream",
     "text": [
      "Train Epoch: 102 [19840/48625 (41%)]\tLoss: 6.795862\tTrain Prec@1 3.12 (2.47): : 311it [01:12,  4.31it/s]"
     ]
    },
    {
     "name": "stdout",
     "output_type": "stream",
     "text": [
      "\n",
      "\n"
     ]
    },
    {
     "name": "stderr",
     "output_type": "stream",
     "text": [
      "Train Epoch: 102 [19840/48625 (41%)]\tLoss: 6.795862\tTrain Prec@1 3.12 (2.47): : 313it [01:12,  4.31it/s]"
     ]
    },
    {
     "name": "stdout",
     "output_type": "stream",
     "text": [
      "\n",
      "\n"
     ]
    },
    {
     "name": "stderr",
     "output_type": "stream",
     "text": [
      "Train Epoch: 102 [19840/48625 (41%)]\tLoss: 6.795862\tTrain Prec@1 3.12 (2.47): : 315it [01:13,  4.31it/s]"
     ]
    },
    {
     "name": "stdout",
     "output_type": "stream",
     "text": [
      "\n",
      "\n"
     ]
    },
    {
     "name": "stderr",
     "output_type": "stream",
     "text": [
      "Train Epoch: 102 [19840/48625 (41%)]\tLoss: 6.795862\tTrain Prec@1 3.12 (2.47): : 317it [01:13,  4.31it/s]"
     ]
    },
    {
     "name": "stdout",
     "output_type": "stream",
     "text": [
      "\n",
      "\n"
     ]
    },
    {
     "name": "stderr",
     "output_type": "stream",
     "text": [
      "Train Epoch: 102 [19840/48625 (41%)]\tLoss: 6.795862\tTrain Prec@1 3.12 (2.47): : 319it [01:13,  4.31it/s]"
     ]
    },
    {
     "name": "stdout",
     "output_type": "stream",
     "text": [
      "\n",
      "\n"
     ]
    },
    {
     "name": "stderr",
     "output_type": "stream",
     "text": [
      "Train Epoch: 102 [20480/48625 (42%)]\tLoss: 6.902004\tTrain Prec@1 3.12 (2.46): : 321it [01:14,  4.31it/s]"
     ]
    },
    {
     "name": "stdout",
     "output_type": "stream",
     "text": [
      "\n",
      "\n"
     ]
    },
    {
     "name": "stderr",
     "output_type": "stream",
     "text": [
      "Train Epoch: 102 [20480/48625 (42%)]\tLoss: 6.902004\tTrain Prec@1 3.12 (2.46): : 323it [01:14,  4.32it/s]"
     ]
    },
    {
     "name": "stdout",
     "output_type": "stream",
     "text": [
      "\n",
      "\n"
     ]
    },
    {
     "name": "stderr",
     "output_type": "stream",
     "text": [
      "Train Epoch: 102 [20480/48625 (42%)]\tLoss: 6.902004\tTrain Prec@1 3.12 (2.46): : 325it [01:15,  4.32it/s]"
     ]
    },
    {
     "name": "stdout",
     "output_type": "stream",
     "text": [
      "\n",
      "\n"
     ]
    },
    {
     "name": "stderr",
     "output_type": "stream",
     "text": [
      "Train Epoch: 102 [20480/48625 (42%)]\tLoss: 6.902004\tTrain Prec@1 3.12 (2.46): : 327it [01:15,  4.32it/s]"
     ]
    },
    {
     "name": "stdout",
     "output_type": "stream",
     "text": [
      "\n",
      "\n"
     ]
    },
    {
     "name": "stderr",
     "output_type": "stream",
     "text": [
      "Train Epoch: 102 [20480/48625 (42%)]\tLoss: 6.902004\tTrain Prec@1 3.12 (2.46): : 329it [01:16,  4.32it/s]"
     ]
    },
    {
     "name": "stdout",
     "output_type": "stream",
     "text": [
      "\n",
      "\n"
     ]
    },
    {
     "name": "stderr",
     "output_type": "stream",
     "text": [
      "Train Epoch: 102 [21120/48625 (43%)]\tLoss: 6.963109\tTrain Prec@1 3.12 (2.44): : 331it [01:16,  4.32it/s]"
     ]
    },
    {
     "name": "stdout",
     "output_type": "stream",
     "text": [
      "\n",
      "\n"
     ]
    },
    {
     "name": "stderr",
     "output_type": "stream",
     "text": [
      "Train Epoch: 102 [21120/48625 (43%)]\tLoss: 6.963109\tTrain Prec@1 3.12 (2.44): : 333it [01:17,  4.32it/s]"
     ]
    },
    {
     "name": "stdout",
     "output_type": "stream",
     "text": [
      "\n",
      "\n"
     ]
    },
    {
     "name": "stderr",
     "output_type": "stream",
     "text": [
      "Train Epoch: 102 [21120/48625 (43%)]\tLoss: 6.963109\tTrain Prec@1 3.12 (2.44): : 335it [01:17,  4.32it/s]"
     ]
    },
    {
     "name": "stdout",
     "output_type": "stream",
     "text": [
      "\n",
      "\n"
     ]
    },
    {
     "name": "stderr",
     "output_type": "stream",
     "text": [
      "Train Epoch: 102 [21120/48625 (43%)]\tLoss: 6.963109\tTrain Prec@1 3.12 (2.44): : 337it [01:17,  4.32it/s]"
     ]
    },
    {
     "name": "stdout",
     "output_type": "stream",
     "text": [
      "\n",
      "\n"
     ]
    },
    {
     "name": "stderr",
     "output_type": "stream",
     "text": [
      "Train Epoch: 102 [21120/48625 (43%)]\tLoss: 6.963109\tTrain Prec@1 3.12 (2.44): : 339it [01:18,  4.32it/s]"
     ]
    },
    {
     "name": "stdout",
     "output_type": "stream",
     "text": [
      "\n",
      "\n"
     ]
    },
    {
     "name": "stderr",
     "output_type": "stream",
     "text": [
      "Train Epoch: 102 [21760/48625 (45%)]\tLoss: 6.675599\tTrain Prec@1 3.12 (2.43): : 341it [01:18,  4.32it/s]"
     ]
    },
    {
     "name": "stdout",
     "output_type": "stream",
     "text": [
      "\n",
      "\n"
     ]
    },
    {
     "name": "stderr",
     "output_type": "stream",
     "text": [
      "Train Epoch: 102 [21760/48625 (45%)]\tLoss: 6.675599\tTrain Prec@1 3.12 (2.43): : 343it [01:19,  4.32it/s]"
     ]
    },
    {
     "name": "stdout",
     "output_type": "stream",
     "text": [
      "\n",
      "\n"
     ]
    },
    {
     "name": "stderr",
     "output_type": "stream",
     "text": [
      "Train Epoch: 102 [21760/48625 (45%)]\tLoss: 6.675599\tTrain Prec@1 3.12 (2.43): : 345it [01:19,  4.32it/s]"
     ]
    },
    {
     "name": "stdout",
     "output_type": "stream",
     "text": [
      "\n",
      "\n"
     ]
    },
    {
     "name": "stderr",
     "output_type": "stream",
     "text": [
      "Train Epoch: 102 [21760/48625 (45%)]\tLoss: 6.675599\tTrain Prec@1 3.12 (2.43): : 347it [01:20,  4.33it/s]"
     ]
    },
    {
     "name": "stdout",
     "output_type": "stream",
     "text": [
      "\n",
      "\n"
     ]
    },
    {
     "name": "stderr",
     "output_type": "stream",
     "text": [
      "Train Epoch: 102 [21760/48625 (45%)]\tLoss: 6.675599\tTrain Prec@1 3.12 (2.43): : 349it [01:20,  4.33it/s]"
     ]
    },
    {
     "name": "stdout",
     "output_type": "stream",
     "text": [
      "\n",
      "\n"
     ]
    },
    {
     "name": "stderr",
     "output_type": "stream",
     "text": [
      "Train Epoch: 102 [22400/48625 (46%)]\tLoss: 6.599030\tTrain Prec@1 3.12 (2.45): : 351it [01:21,  4.33it/s]"
     ]
    },
    {
     "name": "stdout",
     "output_type": "stream",
     "text": [
      "\n",
      "\n"
     ]
    },
    {
     "name": "stderr",
     "output_type": "stream",
     "text": [
      "Train Epoch: 102 [22400/48625 (46%)]\tLoss: 6.599030\tTrain Prec@1 3.12 (2.45): : 353it [01:21,  4.33it/s]"
     ]
    },
    {
     "name": "stdout",
     "output_type": "stream",
     "text": [
      "\n",
      "\n"
     ]
    },
    {
     "name": "stderr",
     "output_type": "stream",
     "text": [
      "Train Epoch: 102 [22400/48625 (46%)]\tLoss: 6.599030\tTrain Prec@1 3.12 (2.45): : 355it [01:22,  4.33it/s]"
     ]
    },
    {
     "name": "stdout",
     "output_type": "stream",
     "text": [
      "\n",
      "\n"
     ]
    },
    {
     "name": "stderr",
     "output_type": "stream",
     "text": [
      "Train Epoch: 102 [22400/48625 (46%)]\tLoss: 6.599030\tTrain Prec@1 3.12 (2.45): : 357it [01:22,  4.33it/s]"
     ]
    },
    {
     "name": "stdout",
     "output_type": "stream",
     "text": [
      "\n",
      "\n"
     ]
    },
    {
     "name": "stderr",
     "output_type": "stream",
     "text": [
      "Train Epoch: 102 [22400/48625 (46%)]\tLoss: 6.599030\tTrain Prec@1 3.12 (2.45): : 359it [01:22,  4.33it/s]"
     ]
    },
    {
     "name": "stdout",
     "output_type": "stream",
     "text": [
      "\n",
      "\n"
     ]
    },
    {
     "name": "stderr",
     "output_type": "stream",
     "text": [
      "Train Epoch: 102 [23040/48625 (47%)]\tLoss: 6.650651\tTrain Prec@1 3.12 (2.46): : 361it [01:23,  4.33it/s]"
     ]
    },
    {
     "name": "stdout",
     "output_type": "stream",
     "text": [
      "\n",
      "\n"
     ]
    },
    {
     "name": "stderr",
     "output_type": "stream",
     "text": [
      "Train Epoch: 102 [23040/48625 (47%)]\tLoss: 6.650651\tTrain Prec@1 3.12 (2.46): : 363it [01:23,  4.33it/s]"
     ]
    },
    {
     "name": "stdout",
     "output_type": "stream",
     "text": [
      "\n",
      "\n"
     ]
    },
    {
     "name": "stderr",
     "output_type": "stream",
     "text": [
      "Train Epoch: 102 [23040/48625 (47%)]\tLoss: 6.650651\tTrain Prec@1 3.12 (2.46): : 365it [01:24,  4.33it/s]"
     ]
    },
    {
     "name": "stdout",
     "output_type": "stream",
     "text": [
      "\n",
      "\n"
     ]
    },
    {
     "name": "stderr",
     "output_type": "stream",
     "text": [
      "Train Epoch: 102 [23040/48625 (47%)]\tLoss: 6.650651\tTrain Prec@1 3.12 (2.46): : 367it [01:24,  4.33it/s]"
     ]
    },
    {
     "name": "stdout",
     "output_type": "stream",
     "text": [
      "\n",
      "\n"
     ]
    },
    {
     "name": "stderr",
     "output_type": "stream",
     "text": [
      "Train Epoch: 102 [23040/48625 (47%)]\tLoss: 6.650651\tTrain Prec@1 3.12 (2.46): : 369it [01:25,  4.33it/s]"
     ]
    },
    {
     "name": "stdout",
     "output_type": "stream",
     "text": [
      "\n",
      "\n"
     ]
    },
    {
     "name": "stderr",
     "output_type": "stream",
     "text": [
      "Train Epoch: 102 [23680/48625 (49%)]\tLoss: 6.582558\tTrain Prec@1 1.56 (2.48): : 371it [01:25,  4.33it/s]"
     ]
    },
    {
     "name": "stdout",
     "output_type": "stream",
     "text": [
      "\n",
      "\n"
     ]
    },
    {
     "name": "stderr",
     "output_type": "stream",
     "text": [
      "Train Epoch: 102 [23680/48625 (49%)]\tLoss: 6.582558\tTrain Prec@1 1.56 (2.48): : 373it [01:26,  4.33it/s]"
     ]
    },
    {
     "name": "stdout",
     "output_type": "stream",
     "text": [
      "\n",
      "\n"
     ]
    },
    {
     "name": "stderr",
     "output_type": "stream",
     "text": [
      "Train Epoch: 102 [23680/48625 (49%)]\tLoss: 6.582558\tTrain Prec@1 1.56 (2.48): : 375it [01:26,  4.33it/s]"
     ]
    },
    {
     "name": "stdout",
     "output_type": "stream",
     "text": [
      "\n",
      "\n"
     ]
    },
    {
     "name": "stderr",
     "output_type": "stream",
     "text": [
      "Train Epoch: 102 [23680/48625 (49%)]\tLoss: 6.582558\tTrain Prec@1 1.56 (2.48): : 377it [01:27,  4.33it/s]"
     ]
    },
    {
     "name": "stdout",
     "output_type": "stream",
     "text": [
      "\n",
      "\n"
     ]
    },
    {
     "name": "stderr",
     "output_type": "stream",
     "text": [
      "Train Epoch: 102 [23680/48625 (49%)]\tLoss: 6.582558\tTrain Prec@1 1.56 (2.48): : 379it [01:27,  4.33it/s]"
     ]
    },
    {
     "name": "stdout",
     "output_type": "stream",
     "text": [
      "\n",
      "\n"
     ]
    },
    {
     "name": "stderr",
     "output_type": "stream",
     "text": [
      "Train Epoch: 102 [24320/48625 (50%)]\tLoss: 6.746881\tTrain Prec@1 6.25 (2.51): : 381it [01:27,  4.33it/s]"
     ]
    },
    {
     "name": "stdout",
     "output_type": "stream",
     "text": [
      "\n",
      "\n"
     ]
    },
    {
     "name": "stderr",
     "output_type": "stream",
     "text": [
      "Train Epoch: 102 [24320/48625 (50%)]\tLoss: 6.746881\tTrain Prec@1 6.25 (2.51): : 383it [01:28,  4.33it/s]"
     ]
    },
    {
     "name": "stdout",
     "output_type": "stream",
     "text": [
      "\n",
      "\n"
     ]
    },
    {
     "name": "stderr",
     "output_type": "stream",
     "text": [
      "Train Epoch: 102 [24320/48625 (50%)]\tLoss: 6.746881\tTrain Prec@1 6.25 (2.51): : 385it [01:28,  4.33it/s]"
     ]
    },
    {
     "name": "stdout",
     "output_type": "stream",
     "text": [
      "\n",
      "\n"
     ]
    },
    {
     "name": "stderr",
     "output_type": "stream",
     "text": [
      "Train Epoch: 102 [24320/48625 (50%)]\tLoss: 6.746881\tTrain Prec@1 6.25 (2.51): : 387it [01:29,  4.33it/s]"
     ]
    },
    {
     "name": "stdout",
     "output_type": "stream",
     "text": [
      "\n",
      "\n"
     ]
    },
    {
     "name": "stderr",
     "output_type": "stream",
     "text": [
      "Train Epoch: 102 [24320/48625 (50%)]\tLoss: 6.746881\tTrain Prec@1 6.25 (2.51): : 389it [01:29,  4.33it/s]"
     ]
    },
    {
     "name": "stdout",
     "output_type": "stream",
     "text": [
      "\n",
      "\n"
     ]
    },
    {
     "name": "stderr",
     "output_type": "stream",
     "text": [
      "Train Epoch: 102 [24960/48625 (51%)]\tLoss: 6.956644\tTrain Prec@1 0.00 (2.49): : 391it [01:30,  4.33it/s]"
     ]
    },
    {
     "name": "stdout",
     "output_type": "stream",
     "text": [
      "\n",
      "\n"
     ]
    },
    {
     "name": "stderr",
     "output_type": "stream",
     "text": [
      "Train Epoch: 102 [24960/48625 (51%)]\tLoss: 6.956644\tTrain Prec@1 0.00 (2.49): : 393it [01:30,  4.34it/s]"
     ]
    },
    {
     "name": "stdout",
     "output_type": "stream",
     "text": [
      "\n",
      "\n"
     ]
    },
    {
     "name": "stderr",
     "output_type": "stream",
     "text": [
      "Train Epoch: 102 [24960/48625 (51%)]\tLoss: 6.956644\tTrain Prec@1 0.00 (2.49): : 395it [01:31,  4.34it/s]"
     ]
    },
    {
     "name": "stdout",
     "output_type": "stream",
     "text": [
      "\n",
      "\n"
     ]
    },
    {
     "name": "stderr",
     "output_type": "stream",
     "text": [
      "Train Epoch: 102 [24960/48625 (51%)]\tLoss: 6.956644\tTrain Prec@1 0.00 (2.49): : 397it [01:31,  4.34it/s]"
     ]
    },
    {
     "name": "stdout",
     "output_type": "stream",
     "text": [
      "\n",
      "\n"
     ]
    },
    {
     "name": "stderr",
     "output_type": "stream",
     "text": [
      "Train Epoch: 102 [24960/48625 (51%)]\tLoss: 6.956644\tTrain Prec@1 0.00 (2.49): : 399it [01:32,  4.34it/s]"
     ]
    },
    {
     "name": "stdout",
     "output_type": "stream",
     "text": [
      "\n",
      "\n"
     ]
    },
    {
     "name": "stderr",
     "output_type": "stream",
     "text": [
      "Train Epoch: 102 [25600/48625 (53%)]\tLoss: 6.469158\tTrain Prec@1 1.56 (2.51): : 401it [01:32,  4.34it/s]"
     ]
    },
    {
     "name": "stdout",
     "output_type": "stream",
     "text": [
      "\n",
      "\n"
     ]
    },
    {
     "name": "stderr",
     "output_type": "stream",
     "text": [
      "Train Epoch: 102 [25600/48625 (53%)]\tLoss: 6.469158\tTrain Prec@1 1.56 (2.51): : 403it [01:32,  4.34it/s]"
     ]
    },
    {
     "name": "stdout",
     "output_type": "stream",
     "text": [
      "\n",
      "\n"
     ]
    },
    {
     "name": "stderr",
     "output_type": "stream",
     "text": [
      "Train Epoch: 102 [25600/48625 (53%)]\tLoss: 6.469158\tTrain Prec@1 1.56 (2.51): : 405it [01:33,  4.34it/s]"
     ]
    },
    {
     "name": "stdout",
     "output_type": "stream",
     "text": [
      "\n",
      "\n"
     ]
    },
    {
     "name": "stderr",
     "output_type": "stream",
     "text": [
      "Train Epoch: 102 [25600/48625 (53%)]\tLoss: 6.469158\tTrain Prec@1 1.56 (2.51): : 407it [01:33,  4.34it/s]"
     ]
    },
    {
     "name": "stdout",
     "output_type": "stream",
     "text": [
      "\n",
      "\n"
     ]
    },
    {
     "name": "stderr",
     "output_type": "stream",
     "text": [
      "Train Epoch: 102 [25600/48625 (53%)]\tLoss: 6.469158\tTrain Prec@1 1.56 (2.51): : 409it [01:34,  4.34it/s]"
     ]
    },
    {
     "name": "stdout",
     "output_type": "stream",
     "text": [
      "\n",
      "\n"
     ]
    },
    {
     "name": "stderr",
     "output_type": "stream",
     "text": [
      "Train Epoch: 102 [26240/48625 (54%)]\tLoss: 6.565784\tTrain Prec@1 3.12 (2.48): : 411it [01:34,  4.34it/s]"
     ]
    },
    {
     "name": "stdout",
     "output_type": "stream",
     "text": [
      "\n",
      "\n"
     ]
    },
    {
     "name": "stderr",
     "output_type": "stream",
     "text": [
      "Train Epoch: 102 [26240/48625 (54%)]\tLoss: 6.565784\tTrain Prec@1 3.12 (2.48): : 413it [01:35,  4.34it/s]"
     ]
    },
    {
     "name": "stdout",
     "output_type": "stream",
     "text": [
      "\n",
      "\n"
     ]
    },
    {
     "name": "stderr",
     "output_type": "stream",
     "text": [
      "Train Epoch: 102 [26240/48625 (54%)]\tLoss: 6.565784\tTrain Prec@1 3.12 (2.48): : 415it [01:35,  4.34it/s]"
     ]
    },
    {
     "name": "stdout",
     "output_type": "stream",
     "text": [
      "\n",
      "\n"
     ]
    },
    {
     "name": "stderr",
     "output_type": "stream",
     "text": [
      "Train Epoch: 102 [26240/48625 (54%)]\tLoss: 6.565784\tTrain Prec@1 3.12 (2.48): : 417it [01:36,  4.34it/s]"
     ]
    },
    {
     "name": "stdout",
     "output_type": "stream",
     "text": [
      "\n",
      "\n"
     ]
    },
    {
     "name": "stderr",
     "output_type": "stream",
     "text": [
      "Train Epoch: 102 [26240/48625 (54%)]\tLoss: 6.565784\tTrain Prec@1 3.12 (2.48): : 419it [01:36,  4.34it/s]"
     ]
    },
    {
     "name": "stdout",
     "output_type": "stream",
     "text": [
      "\n",
      "\n"
     ]
    },
    {
     "name": "stderr",
     "output_type": "stream",
     "text": [
      "Train Epoch: 102 [26880/48625 (55%)]\tLoss: 6.658931\tTrain Prec@1 3.12 (2.49): : 421it [01:37,  4.34it/s]"
     ]
    },
    {
     "name": "stdout",
     "output_type": "stream",
     "text": [
      "\n",
      "\n"
     ]
    },
    {
     "name": "stderr",
     "output_type": "stream",
     "text": [
      "Train Epoch: 102 [26880/48625 (55%)]\tLoss: 6.658931\tTrain Prec@1 3.12 (2.49): : 423it [01:37,  4.34it/s]"
     ]
    },
    {
     "name": "stdout",
     "output_type": "stream",
     "text": [
      "\n",
      "\n"
     ]
    },
    {
     "name": "stderr",
     "output_type": "stream",
     "text": [
      "Train Epoch: 102 [26880/48625 (55%)]\tLoss: 6.658931\tTrain Prec@1 3.12 (2.49): : 425it [01:37,  4.34it/s]"
     ]
    },
    {
     "name": "stdout",
     "output_type": "stream",
     "text": [
      "\n",
      "\n"
     ]
    },
    {
     "name": "stderr",
     "output_type": "stream",
     "text": [
      "Train Epoch: 102 [26880/48625 (55%)]\tLoss: 6.658931\tTrain Prec@1 3.12 (2.49): : 427it [01:38,  4.34it/s]"
     ]
    },
    {
     "name": "stdout",
     "output_type": "stream",
     "text": [
      "\n",
      "\n"
     ]
    },
    {
     "name": "stderr",
     "output_type": "stream",
     "text": [
      "Train Epoch: 102 [26880/48625 (55%)]\tLoss: 6.658931\tTrain Prec@1 3.12 (2.49): : 429it [01:38,  4.34it/s]"
     ]
    },
    {
     "name": "stdout",
     "output_type": "stream",
     "text": [
      "\n",
      "\n"
     ]
    },
    {
     "name": "stderr",
     "output_type": "stream",
     "text": [
      "Train Epoch: 102 [27520/48625 (57%)]\tLoss: 6.713181\tTrain Prec@1 1.56 (2.49): : 431it [01:39,  4.34it/s]"
     ]
    },
    {
     "name": "stdout",
     "output_type": "stream",
     "text": [
      "\n",
      "\n"
     ]
    },
    {
     "name": "stderr",
     "output_type": "stream",
     "text": [
      "Train Epoch: 102 [27520/48625 (57%)]\tLoss: 6.713181\tTrain Prec@1 1.56 (2.49): : 433it [01:39,  4.34it/s]"
     ]
    },
    {
     "name": "stdout",
     "output_type": "stream",
     "text": [
      "\n",
      "\n"
     ]
    },
    {
     "name": "stderr",
     "output_type": "stream",
     "text": [
      "Train Epoch: 102 [27520/48625 (57%)]\tLoss: 6.713181\tTrain Prec@1 1.56 (2.49): : 435it [01:40,  4.34it/s]"
     ]
    },
    {
     "name": "stdout",
     "output_type": "stream",
     "text": [
      "\n",
      "\n"
     ]
    },
    {
     "name": "stderr",
     "output_type": "stream",
     "text": [
      "Train Epoch: 102 [27520/48625 (57%)]\tLoss: 6.713181\tTrain Prec@1 1.56 (2.49): : 437it [01:40,  4.34it/s]"
     ]
    },
    {
     "name": "stdout",
     "output_type": "stream",
     "text": [
      "\n",
      "\n"
     ]
    },
    {
     "name": "stderr",
     "output_type": "stream",
     "text": [
      "Train Epoch: 102 [27520/48625 (57%)]\tLoss: 6.713181\tTrain Prec@1 1.56 (2.49): : 439it [01:41,  4.34it/s]"
     ]
    },
    {
     "name": "stdout",
     "output_type": "stream",
     "text": [
      "\n",
      "\n"
     ]
    },
    {
     "name": "stderr",
     "output_type": "stream",
     "text": [
      "Train Epoch: 102 [28160/48625 (58%)]\tLoss: 6.465741\tTrain Prec@1 3.12 (2.50): : 441it [01:41,  4.34it/s]"
     ]
    },
    {
     "name": "stdout",
     "output_type": "stream",
     "text": [
      "\n",
      "\n"
     ]
    },
    {
     "name": "stderr",
     "output_type": "stream",
     "text": [
      "Train Epoch: 102 [28160/48625 (58%)]\tLoss: 6.465741\tTrain Prec@1 3.12 (2.50): : 443it [01:42,  4.34it/s]"
     ]
    },
    {
     "name": "stdout",
     "output_type": "stream",
     "text": [
      "\n",
      "\n"
     ]
    },
    {
     "name": "stderr",
     "output_type": "stream",
     "text": [
      "Train Epoch: 102 [28160/48625 (58%)]\tLoss: 6.465741\tTrain Prec@1 3.12 (2.50): : 445it [01:42,  4.34it/s]"
     ]
    },
    {
     "name": "stdout",
     "output_type": "stream",
     "text": [
      "\n",
      "\n"
     ]
    },
    {
     "name": "stderr",
     "output_type": "stream",
     "text": [
      "Train Epoch: 102 [28160/48625 (58%)]\tLoss: 6.465741\tTrain Prec@1 3.12 (2.50): : 447it [01:42,  4.34it/s]"
     ]
    },
    {
     "name": "stdout",
     "output_type": "stream",
     "text": [
      "\n",
      "\n"
     ]
    },
    {
     "name": "stderr",
     "output_type": "stream",
     "text": [
      "Train Epoch: 102 [28160/48625 (58%)]\tLoss: 6.465741\tTrain Prec@1 3.12 (2.50): : 449it [01:43,  4.34it/s]"
     ]
    },
    {
     "name": "stdout",
     "output_type": "stream",
     "text": [
      "\n",
      "\n"
     ]
    },
    {
     "name": "stderr",
     "output_type": "stream",
     "text": [
      "Train Epoch: 102 [28800/48625 (59%)]\tLoss: 6.855296\tTrain Prec@1 1.56 (2.52): : 451it [01:43,  4.34it/s]"
     ]
    },
    {
     "name": "stdout",
     "output_type": "stream",
     "text": [
      "\n",
      "\n"
     ]
    },
    {
     "name": "stderr",
     "output_type": "stream",
     "text": [
      "Train Epoch: 102 [28800/48625 (59%)]\tLoss: 6.855296\tTrain Prec@1 1.56 (2.52): : 453it [01:44,  4.34it/s]"
     ]
    },
    {
     "name": "stdout",
     "output_type": "stream",
     "text": [
      "\n",
      "\n"
     ]
    },
    {
     "name": "stderr",
     "output_type": "stream",
     "text": [
      "Train Epoch: 102 [28800/48625 (59%)]\tLoss: 6.855296\tTrain Prec@1 1.56 (2.52): : 455it [01:44,  4.34it/s]"
     ]
    },
    {
     "name": "stdout",
     "output_type": "stream",
     "text": [
      "\n",
      "\n"
     ]
    },
    {
     "name": "stderr",
     "output_type": "stream",
     "text": [
      "Train Epoch: 102 [28800/48625 (59%)]\tLoss: 6.855296\tTrain Prec@1 1.56 (2.52): : 457it [01:45,  4.34it/s]"
     ]
    },
    {
     "name": "stdout",
     "output_type": "stream",
     "text": [
      "\n",
      "\n"
     ]
    },
    {
     "name": "stderr",
     "output_type": "stream",
     "text": [
      "Train Epoch: 102 [28800/48625 (59%)]\tLoss: 6.855296\tTrain Prec@1 1.56 (2.52): : 459it [01:45,  4.35it/s]"
     ]
    },
    {
     "name": "stdout",
     "output_type": "stream",
     "text": [
      "\n",
      "\n"
     ]
    },
    {
     "name": "stderr",
     "output_type": "stream",
     "text": [
      "Train Epoch: 102 [29440/48625 (61%)]\tLoss: 6.672464\tTrain Prec@1 1.56 (2.52): : 461it [01:46,  4.34it/s]"
     ]
    },
    {
     "name": "stdout",
     "output_type": "stream",
     "text": [
      "\n",
      "\n"
     ]
    },
    {
     "name": "stderr",
     "output_type": "stream",
     "text": [
      "Train Epoch: 102 [29440/48625 (61%)]\tLoss: 6.672464\tTrain Prec@1 1.56 (2.52): : 463it [01:46,  4.35it/s]"
     ]
    },
    {
     "name": "stdout",
     "output_type": "stream",
     "text": [
      "\n",
      "\n"
     ]
    },
    {
     "name": "stderr",
     "output_type": "stream",
     "text": [
      "Train Epoch: 102 [29440/48625 (61%)]\tLoss: 6.672464\tTrain Prec@1 1.56 (2.52): : 465it [01:46,  4.35it/s]"
     ]
    },
    {
     "name": "stdout",
     "output_type": "stream",
     "text": [
      "\n",
      "\n"
     ]
    },
    {
     "name": "stderr",
     "output_type": "stream",
     "text": [
      "Train Epoch: 102 [29440/48625 (61%)]\tLoss: 6.672464\tTrain Prec@1 1.56 (2.52): : 467it [01:47,  4.35it/s]"
     ]
    },
    {
     "name": "stdout",
     "output_type": "stream",
     "text": [
      "\n",
      "\n"
     ]
    },
    {
     "name": "stderr",
     "output_type": "stream",
     "text": [
      "Train Epoch: 102 [29440/48625 (61%)]\tLoss: 6.672464\tTrain Prec@1 1.56 (2.52): : 469it [01:47,  4.35it/s]"
     ]
    },
    {
     "name": "stdout",
     "output_type": "stream",
     "text": [
      "\n",
      "\n"
     ]
    },
    {
     "name": "stderr",
     "output_type": "stream",
     "text": [
      "Train Epoch: 102 [30080/48625 (62%)]\tLoss: 6.545729\tTrain Prec@1 1.56 (2.53): : 471it [01:48,  4.35it/s]"
     ]
    },
    {
     "name": "stdout",
     "output_type": "stream",
     "text": [
      "\n",
      "\n"
     ]
    },
    {
     "name": "stderr",
     "output_type": "stream",
     "text": [
      "Train Epoch: 102 [30080/48625 (62%)]\tLoss: 6.545729\tTrain Prec@1 1.56 (2.53): : 473it [01:48,  4.35it/s]"
     ]
    },
    {
     "name": "stdout",
     "output_type": "stream",
     "text": [
      "\n",
      "\n"
     ]
    },
    {
     "name": "stderr",
     "output_type": "stream",
     "text": [
      "Train Epoch: 102 [30080/48625 (62%)]\tLoss: 6.545729\tTrain Prec@1 1.56 (2.53): : 475it [01:49,  4.35it/s]"
     ]
    },
    {
     "name": "stdout",
     "output_type": "stream",
     "text": [
      "\n",
      "\n"
     ]
    },
    {
     "name": "stderr",
     "output_type": "stream",
     "text": [
      "Train Epoch: 102 [30080/48625 (62%)]\tLoss: 6.545729\tTrain Prec@1 1.56 (2.53): : 477it [01:49,  4.35it/s]"
     ]
    },
    {
     "name": "stdout",
     "output_type": "stream",
     "text": [
      "\n",
      "\n"
     ]
    },
    {
     "name": "stderr",
     "output_type": "stream",
     "text": [
      "Train Epoch: 102 [30080/48625 (62%)]\tLoss: 6.545729\tTrain Prec@1 1.56 (2.53): : 479it [01:50,  4.35it/s]"
     ]
    },
    {
     "name": "stdout",
     "output_type": "stream",
     "text": [
      "\n",
      "\n"
     ]
    },
    {
     "name": "stderr",
     "output_type": "stream",
     "text": [
      "Train Epoch: 102 [30720/48625 (63%)]\tLoss: 6.584163\tTrain Prec@1 4.69 (2.54): : 481it [01:50,  4.35it/s]"
     ]
    },
    {
     "name": "stdout",
     "output_type": "stream",
     "text": [
      "\n",
      "\n"
     ]
    },
    {
     "name": "stderr",
     "output_type": "stream",
     "text": [
      "Train Epoch: 102 [30720/48625 (63%)]\tLoss: 6.584163\tTrain Prec@1 4.69 (2.54): : 483it [01:51,  4.35it/s]"
     ]
    },
    {
     "name": "stdout",
     "output_type": "stream",
     "text": [
      "\n",
      "\n"
     ]
    },
    {
     "name": "stderr",
     "output_type": "stream",
     "text": [
      "Train Epoch: 102 [30720/48625 (63%)]\tLoss: 6.584163\tTrain Prec@1 4.69 (2.54): : 485it [01:51,  4.35it/s]"
     ]
    },
    {
     "name": "stdout",
     "output_type": "stream",
     "text": [
      "\n",
      "\n"
     ]
    },
    {
     "name": "stderr",
     "output_type": "stream",
     "text": [
      "Train Epoch: 102 [30720/48625 (63%)]\tLoss: 6.584163\tTrain Prec@1 4.69 (2.54): : 487it [01:51,  4.35it/s]"
     ]
    },
    {
     "name": "stdout",
     "output_type": "stream",
     "text": [
      "\n",
      "\n"
     ]
    },
    {
     "name": "stderr",
     "output_type": "stream",
     "text": [
      "Train Epoch: 102 [30720/48625 (63%)]\tLoss: 6.584163\tTrain Prec@1 4.69 (2.54): : 489it [01:52,  4.35it/s]"
     ]
    },
    {
     "name": "stdout",
     "output_type": "stream",
     "text": [
      "\n",
      "\n"
     ]
    },
    {
     "name": "stderr",
     "output_type": "stream",
     "text": [
      "Train Epoch: 102 [31360/48625 (64%)]\tLoss: 6.635796\tTrain Prec@1 3.12 (2.56): : 491it [01:52,  4.35it/s]"
     ]
    },
    {
     "name": "stdout",
     "output_type": "stream",
     "text": [
      "\n",
      "\n"
     ]
    },
    {
     "name": "stderr",
     "output_type": "stream",
     "text": [
      "Train Epoch: 102 [31360/48625 (64%)]\tLoss: 6.635796\tTrain Prec@1 3.12 (2.56): : 493it [01:53,  4.35it/s]"
     ]
    },
    {
     "name": "stdout",
     "output_type": "stream",
     "text": [
      "\n",
      "\n"
     ]
    },
    {
     "name": "stderr",
     "output_type": "stream",
     "text": [
      "Train Epoch: 102 [31360/48625 (64%)]\tLoss: 6.635796\tTrain Prec@1 3.12 (2.56): : 495it [01:53,  4.35it/s]"
     ]
    },
    {
     "name": "stdout",
     "output_type": "stream",
     "text": [
      "\n",
      "\n"
     ]
    },
    {
     "name": "stderr",
     "output_type": "stream",
     "text": [
      "Train Epoch: 102 [31360/48625 (64%)]\tLoss: 6.635796\tTrain Prec@1 3.12 (2.56): : 497it [01:54,  4.35it/s]"
     ]
    },
    {
     "name": "stdout",
     "output_type": "stream",
     "text": [
      "\n",
      "\n"
     ]
    },
    {
     "name": "stderr",
     "output_type": "stream",
     "text": [
      "Train Epoch: 102 [31360/48625 (64%)]\tLoss: 6.635796\tTrain Prec@1 3.12 (2.56): : 499it [01:54,  4.35it/s]"
     ]
    },
    {
     "name": "stdout",
     "output_type": "stream",
     "text": [
      "\n",
      "\n"
     ]
    },
    {
     "name": "stderr",
     "output_type": "stream",
     "text": [
      "Train Epoch: 102 [32000/48625 (66%)]\tLoss: 6.738379\tTrain Prec@1 1.56 (2.56): : 501it [01:55,  4.35it/s]"
     ]
    },
    {
     "name": "stdout",
     "output_type": "stream",
     "text": [
      "\n",
      "\n"
     ]
    },
    {
     "name": "stderr",
     "output_type": "stream",
     "text": [
      "Train Epoch: 102 [32000/48625 (66%)]\tLoss: 6.738379\tTrain Prec@1 1.56 (2.56): : 503it [01:55,  4.35it/s]"
     ]
    },
    {
     "name": "stdout",
     "output_type": "stream",
     "text": [
      "\n",
      "\n"
     ]
    },
    {
     "name": "stderr",
     "output_type": "stream",
     "text": [
      "Train Epoch: 102 [32000/48625 (66%)]\tLoss: 6.738379\tTrain Prec@1 1.56 (2.56): : 505it [01:55,  4.35it/s]"
     ]
    },
    {
     "name": "stdout",
     "output_type": "stream",
     "text": [
      "\n",
      "\n"
     ]
    },
    {
     "name": "stderr",
     "output_type": "stream",
     "text": [
      "Train Epoch: 102 [32000/48625 (66%)]\tLoss: 6.738379\tTrain Prec@1 1.56 (2.56): : 507it [01:56,  4.35it/s]"
     ]
    },
    {
     "name": "stdout",
     "output_type": "stream",
     "text": [
      "\n",
      "\n"
     ]
    },
    {
     "name": "stderr",
     "output_type": "stream",
     "text": [
      "Train Epoch: 102 [32000/48625 (66%)]\tLoss: 6.738379\tTrain Prec@1 1.56 (2.56): : 509it [01:56,  4.35it/s]"
     ]
    },
    {
     "name": "stdout",
     "output_type": "stream",
     "text": [
      "\n",
      "\n"
     ]
    },
    {
     "name": "stderr",
     "output_type": "stream",
     "text": [
      "Train Epoch: 102 [32640/48625 (67%)]\tLoss: 6.875848\tTrain Prec@1 1.56 (2.54): : 511it [01:57,  4.35it/s]"
     ]
    },
    {
     "name": "stdout",
     "output_type": "stream",
     "text": [
      "\n",
      "\n"
     ]
    },
    {
     "name": "stderr",
     "output_type": "stream",
     "text": [
      "Train Epoch: 102 [32640/48625 (67%)]\tLoss: 6.875848\tTrain Prec@1 1.56 (2.54): : 513it [01:57,  4.36it/s]"
     ]
    },
    {
     "name": "stdout",
     "output_type": "stream",
     "text": [
      "\n",
      "\n"
     ]
    },
    {
     "name": "stderr",
     "output_type": "stream",
     "text": [
      "Train Epoch: 102 [32640/48625 (67%)]\tLoss: 6.875848\tTrain Prec@1 1.56 (2.54): : 515it [01:58,  4.35it/s]"
     ]
    },
    {
     "name": "stdout",
     "output_type": "stream",
     "text": [
      "\n",
      "\n"
     ]
    },
    {
     "name": "stderr",
     "output_type": "stream",
     "text": [
      "Train Epoch: 102 [32640/48625 (67%)]\tLoss: 6.875848\tTrain Prec@1 1.56 (2.54): : 517it [01:58,  4.35it/s]"
     ]
    },
    {
     "name": "stdout",
     "output_type": "stream",
     "text": [
      "\n",
      "\n"
     ]
    },
    {
     "name": "stderr",
     "output_type": "stream",
     "text": [
      "Train Epoch: 102 [32640/48625 (67%)]\tLoss: 6.875848\tTrain Prec@1 1.56 (2.54): : 519it [01:59,  4.35it/s]"
     ]
    },
    {
     "name": "stdout",
     "output_type": "stream",
     "text": [
      "\n",
      "\n"
     ]
    },
    {
     "name": "stderr",
     "output_type": "stream",
     "text": [
      "Train Epoch: 102 [33280/48625 (68%)]\tLoss: 6.648412\tTrain Prec@1 0.00 (2.54): : 521it [01:59,  4.35it/s]"
     ]
    },
    {
     "name": "stdout",
     "output_type": "stream",
     "text": [
      "\n",
      "\n"
     ]
    },
    {
     "name": "stderr",
     "output_type": "stream",
     "text": [
      "Train Epoch: 102 [33280/48625 (68%)]\tLoss: 6.648412\tTrain Prec@1 0.00 (2.54): : 523it [02:00,  4.35it/s]"
     ]
    },
    {
     "name": "stdout",
     "output_type": "stream",
     "text": [
      "\n",
      "\n"
     ]
    },
    {
     "name": "stderr",
     "output_type": "stream",
     "text": [
      "Train Epoch: 102 [33280/48625 (68%)]\tLoss: 6.648412\tTrain Prec@1 0.00 (2.54): : 525it [02:00,  4.35it/s]"
     ]
    },
    {
     "name": "stdout",
     "output_type": "stream",
     "text": [
      "\n",
      "\n"
     ]
    },
    {
     "name": "stderr",
     "output_type": "stream",
     "text": [
      "Train Epoch: 102 [33280/48625 (68%)]\tLoss: 6.648412\tTrain Prec@1 0.00 (2.54): : 527it [02:01,  4.35it/s]"
     ]
    },
    {
     "name": "stdout",
     "output_type": "stream",
     "text": [
      "\n",
      "\n"
     ]
    },
    {
     "name": "stderr",
     "output_type": "stream",
     "text": [
      "Train Epoch: 102 [33280/48625 (68%)]\tLoss: 6.648412\tTrain Prec@1 0.00 (2.54): : 529it [02:01,  4.35it/s]"
     ]
    },
    {
     "name": "stdout",
     "output_type": "stream",
     "text": [
      "\n",
      "\n"
     ]
    },
    {
     "name": "stderr",
     "output_type": "stream",
     "text": [
      "Train Epoch: 102 [33920/48625 (70%)]\tLoss: 6.630991\tTrain Prec@1 1.56 (2.56): : 531it [02:02,  4.35it/s]"
     ]
    },
    {
     "name": "stdout",
     "output_type": "stream",
     "text": [
      "\n",
      "\n"
     ]
    },
    {
     "name": "stderr",
     "output_type": "stream",
     "text": [
      "Train Epoch: 102 [33920/48625 (70%)]\tLoss: 6.630991\tTrain Prec@1 1.56 (2.56): : 533it [02:02,  4.35it/s]"
     ]
    },
    {
     "name": "stdout",
     "output_type": "stream",
     "text": [
      "\n",
      "\n"
     ]
    },
    {
     "name": "stderr",
     "output_type": "stream",
     "text": [
      "Train Epoch: 102 [33920/48625 (70%)]\tLoss: 6.630991\tTrain Prec@1 1.56 (2.56): : 535it [02:02,  4.35it/s]"
     ]
    },
    {
     "name": "stdout",
     "output_type": "stream",
     "text": [
      "\n",
      "\n"
     ]
    },
    {
     "name": "stderr",
     "output_type": "stream",
     "text": [
      "Train Epoch: 102 [33920/48625 (70%)]\tLoss: 6.630991\tTrain Prec@1 1.56 (2.56): : 537it [02:03,  4.35it/s]"
     ]
    },
    {
     "name": "stdout",
     "output_type": "stream",
     "text": [
      "\n",
      "\n"
     ]
    },
    {
     "name": "stderr",
     "output_type": "stream",
     "text": [
      "Train Epoch: 102 [33920/48625 (70%)]\tLoss: 6.630991\tTrain Prec@1 1.56 (2.56): : 539it [02:03,  4.35it/s]"
     ]
    },
    {
     "name": "stdout",
     "output_type": "stream",
     "text": [
      "\n",
      "\n"
     ]
    },
    {
     "name": "stderr",
     "output_type": "stream",
     "text": [
      "Train Epoch: 102 [34560/48625 (71%)]\tLoss: 6.675968\tTrain Prec@1 4.69 (2.57): : 541it [02:04,  4.35it/s]"
     ]
    },
    {
     "name": "stdout",
     "output_type": "stream",
     "text": [
      "\n",
      "\n"
     ]
    },
    {
     "name": "stderr",
     "output_type": "stream",
     "text": [
      "Train Epoch: 102 [34560/48625 (71%)]\tLoss: 6.675968\tTrain Prec@1 4.69 (2.57): : 543it [02:04,  4.35it/s]"
     ]
    },
    {
     "name": "stdout",
     "output_type": "stream",
     "text": [
      "\n",
      "\n"
     ]
    },
    {
     "name": "stderr",
     "output_type": "stream",
     "text": [
      "Train Epoch: 102 [34560/48625 (71%)]\tLoss: 6.675968\tTrain Prec@1 4.69 (2.57): : 545it [02:05,  4.35it/s]"
     ]
    },
    {
     "name": "stdout",
     "output_type": "stream",
     "text": [
      "\n",
      "\n"
     ]
    },
    {
     "name": "stderr",
     "output_type": "stream",
     "text": [
      "Train Epoch: 102 [34560/48625 (71%)]\tLoss: 6.675968\tTrain Prec@1 4.69 (2.57): : 547it [02:05,  4.35it/s]"
     ]
    },
    {
     "name": "stdout",
     "output_type": "stream",
     "text": [
      "\n",
      "\n"
     ]
    },
    {
     "name": "stderr",
     "output_type": "stream",
     "text": [
      "Train Epoch: 102 [34560/48625 (71%)]\tLoss: 6.675968\tTrain Prec@1 4.69 (2.57): : 549it [02:06,  4.35it/s]"
     ]
    },
    {
     "name": "stdout",
     "output_type": "stream",
     "text": [
      "\n",
      "\n"
     ]
    },
    {
     "name": "stderr",
     "output_type": "stream",
     "text": [
      "Train Epoch: 102 [35200/48625 (72%)]\tLoss: 6.403471\tTrain Prec@1 4.69 (2.58): : 551it [02:06,  4.36it/s]"
     ]
    },
    {
     "name": "stdout",
     "output_type": "stream",
     "text": [
      "\n",
      "\n"
     ]
    },
    {
     "name": "stderr",
     "output_type": "stream",
     "text": [
      "Train Epoch: 102 [35200/48625 (72%)]\tLoss: 6.403471\tTrain Prec@1 4.69 (2.58): : 553it [02:06,  4.36it/s]"
     ]
    },
    {
     "name": "stdout",
     "output_type": "stream",
     "text": [
      "\n",
      "\n"
     ]
    },
    {
     "name": "stderr",
     "output_type": "stream",
     "text": [
      "Train Epoch: 102 [35200/48625 (72%)]\tLoss: 6.403471\tTrain Prec@1 4.69 (2.58): : 555it [02:07,  4.36it/s]"
     ]
    },
    {
     "name": "stdout",
     "output_type": "stream",
     "text": [
      "\n",
      "\n"
     ]
    },
    {
     "name": "stderr",
     "output_type": "stream",
     "text": [
      "Train Epoch: 102 [35200/48625 (72%)]\tLoss: 6.403471\tTrain Prec@1 4.69 (2.58): : 557it [02:07,  4.36it/s]"
     ]
    },
    {
     "name": "stdout",
     "output_type": "stream",
     "text": [
      "\n",
      "\n"
     ]
    },
    {
     "name": "stderr",
     "output_type": "stream",
     "text": [
      "Train Epoch: 102 [35200/48625 (72%)]\tLoss: 6.403471\tTrain Prec@1 4.69 (2.58): : 559it [02:08,  4.36it/s]"
     ]
    },
    {
     "name": "stdout",
     "output_type": "stream",
     "text": [
      "\n",
      "\n"
     ]
    },
    {
     "name": "stderr",
     "output_type": "stream",
     "text": [
      "Train Epoch: 102 [35840/48625 (74%)]\tLoss: 6.842914\tTrain Prec@1 1.56 (2.59): : 561it [02:08,  4.36it/s]"
     ]
    },
    {
     "name": "stdout",
     "output_type": "stream",
     "text": [
      "\n",
      "\n"
     ]
    },
    {
     "name": "stderr",
     "output_type": "stream",
     "text": [
      "Train Epoch: 102 [35840/48625 (74%)]\tLoss: 6.842914\tTrain Prec@1 1.56 (2.59): : 563it [02:09,  4.36it/s]"
     ]
    },
    {
     "name": "stdout",
     "output_type": "stream",
     "text": [
      "\n",
      "\n"
     ]
    },
    {
     "name": "stderr",
     "output_type": "stream",
     "text": [
      "Train Epoch: 102 [35840/48625 (74%)]\tLoss: 6.842914\tTrain Prec@1 1.56 (2.59): : 565it [02:09,  4.36it/s]"
     ]
    },
    {
     "name": "stdout",
     "output_type": "stream",
     "text": [
      "\n",
      "\n"
     ]
    },
    {
     "name": "stderr",
     "output_type": "stream",
     "text": [
      "Train Epoch: 102 [35840/48625 (74%)]\tLoss: 6.842914\tTrain Prec@1 1.56 (2.59): : 567it [02:10,  4.36it/s]"
     ]
    },
    {
     "name": "stdout",
     "output_type": "stream",
     "text": [
      "\n",
      "\n"
     ]
    },
    {
     "name": "stderr",
     "output_type": "stream",
     "text": [
      "Train Epoch: 102 [35840/48625 (74%)]\tLoss: 6.842914\tTrain Prec@1 1.56 (2.59): : 569it [02:10,  4.36it/s]"
     ]
    },
    {
     "name": "stdout",
     "output_type": "stream",
     "text": [
      "\n",
      "\n"
     ]
    },
    {
     "name": "stderr",
     "output_type": "stream",
     "text": [
      "Train Epoch: 102 [36480/48625 (75%)]\tLoss: 6.750089\tTrain Prec@1 4.69 (2.61): : 571it [02:11,  4.36it/s]"
     ]
    },
    {
     "name": "stdout",
     "output_type": "stream",
     "text": [
      "\n",
      "\n"
     ]
    },
    {
     "name": "stderr",
     "output_type": "stream",
     "text": [
      "Train Epoch: 102 [36480/48625 (75%)]\tLoss: 6.750089\tTrain Prec@1 4.69 (2.61): : 573it [02:11,  4.36it/s]"
     ]
    },
    {
     "name": "stdout",
     "output_type": "stream",
     "text": [
      "\n",
      "\n"
     ]
    },
    {
     "name": "stderr",
     "output_type": "stream",
     "text": [
      "Train Epoch: 102 [36480/48625 (75%)]\tLoss: 6.750089\tTrain Prec@1 4.69 (2.61): : 575it [02:11,  4.36it/s]"
     ]
    },
    {
     "name": "stdout",
     "output_type": "stream",
     "text": [
      "\n",
      "\n"
     ]
    },
    {
     "name": "stderr",
     "output_type": "stream",
     "text": [
      "Train Epoch: 102 [36480/48625 (75%)]\tLoss: 6.750089\tTrain Prec@1 4.69 (2.61): : 577it [02:12,  4.36it/s]"
     ]
    },
    {
     "name": "stdout",
     "output_type": "stream",
     "text": [
      "\n",
      "\n"
     ]
    },
    {
     "name": "stderr",
     "output_type": "stream",
     "text": [
      "Train Epoch: 102 [36480/48625 (75%)]\tLoss: 6.750089\tTrain Prec@1 4.69 (2.61): : 579it [02:12,  4.36it/s]"
     ]
    },
    {
     "name": "stdout",
     "output_type": "stream",
     "text": [
      "\n",
      "\n"
     ]
    },
    {
     "name": "stderr",
     "output_type": "stream",
     "text": [
      "Train Epoch: 102 [37120/48625 (76%)]\tLoss: 6.672695\tTrain Prec@1 3.12 (2.61): : 581it [02:13,  4.36it/s]"
     ]
    },
    {
     "name": "stdout",
     "output_type": "stream",
     "text": [
      "\n",
      "\n"
     ]
    },
    {
     "name": "stderr",
     "output_type": "stream",
     "text": [
      "Train Epoch: 102 [37120/48625 (76%)]\tLoss: 6.672695\tTrain Prec@1 3.12 (2.61): : 583it [02:13,  4.36it/s]"
     ]
    },
    {
     "name": "stdout",
     "output_type": "stream",
     "text": [
      "\n",
      "\n"
     ]
    },
    {
     "name": "stderr",
     "output_type": "stream",
     "text": [
      "Train Epoch: 102 [37120/48625 (76%)]\tLoss: 6.672695\tTrain Prec@1 3.12 (2.61): : 585it [02:14,  4.36it/s]"
     ]
    },
    {
     "name": "stdout",
     "output_type": "stream",
     "text": [
      "\n",
      "\n"
     ]
    },
    {
     "name": "stderr",
     "output_type": "stream",
     "text": [
      "Train Epoch: 102 [37120/48625 (76%)]\tLoss: 6.672695\tTrain Prec@1 3.12 (2.61): : 587it [02:14,  4.36it/s]"
     ]
    },
    {
     "name": "stdout",
     "output_type": "stream",
     "text": [
      "\n",
      "\n"
     ]
    },
    {
     "name": "stderr",
     "output_type": "stream",
     "text": [
      "Train Epoch: 102 [37120/48625 (76%)]\tLoss: 6.672695\tTrain Prec@1 3.12 (2.61): : 589it [02:15,  4.36it/s]"
     ]
    },
    {
     "name": "stdout",
     "output_type": "stream",
     "text": [
      "\n",
      "\n"
     ]
    },
    {
     "name": "stderr",
     "output_type": "stream",
     "text": [
      "Train Epoch: 102 [37760/48625 (78%)]\tLoss: 6.248140\tTrain Prec@1 7.81 (2.63): : 591it [02:15,  4.36it/s]"
     ]
    },
    {
     "name": "stdout",
     "output_type": "stream",
     "text": [
      "\n",
      "\n"
     ]
    },
    {
     "name": "stderr",
     "output_type": "stream",
     "text": [
      "Train Epoch: 102 [37760/48625 (78%)]\tLoss: 6.248140\tTrain Prec@1 7.81 (2.63): : 593it [02:15,  4.36it/s]"
     ]
    },
    {
     "name": "stdout",
     "output_type": "stream",
     "text": [
      "\n",
      "\n"
     ]
    },
    {
     "name": "stderr",
     "output_type": "stream",
     "text": [
      "Train Epoch: 102 [37760/48625 (78%)]\tLoss: 6.248140\tTrain Prec@1 7.81 (2.63): : 595it [02:16,  4.36it/s]"
     ]
    },
    {
     "name": "stdout",
     "output_type": "stream",
     "text": [
      "\n",
      "\n"
     ]
    },
    {
     "name": "stderr",
     "output_type": "stream",
     "text": [
      "Train Epoch: 102 [37760/48625 (78%)]\tLoss: 6.248140\tTrain Prec@1 7.81 (2.63): : 597it [02:16,  4.36it/s]"
     ]
    },
    {
     "name": "stdout",
     "output_type": "stream",
     "text": [
      "\n",
      "\n"
     ]
    },
    {
     "name": "stderr",
     "output_type": "stream",
     "text": [
      "Train Epoch: 102 [37760/48625 (78%)]\tLoss: 6.248140\tTrain Prec@1 7.81 (2.63): : 599it [02:17,  4.36it/s]"
     ]
    },
    {
     "name": "stdout",
     "output_type": "stream",
     "text": [
      "\n",
      "\n"
     ]
    },
    {
     "name": "stderr",
     "output_type": "stream",
     "text": [
      "Train Epoch: 102 [38400/48625 (79%)]\tLoss: 6.764882\tTrain Prec@1 3.12 (2.64): : 601it [02:17,  4.36it/s]"
     ]
    },
    {
     "name": "stdout",
     "output_type": "stream",
     "text": [
      "\n",
      "\n"
     ]
    },
    {
     "name": "stderr",
     "output_type": "stream",
     "text": [
      "Train Epoch: 102 [38400/48625 (79%)]\tLoss: 6.764882\tTrain Prec@1 3.12 (2.64): : 603it [02:18,  4.36it/s]"
     ]
    },
    {
     "name": "stdout",
     "output_type": "stream",
     "text": [
      "\n",
      "\n"
     ]
    },
    {
     "name": "stderr",
     "output_type": "stream",
     "text": [
      "Train Epoch: 102 [38400/48625 (79%)]\tLoss: 6.764882\tTrain Prec@1 3.12 (2.64): : 605it [02:18,  4.36it/s]"
     ]
    },
    {
     "name": "stdout",
     "output_type": "stream",
     "text": [
      "\n",
      "\n"
     ]
    },
    {
     "name": "stderr",
     "output_type": "stream",
     "text": [
      "Train Epoch: 102 [38400/48625 (79%)]\tLoss: 6.764882\tTrain Prec@1 3.12 (2.64): : 607it [02:19,  4.36it/s]"
     ]
    },
    {
     "name": "stdout",
     "output_type": "stream",
     "text": [
      "\n",
      "\n"
     ]
    },
    {
     "name": "stderr",
     "output_type": "stream",
     "text": [
      "Train Epoch: 102 [38400/48625 (79%)]\tLoss: 6.764882\tTrain Prec@1 3.12 (2.64): : 609it [02:19,  4.36it/s]"
     ]
    },
    {
     "name": "stdout",
     "output_type": "stream",
     "text": [
      "\n",
      "\n"
     ]
    },
    {
     "name": "stderr",
     "output_type": "stream",
     "text": [
      "Train Epoch: 102 [39040/48625 (80%)]\tLoss: 6.354939\tTrain Prec@1 4.69 (2.66): : 611it [02:20,  4.36it/s]"
     ]
    },
    {
     "name": "stdout",
     "output_type": "stream",
     "text": [
      "\n",
      "\n"
     ]
    },
    {
     "name": "stderr",
     "output_type": "stream",
     "text": [
      "Train Epoch: 102 [39040/48625 (80%)]\tLoss: 6.354939\tTrain Prec@1 4.69 (2.66): : 613it [02:20,  4.36it/s]"
     ]
    },
    {
     "name": "stdout",
     "output_type": "stream",
     "text": [
      "\n",
      "\n"
     ]
    },
    {
     "name": "stderr",
     "output_type": "stream",
     "text": [
      "Train Epoch: 102 [39040/48625 (80%)]\tLoss: 6.354939\tTrain Prec@1 4.69 (2.66): : 615it [02:20,  4.36it/s]"
     ]
    },
    {
     "name": "stdout",
     "output_type": "stream",
     "text": [
      "\n",
      "\n"
     ]
    },
    {
     "name": "stderr",
     "output_type": "stream",
     "text": [
      "Train Epoch: 102 [39040/48625 (80%)]\tLoss: 6.354939\tTrain Prec@1 4.69 (2.66): : 617it [02:21,  4.36it/s]"
     ]
    },
    {
     "name": "stdout",
     "output_type": "stream",
     "text": [
      "\n",
      "\n"
     ]
    },
    {
     "name": "stderr",
     "output_type": "stream",
     "text": [
      "Train Epoch: 102 [39040/48625 (80%)]\tLoss: 6.354939\tTrain Prec@1 4.69 (2.66): : 619it [02:21,  4.36it/s]"
     ]
    },
    {
     "name": "stdout",
     "output_type": "stream",
     "text": [
      "\n",
      "\n"
     ]
    },
    {
     "name": "stderr",
     "output_type": "stream",
     "text": [
      "Train Epoch: 102 [39680/48625 (82%)]\tLoss: 6.650218\tTrain Prec@1 1.56 (2.67): : 621it [02:22,  4.36it/s]"
     ]
    },
    {
     "name": "stdout",
     "output_type": "stream",
     "text": [
      "\n",
      "\n"
     ]
    },
    {
     "name": "stderr",
     "output_type": "stream",
     "text": [
      "Train Epoch: 102 [39680/48625 (82%)]\tLoss: 6.650218\tTrain Prec@1 1.56 (2.67): : 623it [02:22,  4.36it/s]"
     ]
    },
    {
     "name": "stdout",
     "output_type": "stream",
     "text": [
      "\n",
      "\n"
     ]
    },
    {
     "name": "stderr",
     "output_type": "stream",
     "text": [
      "Train Epoch: 102 [39680/48625 (82%)]\tLoss: 6.650218\tTrain Prec@1 1.56 (2.67): : 625it [02:23,  4.36it/s]"
     ]
    },
    {
     "name": "stdout",
     "output_type": "stream",
     "text": [
      "\n",
      "\n"
     ]
    },
    {
     "name": "stderr",
     "output_type": "stream",
     "text": [
      "Train Epoch: 102 [39680/48625 (82%)]\tLoss: 6.650218\tTrain Prec@1 1.56 (2.67): : 627it [02:23,  4.36it/s]"
     ]
    },
    {
     "name": "stdout",
     "output_type": "stream",
     "text": [
      "\n",
      "\n"
     ]
    },
    {
     "name": "stderr",
     "output_type": "stream",
     "text": [
      "Train Epoch: 102 [39680/48625 (82%)]\tLoss: 6.650218\tTrain Prec@1 1.56 (2.67): : 629it [02:24,  4.36it/s]"
     ]
    },
    {
     "name": "stdout",
     "output_type": "stream",
     "text": [
      "\n",
      "\n"
     ]
    },
    {
     "name": "stderr",
     "output_type": "stream",
     "text": [
      "Train Epoch: 102 [40320/48625 (83%)]\tLoss: 6.927045\tTrain Prec@1 3.12 (2.66): : 631it [02:24,  4.36it/s]"
     ]
    },
    {
     "name": "stdout",
     "output_type": "stream",
     "text": [
      "\n",
      "\n"
     ]
    },
    {
     "name": "stderr",
     "output_type": "stream",
     "text": [
      "Train Epoch: 102 [40320/48625 (83%)]\tLoss: 6.927045\tTrain Prec@1 3.12 (2.66): : 633it [02:25,  4.36it/s]"
     ]
    },
    {
     "name": "stdout",
     "output_type": "stream",
     "text": [
      "\n",
      "\n"
     ]
    },
    {
     "name": "stderr",
     "output_type": "stream",
     "text": [
      "Train Epoch: 102 [40320/48625 (83%)]\tLoss: 6.927045\tTrain Prec@1 3.12 (2.66): : 635it [02:25,  4.36it/s]"
     ]
    },
    {
     "name": "stdout",
     "output_type": "stream",
     "text": [
      "\n",
      "\n"
     ]
    },
    {
     "name": "stderr",
     "output_type": "stream",
     "text": [
      "Train Epoch: 102 [40320/48625 (83%)]\tLoss: 6.927045\tTrain Prec@1 3.12 (2.66): : 637it [02:25,  4.36it/s]"
     ]
    },
    {
     "name": "stdout",
     "output_type": "stream",
     "text": [
      "\n",
      "\n"
     ]
    },
    {
     "name": "stderr",
     "output_type": "stream",
     "text": [
      "Train Epoch: 102 [40320/48625 (83%)]\tLoss: 6.927045\tTrain Prec@1 3.12 (2.66): : 639it [02:26,  4.36it/s]"
     ]
    },
    {
     "name": "stdout",
     "output_type": "stream",
     "text": [
      "\n",
      "\n"
     ]
    },
    {
     "name": "stderr",
     "output_type": "stream",
     "text": [
      "Train Epoch: 102 [40960/48625 (84%)]\tLoss: 6.166316\tTrain Prec@1 10.94 (2.68): : 641it [02:26,  4.36it/s]"
     ]
    },
    {
     "name": "stdout",
     "output_type": "stream",
     "text": [
      "\n",
      "\n"
     ]
    },
    {
     "name": "stderr",
     "output_type": "stream",
     "text": [
      "Train Epoch: 102 [40960/48625 (84%)]\tLoss: 6.166316\tTrain Prec@1 10.94 (2.68): : 643it [02:27,  4.36it/s]"
     ]
    },
    {
     "name": "stdout",
     "output_type": "stream",
     "text": [
      "\n",
      "\n"
     ]
    },
    {
     "name": "stderr",
     "output_type": "stream",
     "text": [
      "Train Epoch: 102 [40960/48625 (84%)]\tLoss: 6.166316\tTrain Prec@1 10.94 (2.68): : 645it [02:27,  4.36it/s]"
     ]
    },
    {
     "name": "stdout",
     "output_type": "stream",
     "text": [
      "\n",
      "\n"
     ]
    },
    {
     "name": "stderr",
     "output_type": "stream",
     "text": [
      "Train Epoch: 102 [40960/48625 (84%)]\tLoss: 6.166316\tTrain Prec@1 10.94 (2.68): : 647it [02:28,  4.36it/s]"
     ]
    },
    {
     "name": "stdout",
     "output_type": "stream",
     "text": [
      "\n",
      "\n"
     ]
    },
    {
     "name": "stderr",
     "output_type": "stream",
     "text": [
      "Train Epoch: 102 [40960/48625 (84%)]\tLoss: 6.166316\tTrain Prec@1 10.94 (2.68): : 649it [02:28,  4.36it/s]"
     ]
    },
    {
     "name": "stdout",
     "output_type": "stream",
     "text": [
      "\n",
      "\n"
     ]
    },
    {
     "name": "stderr",
     "output_type": "stream",
     "text": [
      "Train Epoch: 102 [41600/48625 (86%)]\tLoss: 6.388727\tTrain Prec@1 1.56 (2.69): : 651it [02:29,  4.36it/s] "
     ]
    },
    {
     "name": "stdout",
     "output_type": "stream",
     "text": [
      "\n",
      "\n"
     ]
    },
    {
     "name": "stderr",
     "output_type": "stream",
     "text": [
      "Train Epoch: 102 [41600/48625 (86%)]\tLoss: 6.388727\tTrain Prec@1 1.56 (2.69): : 653it [02:29,  4.36it/s]"
     ]
    },
    {
     "name": "stdout",
     "output_type": "stream",
     "text": [
      "\n",
      "\n"
     ]
    },
    {
     "name": "stderr",
     "output_type": "stream",
     "text": [
      "Train Epoch: 102 [41600/48625 (86%)]\tLoss: 6.388727\tTrain Prec@1 1.56 (2.69): : 655it [02:30,  4.36it/s]"
     ]
    },
    {
     "name": "stdout",
     "output_type": "stream",
     "text": [
      "\n",
      "\n"
     ]
    },
    {
     "name": "stderr",
     "output_type": "stream",
     "text": [
      "Train Epoch: 102 [41600/48625 (86%)]\tLoss: 6.388727\tTrain Prec@1 1.56 (2.69): : 657it [02:30,  4.36it/s]"
     ]
    },
    {
     "name": "stdout",
     "output_type": "stream",
     "text": [
      "\n",
      "\n"
     ]
    },
    {
     "name": "stderr",
     "output_type": "stream",
     "text": [
      "Train Epoch: 102 [41600/48625 (86%)]\tLoss: 6.388727\tTrain Prec@1 1.56 (2.69): : 659it [02:30,  4.36it/s]"
     ]
    },
    {
     "name": "stdout",
     "output_type": "stream",
     "text": [
      "\n",
      "\n"
     ]
    },
    {
     "name": "stderr",
     "output_type": "stream",
     "text": [
      "Train Epoch: 102 [42240/48625 (87%)]\tLoss: 7.064204\tTrain Prec@1 0.00 (2.70): : 661it [02:31,  4.36it/s]"
     ]
    },
    {
     "name": "stdout",
     "output_type": "stream",
     "text": [
      "\n",
      "\n"
     ]
    },
    {
     "name": "stderr",
     "output_type": "stream",
     "text": [
      "Train Epoch: 102 [42240/48625 (87%)]\tLoss: 7.064204\tTrain Prec@1 0.00 (2.70): : 663it [02:31,  4.36it/s]"
     ]
    },
    {
     "name": "stdout",
     "output_type": "stream",
     "text": [
      "\n",
      "\n"
     ]
    },
    {
     "name": "stderr",
     "output_type": "stream",
     "text": [
      "Train Epoch: 102 [42240/48625 (87%)]\tLoss: 7.064204\tTrain Prec@1 0.00 (2.70): : 665it [02:32,  4.36it/s]"
     ]
    },
    {
     "name": "stdout",
     "output_type": "stream",
     "text": [
      "\n",
      "\n"
     ]
    },
    {
     "name": "stderr",
     "output_type": "stream",
     "text": [
      "Train Epoch: 102 [42240/48625 (87%)]\tLoss: 7.064204\tTrain Prec@1 0.00 (2.70): : 667it [02:32,  4.36it/s]"
     ]
    },
    {
     "name": "stdout",
     "output_type": "stream",
     "text": [
      "\n",
      "\n"
     ]
    },
    {
     "name": "stderr",
     "output_type": "stream",
     "text": [
      "Train Epoch: 102 [42240/48625 (87%)]\tLoss: 7.064204\tTrain Prec@1 0.00 (2.70): : 669it [02:33,  4.36it/s]"
     ]
    },
    {
     "name": "stdout",
     "output_type": "stream",
     "text": [
      "\n",
      "\n"
     ]
    },
    {
     "name": "stderr",
     "output_type": "stream",
     "text": [
      "Train Epoch: 102 [42880/48625 (88%)]\tLoss: 6.969909\tTrain Prec@1 3.12 (2.70): : 671it [02:33,  4.36it/s]"
     ]
    },
    {
     "name": "stdout",
     "output_type": "stream",
     "text": [
      "\n",
      "\n"
     ]
    },
    {
     "name": "stderr",
     "output_type": "stream",
     "text": [
      "Train Epoch: 102 [42880/48625 (88%)]\tLoss: 6.969909\tTrain Prec@1 3.12 (2.70): : 673it [02:34,  4.36it/s]"
     ]
    },
    {
     "name": "stdout",
     "output_type": "stream",
     "text": [
      "\n",
      "\n"
     ]
    },
    {
     "name": "stderr",
     "output_type": "stream",
     "text": [
      "Train Epoch: 102 [42880/48625 (88%)]\tLoss: 6.969909\tTrain Prec@1 3.12 (2.70): : 675it [02:34,  4.36it/s]"
     ]
    },
    {
     "name": "stdout",
     "output_type": "stream",
     "text": [
      "\n",
      "\n"
     ]
    },
    {
     "name": "stderr",
     "output_type": "stream",
     "text": [
      "Train Epoch: 102 [42880/48625 (88%)]\tLoss: 6.969909\tTrain Prec@1 3.12 (2.70): : 677it [02:35,  4.36it/s]"
     ]
    },
    {
     "name": "stdout",
     "output_type": "stream",
     "text": [
      "\n",
      "\n"
     ]
    },
    {
     "name": "stderr",
     "output_type": "stream",
     "text": [
      "Train Epoch: 102 [42880/48625 (88%)]\tLoss: 6.969909\tTrain Prec@1 3.12 (2.70): : 679it [02:35,  4.36it/s]"
     ]
    },
    {
     "name": "stdout",
     "output_type": "stream",
     "text": [
      "\n",
      "\n"
     ]
    },
    {
     "name": "stderr",
     "output_type": "stream",
     "text": [
      "Train Epoch: 102 [43520/48625 (89%)]\tLoss: 6.891430\tTrain Prec@1 3.12 (2.73): : 681it [02:36,  4.36it/s]"
     ]
    },
    {
     "name": "stdout",
     "output_type": "stream",
     "text": [
      "\n",
      "\n"
     ]
    },
    {
     "name": "stderr",
     "output_type": "stream",
     "text": [
      "Train Epoch: 102 [43520/48625 (89%)]\tLoss: 6.891430\tTrain Prec@1 3.12 (2.73): : 683it [02:36,  4.36it/s]"
     ]
    },
    {
     "name": "stdout",
     "output_type": "stream",
     "text": [
      "\n",
      "\n"
     ]
    },
    {
     "name": "stderr",
     "output_type": "stream",
     "text": [
      "Train Epoch: 102 [43520/48625 (89%)]\tLoss: 6.891430\tTrain Prec@1 3.12 (2.73): : 685it [02:36,  4.36it/s]"
     ]
    },
    {
     "name": "stdout",
     "output_type": "stream",
     "text": [
      "\n",
      "\n"
     ]
    },
    {
     "name": "stderr",
     "output_type": "stream",
     "text": [
      "Train Epoch: 102 [43520/48625 (89%)]\tLoss: 6.891430\tTrain Prec@1 3.12 (2.73): : 687it [02:37,  4.36it/s]"
     ]
    },
    {
     "name": "stdout",
     "output_type": "stream",
     "text": [
      "\n",
      "\n"
     ]
    },
    {
     "name": "stderr",
     "output_type": "stream",
     "text": [
      "Train Epoch: 102 [43520/48625 (89%)]\tLoss: 6.891430\tTrain Prec@1 3.12 (2.73): : 689it [02:37,  4.36it/s]"
     ]
    },
    {
     "name": "stdout",
     "output_type": "stream",
     "text": [
      "\n",
      "\n"
     ]
    },
    {
     "name": "stderr",
     "output_type": "stream",
     "text": [
      "Train Epoch: 102 [44160/48625 (91%)]\tLoss: 6.709723\tTrain Prec@1 1.56 (2.74): : 691it [02:38,  4.36it/s]"
     ]
    },
    {
     "name": "stdout",
     "output_type": "stream",
     "text": [
      "\n",
      "\n"
     ]
    },
    {
     "name": "stderr",
     "output_type": "stream",
     "text": [
      "Train Epoch: 102 [44160/48625 (91%)]\tLoss: 6.709723\tTrain Prec@1 1.56 (2.74): : 693it [02:38,  4.36it/s]"
     ]
    },
    {
     "name": "stdout",
     "output_type": "stream",
     "text": [
      "\n",
      "\n"
     ]
    },
    {
     "name": "stderr",
     "output_type": "stream",
     "text": [
      "Train Epoch: 102 [44160/48625 (91%)]\tLoss: 6.709723\tTrain Prec@1 1.56 (2.74): : 695it [02:39,  4.36it/s]"
     ]
    },
    {
     "name": "stdout",
     "output_type": "stream",
     "text": [
      "\n",
      "\n"
     ]
    },
    {
     "name": "stderr",
     "output_type": "stream",
     "text": [
      "Train Epoch: 102 [44160/48625 (91%)]\tLoss: 6.709723\tTrain Prec@1 1.56 (2.74): : 697it [02:39,  4.36it/s]"
     ]
    },
    {
     "name": "stdout",
     "output_type": "stream",
     "text": [
      "\n",
      "\n"
     ]
    },
    {
     "name": "stderr",
     "output_type": "stream",
     "text": [
      "Train Epoch: 102 [44160/48625 (91%)]\tLoss: 6.709723\tTrain Prec@1 1.56 (2.74): : 699it [02:40,  4.36it/s]"
     ]
    },
    {
     "name": "stdout",
     "output_type": "stream",
     "text": [
      "\n",
      "\n"
     ]
    },
    {
     "name": "stderr",
     "output_type": "stream",
     "text": [
      "Train Epoch: 102 [44800/48625 (92%)]\tLoss: 6.625803\tTrain Prec@1 6.25 (2.75): : 701it [02:40,  4.36it/s]"
     ]
    },
    {
     "name": "stdout",
     "output_type": "stream",
     "text": [
      "\n",
      "\n"
     ]
    },
    {
     "name": "stderr",
     "output_type": "stream",
     "text": [
      "Train Epoch: 102 [44800/48625 (92%)]\tLoss: 6.625803\tTrain Prec@1 6.25 (2.75): : 703it [02:41,  4.36it/s]"
     ]
    },
    {
     "name": "stdout",
     "output_type": "stream",
     "text": [
      "\n",
      "\n"
     ]
    },
    {
     "name": "stderr",
     "output_type": "stream",
     "text": [
      "Train Epoch: 102 [44800/48625 (92%)]\tLoss: 6.625803\tTrain Prec@1 6.25 (2.75): : 705it [02:41,  4.36it/s]"
     ]
    },
    {
     "name": "stdout",
     "output_type": "stream",
     "text": [
      "\n",
      "\n"
     ]
    },
    {
     "name": "stderr",
     "output_type": "stream",
     "text": [
      "Train Epoch: 102 [44800/48625 (92%)]\tLoss: 6.625803\tTrain Prec@1 6.25 (2.75): : 707it [02:41,  4.36it/s]"
     ]
    },
    {
     "name": "stdout",
     "output_type": "stream",
     "text": [
      "\n",
      "\n"
     ]
    },
    {
     "name": "stderr",
     "output_type": "stream",
     "text": [
      "Train Epoch: 102 [44800/48625 (92%)]\tLoss: 6.625803\tTrain Prec@1 6.25 (2.75): : 709it [02:42,  4.36it/s]"
     ]
    },
    {
     "name": "stdout",
     "output_type": "stream",
     "text": [
      "\n",
      "\n"
     ]
    },
    {
     "name": "stderr",
     "output_type": "stream",
     "text": [
      "Train Epoch: 102 [45440/48625 (93%)]\tLoss: 6.894913\tTrain Prec@1 3.12 (2.76): : 711it [02:42,  4.36it/s]"
     ]
    },
    {
     "name": "stdout",
     "output_type": "stream",
     "text": [
      "\n",
      "\n"
     ]
    },
    {
     "name": "stderr",
     "output_type": "stream",
     "text": [
      "Train Epoch: 102 [45440/48625 (93%)]\tLoss: 6.894913\tTrain Prec@1 3.12 (2.76): : 713it [02:43,  4.37it/s]"
     ]
    },
    {
     "name": "stdout",
     "output_type": "stream",
     "text": [
      "\n",
      "\n"
     ]
    },
    {
     "name": "stderr",
     "output_type": "stream",
     "text": [
      "Train Epoch: 102 [45440/48625 (93%)]\tLoss: 6.894913\tTrain Prec@1 3.12 (2.76): : 715it [02:43,  4.37it/s]"
     ]
    },
    {
     "name": "stdout",
     "output_type": "stream",
     "text": [
      "\n",
      "\n"
     ]
    },
    {
     "name": "stderr",
     "output_type": "stream",
     "text": [
      "Train Epoch: 102 [45440/48625 (93%)]\tLoss: 6.894913\tTrain Prec@1 3.12 (2.76): : 717it [02:44,  4.37it/s]"
     ]
    },
    {
     "name": "stdout",
     "output_type": "stream",
     "text": [
      "\n",
      "\n"
     ]
    },
    {
     "name": "stderr",
     "output_type": "stream",
     "text": [
      "Train Epoch: 102 [45440/48625 (93%)]\tLoss: 6.894913\tTrain Prec@1 3.12 (2.76): : 719it [02:44,  4.37it/s]"
     ]
    },
    {
     "name": "stdout",
     "output_type": "stream",
     "text": [
      "\n",
      "\n"
     ]
    },
    {
     "name": "stderr",
     "output_type": "stream",
     "text": [
      "Train Epoch: 102 [46080/48625 (95%)]\tLoss: 6.595492\tTrain Prec@1 3.12 (2.75): : 721it [02:45,  4.37it/s]"
     ]
    },
    {
     "name": "stdout",
     "output_type": "stream",
     "text": [
      "\n",
      "\n"
     ]
    },
    {
     "name": "stderr",
     "output_type": "stream",
     "text": [
      "Train Epoch: 102 [46080/48625 (95%)]\tLoss: 6.595492\tTrain Prec@1 3.12 (2.75): : 723it [02:45,  4.37it/s]"
     ]
    },
    {
     "name": "stdout",
     "output_type": "stream",
     "text": [
      "\n",
      "\n"
     ]
    },
    {
     "name": "stderr",
     "output_type": "stream",
     "text": [
      "Train Epoch: 102 [46080/48625 (95%)]\tLoss: 6.595492\tTrain Prec@1 3.12 (2.75): : 725it [02:46,  4.37it/s]"
     ]
    },
    {
     "name": "stdout",
     "output_type": "stream",
     "text": [
      "\n",
      "\n"
     ]
    },
    {
     "name": "stderr",
     "output_type": "stream",
     "text": [
      "Train Epoch: 102 [46080/48625 (95%)]\tLoss: 6.595492\tTrain Prec@1 3.12 (2.75): : 727it [02:46,  4.37it/s]"
     ]
    },
    {
     "name": "stdout",
     "output_type": "stream",
     "text": [
      "\n",
      "\n"
     ]
    },
    {
     "name": "stderr",
     "output_type": "stream",
     "text": [
      "Train Epoch: 102 [46080/48625 (95%)]\tLoss: 6.595492\tTrain Prec@1 3.12 (2.75): : 729it [02:46,  4.37it/s]"
     ]
    },
    {
     "name": "stdout",
     "output_type": "stream",
     "text": [
      "\n",
      "\n"
     ]
    },
    {
     "name": "stderr",
     "output_type": "stream",
     "text": [
      "Train Epoch: 102 [46720/48625 (96%)]\tLoss: 6.561774\tTrain Prec@1 4.69 (2.77): : 731it [02:47,  4.37it/s]"
     ]
    },
    {
     "name": "stdout",
     "output_type": "stream",
     "text": [
      "\n",
      "\n"
     ]
    },
    {
     "name": "stderr",
     "output_type": "stream",
     "text": [
      "Train Epoch: 102 [46720/48625 (96%)]\tLoss: 6.561774\tTrain Prec@1 4.69 (2.77): : 733it [02:47,  4.37it/s]"
     ]
    },
    {
     "name": "stdout",
     "output_type": "stream",
     "text": [
      "\n",
      "\n"
     ]
    },
    {
     "name": "stderr",
     "output_type": "stream",
     "text": [
      "Train Epoch: 102 [46720/48625 (96%)]\tLoss: 6.561774\tTrain Prec@1 4.69 (2.77): : 735it [02:48,  4.37it/s]"
     ]
    },
    {
     "name": "stdout",
     "output_type": "stream",
     "text": [
      "\n",
      "\n"
     ]
    },
    {
     "name": "stderr",
     "output_type": "stream",
     "text": [
      "Train Epoch: 102 [46720/48625 (96%)]\tLoss: 6.561774\tTrain Prec@1 4.69 (2.77): : 737it [02:48,  4.37it/s]"
     ]
    },
    {
     "name": "stdout",
     "output_type": "stream",
     "text": [
      "\n",
      "\n"
     ]
    },
    {
     "name": "stderr",
     "output_type": "stream",
     "text": [
      "Train Epoch: 102 [46720/48625 (96%)]\tLoss: 6.561774\tTrain Prec@1 4.69 (2.77): : 739it [02:49,  4.37it/s]"
     ]
    },
    {
     "name": "stdout",
     "output_type": "stream",
     "text": [
      "\n",
      "\n"
     ]
    },
    {
     "name": "stderr",
     "output_type": "stream",
     "text": [
      "Train Epoch: 102 [47360/48625 (97%)]\tLoss: 6.591262\tTrain Prec@1 6.25 (2.80): : 741it [02:49,  4.37it/s]"
     ]
    },
    {
     "name": "stdout",
     "output_type": "stream",
     "text": [
      "\n",
      "\n"
     ]
    },
    {
     "name": "stderr",
     "output_type": "stream",
     "text": [
      "Train Epoch: 102 [47360/48625 (97%)]\tLoss: 6.591262\tTrain Prec@1 6.25 (2.80): : 743it [02:50,  4.37it/s]"
     ]
    },
    {
     "name": "stdout",
     "output_type": "stream",
     "text": [
      "\n",
      "\n"
     ]
    },
    {
     "name": "stderr",
     "output_type": "stream",
     "text": [
      "Train Epoch: 102 [47360/48625 (97%)]\tLoss: 6.591262\tTrain Prec@1 6.25 (2.80): : 745it [02:50,  4.37it/s]"
     ]
    },
    {
     "name": "stdout",
     "output_type": "stream",
     "text": [
      "\n",
      "\n"
     ]
    },
    {
     "name": "stderr",
     "output_type": "stream",
     "text": [
      "Train Epoch: 102 [47360/48625 (97%)]\tLoss: 6.591262\tTrain Prec@1 6.25 (2.80): : 747it [02:51,  4.37it/s]"
     ]
    },
    {
     "name": "stdout",
     "output_type": "stream",
     "text": [
      "\n",
      "\n"
     ]
    },
    {
     "name": "stderr",
     "output_type": "stream",
     "text": [
      "Train Epoch: 102 [47360/48625 (97%)]\tLoss: 6.591262\tTrain Prec@1 6.25 (2.80): : 749it [02:51,  4.37it/s]"
     ]
    },
    {
     "name": "stdout",
     "output_type": "stream",
     "text": [
      "\n",
      "\n"
     ]
    },
    {
     "name": "stderr",
     "output_type": "stream",
     "text": [
      "Train Epoch: 102 [48000/48625 (99%)]\tLoss: 6.588443\tTrain Prec@1 3.12 (2.82): : 751it [02:51,  4.37it/s]"
     ]
    },
    {
     "name": "stdout",
     "output_type": "stream",
     "text": [
      "\n",
      "\n"
     ]
    },
    {
     "name": "stderr",
     "output_type": "stream",
     "text": [
      "Train Epoch: 102 [48000/48625 (99%)]\tLoss: 6.588443\tTrain Prec@1 3.12 (2.82): : 753it [02:52,  4.37it/s]"
     ]
    },
    {
     "name": "stdout",
     "output_type": "stream",
     "text": [
      "\n",
      "\n"
     ]
    },
    {
     "name": "stderr",
     "output_type": "stream",
     "text": [
      "Train Epoch: 102 [48000/48625 (99%)]\tLoss: 6.588443\tTrain Prec@1 3.12 (2.82): : 755it [02:52,  4.37it/s]"
     ]
    },
    {
     "name": "stdout",
     "output_type": "stream",
     "text": [
      "\n",
      "\n"
     ]
    },
    {
     "name": "stderr",
     "output_type": "stream",
     "text": [
      "Train Epoch: 102 [48000/48625 (99%)]\tLoss: 6.588443\tTrain Prec@1 3.12 (2.82): : 757it [02:53,  4.37it/s]"
     ]
    },
    {
     "name": "stdout",
     "output_type": "stream",
     "text": [
      "\n",
      "\n"
     ]
    },
    {
     "name": "stderr",
     "output_type": "stream",
     "text": [
      "Train Epoch: 102 [48000/48625 (99%)]\tLoss: 6.588443\tTrain Prec@1 3.12 (2.82): : 759it [02:53,  4.37it/s]"
     ]
    },
    {
     "name": "stdout",
     "output_type": "stream",
     "text": [
      "\n",
      "\n"
     ]
    },
    {
     "name": "stderr",
     "output_type": "stream",
     "text": [
      "Train Epoch: 102 [48000/48625 (99%)]\tLoss: 6.588443\tTrain Prec@1 3.12 (2.82): : 760it [02:53,  4.37it/s]\n",
      "Test Epoch: 102 [5760/6000 (96%)]: : 94it [00:54,  1.73it/s]\n"
     ]
    },
    {
     "name": "stdout",
     "output_type": "stream",
     "text": [
      "\u001b[91mTest set: Accuracy: 0.64066667\n",
      "\u001b[0m\n"
     ]
    },
    {
     "name": "stderr",
     "output_type": "stream",
     "text": [
      "Test Epoch: 102 [9600/9808 (97%)]\tTest Prec@1 7.81 (4.65): : 154it [00:29,  5.21it/s]\n",
      "Train Epoch: 103 [0/48625 (0%)]\tLoss: 5.880159\tTrain Prec@1 7.81 (7.81): : 1it [00:00,  1.81it/s]"
     ]
    },
    {
     "name": "stdout",
     "output_type": "stream",
     "text": [
      "\n",
      "\n"
     ]
    },
    {
     "name": "stderr",
     "output_type": "stream",
     "text": [
      "Train Epoch: 103 [0/48625 (0%)]\tLoss: 5.880159\tTrain Prec@1 7.81 (7.81): : 3it [00:00,  3.07it/s]"
     ]
    },
    {
     "name": "stdout",
     "output_type": "stream",
     "text": [
      "\n",
      "\n"
     ]
    },
    {
     "name": "stderr",
     "output_type": "stream",
     "text": [
      "Train Epoch: 103 [0/48625 (0%)]\tLoss: 5.880159\tTrain Prec@1 7.81 (7.81): : 5it [00:01,  3.57it/s]"
     ]
    },
    {
     "name": "stdout",
     "output_type": "stream",
     "text": [
      "\n",
      "\n"
     ]
    },
    {
     "name": "stderr",
     "output_type": "stream",
     "text": [
      "Train Epoch: 103 [0/48625 (0%)]\tLoss: 5.880159\tTrain Prec@1 7.81 (7.81): : 7it [00:01,  3.75it/s]"
     ]
    },
    {
     "name": "stdout",
     "output_type": "stream",
     "text": [
      "\n",
      "\n"
     ]
    },
    {
     "name": "stderr",
     "output_type": "stream",
     "text": [
      "Train Epoch: 103 [0/48625 (0%)]\tLoss: 5.880159\tTrain Prec@1 7.81 (7.81): : 9it [00:02,  3.89it/s]"
     ]
    },
    {
     "name": "stdout",
     "output_type": "stream",
     "text": [
      "\n",
      "\n"
     ]
    },
    {
     "name": "stderr",
     "output_type": "stream",
     "text": [
      "Train Epoch: 103 [640/48625 (1%)]\tLoss: 5.921364\tTrain Prec@1 7.81 (8.38): : 11it [00:02,  3.92it/s]"
     ]
    },
    {
     "name": "stdout",
     "output_type": "stream",
     "text": [
      "\n",
      "\n"
     ]
    },
    {
     "name": "stderr",
     "output_type": "stream",
     "text": [
      "Train Epoch: 103 [640/48625 (1%)]\tLoss: 5.921364\tTrain Prec@1 7.81 (8.38): : 13it [00:03,  4.04it/s]"
     ]
    },
    {
     "name": "stdout",
     "output_type": "stream",
     "text": [
      "\n",
      "\n"
     ]
    },
    {
     "name": "stderr",
     "output_type": "stream",
     "text": [
      "Train Epoch: 103 [640/48625 (1%)]\tLoss: 5.921364\tTrain Prec@1 7.81 (8.38): : 15it [00:03,  4.08it/s]"
     ]
    },
    {
     "name": "stdout",
     "output_type": "stream",
     "text": [
      "\n",
      "\n"
     ]
    },
    {
     "name": "stderr",
     "output_type": "stream",
     "text": [
      "Train Epoch: 103 [640/48625 (1%)]\tLoss: 5.921364\tTrain Prec@1 7.81 (8.38): : 17it [00:04,  4.12it/s]"
     ]
    },
    {
     "name": "stdout",
     "output_type": "stream",
     "text": [
      "\n",
      "\n"
     ]
    },
    {
     "name": "stderr",
     "output_type": "stream",
     "text": [
      "Train Epoch: 103 [640/48625 (1%)]\tLoss: 5.921364\tTrain Prec@1 7.81 (8.38): : 19it [00:04,  4.15it/s]"
     ]
    },
    {
     "name": "stdout",
     "output_type": "stream",
     "text": [
      "\n",
      "\n"
     ]
    },
    {
     "name": "stderr",
     "output_type": "stream",
     "text": [
      "Train Epoch: 103 [1280/48625 (3%)]\tLoss: 5.550156\tTrain Prec@1 9.38 (7.59): : 21it [00:05,  4.15it/s]"
     ]
    },
    {
     "name": "stdout",
     "output_type": "stream",
     "text": [
      "\n",
      "\n"
     ]
    },
    {
     "name": "stderr",
     "output_type": "stream",
     "text": [
      "Train Epoch: 103 [1280/48625 (3%)]\tLoss: 5.550156\tTrain Prec@1 9.38 (7.59): : 23it [00:05,  4.18it/s]"
     ]
    },
    {
     "name": "stdout",
     "output_type": "stream",
     "text": [
      "\n",
      "\n"
     ]
    },
    {
     "name": "stderr",
     "output_type": "stream",
     "text": [
      "Train Epoch: 103 [1280/48625 (3%)]\tLoss: 5.550156\tTrain Prec@1 9.38 (7.59): : 25it [00:05,  4.20it/s]"
     ]
    },
    {
     "name": "stdout",
     "output_type": "stream",
     "text": [
      "\n",
      "\n"
     ]
    },
    {
     "name": "stderr",
     "output_type": "stream",
     "text": [
      "Train Epoch: 103 [1280/48625 (3%)]\tLoss: 5.550156\tTrain Prec@1 9.38 (7.59): : 27it [00:06,  4.21it/s]"
     ]
    },
    {
     "name": "stdout",
     "output_type": "stream",
     "text": [
      "\n",
      "\n"
     ]
    }
   ],
   "source": [
    "def main():\n",
    "    #test_display_triplet_distance= True\n",
    "    test_display_triplet_distance= False\n",
    "    # print the experiment configuration\n",
    "    print('\\nparsed options:\\n{}\\n'.format(vars(args)))\n",
    "    print('\\nNumber of Classes:\\n{}\\n'.format(len(train_dir.classes)))\n",
    "\n",
    "    # instantiate model and initialize weights\n",
    "\n",
    "\n",
    "\n",
    "    # optionally resume from a checkpoint\n",
    "    if args.resume:\n",
    "        if os.path.isfile(args.resume):\n",
    "            print('=> loading checkpoint {}'.format(args.resume))\n",
    "            checkpoint = torch.load(args.resume)\n",
    "            args.start_epoch = checkpoint['epoch']\n",
    "        else:\n",
    "            checkpoint = None\n",
    "            print('=> no checkpoint found at {}'.format(args.resume))\n",
    "    #print(checkpoint)\n",
    "    model = FaceModelSoftmax(embedding_size=args.embedding_size,num_classes=len(train_dir.classes),checkpoint=checkpoint)\n",
    "\n",
    "    if args.cuda:\n",
    "        print(\"you are using gpu\")\n",
    "        model.cuda()\n",
    "\n",
    "    optimizer = create_optimizer(model, args.lr)\n",
    "\n",
    "    start = args.start_epoch\n",
    "    end = start + args.epochs\n",
    "\n",
    "    for epoch in range(start, end):\n",
    "        train(train_loader, model, optimizer, epoch)\n",
    "        test(test_loader, model, epoch)\n",
    "        testaccuracy(testaccuracy_loader, model, epoch)\n",
    "        if test_display_triplet_distance:\n",
    "            display_triplet_distance_test(model,test_loader,LOG_DIR+\"/test_{}\".format(epoch))\n",
    "\n",
    "if __name__ == '__main__':\n",
    "    main()"
   ]
  },
  {
   "cell_type": "code",
   "execution_count": null,
   "metadata": {},
   "outputs": [],
   "source": []
  }
 ],
 "metadata": {
  "kernelspec": {
   "display_name": "Python 3",
   "language": "python",
   "name": "python3"
  },
  "language_info": {
   "codemirror_mode": {
    "name": "ipython",
    "version": 3
   },
   "file_extension": ".py",
   "mimetype": "text/x-python",
   "name": "python",
   "nbconvert_exporter": "python",
   "pygments_lexer": "ipython3",
   "version": "3.6.3"
  }
 },
 "nbformat": 4,
 "nbformat_minor": 2
}
